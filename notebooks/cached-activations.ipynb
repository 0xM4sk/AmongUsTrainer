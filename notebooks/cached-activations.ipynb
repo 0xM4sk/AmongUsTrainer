{
 "cells": [
  {
   "cell_type": "code",
   "execution_count": 1,
   "metadata": {},
   "outputs": [],
   "source": [
    "from transformers import AutoTokenizer, AutoModelForCausalLM\n",
    "import torch as t"
   ]
  },
  {
   "cell_type": "code",
   "execution_count": 2,
   "metadata": {},
   "outputs": [
    {
     "data": {
      "application/vnd.jupyter.widget-view+json": {
       "model_id": "a20ede48c3bf48e6883e30bdf2105cc7",
       "version_major": 2,
       "version_minor": 0
      },
      "text/plain": [
       "Loading checkpoint shards:   0%|          | 0/6 [00:00<?, ?it/s]"
      ]
     },
     "metadata": {},
     "output_type": "display_data"
    }
   ],
   "source": [
    "model_name = \"microsoft/phi-4\"\n",
    "tokenizer = AutoTokenizer.from_pretrained(model_name, trust_remote_code=True)\n",
    "model = AutoModelForCausalLM.from_pretrained(model_name, trust_remote_code=True, device_map=\"auto\", torch_dtype=t.bfloat16)"
   ]
  },
  {
   "cell_type": "code",
   "execution_count": 3,
   "metadata": {},
   "outputs": [],
   "source": [
    "class ActivationCache:\n",
    "    def __init__(self, model, tokenizer, device):\n",
    "        self.model = model\n",
    "        self.tokenizer = tokenizer\n",
    "        self.device = device\n",
    "        self.activations = []\n",
    "        self.handles = []\n",
    "\n",
    "    def hook_fn(self, module, input, output):\n",
    "        if isinstance(output, tuple):\n",
    "            output_tensor = output[0]\n",
    "        else:\n",
    "            output_tensor = output\n",
    "        self.activations.append(output_tensor.detach().cpu().float().numpy())\n",
    "\n",
    "    def register_hook(self, layer):\n",
    "        handle = layer.register_forward_hook(self.hook_fn)\n",
    "        self.handles.append(handle)\n",
    "        \n",
    "    def clear_activations(self):\n",
    "        self.activations = []\n",
    "\n",
    "    def remove_hooks(self):\n",
    "        for handle in self.handles:\n",
    "            handle.remove()"
   ]
  },
  {
   "cell_type": "code",
   "execution_count": 4,
   "metadata": {},
   "outputs": [],
   "source": [
    "ac = ActivationCache(model, tokenizer, model.device)"
   ]
  },
  {
   "cell_type": "code",
   "execution_count": 6,
   "metadata": {},
   "outputs": [
    {
     "data": {
      "text/plain": [
       "<torch.utils.hooks.RemovableHandle at 0x7f9f00113340>"
      ]
     },
     "execution_count": 6,
     "metadata": {},
     "output_type": "execute_result"
    }
   ],
   "source": [
    "# reset hooks\n",
    "ac.remove_hooks()\n",
    "model.model.layers[20].register_forward_hook(ac.hook_fn)"
   ]
  },
  {
   "cell_type": "code",
   "execution_count": 7,
   "metadata": {},
   "outputs": [
    {
     "name": "stdout",
     "output_type": "stream",
     "text": [
      "Tuple\n"
     ]
    },
    {
     "data": {
      "text/plain": [
       "CausalLMOutputWithPast(loss={'logits': tensor([[[13.6250, 11.1875,  5.5625,  ..., -3.5469, -3.5469, -3.5312],\n",
       "         [ 1.5469, -1.4844, -2.1250,  ..., -2.5312, -2.5312, -2.5312],\n",
       "         [ 8.7500,  9.1875,  5.5625,  ..., -3.4844, -3.4844, -3.4844],\n",
       "         [ 6.1250,  9.1250,  6.0000,  ..., -3.3750, -3.3750, -3.3750],\n",
       "         [11.4375, 13.1250,  4.9062,  ..., -3.4062, -3.4062, -3.4062],\n",
       "         [ 3.0781,  5.3438,  9.1875,  ..., -1.9531, -1.9531, -1.9531]]],\n",
       "       device='cuda:0', dtype=torch.bfloat16, grad_fn=<ToCopyBackward0>), 'past_key_values': DynamicCache()}, logits=tensor([[[13.6250, 11.1875,  5.5625,  ..., -3.5469, -3.5469, -3.5312],\n",
       "         [ 1.5469, -1.4844, -2.1250,  ..., -2.5312, -2.5312, -2.5312],\n",
       "         [ 8.7500,  9.1875,  5.5625,  ..., -3.4844, -3.4844, -3.4844],\n",
       "         [ 6.1250,  9.1250,  6.0000,  ..., -3.3750, -3.3750, -3.3750],\n",
       "         [11.4375, 13.1250,  4.9062,  ..., -3.4062, -3.4062, -3.4062],\n",
       "         [ 3.0781,  5.3438,  9.1875,  ..., -1.9531, -1.9531, -1.9531]]],\n",
       "       device='cuda:0', dtype=torch.bfloat16, grad_fn=<ToCopyBackward0>), past_key_values=DynamicCache(), hidden_states=None, attentions=None)"
      ]
     },
     "execution_count": 7,
     "metadata": {},
     "output_type": "execute_result"
    }
   ],
   "source": [
    "model.forward(\n",
    "    input_ids=tokenizer(\"Hello, how are you?\", return_tensors=\"pt\").input_ids.to(model.device),\n",
    "    attention_mask=t.ones((1, 16)).to(model.device),\n",
    "    use_cache=True,\n",
    ")"
   ]
  },
  {
   "cell_type": "code",
   "execution_count": null,
   "metadata": {},
   "outputs": [],
   "source": []
  }
 ],
 "metadata": {
  "kernelspec": {
   "display_name": "amongus",
   "language": "python",
   "name": "python3"
  },
  "language_info": {
   "codemirror_mode": {
    "name": "ipython",
    "version": 3
   },
   "file_extension": ".py",
   "mimetype": "text/x-python",
   "name": "python",
   "nbconvert_exporter": "python",
   "pygments_lexer": "ipython3",
   "version": "3.10.16"
  }
 },
 "nbformat": 4,
 "nbformat_minor": 2
}
