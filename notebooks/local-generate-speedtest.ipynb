{
 "cells": [
  {
   "cell_type": "code",
   "execution_count": 1,
   "metadata": {},
   "outputs": [],
   "source": [
    "import os\n",
    "import time\n",
    "import torch\n",
    "from pathlib import Path\n",
    "from transformers import AutoModelForCausalLM, AutoTokenizer\n",
    "import requests\n",
    "from dotenv import load_dotenv\n",
    "import json\n",
    "\n",
    "# Load environment variables from parent directory\n",
    "load_dotenv(\"../.env\")\n",
    "OPENROUTER_API_KEY = os.getenv(\"OPENROUTER_API_KEY\")\n",
    "\n",
    "def format_time(seconds):\n",
    "    \"\"\"Format time in seconds to a readable string.\"\"\"\n",
    "    if seconds < 1:\n",
    "        return f\"{seconds*1000:.2f} ms\"\n",
    "    else:\n",
    "        return f\"{seconds:.2f} s\""
   ]
  },
  {
   "cell_type": "code",
   "execution_count": 2,
   "metadata": {},
   "outputs": [],
   "source": [
    "def phi4_format(system, user, assistant):\n",
    "    system_part = f\"<|im_start|>system<|im_sep|>{system}<|im_end|>\" if system else \"\"\n",
    "    user_part = f\"<|im_start|>user<|im_sep|>{user}<|im_end|>\" if user else \"\"\n",
    "    assistant_part = f\"<|im_start|>assistant<|im_sep|>{assistant}\" if assistant else \"<|im_start|>assistant<|im_sep|>\"\n",
    "    return f\"{system_part}{user_part}{assistant_part}\""
   ]
  },
  {
   "cell_type": "code",
   "execution_count": 3,
   "metadata": {},
   "outputs": [
    {
     "name": "stdout",
     "output_type": "stream",
     "text": [
      "Using device: cuda\n"
     ]
    },
    {
     "data": {
      "application/vnd.jupyter.widget-view+json": {
       "model_id": "b570310dd2eb485b96a86b8a9bbc030c",
       "version_major": 2,
       "version_minor": 0
      },
      "text/plain": [
       "Loading checkpoint shards:   0%|          | 0/6 [00:00<?, ?it/s]"
      ]
     },
     "metadata": {},
     "output_type": "display_data"
    }
   ],
   "source": [
    "# Load model and tokenizer\n",
    "model_id = \"microsoft/phi-4\"\n",
    "tokenizer = AutoTokenizer.from_pretrained(model_id)\n",
    "\n",
    "# Load model with appropriate GPU settings\n",
    "device = \"cuda\" if torch.cuda.is_available() else \"cpu\"\n",
    "print(f\"Using device: {device}\")\n",
    "\n",
    "model = AutoModelForCausalLM.from_pretrained(\n",
    "    model_id,\n",
    "    torch_dtype=torch.float32 if device == \"cuda\" else torch.float32,\n",
    "    device_map=\"auto\" if device == \"cuda\" else None\n",
    ")"
   ]
  },
  {
   "cell_type": "code",
   "execution_count": 4,
   "metadata": {},
   "outputs": [],
   "source": [
    "def generate_with_local_phi4(model, tokenizer, device, prompt, max_tokens=2000):\n",
    "    \"\"\"Generate text using locally loaded Phi-4 model.\"\"\"\n",
    "    print(\"Loading Phi-4 model locally to generate a large corpus of text...\")\n",
    "\n",
    "    start_time = time.time()    \n",
    "\n",
    "    prompt = phi4_format(system='You are a helpful assistant that can answer questions and help with tasks.', user=prompt, assistant=None)\n",
    "\n",
    "    # Tokenize input and get input length\n",
    "    inputs = tokenizer(prompt, return_tensors=\"pt\").to(device)\n",
    "    input_token_count = len(inputs.input_ids[0])\n",
    "    print(f\"Input tokens: {input_token_count}\")\n",
    "    \n",
    "    # Generate text\n",
    "    print(\"Generating with local Phi-4 model...\")\n",
    "    start_time = time.time()\n",
    "    \n",
    "    with torch.no_grad():\n",
    "        output = model.generate(\n",
    "            inputs.input_ids,\n",
    "            max_new_tokens=max_tokens,\n",
    "            do_sample=True,\n",
    "            temperature=0.7,\n",
    "            top_p=0.9\n",
    "        )\n",
    "    \n",
    "    end_time = time.time()\n",
    "    \n",
    "    # Get generated text and token count\n",
    "    generated_text = tokenizer.decode(output[0], skip_special_tokens=True)\n",
    "    output_token_count = len(output[0]) - input_token_count\n",
    "    \n",
    "    total_time = end_time - start_time\n",
    "    tokens_per_second = output_token_count / total_time\n",
    "    \n",
    "    result = {\n",
    "        \"generated_text\": generated_text,\n",
    "        \"output_token_count\": output_token_count,\n",
    "        \"total_time\": total_time,\n",
    "        \"tokens_per_second\": tokens_per_second,\n",
    "    }\n",
    "    \n",
    "    return result"
   ]
  },
  {
   "cell_type": "code",
   "execution_count": 5,
   "metadata": {},
   "outputs": [],
   "source": [
    "def generate_with_openrouter(prompt, max_tokens=2000):\n",
    "    \"\"\"Generate text using Phi-4 via OpenRouter API.\"\"\"\n",
    "    print(\"Generating with OpenRouter (Phi-4)...\")\n",
    "    \n",
    "    if not OPENROUTER_API_KEY:\n",
    "        raise ValueError(\"OpenRouter API key not found in environment variables\")\n",
    "    \n",
    "    url = \"https://openrouter.ai/api/v1/chat/completions\"\n",
    "    headers = {\n",
    "        \"Authorization\": f\"Bearer {OPENROUTER_API_KEY}\",\n",
    "        \"Content-Type\": \"application/json\"\n",
    "    }\n",
    "    \n",
    "    payload = {\n",
    "        \"model\": \"microsoft/phi-4\",\n",
    "        \"messages\": [{\"role\": \"user\", \"content\": prompt}],\n",
    "        \"max_tokens\": max_tokens,\n",
    "        \"temperature\": 0.7,\n",
    "        \"top_p\": 0.9\n",
    "    }\n",
    "    \n",
    "    start_time = time.time()\n",
    "    response = requests.post(url, headers=headers, json=payload)\n",
    "    response.raise_for_status()\n",
    "    end_time = time.time()\n",
    "    \n",
    "    result = response.json()\n",
    "    generated_text = result[\"choices\"][0][\"message\"][\"content\"]\n",
    "    output_token_count = result[\"usage\"][\"completion_tokens\"]\n",
    "    \n",
    "    total_time = end_time - start_time\n",
    "    tokens_per_second = output_token_count / total_time\n",
    "    \n",
    "    return {\n",
    "        \"generated_text\": generated_text,\n",
    "        \"output_token_count\": output_token_count,\n",
    "        \"total_time\": total_time,\n",
    "        \"tokens_per_second\": tokens_per_second,\n",
    "        \"api_response\": result\n",
    "    }"
   ]
  },
  {
   "cell_type": "code",
   "execution_count": 10,
   "metadata": {},
   "outputs": [],
   "source": [
    "def run_comparison():\n",
    "    \"\"\"Run comparison between local and API-based Phi-4.\"\"\"\n",
    "    prompt = \"\"\"Write a comprehensive explanation of how large language models work, \n",
    "    including details about transformer architectures, attention mechanisms, \n",
    "    and training processes. Include information about tokenization, embedding, \n",
    "    and the computational requirements for training and inference. Output a really large chunk of text and be very detailed.\"\"\"\n",
    "    \n",
    "    # Run local generation\n",
    "    try:\n",
    "        local_result = generate_with_local_phi4(model, tokenizer, device, prompt)\n",
    "        print(f\"\\nLocal Phi-4 Results:\")\n",
    "        print(f\"Generated {local_result['output_token_count']} tokens in {format_time(local_result['total_time'])}\")\n",
    "        print(f\"Speed: {local_result['tokens_per_second']:.2f} tokens/second\")\n",
    "    except Exception as e:\n",
    "        print(f\"Error running local model: {e}\")\n",
    "        local_result = None\n",
    "    \n",
    "    # Run OpenRouter API generation\n",
    "    try:\n",
    "        api_result = generate_with_openrouter(prompt)\n",
    "        print(f\"\\nOpenRouter Phi-4 Results:\")\n",
    "        print(f\"Generated {api_result['output_token_count']} tokens in {format_time(api_result['total_time'])}\")\n",
    "        print(f\"Speed: {api_result['tokens_per_second']:.2f} tokens/second\")\n",
    "    except Exception as e:\n",
    "        print(f\"Error with OpenRouter API: {e}\")\n",
    "        api_result = None\n",
    "    \n",
    "    # Compare results\n",
    "    if local_result and api_result:\n",
    "        speedup = api_result['tokens_per_second'] / local_result['tokens_per_second'] if local_result['tokens_per_second'] > 0 else 0\n",
    "        print(f\"\\nComparison:\")\n",
    "        print(f\"OpenRouter is {speedup:.2f}x {'faster' if speedup > 1 else 'slower'} than local inference\")\n",
    "        \n",
    "        # Save results to file\n",
    "        with open(\"phi4_comparison_results.json\", \"w\") as f:\n",
    "            json.dump({\n",
    "                \"local\": {\n",
    "                    \"output_token_count\": local_result[\"output_token_count\"],\n",
    "                    \"total_time\": local_result[\"total_time\"],\n",
    "                    \"tokens_per_second\": local_result[\"tokens_per_second\"],\n",
    "                },\n",
    "                \"openrouter\": {\n",
    "                    \"output_token_count\": api_result[\"output_token_count\"],\n",
    "                    \"total_time\": api_result[\"total_time\"],\n",
    "                    \"tokens_per_second\": api_result[\"tokens_per_second\"]\n",
    "                },\n",
    "                \"comparison\": {\n",
    "                    \"speedup_factor\": speedup,\n",
    "                    \"faster\": \"OpenRouter\" if speedup > 1 else \"Local\"\n",
    "                }\n",
    "            }, f, indent=2)\n",
    "        print(f\"Results saved to phi4_comparison_results.json\")"
   ]
  },
  {
   "cell_type": "code",
   "execution_count": 11,
   "metadata": {},
   "outputs": [
    {
     "name": "stdout",
     "output_type": "stream",
     "text": [
      "Loading Phi-4 model locally to generate a large corpus of text...\n",
      "Input tokens: 84\n",
      "Generating with local Phi-4 model...\n"
     ]
    },
    {
     "name": "stdout",
     "output_type": "stream",
     "text": [
      "\n",
      "Local Phi-4 Results:\n",
      "Generated 1157 tokens in 32.82 s\n",
      "Speed: 35.26 tokens/second\n",
      "Generating with OpenRouter (Phi-4)...\n",
      "\n",
      "OpenRouter Phi-4 Results:\n",
      "Generated 1152 tokens in 10.71 s\n",
      "Speed: 107.52 tokens/second\n",
      "\n",
      "Comparison:\n",
      "OpenRouter is 3.05x faster than local inference\n",
      "Results saved to phi4_comparison_results.json\n"
     ]
    }
   ],
   "source": [
    "run_comparison()"
   ]
  },
  {
   "cell_type": "code",
   "execution_count": 12,
   "metadata": {},
   "outputs": [
    {
     "name": "stdout",
     "output_type": "stream",
     "text": [
      "Sed life, yer task shall take 907.4074074074074 hours\n"
     ]
    }
   ],
   "source": [
    "games = 100\n",
    "steps = 70\n",
    "players = 7\n",
    "tokens = 2000\n",
    "speed = 30\n",
    "\n",
    "total_tokens = games * steps * players * tokens\n",
    "\n",
    "total_time = total_tokens / (speed * 60 * 60)\n",
    "print(f'Sed life, yer task shall take {total_time} hours')"
   ]
  },
  {
   "cell_type": "code",
   "execution_count": null,
   "metadata": {},
   "outputs": [],
   "source": []
  },
  {
   "cell_type": "code",
   "execution_count": null,
   "metadata": {},
   "outputs": [],
   "source": []
  },
  {
   "cell_type": "code",
   "execution_count": null,
   "metadata": {},
   "outputs": [],
   "source": []
  },
  {
   "cell_type": "code",
   "execution_count": null,
   "metadata": {},
   "outputs": [],
   "source": []
  },
  {
   "cell_type": "code",
   "execution_count": null,
   "metadata": {},
   "outputs": [],
   "source": []
  },
  {
   "cell_type": "code",
   "execution_count": null,
   "metadata": {},
   "outputs": [],
   "source": []
  },
  {
   "cell_type": "code",
   "execution_count": null,
   "metadata": {},
   "outputs": [],
   "source": []
  },
  {
   "cell_type": "code",
   "execution_count": null,
   "metadata": {},
   "outputs": [],
   "source": []
  },
  {
   "cell_type": "code",
   "execution_count": null,
   "metadata": {},
   "outputs": [],
   "source": []
  },
  {
   "cell_type": "code",
   "execution_count": null,
   "metadata": {},
   "outputs": [],
   "source": []
  },
  {
   "cell_type": "code",
   "execution_count": null,
   "metadata": {},
   "outputs": [],
   "source": []
  },
  {
   "cell_type": "code",
   "execution_count": null,
   "metadata": {},
   "outputs": [],
   "source": []
  },
  {
   "cell_type": "code",
   "execution_count": null,
   "metadata": {},
   "outputs": [],
   "source": []
  },
  {
   "cell_type": "code",
   "execution_count": null,
   "metadata": {},
   "outputs": [],
   "source": []
  },
  {
   "cell_type": "code",
   "execution_count": null,
   "metadata": {},
   "outputs": [],
   "source": []
  },
  {
   "cell_type": "code",
   "execution_count": null,
   "metadata": {},
   "outputs": [],
   "source": []
  },
  {
   "cell_type": "code",
   "execution_count": null,
   "metadata": {},
   "outputs": [],
   "source": []
  },
  {
   "cell_type": "code",
   "execution_count": null,
   "metadata": {},
   "outputs": [],
   "source": []
  },
  {
   "cell_type": "code",
   "execution_count": null,
   "metadata": {},
   "outputs": [],
   "source": []
  },
  {
   "cell_type": "code",
   "execution_count": null,
   "metadata": {},
   "outputs": [],
   "source": []
  },
  {
   "cell_type": "code",
   "execution_count": null,
   "metadata": {},
   "outputs": [],
   "source": []
  },
  {
   "cell_type": "code",
   "execution_count": null,
   "metadata": {},
   "outputs": [],
   "source": []
  },
  {
   "cell_type": "code",
   "execution_count": null,
   "metadata": {},
   "outputs": [],
   "source": []
  },
  {
   "cell_type": "code",
   "execution_count": null,
   "metadata": {},
   "outputs": [],
   "source": []
  }
 ],
 "metadata": {
  "kernelspec": {
   "display_name": "amongus",
   "language": "python",
   "name": "python3"
  },
  "language_info": {
   "codemirror_mode": {
    "name": "ipython",
    "version": 3
   },
   "file_extension": ".py",
   "mimetype": "text/x-python",
   "name": "python",
   "nbconvert_exporter": "python",
   "pygments_lexer": "ipython3",
   "version": "3.10.16"
  }
 },
 "nbformat": 4,
 "nbformat_minor": 2
}
