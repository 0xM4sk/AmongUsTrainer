{
 "cells": [
  {
   "cell_type": "code",
   "execution_count": 1,
   "metadata": {},
   "outputs": [],
   "source": [
    "import torch as t\n",
    "from transformers import AutoModelForCausalLM, AutoTokenizer\n",
    "from pprint import pprint as pp"
   ]
  },
  {
   "cell_type": "code",
   "execution_count": 2,
   "metadata": {},
   "outputs": [
    {
     "data": {
      "text/plain": [
       "True"
      ]
     },
     "execution_count": 2,
     "metadata": {},
     "output_type": "execute_result"
    }
   ],
   "source": [
    "t.cuda.is_available()"
   ]
  },
  {
   "cell_type": "code",
   "execution_count": 3,
   "metadata": {},
   "outputs": [],
   "source": [
    "model_id = \"meta-llama/Llama-3.3-70B-Instruct\""
   ]
  },
  {
   "cell_type": "code",
   "execution_count": 4,
   "metadata": {},
   "outputs": [
    {
     "data": {
      "application/vnd.jupyter.widget-view+json": {
       "model_id": "b709dac2c0c24cf4be6a35123f98f598",
       "version_major": 2,
       "version_minor": 0
      },
      "text/plain": [
       "Loading checkpoint shards:   0%|          | 0/30 [00:00<?, ?it/s]"
      ]
     },
     "metadata": {},
     "output_type": "display_data"
    }
   ],
   "source": [
    "model = AutoModelForCausalLM.from_pretrained(model_id, device_map=\"auto\", torch_dtype=t.bfloat16)"
   ]
  },
  {
   "cell_type": "code",
   "execution_count": 7,
   "metadata": {},
   "outputs": [],
   "source": [
    "tokenizer = AutoTokenizer.from_pretrained(model_id, trust_remote_code=True)"
   ]
  },
  {
   "cell_type": "code",
   "execution_count": 8,
   "metadata": {},
   "outputs": [],
   "source": [
    "prompt = '''<|begin_of_text|><|start_header_id|>system<|end_header_id|>\n",
    "\n",
    "Cutting Knowledge Date: December 2023\n",
    "Today Date: 23 July 2024\n",
    "\n",
    "You are a helpful assistant<|eot_id|><|start_header_id|>user<|end_header_id|>\n",
    "\n",
    "What is the capital of Bharat?<|eot_id|><|start_header_id|>assistant<|end_header_id|>'''"
   ]
  },
  {
   "cell_type": "code",
   "execution_count": null,
   "metadata": {},
   "outputs": [],
   "source": [
    "inputs = tokenizer(prompt_string, return_tensors=\"pt\").to(model.device)\n",
    "out_tokens = model.generate(inputs['input_ids'], attention_mask=inputs['attention_mask'], pad_token_id=tokenizer.eos_token_id)\n",
    "model.forward(inputs['input_ids'], attention_mask=inputs['attention_mask'], pad_token_id=tokenizer.eos_token_id)"
   ]
  },
  {
   "cell_type": "code",
   "execution_count": 13,
   "metadata": {},
   "outputs": [
    {
     "data": {
      "text/plain": [
       "CausalLMOutputWithPast(loss={'logits': tensor([[[ 5.9688e+00,  8.3750e+00,  1.1875e+01,  ..., -6.1875e+00,\n",
       "          -6.1875e+00, -6.1875e+00],\n",
       "         [ 5.9688e+00,  8.3750e+00,  1.1875e+01,  ..., -6.1875e+00,\n",
       "          -6.1875e+00, -6.1875e+00],\n",
       "         [-1.1719e+00, -2.2031e+00,  2.0294e-03,  ..., -1.1875e+01,\n",
       "          -1.1875e+01, -1.1875e+01],\n",
       "         ...,\n",
       "         [-5.6250e+00, -1.6797e+00,  1.4688e+00,  ...,  3.2031e+00,\n",
       "           3.2031e+00,  3.2031e+00],\n",
       "         [-7.1875e+00, -1.6250e+01, -1.1625e+01,  ...,  3.6406e+00,\n",
       "           3.6406e+00,  3.6406e+00],\n",
       "         [-5.8750e+00, -4.2500e+00, -9.0625e+00,  ...,  3.0396e-02,\n",
       "           3.0762e-02,  3.0640e-02]]], device='cuda:0', dtype=torch.bfloat16,\n",
       "       grad_fn=<ToCopyBackward0>), 'past_key_values': DynamicCache()}, logits=tensor([[[ 5.9688e+00,  8.3750e+00,  1.1875e+01,  ..., -6.1875e+00,\n",
       "          -6.1875e+00, -6.1875e+00],\n",
       "         [ 5.9688e+00,  8.3750e+00,  1.1875e+01,  ..., -6.1875e+00,\n",
       "          -6.1875e+00, -6.1875e+00],\n",
       "         [-1.1719e+00, -2.2031e+00,  2.0294e-03,  ..., -1.1875e+01,\n",
       "          -1.1875e+01, -1.1875e+01],\n",
       "         ...,\n",
       "         [-5.6250e+00, -1.6797e+00,  1.4688e+00,  ...,  3.2031e+00,\n",
       "           3.2031e+00,  3.2031e+00],\n",
       "         [-7.1875e+00, -1.6250e+01, -1.1625e+01,  ...,  3.6406e+00,\n",
       "           3.6406e+00,  3.6406e+00],\n",
       "         [-5.8750e+00, -4.2500e+00, -9.0625e+00,  ...,  3.0396e-02,\n",
       "           3.0762e-02,  3.0640e-02]]], device='cuda:0', dtype=torch.bfloat16,\n",
       "       grad_fn=<ToCopyBackward0>), past_key_values=DynamicCache(), hidden_states=None, attentions=None)"
      ]
     },
     "execution_count": 13,
     "metadata": {},
     "output_type": "execute_result"
    }
   ],
   "source": []
  },
  {
   "cell_type": "code",
   "execution_count": 11,
   "metadata": {},
   "outputs": [],
   "source": [
    "out_token_ids = out_tokens.cpu().tolist()[0]\n",
    "full_output_str = tokenizer.decode(out_token_ids)"
   ]
  },
  {
   "cell_type": "code",
   "execution_count": 12,
   "metadata": {},
   "outputs": [
    {
     "name": "stdout",
     "output_type": "stream",
     "text": [
      "('<|begin_of_text|><|begin_of_text|><|start_header_id|>system<|end_header_id|>\\n'\n",
      " '\\n'\n",
      " 'Cutting Knowledge Date: December 2023\\n'\n",
      " 'Today Date: 23 July 2024\\n'\n",
      " '\\n'\n",
      " 'You are a helpful '\n",
      " 'assistant<|eot_id|><|start_header_id|>user<|end_header_id|>\\n'\n",
      " '\\n'\n",
      " 'What is the capital of '\n",
      " 'Bharat?<|eot_id|><|start_header_id|>assistant<|end_header_id|>\\n'\n",
      " '\\n'\n",
      " 'The capital of Bharat, also known as India, is New Delhi.<|eot_id|>')\n"
     ]
    }
   ],
   "source": [
    "pp(full_output_str)"
   ]
  },
  {
   "cell_type": "code",
   "execution_count": null,
   "metadata": {},
   "outputs": [],
   "source": []
  },
  {
   "cell_type": "code",
   "execution_count": null,
   "metadata": {},
   "outputs": [],
   "source": []
  },
  {
   "cell_type": "code",
   "execution_count": null,
   "metadata": {},
   "outputs": [],
   "source": []
  },
  {
   "cell_type": "code",
   "execution_count": null,
   "metadata": {},
   "outputs": [],
   "source": []
  },
  {
   "cell_type": "code",
   "execution_count": null,
   "metadata": {},
   "outputs": [],
   "source": []
  },
  {
   "cell_type": "code",
   "execution_count": null,
   "metadata": {},
   "outputs": [],
   "source": []
  },
  {
   "cell_type": "code",
   "execution_count": null,
   "metadata": {},
   "outputs": [],
   "source": []
  },
  {
   "cell_type": "code",
   "execution_count": null,
   "metadata": {},
   "outputs": [],
   "source": []
  },
  {
   "cell_type": "code",
   "execution_count": null,
   "metadata": {},
   "outputs": [],
   "source": []
  }
 ],
 "metadata": {
  "kernelspec": {
   "display_name": "amongus",
   "language": "python",
   "name": "python3"
  },
  "language_info": {
   "codemirror_mode": {
    "name": "ipython",
    "version": 3
   },
   "file_extension": ".py",
   "mimetype": "text/x-python",
   "name": "python",
   "nbconvert_exporter": "python",
   "pygments_lexer": "ipython3",
   "version": "3.10.16"
  }
 },
 "nbformat": 4,
 "nbformat_minor": 2
}
