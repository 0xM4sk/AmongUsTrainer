{
 "cells": [
  {
   "cell_type": "code",
   "execution_count": 15,
   "metadata": {},
   "outputs": [],
   "source": [
    "from dotenv import load_dotenv\n",
    "import os\n",
    "import sys\n",
    "from pprint import pprint as pp"
   ]
  },
  {
   "cell_type": "code",
   "execution_count": 2,
   "metadata": {},
   "outputs": [
    {
     "data": {
      "text/plain": [
       "True"
      ]
     },
     "execution_count": 2,
     "metadata": {},
     "output_type": "execute_result"
    }
   ],
   "source": [
    "load_dotenv()"
   ]
  },
  {
   "cell_type": "code",
   "execution_count": 3,
   "metadata": {},
   "outputs": [],
   "source": [
    "import requests\n",
    "import json"
   ]
  },
  {
   "cell_type": "code",
   "execution_count": 17,
   "metadata": {},
   "outputs": [],
   "source": [
    "response = requests.post(\n",
    "  url=\"https://openrouter.ai/api/v1/chat/completions\",\n",
    "  headers={\"Authorization\": f\"Bearer {os.getenv('OPENROUTER_API_KEY')}\",},\n",
    "  data=json.dumps({\n",
    "        \"model\": \"microsoft/phi-4\",\n",
    "        \"messages\": [{\"role\": \"user\", \"content\": \"What is the meaning of life?\"}],\n",
    "        \"top_p\": 1,\n",
    "        \"temperature\": 1,\n",
    "        \"frequency_penalty\": 0,\n",
    "        \"presence_penalty\": 0,\n",
    "        \"repetition_penalty\": 1,\n",
    "        \"top_k\": 0\n",
    "        })\n",
    ").json()"
   ]
  },
  {
   "cell_type": "code",
   "execution_count": 19,
   "metadata": {},
   "outputs": [
    {
     "name": "stdout",
     "output_type": "stream",
     "text": [
      "{'content': 'The question of the meaning of life has been pondered by '\n",
      "            'philosophers, theologians, scientists, and thinkers throughout '\n",
      "            'human history, and it can have many different interpretations '\n",
      "            'depending on cultural, religious, philosophical, and personal '\n",
      "            'perspectives. Here are a few ways it is commonly approached:\\n'\n",
      "            '\\n'\n",
      "            '1. **Religious and Spiritual Perspectives**: Many religions '\n",
      "            'provide their own explanations, often relating the purpose of '\n",
      "            'life to fulfilling the will of a higher power or achieving '\n",
      "            'spiritual enlightenment. For instance, in Christianity, many '\n",
      "            'believers see life as an opportunity to love and serve God and '\n",
      "            'others, with the promise of eternal life as a reward. In '\n",
      "            'Buddhism, the focus is on achieving enlightenment and escaping '\n",
      "            'the cycle of rebirth and suffering.\\n'\n",
      "            '\\n'\n",
      "            '2. **Philosophical Perspectives**: Philosophers have proposed '\n",
      "            \"numerous theories about life's meaning. Existentialists, like \"\n",
      "            'Jean-Paul Sartre and Albert Camus, suggest that life has no '\n",
      "            'inherent meaning and it is up to individuals to create their own '\n",
      "            'purpose. Meanwhile, other philosophers argue for objective '\n",
      "            'meanings, such as the pursuit of knowledge, virtue, or '\n",
      "            'happiness.\\n'\n",
      "            '\\n'\n",
      "            '3. **Scientific and Materialistic Perspectives**: From a '\n",
      "            'scientific standpoint, some argue that life has no ultimate '\n",
      "            'meaning beyond the biological imperatives of survival and '\n",
      "            'reproduction. Humans, as biological organisms, are driven by '\n",
      "            'evolutionary processes, and any perceived meaning is a construct '\n",
      "            'created by consciousness.\\n'\n",
      "            '\\n'\n",
      "            '4. **Humanistic Perspectives**: Humanism suggests that life’s '\n",
      "            'meaning comes from human experiences and relationships. It '\n",
      "            'emphasizes the importance of achieving individual potential, '\n",
      "            'seeking happiness, and contributing positively to the well-being '\n",
      "            'of others and society.\\n'\n",
      "            '\\n'\n",
      "            '5. **Individual Perspectives**: For many, the meaning of life is '\n",
      "            'a personal matter. Individuals may find meaning through '\n",
      "            'relationships, personal achievements, creativity, exploration, or '\n",
      "            'simply living in the present moment.\\n'\n",
      "            '\\n'\n",
      "            'Ultimately, the meaning of life is a deeply personal question, '\n",
      "            'and finding an answer can be a lifelong journey of exploration, '\n",
      "            'reflection, and discovery. Each person may find different sources '\n",
      "            'of meaning that are unique to their own experiences, desires, and '\n",
      "            'beliefs.',\n",
      " 'refusal': '',\n",
      " 'role': 'assistant'}\n"
     ]
    }
   ],
   "source": [
    "pp(response['choices'][0]['message'])"
   ]
  },
  {
   "cell_type": "code",
   "execution_count": null,
   "metadata": {},
   "outputs": [],
   "source": []
  },
  {
   "cell_type": "code",
   "execution_count": null,
   "metadata": {},
   "outputs": [],
   "source": []
  },
  {
   "cell_type": "code",
   "execution_count": null,
   "metadata": {},
   "outputs": [],
   "source": []
  },
  {
   "cell_type": "code",
   "execution_count": null,
   "metadata": {},
   "outputs": [],
   "source": [
    "from typing import Any\n",
    "from amongagents.envs.tools import AgentResponseOutputParser\n",
    "import numpy as np\n",
    "import random\n",
    "import os\n",
    "\n",
    "from langchain_openai import ChatOpenAI\n",
    "\n",
    "from langchain.agents import create_openai_functions_agent\n",
    "from langchain.agents import AgentExecutor\n",
    "\n",
    "from datetime import datetime\n",
    "import json\n",
    "\n",
    "from langchain_core.prompts import ChatPromptTemplate, PromptTemplate, SystemMessagePromptTemplate, HumanMessagePromptTemplate, MessagesPlaceholder\n",
    "import re\n",
    "from .prompts import *\n",
    "import ast\n",
    "\n",
    "class Agent():\n",
    "    def __init__(self, player):\n",
    "        self.player = player\n",
    "    \n",
    "    def respond(self, message):\n",
    "        return \"...\"\n",
    "    \n",
    "    def choose_action(self):\n",
    "        return None\n",
    "\n",
    "class LLMAgent(Agent):\n",
    "    def __init__(self, player, tools):\n",
    "        super().__init__(player)\n",
    "        if player.identity == 'Crewmate':\n",
    "            system_prompt = CREWMATE_PROMPT.format(name=player.name)\n",
    "            if player.personality is not None:\n",
    "                system_prompt += PERSONALITY_PROMPT.format(personality=CrewmatePersonalities[player.personality])\n",
    "            system_prompt += CREWMATE_EXAMPLE\n",
    "        elif player.identity == 'Impostor':\n",
    "            system_prompt = IMPOSTOR_PROMPT.format(name=player.name)\n",
    "            if player.personality is not None:\n",
    "                system_prompt += PERSONALITY_PROMPT.format(personality=ImpostorPersonalities[player.personality])\n",
    "            system_prompt += IMPOSTOR_EXAMPLE\n",
    "            \n",
    "        chat_template = ChatPromptTemplate.from_messages(\n",
    "            [\n",
    "                (\"system\", system_prompt),\n",
    "                HumanMessagePromptTemplate(prompt=PromptTemplate(input_variables=[\"all_info\", \"summarization\", \"memory\"], template=LLM_ACTION_TEMPLATE)),\n",
    "                MessagesPlaceholder(variable_name=\"agent_scratchpad\"),\n",
    "            ]\n",
    "        )\n",
    "            \n",
    "        # llm = ChatOpenAI(model=\"gpt-3.5-turbo\", temperature=0.7, openai_api_key=os.getenv(\"OPENAI_API_KEY\"))\n",
    "        llm = ChatOpenAI(model=\"gpt-4o-mini\", temperature=0.7, openai_api_key=os.getenv(\"OPENAI_API_KEY\"))\n",
    "        self.tools = tools\n",
    "            \n",
    "        self.openai_agent = create_openai_functions_agent(llm, tools, chat_template)\n",
    "        self.executor = AgentExecutor(agent=self.openai_agent, tools=tools, verbose=False)\n",
    "        self.executor.name = player.name \n",
    "        self.summarization = 'no thought process has been made'\n",
    "        self.processed_memory = 'no memory has been processed'\n",
    "\n",
    "        self.chat_history = [] # LOG\n",
    "        self.script_dir = os.path.dirname(os.path.abspath(__file__))\n",
    "        self.log_path = os.getenv(\"EXPERIMENT_PATH\") + \"agent-logs.json\" if os.getenv(\"EXPERIMENT_PATH\") else os.path.join(self.script_dir, \"agent-logs/agent-logs.json\")\n",
    "\n",
    "    def respond(self, message):\n",
    "        all_info = self.player.all_info_prompt()\n",
    "        prompt = f\"{all_info}\\n{message}\"\n",
    "        results = self.executor.invoke({\"all_info\": prompt})\n",
    "\n",
    "        return results['output']\n",
    "        \n",
    "    def choose_action(self):\n",
    "        available_actions = self.player.get_available_actions()\n",
    "        all_info = self.player.all_info_prompt()\n",
    "        phase = 'Meeting phase' if len(available_actions) == 1 else 'Task phase'\n",
    "\n",
    "        full_prompt = {\n",
    "            \"summarization\": self.summarization,\n",
    "            \"all_info\": all_info,\n",
    "            \"memory\": self.processed_memory,\n",
    "        }\n",
    "        \n",
    "        results = self.executor.invoke(full_prompt)\n",
    "        \n",
    "        pattern = r\"^\\[Condensed Memory\\]((.|\\n)*)\\[Thinking Process\\]((.|\\n)*)\\[Action\\]((.|\\n)*)$\"\n",
    "        match = re.search(pattern, results['output'])\n",
    "        if match:\n",
    "            # print(results['output'].split('|||'))\n",
    "            memory = match.group(1)\n",
    "            summarization = match.group(3)\n",
    "            output_action = match.group(5)\n",
    "            output_action = output_action.strip()\n",
    "            summarization = summarization.strip()\n",
    "            memory = memory.strip()\n",
    "            self.summarization = summarization\n",
    "            self.processed_memory = memory\n",
    "        else:\n",
    "            output_action = results['output']\n",
    "        \n",
    "        for action in available_actions:\n",
    "            if repr(action) in output_action:\n",
    "                return action\n",
    "            elif 'SPEAK: ' in repr(action) and 'SPEAK: ' in output_action:                \n",
    "                message = output_action.split('SPEAK: ')[1]\n",
    "                action.message = message\n",
    "                return action\n",
    "        return action\n",
    "    \n",
    "    def choose_observation_location(self, map):\n",
    "        return random.sample(map, 1)[0]"
   ]
  },
  {
   "cell_type": "code",
   "execution_count": null,
   "metadata": {},
   "outputs": [],
   "source": []
  },
  {
   "cell_type": "code",
   "execution_count": null,
   "metadata": {},
   "outputs": [],
   "source": []
  },
  {
   "cell_type": "code",
   "execution_count": null,
   "metadata": {},
   "outputs": [],
   "source": []
  },
  {
   "cell_type": "code",
   "execution_count": null,
   "metadata": {},
   "outputs": [],
   "source": []
  },
  {
   "cell_type": "code",
   "execution_count": null,
   "metadata": {},
   "outputs": [],
   "source": []
  },
  {
   "cell_type": "code",
   "execution_count": null,
   "metadata": {},
   "outputs": [],
   "source": []
  },
  {
   "cell_type": "code",
   "execution_count": null,
   "metadata": {},
   "outputs": [],
   "source": []
  },
  {
   "cell_type": "code",
   "execution_count": null,
   "metadata": {},
   "outputs": [],
   "source": []
  },
  {
   "cell_type": "code",
   "execution_count": null,
   "metadata": {},
   "outputs": [],
   "source": []
  },
  {
   "cell_type": "code",
   "execution_count": null,
   "metadata": {},
   "outputs": [],
   "source": []
  }
 ],
 "metadata": {
  "kernelspec": {
   "display_name": "among-agents",
   "language": "python",
   "name": "python3"
  },
  "language_info": {
   "codemirror_mode": {
    "name": "ipython",
    "version": 3
   },
   "file_extension": ".py",
   "mimetype": "text/x-python",
   "name": "python",
   "nbconvert_exporter": "python",
   "pygments_lexer": "ipython3",
   "version": "3.10.16"
  }
 },
 "nbformat": 4,
 "nbformat_minor": 2
}
