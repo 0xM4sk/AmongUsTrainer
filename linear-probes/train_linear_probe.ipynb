{
 "cells": [
  {
   "cell_type": "code",
   "execution_count": 1,
   "metadata": {},
   "outputs": [],
   "source": [
    "import os\n",
    "import sys\n",
    "import pickle\n",
    "import argparse\n",
    "from transformers import AutoModelForCausalLM, AutoTokenizer\n",
    "\n",
    "sys.path.append(os.path.dirname(os.path.abspath('.')))\n",
    "import configs\n",
    "from datasets import TruthfulQADataset, DishonestQADataset, AmongUsDataset, RolePlayingDataset, RepEngDataset\n",
    "from probes import LinearProbe\n",
    "\n",
    "from configs import config_phi4"
   ]
  },
  {
   "cell_type": "code",
   "execution_count": 2,
   "metadata": {},
   "outputs": [],
   "source": [
    "dataset_name = 'RepEngDataset'\n",
    "config = config_phi4\n",
    "model, tokenizer, device = None, None, 'cpu'\n",
    "dataset = eval(f\"{dataset_name}\")(config, model=model, tokenizer=tokenizer, device=device, test_split=0.2)"
   ]
  },
  {
   "cell_type": "code",
   "execution_count": 3,
   "metadata": {},
   "outputs": [
    {
     "name": "stdout",
     "output_type": "stream",
     "text": [
      "Loading existing chunk from ./data/RepEng_phi4_acts/chunk_0.pkl\n"
     ]
    }
   ],
   "source": [
    "dataset.populate_dataset(force_redo=False)"
   ]
  },
  {
   "cell_type": "code",
   "execution_count": 4,
   "metadata": {},
   "outputs": [],
   "source": [
    "train_loader = dataset.get_train(batch_size=32, num_tokens=10) # take the acts of the last num_tokens tokens"
   ]
  },
  {
   "cell_type": "code",
   "execution_count": 5,
   "metadata": {},
   "outputs": [
    {
     "name": "stdout",
     "output_type": "stream",
     "text": [
      "Training probe on 153 batches and 4890 samples.\n",
      "Epoch 1: Train Loss = 0.0823, Train Acc = 0.9683\n",
      "Epoch 2: Train Loss = 0.0165, Train Acc = 0.9961\n",
      "Epoch 3: Train Loss = 0.0135, Train Acc = 0.9967\n",
      "Epoch 4: Train Loss = 0.0116, Train Acc = 0.9967\n",
      "Epoch 5: Train Loss = 0.0073, Train Acc = 0.9967\n",
      "Epoch 6: Train Loss = 0.0074, Train Acc = 0.9973\n",
      "Epoch 7: Train Loss = 0.0078, Train Acc = 0.9980\n",
      "Epoch 8: Train Loss = 0.0084, Train Acc = 0.9971\n",
      "Epoch 9: Train Loss = 0.0123, Train Acc = 0.9975\n",
      "Epoch 10: Train Loss = 0.0053, Train Acc = 0.9984\n",
      "Final Train Acc: 0.9984\n"
     ]
    }
   ],
   "source": [
    "probe = LinearProbe(input_dim=dataset.activation_size, device=device)\n",
    "\n",
    "print(f'Training probe on {len(train_loader)} batches and {len(train_loader.dataset)} samples.')\n",
    "\n",
    "probe.fit(train_loader, epochs=10)"
   ]
  },
  {
   "cell_type": "code",
   "execution_count": 6,
   "metadata": {},
   "outputs": [
    {
     "name": "stdout",
     "output_type": "stream",
     "text": [
      "Probe saved to checkpoints/RepEngDataset_probe_phi4.pkl\n"
     ]
    }
   ],
   "source": [
    "checkpoint_path = f'checkpoints/{dataset_name}_probe_{config[\"short_name\"]}.pkl'\n",
    "with open(checkpoint_path, 'wb') as f:\n",
    "    pickle.dump(probe, f)\n",
    "    print(f\"Probe saved to {checkpoint_path}\")"
   ]
  }
 ],
 "metadata": {
  "kernelspec": {
   "display_name": "amongus",
   "language": "python",
   "name": "python3"
  },
  "language_info": {
   "codemirror_mode": {
    "name": "ipython",
    "version": 3
   },
   "file_extension": ".py",
   "mimetype": "text/x-python",
   "name": "python",
   "nbconvert_exporter": "python",
   "pygments_lexer": "ipython3",
   "version": "3.10.16"
  }
 },
 "nbformat": 4,
 "nbformat_minor": 2
}
