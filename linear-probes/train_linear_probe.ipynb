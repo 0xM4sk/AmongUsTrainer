{
 "cells": [
  {
   "cell_type": "code",
   "execution_count": 30,
   "metadata": {},
   "outputs": [],
   "source": [
    "import os\n",
    "import sys\n",
    "import pickle\n",
    "import argparse\n",
    "from transformers import AutoModelForCausalLM, AutoTokenizer\n",
    "import torch as t\n",
    "sys.path.append(os.path.dirname(os.path.abspath('.')))\n",
    "import configs\n",
    "from datasets import TruthfulQADataset, DishonestQADataset, AmongUsDataset, RolePlayingDataset, RepEngDataset\n",
    "from probes import LinearProbe\n",
    "\n",
    "from configs import config_phi4"
   ]
  },
  {
   "cell_type": "code",
   "execution_count": 31,
   "metadata": {},
   "outputs": [],
   "source": [
    "dataset_name = 'RepEngDataset'\n",
    "config = config_phi4\n",
    "model, tokenizer, device = None, None, 'cpu'\n",
    "EXPT_NAME: str = \"2025-02-01_phi_phi_100_games_v3\"\n",
    "# dataset = eval(f\"{dataset_name}\")(config, model=model, tokenizer=tokenizer, device=device, expt_name=EXPT_NAME, test_split=0)\n",
    "dataset = eval(f\"{dataset_name}\")(config, model=model, tokenizer=tokenizer, device=device, test_split=0.2)"
   ]
  },
  {
   "cell_type": "code",
   "execution_count": 32,
   "metadata": {},
   "outputs": [
    {
     "name": "stdout",
     "output_type": "stream",
     "text": [
      "Loading existing chunk from ./data/RepEng_phi4_acts/chunk_0.pkl\n"
     ]
    }
   ],
   "source": [
    "# dataset.populate_dataset(force_redo=False, just_load=True)\n",
    "dataset.populate_dataset(force_redo=False)"
   ]
  },
  {
   "cell_type": "code",
   "execution_count": 33,
   "metadata": {},
   "outputs": [],
   "source": [
    "if dataset_name == 'AmongUsDataset':\n",
    "    # Get original train loader\n",
    "    train_loader = dataset.get_train(batch_size=32, num_tokens=10, chunk_idx=0)\n",
    "\n",
    "    # Create new dataset with flipped labels (so 1 is crewmate and 0 is impostor)\n",
    "    flipped_dataset = [(x, 1-y) for x,y in train_loader.dataset]\n",
    "\n",
    "    # Create new train loader with flipped labels (won't need this fix when we recreate AmongUs activations)\n",
    "    train_loader = t.utils.data.DataLoader(\n",
    "        flipped_dataset,\n",
    "        batch_size=32,\n",
    "        shuffle=True,\n",
    "        num_workers=0,\n",
    "        pin_memory=True\n",
    "    )"
   ]
  },
  {
   "cell_type": "code",
   "execution_count": 34,
   "metadata": {},
   "outputs": [
    {
     "name": "stdout",
     "output_type": "stream",
     "text": [
      "Training probe on 32 batches and 1000 samples.\n"
     ]
    }
   ],
   "source": [
    "probe = LinearProbe(input_dim=dataset.activation_size, device=device)\n",
    "\n",
    "print(f'Training probe on {len(train_loader)} batches and {len(train_loader.dataset)} samples.')"
   ]
  },
  {
   "cell_type": "code",
   "execution_count": 35,
   "metadata": {},
   "outputs": [
    {
     "name": "stdout",
     "output_type": "stream",
     "text": [
      "Epoch 1: Train Loss = 0.3984, Train Acc = 0.8120\n",
      "Epoch 2: Train Loss = 0.1279, Train Acc = 0.9800\n",
      "Epoch 3: Train Loss = 0.0731, Train Acc = 0.9980\n",
      "Epoch 4: Train Loss = 0.0474, Train Acc = 1.0000\n",
      "Epoch 5: Train Loss = 0.0384, Train Acc = 0.9970\n",
      "Epoch 6: Train Loss = 0.0287, Train Acc = 1.0000\n",
      "Epoch 7: Train Loss = 0.0239, Train Acc = 1.0000\n",
      "Epoch 8: Train Loss = 0.0201, Train Acc = 1.0000\n",
      "Epoch 9: Train Loss = 0.0178, Train Acc = 1.0000\n",
      "Epoch 10: Train Loss = 0.0158, Train Acc = 1.0000\n",
      "Final Train Acc: 1.0000\n"
     ]
    }
   ],
   "source": [
    "probe.fit(train_loader, epochs=10)"
   ]
  },
  {
   "cell_type": "code",
   "execution_count": 36,
   "metadata": {},
   "outputs": [
    {
     "name": "stdout",
     "output_type": "stream",
     "text": [
      "Probe saved to checkpoints/RepEngDataset_probe_phi4.pkl\n"
     ]
    }
   ],
   "source": [
    "checkpoint_path = f'checkpoints/{dataset_name}_probe_{config[\"short_name\"]}.pkl'\n",
    "with open(checkpoint_path, 'wb') as f:\n",
    "    pickle.dump(probe, f)\n",
    "    print(f\"Probe saved to {checkpoint_path}\")"
   ]
  },
  {
   "cell_type": "code",
   "execution_count": null,
   "metadata": {},
   "outputs": [],
   "source": []
  }
 ],
 "metadata": {
  "kernelspec": {
   "display_name": "amongus",
   "language": "python",
   "name": "python3"
  },
  "language_info": {
   "codemirror_mode": {
    "name": "ipython",
    "version": 3
   },
   "file_extension": ".py",
   "mimetype": "text/x-python",
   "name": "python",
   "nbconvert_exporter": "python",
   "pygments_lexer": "ipython3",
   "version": "3.10.16"
  }
 },
 "nbformat": 4,
 "nbformat_minor": 2
}
