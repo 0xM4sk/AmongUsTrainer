{
 "cells": [
  {
   "cell_type": "code",
   "execution_count": 1,
   "metadata": {},
   "outputs": [],
   "source": [
    "import os\n",
    "import sys\n",
    "import pickle\n",
    "import argparse\n",
    "from transformers import AutoModelForCausalLM, AutoTokenizer\n",
    "import torch as t\n",
    "sys.path.append(os.path.dirname(os.path.abspath('.')))\n",
    "import configs\n",
    "from datasets import TruthfulQADataset, DishonestQADataset, AmongUsDataset, RolePlayingDataset, RepEngDataset, ApolloProbeDataset\n",
    "from probes import LinearProbe\n",
    "\n",
    "from configs import config_phi4"
   ]
  },
  {
   "cell_type": "code",
   "execution_count": 2,
   "metadata": {},
   "outputs": [],
   "source": [
    "dataset_name = 'DishonestQADataset'\n",
    "config = config_phi4\n",
    "model, tokenizer, device = None, None, 'cpu'\n",
    "EXPT_NAME: str = \"2025-02-01_phi_phi_100_games_v3\"\n",
    "dataset = eval(f\"{dataset_name}\")(config, model=model, tokenizer=tokenizer, device=device, expt_name=EXPT_NAME, test_split=0.2)"
   ]
  },
  {
   "cell_type": "code",
   "execution_count": 3,
   "metadata": {},
   "outputs": [],
   "source": [
    "train_loader = dataset.get_train(batch_size=32, num_tokens=10, chunk_idx=0)"
   ]
  },
  {
   "cell_type": "code",
   "execution_count": 4,
   "metadata": {},
   "outputs": [
    {
     "name": "stdout",
     "output_type": "stream",
     "text": [
      "Training probe on 395 batches and 12640 samples.\n"
     ]
    }
   ],
   "source": [
    "probe = LinearProbe(input_dim=dataset.activation_size, device=device)\n",
    "\n",
    "print(f'Training probe on {len(train_loader)} batches and {len(train_loader.dataset)} samples.')"
   ]
  },
  {
   "cell_type": "code",
   "execution_count": 5,
   "metadata": {},
   "outputs": [
    {
     "name": "stdout",
     "output_type": "stream",
     "text": [
      "Epoch 1: Train Loss = 0.0855, Train Acc = 0.9695\n",
      "Epoch 2: Train Loss = 0.0310, Train Acc = 0.9891\n",
      "Epoch 3: Train Loss = 0.0251, Train Acc = 0.9913\n",
      "Epoch 4: Train Loss = 0.0217, Train Acc = 0.9930\n",
      "Final Train Acc: 0.9930\n"
     ]
    }
   ],
   "source": [
    "probe.fit(train_loader, epochs=4)"
   ]
  },
  {
   "cell_type": "code",
   "execution_count": 6,
   "metadata": {},
   "outputs": [
    {
     "name": "stdout",
     "output_type": "stream",
     "text": [
      "Probe saved to checkpoints/DishonestQADataset_probe_phi4.pkl\n"
     ]
    }
   ],
   "source": [
    "checkpoint_path = f'checkpoints/{dataset_name}_probe_{config[\"short_name\"]}.pkl'\n",
    "with open(checkpoint_path, 'wb') as f:\n",
    "    pickle.dump(probe, f)\n",
    "    print(f\"Probe saved to {checkpoint_path}\")"
   ]
  },
  {
   "cell_type": "code",
   "execution_count": null,
   "metadata": {},
   "outputs": [],
   "source": []
  },
  {
   "cell_type": "code",
   "execution_count": null,
   "metadata": {},
   "outputs": [],
   "source": []
  }
 ],
 "metadata": {
  "kernelspec": {
   "display_name": "amongus",
   "language": "python",
   "name": "python3"
  },
  "language_info": {
   "codemirror_mode": {
    "name": "ipython",
    "version": 3
   },
   "file_extension": ".py",
   "mimetype": "text/x-python",
   "name": "python",
   "nbconvert_exporter": "python",
   "pygments_lexer": "ipython3",
   "version": "3.10.16"
  }
 },
 "nbformat": 4,
 "nbformat_minor": 2
}
