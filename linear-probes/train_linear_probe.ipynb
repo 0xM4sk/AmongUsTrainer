{
 "cells": [
  {
   "cell_type": "code",
   "execution_count": 1,
   "metadata": {},
   "outputs": [],
   "source": [
    "import os\n",
    "import sys\n",
    "import pickle\n",
    "import argparse\n",
    "from transformers import AutoModelForCausalLM, AutoTokenizer\n",
    "\n",
    "sys.path.append(os.path.dirname(os.path.abspath('.')))\n",
    "import configs\n",
    "from datasets import TruthfulQADataset, DishonestQADataset, AmongUsDataset\n",
    "from probes import LinearProbe\n",
    "\n",
    "from configs import config_phi4"
   ]
  },
  {
   "cell_type": "code",
   "execution_count": 2,
   "metadata": {},
   "outputs": [
    {
     "name": "stdout",
     "output_type": "stream",
     "text": [
      "Loading existing chunk from ./data/DishonestQA_phi4_acts/chunk_0.pkl\n"
     ]
    }
   ],
   "source": [
    "dataset_name = 'DishonestQADataset'\n",
    "config = config_phi4\n",
    "model, tokenizer, device = None, None, 'cpu'\n",
    "dataset = eval(f\"{dataset_name}\")(config, model=model, tokenizer=tokenizer, device=device, test_split=0.2)\n",
    "dataset.populate_dataset(force_redo=False)"
   ]
  },
  {
   "cell_type": "code",
   "execution_count": 3,
   "metadata": {},
   "outputs": [],
   "source": [
    "train_loader = dataset.get_train(batch_size=32, num_tokens=10) # take the acts of the last num_tokens tokens"
   ]
  },
  {
   "cell_type": "code",
   "execution_count": 4,
   "metadata": {},
   "outputs": [
    {
     "name": "stdout",
     "output_type": "stream",
     "text": [
      "Training probe on 40 batches and 1264 samples.\n",
      "Epoch 1: Train Loss = 0.3075, Train Acc = 0.8845\n",
      "Epoch 11: Train Loss = 0.0215, Train Acc = 0.9945\n",
      "Epoch 21: Train Loss = 0.0232, Train Acc = 0.9921\n",
      "Epoch 31: Train Loss = 0.0222, Train Acc = 0.9929\n",
      "Epoch 41: Train Loss = 0.0158, Train Acc = 0.9945\n",
      "Epoch 51: Train Loss = 0.0279, Train Acc = 0.9937\n",
      "Epoch 61: Train Loss = 0.0277, Train Acc = 0.9945\n",
      "Epoch 71: Train Loss = 0.0201, Train Acc = 0.9960\n",
      "Epoch 81: Train Loss = 0.0050, Train Acc = 0.9976\n",
      "Epoch 91: Train Loss = 0.0312, Train Acc = 0.9937\n",
      "Final Train Acc: 0.9945\n"
     ]
    }
   ],
   "source": [
    "probe = LinearProbe(input_dim=dataset.activation_size, device=device)\n",
    "\n",
    "print(f'Training probe on {len(train_loader)} batches and {len(train_loader.dataset)} samples.')\n",
    "\n",
    "probe.fit(train_loader, epochs=100)"
   ]
  }
 ],
 "metadata": {
  "language_info": {
   "name": "python"
  }
 },
 "nbformat": 4,
 "nbformat_minor": 2
}
