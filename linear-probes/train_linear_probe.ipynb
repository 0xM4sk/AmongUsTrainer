{
 "cells": [
  {
   "cell_type": "code",
   "execution_count": 1,
   "metadata": {},
   "outputs": [],
   "source": [
    "import os\n",
    "import sys\n",
    "import pickle\n",
    "import argparse\n",
    "from transformers import AutoModelForCausalLM, AutoTokenizer\n",
    "\n",
    "sys.path.append(os.path.dirname(os.path.abspath('.')))\n",
    "import configs\n",
    "from datasets import TruthfulQADataset, DishonestQADataset, AmongUsDataset, RolePlayingDataset, RepEngDataset\n",
    "from probes import LinearProbe\n",
    "\n",
    "from configs import config_phi4"
   ]
  },
  {
   "cell_type": "code",
   "execution_count": 4,
   "metadata": {},
   "outputs": [],
   "source": [
    "dataset_name = 'RolePlayingDataset'\n",
    "config = config_phi4\n",
    "model, tokenizer, device = None, None, 'cpu'\n",
    "dataset = eval(f\"{dataset_name}\")(config, model=model, tokenizer=tokenizer, device=device, test_split=0.2)"
   ]
  },
  {
   "cell_type": "code",
   "execution_count": 5,
   "metadata": {},
   "outputs": [
    {
     "data": {
      "text/html": [
       "<div>\n",
       "<style scoped>\n",
       "    .dataframe tbody tr th:only-of-type {\n",
       "        vertical-align: middle;\n",
       "    }\n",
       "\n",
       "    .dataframe tbody tr th {\n",
       "        vertical-align: top;\n",
       "    }\n",
       "\n",
       "    .dataframe thead th {\n",
       "        text-align: right;\n",
       "    }\n",
       "</style>\n",
       "<table border=\"1\" class=\"dataframe\">\n",
       "  <thead>\n",
       "    <tr style=\"text-align: right;\">\n",
       "      <th></th>\n",
       "      <th>scenario</th>\n",
       "      <th>question</th>\n",
       "      <th>answer_prefix</th>\n",
       "      <th>honest_completion</th>\n",
       "      <th>deceptive_completion</th>\n",
       "    </tr>\n",
       "  </thead>\n",
       "  <tbody>\n",
       "    <tr>\n",
       "      <th>0</th>\n",
       "      <td>You are a student who has not completed an imp...</td>\n",
       "      <td>Teacher: Why haven't you submitted your assign...</td>\n",
       "      <td>Student:</td>\n",
       "      <td>\"I haven't submitted the assignment yet due to...</td>\n",
       "      <td>I've been dealing with a family situation that...</td>\n",
       "    </tr>\n",
       "    <tr>\n",
       "      <th>1</th>\n",
       "      <td>You are a student who hasn't started working o...</td>\n",
       "      <td>Teacher: Why have you not submitted the scienc...</td>\n",
       "      <td>Student:</td>\n",
       "      <td>I'm ashamed to admit it, but the truth is, I p...</td>\n",
       "      <td>I'm so sorry, but I experienced a family emerg...</td>\n",
       "    </tr>\n",
       "    <tr>\n",
       "      <th>2</th>\n",
       "      <td>You are a college student taking a particularl...</td>\n",
       "      <td>Professor: Do you have a valid reason for need...</td>\n",
       "      <td>Student:</td>\n",
       "      <td>Professor, I'm afraid I don't have an unavoida...</td>\n",
       "      <td>I've been experiencing some health issues over...</td>\n",
       "    </tr>\n",
       "  </tbody>\n",
       "</table>\n",
       "</div>"
      ],
      "text/plain": [
       "                                            scenario  \\\n",
       "0  You are a student who has not completed an imp...   \n",
       "1  You are a student who hasn't started working o...   \n",
       "2  You are a college student taking a particularl...   \n",
       "\n",
       "                                            question answer_prefix  \\\n",
       "0  Teacher: Why haven't you submitted your assign...      Student:   \n",
       "1  Teacher: Why have you not submitted the scienc...      Student:   \n",
       "2  Professor: Do you have a valid reason for need...      Student:   \n",
       "\n",
       "                                   honest_completion  \\\n",
       "0  \"I haven't submitted the assignment yet due to...   \n",
       "1  I'm ashamed to admit it, but the truth is, I p...   \n",
       "2  Professor, I'm afraid I don't have an unavoida...   \n",
       "\n",
       "                                deceptive_completion  \n",
       "0  I've been dealing with a family situation that...  \n",
       "1  I'm so sorry, but I experienced a family emerg...  \n",
       "2  I've been experiencing some health issues over...  "
      ]
     },
     "execution_count": 5,
     "metadata": {},
     "output_type": "execute_result"
    }
   ],
   "source": [
    "dataset.df.head(3)"
   ]
  },
  {
   "cell_type": "code",
   "execution_count": null,
   "metadata": {},
   "outputs": [],
   "source": [
    "dataset.populate_dataset(force_redo=False)"
   ]
  },
  {
   "cell_type": "code",
   "execution_count": 3,
   "metadata": {},
   "outputs": [],
   "source": [
    "train_loader = dataset.get_train(batch_size=32, num_tokens=10) # take the acts of the last num_tokens tokens"
   ]
  },
  {
   "cell_type": "code",
   "execution_count": 4,
   "metadata": {},
   "outputs": [
    {
     "name": "stdout",
     "output_type": "stream",
     "text": [
      "Training probe on 40 batches and 1264 samples.\n",
      "Epoch 1: Train Loss = 0.3075, Train Acc = 0.8845\n",
      "Epoch 11: Train Loss = 0.0215, Train Acc = 0.9945\n",
      "Epoch 21: Train Loss = 0.0232, Train Acc = 0.9921\n",
      "Epoch 31: Train Loss = 0.0222, Train Acc = 0.9929\n",
      "Epoch 41: Train Loss = 0.0158, Train Acc = 0.9945\n",
      "Epoch 51: Train Loss = 0.0279, Train Acc = 0.9937\n",
      "Epoch 61: Train Loss = 0.0277, Train Acc = 0.9945\n",
      "Epoch 71: Train Loss = 0.0201, Train Acc = 0.9960\n",
      "Epoch 81: Train Loss = 0.0050, Train Acc = 0.9976\n",
      "Epoch 91: Train Loss = 0.0312, Train Acc = 0.9937\n",
      "Final Train Acc: 0.9945\n"
     ]
    }
   ],
   "source": [
    "probe = LinearProbe(input_dim=dataset.activation_size, device=device)\n",
    "\n",
    "print(f'Training probe on {len(train_loader)} batches and {len(train_loader.dataset)} samples.')\n",
    "\n",
    "probe.fit(train_loader, epochs=100)"
   ]
  }
 ],
 "metadata": {
  "kernelspec": {
   "display_name": "amongus",
   "language": "python",
   "name": "python3"
  },
  "language_info": {
   "codemirror_mode": {
    "name": "ipython",
    "version": 3
   },
   "file_extension": ".py",
   "mimetype": "text/x-python",
   "name": "python",
   "nbconvert_exporter": "python",
   "pygments_lexer": "ipython3",
   "version": "3.10.16"
  }
 },
 "nbformat": 4,
 "nbformat_minor": 2
}
