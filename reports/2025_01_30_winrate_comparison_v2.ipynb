{
 "cells": [
  {
   "cell_type": "markdown",
   "metadata": {},
   "source": [
    "# Setup Evaluations for Multiple Games"
   ]
  },
  {
   "cell_type": "code",
   "execution_count": 28,
   "metadata": {},
   "outputs": [],
   "source": [
    "import os\n",
    "import sys\n",
    "import json\n",
    "import plotly.express as px\n",
    "import plotly.graph_objects as go\n",
    "import numpy as np\n",
    "import requests\n",
    "import pandas as pd\n",
    "import textwrap\n",
    "\n",
    "from pandas import DataFrame, json_normalize\n",
    "from typing import List, Dict, Any, Tuple, Union, Optional\n",
    "\n",
    "LOGS_PATH: str = \"../expt-logs/\""
   ]
  },
  {
   "cell_type": "code",
   "execution_count": 29,
   "metadata": {},
   "outputs": [
    {
     "data": {
      "text/plain": [
       "True"
      ]
     },
     "execution_count": 29,
     "metadata": {},
     "output_type": "execute_result"
    }
   ],
   "source": [
    "import dotenv\n",
    "dotenv.load_dotenv()"
   ]
  },
  {
   "cell_type": "code",
   "execution_count": 30,
   "metadata": {},
   "outputs": [],
   "source": [
    "sys.path.append(\"..\")\n",
    "\n",
    "from utils import load_agent_logs_df, read_jsonl_as_json, load_game_summary"
   ]
  },
  {
   "cell_type": "code",
   "execution_count": 31,
   "metadata": {},
   "outputs": [],
   "source": [
    "EXPT_NAMES: List[str] = [\n",
    "    \"2025-01-30_phi_llama_100_games_v2\",\n",
    "    \"2025-01-30_llama_phi_100_games_v2\",\n",
    "    \"2025-01-30_phi_phi_100_games_v2\",\n",
    "    \"2025-01-30_llama_llama_100_games_v2\",\n",
    "    ]"
   ]
  },
  {
   "cell_type": "code",
   "execution_count": 32,
   "metadata": {},
   "outputs": [],
   "source": [
    "DESCRIPTIONS: List[str] = [\n",
    "    \"Crew: Phi, Imp: Llama\",\n",
    "    \"Crew: Llama, Imp: Phi\",\n",
    "    \"Crew: Phi, Imp: Phi\",\n",
    "    \"Crew: Llama, Imp: Llama\",\n",
    "    ]"
   ]
  },
  {
   "cell_type": "code",
   "execution_count": 33,
   "metadata": {},
   "outputs": [],
   "source": [
    "summary_logs_paths: List[str] = [\n",
    "    os.path.join(LOGS_PATH, expt_name, \"summary.json\") for expt_name in EXPT_NAMES\n",
    "]"
   ]
  },
  {
   "cell_type": "code",
   "execution_count": 34,
   "metadata": {},
   "outputs": [],
   "source": [
    "summary_dfs: List[DataFrame] = [\n",
    "    load_game_summary(logs_path) for logs_path in summary_logs_paths\n",
    "]"
   ]
  },
  {
   "cell_type": "code",
   "execution_count": 35,
   "metadata": {},
   "outputs": [],
   "source": [
    "for i, df in enumerate(summary_dfs):\n",
    "    df['Winner Reason'] = df['Winner Reason'].apply(lambda x: \"<br>\".join(textwrap.fill(x, width=20).split(\"\\n\")))\n",
    "    df['Models'] = DESCRIPTIONS[i]"
   ]
  },
  {
   "cell_type": "code",
   "execution_count": 36,
   "metadata": {},
   "outputs": [],
   "source": [
    "combined_df: DataFrame = pd.concat(summary_dfs)"
   ]
  },
  {
   "cell_type": "code",
   "execution_count": 37,
   "metadata": {},
   "outputs": [
    {
     "data": {
      "application/vnd.plotly.v1+json": {
       "config": {
        "plotlyServerURL": "https://plot.ly"
       },
       "data": [
        {
         "alignmentgroup": "True",
         "bingroup": "x",
         "hovertemplate": "Models=Crew: Phi, Imp: Llama<br>Winner Reason=%{x}<br>count=%{y}<extra></extra>",
         "legendgroup": "Crew: Phi, Imp: Llama",
         "marker": {
          "color": "#636efa",
          "pattern": {
           "shape": ""
          }
         },
         "name": "Crew: Phi, Imp: Llama",
         "offsetgroup": "Crew: Phi, Imp: Llama",
         "orientation": "v",
         "showlegend": true,
         "type": "histogram",
         "x": [
          "Impostors win!<br>(Crewmates being<br>outnumbered or tied<br>to impostors))",
          "Impostors win!<br>(Crewmates being<br>outnumbered or tied<br>to impostors))",
          "Impostors win!<br>(Crewmates being<br>outnumbered or tied<br>to impostors))",
          "Impostors win!<br>(Crewmates being<br>outnumbered or tied<br>to impostors))",
          "Crewmates win!<br>(Impostors<br>eliminated)",
          "Impostors win!<br>(Crewmates being<br>outnumbered or tied<br>to impostors))",
          "Crewmates win! (All<br>task completed)",
          "Impostors win!<br>(Crewmates being<br>outnumbered or tied<br>to impostors))",
          "Impostors win!<br>(Crewmates being<br>outnumbered or tied<br>to impostors))",
          "Crewmates win! (All<br>task completed)",
          "Crewmates win!<br>(Impostors<br>eliminated)",
          "Crewmates win! (All<br>task completed)",
          "Impostors win!<br>(Crewmates being<br>outnumbered or tied<br>to impostors))",
          "Impostors win!<br>(Crewmates being<br>outnumbered or tied<br>to impostors))",
          "Impostors win!<br>(Crewmates being<br>outnumbered or tied<br>to impostors))",
          "Impostors win!<br>(Crewmates being<br>outnumbered or tied<br>to impostors))",
          "Impostors win!<br>(Crewmates being<br>outnumbered or tied<br>to impostors))",
          "Crewmates win!<br>(Impostors<br>eliminated)",
          "Impostors win!<br>(Crewmates being<br>outnumbered or tied<br>to impostors))",
          "Impostors win!<br>(Crewmates being<br>outnumbered or tied<br>to impostors))",
          "Impostors win!<br>(Crewmates being<br>outnumbered or tied<br>to impostors))",
          "Impostors win!<br>(Crewmates being<br>outnumbered or tied<br>to impostors))",
          "Impostors win!<br>(Crewmates being<br>outnumbered or tied<br>to impostors))",
          "Crewmates win! (All<br>task completed)",
          "Impostors win!<br>(Crewmates being<br>outnumbered or tied<br>to impostors))",
          "Crewmates win! (All<br>task completed)",
          "Impostors win!<br>(Crewmates being<br>outnumbered or tied<br>to impostors))",
          "Crewmates win! (All<br>task completed)",
          "Impostors win!<br>(Crewmates being<br>outnumbered or tied<br>to impostors))",
          "Crewmates win! (All<br>task completed)",
          "Crewmates win! (All<br>task completed)",
          "Crewmates win!<br>(Impostors<br>eliminated)",
          "Impostors win!<br>(Crewmates being<br>outnumbered or tied<br>to impostors))",
          "Impostors win!<br>(Crewmates being<br>outnumbered or tied<br>to impostors))",
          "Crewmates win!<br>(Impostors<br>eliminated)",
          "Crewmates win! (All<br>task completed)",
          "Impostors win!<br>(Crewmates being<br>outnumbered or tied<br>to impostors))",
          "Impostors win!<br>(Crewmates being<br>outnumbered or tied<br>to impostors))",
          "Impostors win!<br>(Crewmates being<br>outnumbered or tied<br>to impostors))",
          "Crewmates win! (All<br>task completed)",
          "Impostors win!<br>(Crewmates being<br>outnumbered or tied<br>to impostors))",
          "Crewmates win!<br>(Impostors<br>eliminated)",
          "Crewmates win!<br>(Impostors<br>eliminated)",
          "Impostors win!<br>(Crewmates being<br>outnumbered or tied<br>to impostors))",
          "Impostors win!<br>(Crewmates being<br>outnumbered or tied<br>to impostors))",
          "Impostors win!<br>(Crewmates being<br>outnumbered or tied<br>to impostors))",
          "Crewmates win! (All<br>task completed)",
          "Crewmates win! (All<br>task completed)",
          "Crewmates win!<br>(Impostors<br>eliminated)",
          "Impostors win!<br>(Crewmates being<br>outnumbered or tied<br>to impostors))",
          "Impostors win!<br>(Crewmates being<br>outnumbered or tied<br>to impostors))",
          "Crewmates win!<br>(Impostors<br>eliminated)",
          "Crewmates win! (All<br>task completed)",
          "Crewmates win! (All<br>task completed)",
          "Impostors win!<br>(Crewmates being<br>outnumbered or tied<br>to impostors))",
          "Impostors win!<br>(Crewmates being<br>outnumbered or tied<br>to impostors))",
          "Impostors win!<br>(Crewmates being<br>outnumbered or tied<br>to impostors))",
          "Impostors win!<br>(Crewmates being<br>outnumbered or tied<br>to impostors))",
          "Crewmates win!<br>(Impostors<br>eliminated)",
          "Crewmates win!<br>(Impostors<br>eliminated)",
          "Crewmates win!<br>(Impostors<br>eliminated)",
          "Crewmates win!<br>(Impostors<br>eliminated)",
          "Impostors win!<br>(Crewmates being<br>outnumbered or tied<br>to impostors))",
          "Crewmates win! (All<br>task completed)",
          "Crewmates win!<br>(Impostors<br>eliminated)",
          "Impostors win!<br>(Crewmates being<br>outnumbered or tied<br>to impostors))",
          "Impostors win!<br>(Crewmates being<br>outnumbered or tied<br>to impostors))",
          "Impostors win!<br>(Crewmates being<br>outnumbered or tied<br>to impostors))",
          "Crewmates win!<br>(Impostors<br>eliminated)",
          "Crewmates win!<br>(Impostors<br>eliminated)",
          "Crewmates win!<br>(Impostors<br>eliminated)",
          "Impostors win!<br>(Crewmates being<br>outnumbered or tied<br>to impostors))",
          "Crewmates win!<br>(Impostors<br>eliminated)",
          "Crewmates win! (All<br>task completed)",
          "Crewmates win!<br>(Impostors<br>eliminated)",
          "Crewmates win! (All<br>task completed)",
          "Crewmates win!<br>(Impostors<br>eliminated)",
          "Crewmates win! (All<br>task completed)",
          "Crewmates win! (All<br>task completed)",
          "Crewmates win!<br>(Impostors<br>eliminated)",
          "Crewmates win! (All<br>task completed)",
          "Impostors win!<br>(Crewmates being<br>outnumbered or tied<br>to impostors))",
          "Crewmates win!<br>(Impostors<br>eliminated)",
          "Crewmates win!<br>(Impostors<br>eliminated)",
          "Impostors win!<br>(Crewmates being<br>outnumbered or tied<br>to impostors))",
          "Impostors win!<br>(Crewmates being<br>outnumbered or tied<br>to impostors))",
          "Crewmates win!<br>(Impostors<br>eliminated)",
          "Crewmates win!<br>(Impostors<br>eliminated)",
          "Crewmates win!<br>(Impostors<br>eliminated)",
          "Crewmates win! (All<br>task completed)",
          "Crewmates win!<br>(Impostors<br>eliminated)",
          "Impostors win!<br>(Crewmates being<br>outnumbered or tied<br>to impostors))",
          "Impostors win!<br>(Crewmates being<br>outnumbered or tied<br>to impostors))",
          "Impostors win!<br>(Crewmates being<br>outnumbered or tied<br>to impostors))",
          "Crewmates win! (All<br>task completed)",
          "Crewmates win! (All<br>task completed)",
          "Impostors win!<br>(Crewmates being<br>outnumbered or tied<br>to impostors))",
          "Crewmates win!<br>(Impostors<br>eliminated)",
          "Crewmates win! (All<br>task completed)",
          "Crewmates win!<br>(Impostors<br>eliminated)"
         ],
         "xaxis": "x",
         "yaxis": "y"
        },
        {
         "alignmentgroup": "True",
         "bingroup": "x",
         "hovertemplate": "Models=Crew: Llama, Imp: Phi<br>Winner Reason=%{x}<br>count=%{y}<extra></extra>",
         "legendgroup": "Crew: Llama, Imp: Phi",
         "marker": {
          "color": "#EF553B",
          "pattern": {
           "shape": ""
          }
         },
         "name": "Crew: Llama, Imp: Phi",
         "offsetgroup": "Crew: Llama, Imp: Phi",
         "orientation": "v",
         "showlegend": true,
         "type": "histogram",
         "x": [
          "Impostors win!<br>(Crewmates being<br>outnumbered or tied<br>to impostors))",
          "Impostors win!<br>(Crewmates being<br>outnumbered or tied<br>to impostors))",
          "Impostors win!<br>(Crewmates being<br>outnumbered or tied<br>to impostors))",
          "Impostors win!<br>(Crewmates being<br>outnumbered or tied<br>to impostors))",
          "Impostors win!<br>(Crewmates being<br>outnumbered or tied<br>to impostors))",
          "Crewmates win! (All<br>task completed)",
          "Impostors win!<br>(Crewmates being<br>outnumbered or tied<br>to impostors))",
          "Crewmates win!<br>(Impostors<br>eliminated)",
          "Impostors win!<br>(Crewmates being<br>outnumbered or tied<br>to impostors))",
          "Crewmates win! (All<br>task completed)",
          "Impostors win!<br>(Crewmates being<br>outnumbered or tied<br>to impostors))",
          "Crewmates win!<br>(Impostors<br>eliminated)",
          "Crewmates win! (All<br>task completed)",
          "Crewmates win!<br>(Impostors<br>eliminated)",
          "Crewmates win!<br>(Impostors<br>eliminated)",
          "Crewmates win! (All<br>task completed)",
          "Crewmates win!<br>(Impostors<br>eliminated)",
          "Crewmates win!<br>(Impostors<br>eliminated)",
          "Impostors win!<br>(Crewmates being<br>outnumbered or tied<br>to impostors))",
          "Crewmates win!<br>(Impostors<br>eliminated)",
          "Impostors win!<br>(Crewmates being<br>outnumbered or tied<br>to impostors))",
          "Impostors win!<br>(Crewmates being<br>outnumbered or tied<br>to impostors))",
          "Crewmates win!<br>(Impostors<br>eliminated)",
          "Crewmates win! (All<br>task completed)",
          "Crewmates win! (All<br>task completed)",
          "Impostors win!<br>(Crewmates being<br>outnumbered or tied<br>to impostors))",
          "Crewmates win!<br>(Impostors<br>eliminated)",
          "Crewmates win!<br>(Impostors<br>eliminated)",
          "Crewmates win! (All<br>task completed)",
          "Crewmates win!<br>(Impostors<br>eliminated)",
          "Crewmates win!<br>(Impostors<br>eliminated)",
          "Crewmates win! (All<br>task completed)",
          "Impostors win!<br>(Crewmates being<br>outnumbered or tied<br>to impostors))",
          "Impostors win!<br>(Crewmates being<br>outnumbered or tied<br>to impostors))",
          "Crewmates win!<br>(Impostors<br>eliminated)",
          "Crewmates win!<br>(Impostors<br>eliminated)",
          "Crewmates win! (All<br>task completed)",
          "Crewmates win!<br>(Impostors<br>eliminated)",
          "Crewmates win! (All<br>task completed)",
          "Impostors win!<br>(Crewmates being<br>outnumbered or tied<br>to impostors))",
          "Crewmates win!<br>(Impostors<br>eliminated)",
          "Crewmates win!<br>(Impostors<br>eliminated)",
          "Crewmates win! (All<br>task completed)",
          "Crewmates win!<br>(Impostors<br>eliminated)",
          "Crewmates win!<br>(Impostors<br>eliminated)",
          "Impostors win!<br>(Crewmates being<br>outnumbered or tied<br>to impostors))",
          "Impostors win!<br>(Crewmates being<br>outnumbered or tied<br>to impostors))",
          "Crewmates win!<br>(Impostors<br>eliminated)",
          "Crewmates win!<br>(Impostors<br>eliminated)",
          "Crewmates win! (All<br>task completed)",
          "Crewmates win!<br>(Impostors<br>eliminated)",
          "Crewmates win!<br>(Impostors<br>eliminated)",
          "Crewmates win! (All<br>task completed)",
          "Crewmates win! (All<br>task completed)",
          "Crewmates win!<br>(Impostors<br>eliminated)",
          "Crewmates win!<br>(Impostors<br>eliminated)",
          "Crewmates win!<br>(Impostors<br>eliminated)",
          "Crewmates win!<br>(Impostors<br>eliminated)",
          "Crewmates win! (All<br>task completed)",
          "Crewmates win! (All<br>task completed)",
          "Crewmates win!<br>(Impostors<br>eliminated)",
          "Crewmates win! (All<br>task completed)",
          "Crewmates win!<br>(Impostors<br>eliminated)",
          "Crewmates win!<br>(Impostors<br>eliminated)",
          "Crewmates win! (All<br>task completed)",
          "Impostors win!<br>(Crewmates being<br>outnumbered or tied<br>to impostors))",
          "Crewmates win!<br>(Impostors<br>eliminated)",
          "Crewmates win!<br>(Impostors<br>eliminated)",
          "Crewmates win!<br>(Impostors<br>eliminated)",
          "Crewmates win! (All<br>task completed)",
          "Crewmates win!<br>(Impostors<br>eliminated)",
          "Crewmates win! (All<br>task completed)",
          "Crewmates win!<br>(Impostors<br>eliminated)",
          "Crewmates win!<br>(Impostors<br>eliminated)",
          "Crewmates win! (All<br>task completed)",
          "Crewmates win! (All<br>task completed)",
          "Crewmates win!<br>(Impostors<br>eliminated)",
          "Crewmates win!<br>(Impostors<br>eliminated)",
          "Crewmates win!<br>(Impostors<br>eliminated)",
          "Crewmates win!<br>(Impostors<br>eliminated)",
          "Crewmates win! (All<br>task completed)",
          "Crewmates win! (All<br>task completed)",
          "Crewmates win!<br>(Impostors<br>eliminated)",
          "Crewmates win!<br>(Impostors<br>eliminated)",
          "Impostors win!<br>(Crewmates being<br>outnumbered or tied<br>to impostors))",
          "Crewmates win! (All<br>task completed)",
          "Crewmates win!<br>(Impostors<br>eliminated)",
          "Crewmates win!<br>(Impostors<br>eliminated)",
          "Impostors win!<br>(Crewmates being<br>outnumbered or tied<br>to impostors))",
          "Impostors win!<br>(Crewmates being<br>outnumbered or tied<br>to impostors))",
          "Crewmates win!<br>(Impostors<br>eliminated)",
          "Crewmates win!<br>(Impostors<br>eliminated)",
          "Crewmates win! (All<br>task completed)",
          "Crewmates win!<br>(Impostors<br>eliminated)",
          "Crewmates win! (All<br>task completed)",
          "Crewmates win!<br>(Impostors<br>eliminated)",
          "Impostors win!<br>(Crewmates being<br>outnumbered or tied<br>to impostors))",
          "Impostors win!<br>(Crewmates being<br>outnumbered or tied<br>to impostors))",
          "Crewmates win!<br>(Impostors<br>eliminated)",
          "Crewmates win! (All<br>task completed)"
         ],
         "xaxis": "x",
         "yaxis": "y"
        },
        {
         "alignmentgroup": "True",
         "bingroup": "x",
         "hovertemplate": "Models=Crew: Phi, Imp: Phi<br>Winner Reason=%{x}<br>count=%{y}<extra></extra>",
         "legendgroup": "Crew: Phi, Imp: Phi",
         "marker": {
          "color": "#00cc96",
          "pattern": {
           "shape": ""
          }
         },
         "name": "Crew: Phi, Imp: Phi",
         "offsetgroup": "Crew: Phi, Imp: Phi",
         "orientation": "v",
         "showlegend": true,
         "type": "histogram",
         "x": [
          "Impostors win!<br>(Crewmates being<br>outnumbered or tied<br>to impostors))",
          "Impostors win!<br>(Crewmates being<br>outnumbered or tied<br>to impostors))",
          "Impostors win!<br>(Crewmates being<br>outnumbered or tied<br>to impostors))",
          "Impostors win!<br>(Crewmates being<br>outnumbered or tied<br>to impostors))",
          "Impostors win!<br>(Crewmates being<br>outnumbered or tied<br>to impostors))",
          "Impostors win!<br>(Crewmates being<br>outnumbered or tied<br>to impostors))",
          "Impostors win!<br>(Crewmates being<br>outnumbered or tied<br>to impostors))",
          "Impostors win!<br>(Crewmates being<br>outnumbered or tied<br>to impostors))",
          "Impostors win!<br>(Crewmates being<br>outnumbered or tied<br>to impostors))",
          "Impostors win!<br>(Crewmates being<br>outnumbered or tied<br>to impostors))",
          "Crewmates win! (All<br>task completed)",
          "Crewmates win!<br>(Impostors<br>eliminated)",
          "Crewmates win!<br>(Impostors<br>eliminated)",
          "Impostors win!<br>(Crewmates being<br>outnumbered or tied<br>to impostors))",
          "Impostors win!<br>(Crewmates being<br>outnumbered or tied<br>to impostors))",
          "Crewmates win!<br>(Impostors<br>eliminated)",
          "Impostors win!<br>(Crewmates being<br>outnumbered or tied<br>to impostors))",
          "Crewmates win!<br>(Impostors<br>eliminated)",
          "Crewmates win!<br>(Impostors<br>eliminated)",
          "Crewmates win!<br>(Impostors<br>eliminated)",
          "Impostors win!<br>(Crewmates being<br>outnumbered or tied<br>to impostors))",
          "Crewmates win!<br>(Impostors<br>eliminated)",
          "Impostors win!<br>(Crewmates being<br>outnumbered or tied<br>to impostors))",
          "Impostors win!<br>(Crewmates being<br>outnumbered or tied<br>to impostors))",
          "Crewmates win! (All<br>task completed)",
          "Crewmates win!<br>(Impostors<br>eliminated)",
          "Impostors win!<br>(Crewmates being<br>outnumbered or tied<br>to impostors))",
          "Crewmates win!<br>(Impostors<br>eliminated)",
          "Crewmates win! (All<br>task completed)",
          "Crewmates win!<br>(Impostors<br>eliminated)",
          "Impostors win!<br>(Crewmates being<br>outnumbered or tied<br>to impostors))",
          "Crewmates win! (All<br>task completed)",
          "Crewmates win!<br>(Impostors<br>eliminated)",
          "Crewmates win!<br>(Impostors<br>eliminated)",
          "Impostors win!<br>(Crewmates being<br>outnumbered or tied<br>to impostors))",
          "Crewmates win!<br>(Impostors<br>eliminated)",
          "Crewmates win!<br>(Impostors<br>eliminated)",
          "Impostors win!<br>(Crewmates being<br>outnumbered or tied<br>to impostors))",
          "Impostors win!<br>(Crewmates being<br>outnumbered or tied<br>to impostors))",
          "Impostors win!<br>(Crewmates being<br>outnumbered or tied<br>to impostors))",
          "Crewmates win!<br>(Impostors<br>eliminated)",
          "Crewmates win!<br>(Impostors<br>eliminated)",
          "Crewmates win! (All<br>task completed)",
          "Crewmates win!<br>(Impostors<br>eliminated)",
          "Crewmates win!<br>(Impostors<br>eliminated)",
          "Crewmates win!<br>(Impostors<br>eliminated)",
          "Crewmates win!<br>(Impostors<br>eliminated)",
          "Impostors win!<br>(Crewmates being<br>outnumbered or tied<br>to impostors))",
          "Impostors win!<br>(Crewmates being<br>outnumbered or tied<br>to impostors))",
          "Impostors win!<br>(Crewmates being<br>outnumbered or tied<br>to impostors))",
          "Crewmates win!<br>(Impostors<br>eliminated)",
          "Impostors win!<br>(Crewmates being<br>outnumbered or tied<br>to impostors))",
          "Impostors win!<br>(Crewmates being<br>outnumbered or tied<br>to impostors))",
          "Crewmates win!<br>(Impostors<br>eliminated)",
          "Crewmates win!<br>(Impostors<br>eliminated)",
          "Crewmates win!<br>(Impostors<br>eliminated)",
          "Impostors win!<br>(Crewmates being<br>outnumbered or tied<br>to impostors))",
          "Impostors win!<br>(Crewmates being<br>outnumbered or tied<br>to impostors))",
          "Crewmates win!<br>(Impostors<br>eliminated)",
          "Crewmates win!<br>(Impostors<br>eliminated)",
          "Impostors win!<br>(Crewmates being<br>outnumbered or tied<br>to impostors))",
          "Crewmates win!<br>(Impostors<br>eliminated)",
          "Crewmates win!<br>(Impostors<br>eliminated)",
          "Impostors win!<br>(Crewmates being<br>outnumbered or tied<br>to impostors))",
          "Crewmates win!<br>(Impostors<br>eliminated)",
          "Crewmates win!<br>(Impostors<br>eliminated)",
          "Impostors win!<br>(Crewmates being<br>outnumbered or tied<br>to impostors))",
          "Crewmates win! (All<br>task completed)",
          "Crewmates win!<br>(Impostors<br>eliminated)",
          "Crewmates win!<br>(Impostors<br>eliminated)",
          "Impostors win!<br>(Crewmates being<br>outnumbered or tied<br>to impostors))",
          "Crewmates win!<br>(Impostors<br>eliminated)",
          "Crewmates win!<br>(Impostors<br>eliminated)",
          "Crewmates win! (All<br>task completed)",
          "Crewmates win!<br>(Impostors<br>eliminated)",
          "Crewmates win!<br>(Impostors<br>eliminated)",
          "Crewmates win! (All<br>task completed)",
          "Impostors win!<br>(Crewmates being<br>outnumbered or tied<br>to impostors))",
          "Impostors win!<br>(Crewmates being<br>outnumbered or tied<br>to impostors))",
          "Crewmates win!<br>(Impostors<br>eliminated)",
          "Impostors win!<br>(Crewmates being<br>outnumbered or tied<br>to impostors))",
          "Impostors win!<br>(Crewmates being<br>outnumbered or tied<br>to impostors))",
          "Crewmates win! (All<br>task completed)",
          "Crewmates win!<br>(Impostors<br>eliminated)",
          "Impostors win!<br>(Crewmates being<br>outnumbered or tied<br>to impostors))",
          "Crewmates win!<br>(Impostors<br>eliminated)",
          "Crewmates win! (All<br>task completed)",
          "Crewmates win! (All<br>task completed)",
          "Crewmates win! (All<br>task completed)",
          "Impostors win!<br>(Crewmates being<br>outnumbered or tied<br>to impostors))",
          "Impostors win!<br>(Crewmates being<br>outnumbered or tied<br>to impostors))",
          "Impostors win!<br>(Crewmates being<br>outnumbered or tied<br>to impostors))",
          "Crewmates win!<br>(Impostors<br>eliminated)",
          "Crewmates win!<br>(Impostors<br>eliminated)",
          "Crewmates win! (All<br>task completed)",
          "Crewmates win! (All<br>task completed)",
          "Impostors win!<br>(Crewmates being<br>outnumbered or tied<br>to impostors))",
          "Crewmates win!<br>(Impostors<br>eliminated)",
          "Crewmates win!<br>(Impostors<br>eliminated)",
          "Impostors win! (Time<br>limit reached)"
         ],
         "xaxis": "x",
         "yaxis": "y"
        },
        {
         "alignmentgroup": "True",
         "bingroup": "x",
         "hovertemplate": "Models=Crew: Llama, Imp: Llama<br>Winner Reason=%{x}<br>count=%{y}<extra></extra>",
         "legendgroup": "Crew: Llama, Imp: Llama",
         "marker": {
          "color": "#ab63fa",
          "pattern": {
           "shape": ""
          }
         },
         "name": "Crew: Llama, Imp: Llama",
         "offsetgroup": "Crew: Llama, Imp: Llama",
         "orientation": "v",
         "showlegend": true,
         "type": "histogram",
         "x": [
          "Impostors win!<br>(Crewmates being<br>outnumbered or tied<br>to impostors))",
          "Impostors win!<br>(Crewmates being<br>outnumbered or tied<br>to impostors))",
          "Impostors win!<br>(Crewmates being<br>outnumbered or tied<br>to impostors))",
          "Impostors win!<br>(Crewmates being<br>outnumbered or tied<br>to impostors))",
          "Impostors win!<br>(Crewmates being<br>outnumbered or tied<br>to impostors))",
          "Crewmates win! (All<br>task completed)",
          "Crewmates win! (All<br>task completed)",
          "Impostors win!<br>(Crewmates being<br>outnumbered or tied<br>to impostors))",
          "Crewmates win! (All<br>task completed)",
          "Crewmates win! (All<br>task completed)",
          "Crewmates win! (All<br>task completed)",
          "Crewmates win! (All<br>task completed)",
          "Impostors win!<br>(Crewmates being<br>outnumbered or tied<br>to impostors))",
          "Impostors win!<br>(Crewmates being<br>outnumbered or tied<br>to impostors))",
          "Crewmates win! (All<br>task completed)",
          "Crewmates win! (All<br>task completed)",
          "Crewmates win! (All<br>task completed)",
          "Impostors win!<br>(Crewmates being<br>outnumbered or tied<br>to impostors))",
          "Impostors win!<br>(Crewmates being<br>outnumbered or tied<br>to impostors))",
          "Crewmates win! (All<br>task completed)",
          "Crewmates win! (All<br>task completed)",
          "Impostors win!<br>(Crewmates being<br>outnumbered or tied<br>to impostors))",
          "Impostors win!<br>(Crewmates being<br>outnumbered or tied<br>to impostors))",
          "Impostors win!<br>(Crewmates being<br>outnumbered or tied<br>to impostors))",
          "Crewmates win! (All<br>task completed)",
          "Impostors win!<br>(Crewmates being<br>outnumbered or tied<br>to impostors))",
          "Crewmates win! (All<br>task completed)",
          "Crewmates win! (All<br>task completed)",
          "Impostors win!<br>(Crewmates being<br>outnumbered or tied<br>to impostors))",
          "Crewmates win!<br>(Impostors<br>eliminated)",
          "Impostors win!<br>(Crewmates being<br>outnumbered or tied<br>to impostors))",
          "Crewmates win! (All<br>task completed)",
          "Impostors win!<br>(Crewmates being<br>outnumbered or tied<br>to impostors))",
          "Impostors win!<br>(Crewmates being<br>outnumbered or tied<br>to impostors))",
          "Impostors win!<br>(Crewmates being<br>outnumbered or tied<br>to impostors))",
          "Impostors win!<br>(Crewmates being<br>outnumbered or tied<br>to impostors))",
          "Impostors win!<br>(Crewmates being<br>outnumbered or tied<br>to impostors))",
          "Impostors win!<br>(Crewmates being<br>outnumbered or tied<br>to impostors))",
          "Impostors win!<br>(Crewmates being<br>outnumbered or tied<br>to impostors))",
          "Impostors win!<br>(Crewmates being<br>outnumbered or tied<br>to impostors))",
          "Crewmates win! (All<br>task completed)",
          "Impostors win!<br>(Crewmates being<br>outnumbered or tied<br>to impostors))",
          "Impostors win!<br>(Crewmates being<br>outnumbered or tied<br>to impostors))",
          "Crewmates win! (All<br>task completed)",
          "Crewmates win! (All<br>task completed)",
          "Impostors win!<br>(Crewmates being<br>outnumbered or tied<br>to impostors))",
          "Impostors win!<br>(Crewmates being<br>outnumbered or tied<br>to impostors))",
          "Impostors win!<br>(Crewmates being<br>outnumbered or tied<br>to impostors))",
          "Impostors win!<br>(Crewmates being<br>outnumbered or tied<br>to impostors))",
          "Crewmates win! (All<br>task completed)",
          "Crewmates win! (All<br>task completed)",
          "Crewmates win!<br>(Impostors<br>eliminated)",
          "Impostors win!<br>(Crewmates being<br>outnumbered or tied<br>to impostors))",
          "Impostors win!<br>(Crewmates being<br>outnumbered or tied<br>to impostors))",
          "Crewmates win!<br>(Impostors<br>eliminated)",
          "Impostors win!<br>(Crewmates being<br>outnumbered or tied<br>to impostors))",
          "Crewmates win! (All<br>task completed)",
          "Crewmates win! (All<br>task completed)",
          "Crewmates win!<br>(Impostors<br>eliminated)",
          "Crewmates win!<br>(Impostors<br>eliminated)",
          "Crewmates win! (All<br>task completed)",
          "Impostors win!<br>(Crewmates being<br>outnumbered or tied<br>to impostors))",
          "Crewmates win! (All<br>task completed)",
          "Crewmates win!<br>(Impostors<br>eliminated)",
          "Crewmates win!<br>(Impostors<br>eliminated)",
          "Crewmates win!<br>(Impostors<br>eliminated)",
          "Crewmates win!<br>(Impostors<br>eliminated)",
          "Crewmates win! (All<br>task completed)",
          "Impostors win!<br>(Crewmates being<br>outnumbered or tied<br>to impostors))",
          "Impostors win!<br>(Crewmates being<br>outnumbered or tied<br>to impostors))",
          "Crewmates win!<br>(Impostors<br>eliminated)",
          "Impostors win!<br>(Crewmates being<br>outnumbered or tied<br>to impostors))",
          "Crewmates win! (All<br>task completed)",
          "Crewmates win!<br>(Impostors<br>eliminated)",
          "Crewmates win! (All<br>task completed)",
          "Crewmates win!<br>(Impostors<br>eliminated)",
          "Crewmates win! (All<br>task completed)",
          "Crewmates win!<br>(Impostors<br>eliminated)",
          "Crewmates win! (All<br>task completed)",
          "Impostors win!<br>(Crewmates being<br>outnumbered or tied<br>to impostors))",
          "Impostors win!<br>(Crewmates being<br>outnumbered or tied<br>to impostors))",
          "Crewmates win!<br>(Impostors<br>eliminated)",
          "Crewmates win!<br>(Impostors<br>eliminated)",
          "Impostors win!<br>(Crewmates being<br>outnumbered or tied<br>to impostors))",
          "Crewmates win! (All<br>task completed)",
          "Crewmates win!<br>(Impostors<br>eliminated)",
          "Impostors win!<br>(Crewmates being<br>outnumbered or tied<br>to impostors))",
          "Crewmates win!<br>(Impostors<br>eliminated)",
          "Crewmates win!<br>(Impostors<br>eliminated)",
          "Crewmates win! (All<br>task completed)",
          "Crewmates win! (All<br>task completed)",
          "Impostors win!<br>(Crewmates being<br>outnumbered or tied<br>to impostors))",
          "Crewmates win! (All<br>task completed)",
          "Crewmates win!<br>(Impostors<br>eliminated)",
          "Impostors win!<br>(Crewmates being<br>outnumbered or tied<br>to impostors))",
          "Impostors win!<br>(Crewmates being<br>outnumbered or tied<br>to impostors))",
          "Impostors win!<br>(Crewmates being<br>outnumbered or tied<br>to impostors))",
          "Impostors win!<br>(Crewmates being<br>outnumbered or tied<br>to impostors))",
          "Crewmates win!<br>(Impostors<br>eliminated)",
          "Crewmates win! (All<br>task completed)"
         ],
         "xaxis": "x",
         "yaxis": "y"
        }
       ],
       "layout": {
        "autosize": false,
        "barmode": "group",
        "font": {
         "color": "black",
         "family": "serif",
         "size": 15
        },
        "height": 500,
        "legend": {
         "bgcolor": "white",
         "bordercolor": "black",
         "borderwidth": 1,
         "orientation": "v",
         "title": {
          "text": "Models"
         },
         "tracegroupgap": 0,
         "traceorder": "normal",
         "x": 0.85,
         "xanchor": "right",
         "y": 1,
         "yanchor": "top"
        },
        "margin": {
         "t": 60
        },
        "plot_bgcolor": "rgba(255, 255, 255, 1)",
        "showlegend": true,
        "template": {
         "data": {
          "bar": [
           {
            "error_x": {
             "color": "#2a3f5f"
            },
            "error_y": {
             "color": "#2a3f5f"
            },
            "marker": {
             "line": {
              "color": "#E5ECF6",
              "width": 0.5
             },
             "pattern": {
              "fillmode": "overlay",
              "size": 10,
              "solidity": 0.2
             }
            },
            "type": "bar"
           }
          ],
          "barpolar": [
           {
            "marker": {
             "line": {
              "color": "#E5ECF6",
              "width": 0.5
             },
             "pattern": {
              "fillmode": "overlay",
              "size": 10,
              "solidity": 0.2
             }
            },
            "type": "barpolar"
           }
          ],
          "carpet": [
           {
            "aaxis": {
             "endlinecolor": "#2a3f5f",
             "gridcolor": "white",
             "linecolor": "white",
             "minorgridcolor": "white",
             "startlinecolor": "#2a3f5f"
            },
            "baxis": {
             "endlinecolor": "#2a3f5f",
             "gridcolor": "white",
             "linecolor": "white",
             "minorgridcolor": "white",
             "startlinecolor": "#2a3f5f"
            },
            "type": "carpet"
           }
          ],
          "choropleth": [
           {
            "colorbar": {
             "outlinewidth": 0,
             "ticks": ""
            },
            "type": "choropleth"
           }
          ],
          "contour": [
           {
            "colorbar": {
             "outlinewidth": 0,
             "ticks": ""
            },
            "colorscale": [
             [
              0,
              "#0d0887"
             ],
             [
              0.1111111111111111,
              "#46039f"
             ],
             [
              0.2222222222222222,
              "#7201a8"
             ],
             [
              0.3333333333333333,
              "#9c179e"
             ],
             [
              0.4444444444444444,
              "#bd3786"
             ],
             [
              0.5555555555555556,
              "#d8576b"
             ],
             [
              0.6666666666666666,
              "#ed7953"
             ],
             [
              0.7777777777777778,
              "#fb9f3a"
             ],
             [
              0.8888888888888888,
              "#fdca26"
             ],
             [
              1,
              "#f0f921"
             ]
            ],
            "type": "contour"
           }
          ],
          "contourcarpet": [
           {
            "colorbar": {
             "outlinewidth": 0,
             "ticks": ""
            },
            "type": "contourcarpet"
           }
          ],
          "heatmap": [
           {
            "colorbar": {
             "outlinewidth": 0,
             "ticks": ""
            },
            "colorscale": [
             [
              0,
              "#0d0887"
             ],
             [
              0.1111111111111111,
              "#46039f"
             ],
             [
              0.2222222222222222,
              "#7201a8"
             ],
             [
              0.3333333333333333,
              "#9c179e"
             ],
             [
              0.4444444444444444,
              "#bd3786"
             ],
             [
              0.5555555555555556,
              "#d8576b"
             ],
             [
              0.6666666666666666,
              "#ed7953"
             ],
             [
              0.7777777777777778,
              "#fb9f3a"
             ],
             [
              0.8888888888888888,
              "#fdca26"
             ],
             [
              1,
              "#f0f921"
             ]
            ],
            "type": "heatmap"
           }
          ],
          "heatmapgl": [
           {
            "colorbar": {
             "outlinewidth": 0,
             "ticks": ""
            },
            "colorscale": [
             [
              0,
              "#0d0887"
             ],
             [
              0.1111111111111111,
              "#46039f"
             ],
             [
              0.2222222222222222,
              "#7201a8"
             ],
             [
              0.3333333333333333,
              "#9c179e"
             ],
             [
              0.4444444444444444,
              "#bd3786"
             ],
             [
              0.5555555555555556,
              "#d8576b"
             ],
             [
              0.6666666666666666,
              "#ed7953"
             ],
             [
              0.7777777777777778,
              "#fb9f3a"
             ],
             [
              0.8888888888888888,
              "#fdca26"
             ],
             [
              1,
              "#f0f921"
             ]
            ],
            "type": "heatmapgl"
           }
          ],
          "histogram": [
           {
            "marker": {
             "pattern": {
              "fillmode": "overlay",
              "size": 10,
              "solidity": 0.2
             }
            },
            "type": "histogram"
           }
          ],
          "histogram2d": [
           {
            "colorbar": {
             "outlinewidth": 0,
             "ticks": ""
            },
            "colorscale": [
             [
              0,
              "#0d0887"
             ],
             [
              0.1111111111111111,
              "#46039f"
             ],
             [
              0.2222222222222222,
              "#7201a8"
             ],
             [
              0.3333333333333333,
              "#9c179e"
             ],
             [
              0.4444444444444444,
              "#bd3786"
             ],
             [
              0.5555555555555556,
              "#d8576b"
             ],
             [
              0.6666666666666666,
              "#ed7953"
             ],
             [
              0.7777777777777778,
              "#fb9f3a"
             ],
             [
              0.8888888888888888,
              "#fdca26"
             ],
             [
              1,
              "#f0f921"
             ]
            ],
            "type": "histogram2d"
           }
          ],
          "histogram2dcontour": [
           {
            "colorbar": {
             "outlinewidth": 0,
             "ticks": ""
            },
            "colorscale": [
             [
              0,
              "#0d0887"
             ],
             [
              0.1111111111111111,
              "#46039f"
             ],
             [
              0.2222222222222222,
              "#7201a8"
             ],
             [
              0.3333333333333333,
              "#9c179e"
             ],
             [
              0.4444444444444444,
              "#bd3786"
             ],
             [
              0.5555555555555556,
              "#d8576b"
             ],
             [
              0.6666666666666666,
              "#ed7953"
             ],
             [
              0.7777777777777778,
              "#fb9f3a"
             ],
             [
              0.8888888888888888,
              "#fdca26"
             ],
             [
              1,
              "#f0f921"
             ]
            ],
            "type": "histogram2dcontour"
           }
          ],
          "mesh3d": [
           {
            "colorbar": {
             "outlinewidth": 0,
             "ticks": ""
            },
            "type": "mesh3d"
           }
          ],
          "parcoords": [
           {
            "line": {
             "colorbar": {
              "outlinewidth": 0,
              "ticks": ""
             }
            },
            "type": "parcoords"
           }
          ],
          "pie": [
           {
            "automargin": true,
            "type": "pie"
           }
          ],
          "scatter": [
           {
            "fillpattern": {
             "fillmode": "overlay",
             "size": 10,
             "solidity": 0.2
            },
            "type": "scatter"
           }
          ],
          "scatter3d": [
           {
            "line": {
             "colorbar": {
              "outlinewidth": 0,
              "ticks": ""
             }
            },
            "marker": {
             "colorbar": {
              "outlinewidth": 0,
              "ticks": ""
             }
            },
            "type": "scatter3d"
           }
          ],
          "scattercarpet": [
           {
            "marker": {
             "colorbar": {
              "outlinewidth": 0,
              "ticks": ""
             }
            },
            "type": "scattercarpet"
           }
          ],
          "scattergeo": [
           {
            "marker": {
             "colorbar": {
              "outlinewidth": 0,
              "ticks": ""
             }
            },
            "type": "scattergeo"
           }
          ],
          "scattergl": [
           {
            "marker": {
             "colorbar": {
              "outlinewidth": 0,
              "ticks": ""
             }
            },
            "type": "scattergl"
           }
          ],
          "scattermapbox": [
           {
            "marker": {
             "colorbar": {
              "outlinewidth": 0,
              "ticks": ""
             }
            },
            "type": "scattermapbox"
           }
          ],
          "scatterpolar": [
           {
            "marker": {
             "colorbar": {
              "outlinewidth": 0,
              "ticks": ""
             }
            },
            "type": "scatterpolar"
           }
          ],
          "scatterpolargl": [
           {
            "marker": {
             "colorbar": {
              "outlinewidth": 0,
              "ticks": ""
             }
            },
            "type": "scatterpolargl"
           }
          ],
          "scatterternary": [
           {
            "marker": {
             "colorbar": {
              "outlinewidth": 0,
              "ticks": ""
             }
            },
            "type": "scatterternary"
           }
          ],
          "surface": [
           {
            "colorbar": {
             "outlinewidth": 0,
             "ticks": ""
            },
            "colorscale": [
             [
              0,
              "#0d0887"
             ],
             [
              0.1111111111111111,
              "#46039f"
             ],
             [
              0.2222222222222222,
              "#7201a8"
             ],
             [
              0.3333333333333333,
              "#9c179e"
             ],
             [
              0.4444444444444444,
              "#bd3786"
             ],
             [
              0.5555555555555556,
              "#d8576b"
             ],
             [
              0.6666666666666666,
              "#ed7953"
             ],
             [
              0.7777777777777778,
              "#fb9f3a"
             ],
             [
              0.8888888888888888,
              "#fdca26"
             ],
             [
              1,
              "#f0f921"
             ]
            ],
            "type": "surface"
           }
          ],
          "table": [
           {
            "cells": {
             "fill": {
              "color": "#EBF0F8"
             },
             "line": {
              "color": "white"
             }
            },
            "header": {
             "fill": {
              "color": "#C8D4E3"
             },
             "line": {
              "color": "white"
             }
            },
            "type": "table"
           }
          ]
         },
         "layout": {
          "annotationdefaults": {
           "arrowcolor": "#2a3f5f",
           "arrowhead": 0,
           "arrowwidth": 1
          },
          "autotypenumbers": "strict",
          "coloraxis": {
           "colorbar": {
            "outlinewidth": 0,
            "ticks": ""
           }
          },
          "colorscale": {
           "diverging": [
            [
             0,
             "#8e0152"
            ],
            [
             0.1,
             "#c51b7d"
            ],
            [
             0.2,
             "#de77ae"
            ],
            [
             0.3,
             "#f1b6da"
            ],
            [
             0.4,
             "#fde0ef"
            ],
            [
             0.5,
             "#f7f7f7"
            ],
            [
             0.6,
             "#e6f5d0"
            ],
            [
             0.7,
             "#b8e186"
            ],
            [
             0.8,
             "#7fbc41"
            ],
            [
             0.9,
             "#4d9221"
            ],
            [
             1,
             "#276419"
            ]
           ],
           "sequential": [
            [
             0,
             "#0d0887"
            ],
            [
             0.1111111111111111,
             "#46039f"
            ],
            [
             0.2222222222222222,
             "#7201a8"
            ],
            [
             0.3333333333333333,
             "#9c179e"
            ],
            [
             0.4444444444444444,
             "#bd3786"
            ],
            [
             0.5555555555555556,
             "#d8576b"
            ],
            [
             0.6666666666666666,
             "#ed7953"
            ],
            [
             0.7777777777777778,
             "#fb9f3a"
            ],
            [
             0.8888888888888888,
             "#fdca26"
            ],
            [
             1,
             "#f0f921"
            ]
           ],
           "sequentialminus": [
            [
             0,
             "#0d0887"
            ],
            [
             0.1111111111111111,
             "#46039f"
            ],
            [
             0.2222222222222222,
             "#7201a8"
            ],
            [
             0.3333333333333333,
             "#9c179e"
            ],
            [
             0.4444444444444444,
             "#bd3786"
            ],
            [
             0.5555555555555556,
             "#d8576b"
            ],
            [
             0.6666666666666666,
             "#ed7953"
            ],
            [
             0.7777777777777778,
             "#fb9f3a"
            ],
            [
             0.8888888888888888,
             "#fdca26"
            ],
            [
             1,
             "#f0f921"
            ]
           ]
          },
          "colorway": [
           "#636efa",
           "#EF553B",
           "#00cc96",
           "#ab63fa",
           "#FFA15A",
           "#19d3f3",
           "#FF6692",
           "#B6E880",
           "#FF97FF",
           "#FECB52"
          ],
          "font": {
           "color": "#2a3f5f"
          },
          "geo": {
           "bgcolor": "white",
           "lakecolor": "white",
           "landcolor": "#E5ECF6",
           "showlakes": true,
           "showland": true,
           "subunitcolor": "white"
          },
          "hoverlabel": {
           "align": "left"
          },
          "hovermode": "closest",
          "mapbox": {
           "style": "light"
          },
          "paper_bgcolor": "white",
          "plot_bgcolor": "#E5ECF6",
          "polar": {
           "angularaxis": {
            "gridcolor": "white",
            "linecolor": "white",
            "ticks": ""
           },
           "bgcolor": "#E5ECF6",
           "radialaxis": {
            "gridcolor": "white",
            "linecolor": "white",
            "ticks": ""
           }
          },
          "scene": {
           "xaxis": {
            "backgroundcolor": "#E5ECF6",
            "gridcolor": "white",
            "gridwidth": 2,
            "linecolor": "white",
            "showbackground": true,
            "ticks": "",
            "zerolinecolor": "white"
           },
           "yaxis": {
            "backgroundcolor": "#E5ECF6",
            "gridcolor": "white",
            "gridwidth": 2,
            "linecolor": "white",
            "showbackground": true,
            "ticks": "",
            "zerolinecolor": "white"
           },
           "zaxis": {
            "backgroundcolor": "#E5ECF6",
            "gridcolor": "white",
            "gridwidth": 2,
            "linecolor": "white",
            "showbackground": true,
            "ticks": "",
            "zerolinecolor": "white"
           }
          },
          "shapedefaults": {
           "line": {
            "color": "#2a3f5f"
           }
          },
          "ternary": {
           "aaxis": {
            "gridcolor": "white",
            "linecolor": "white",
            "ticks": ""
           },
           "baxis": {
            "gridcolor": "white",
            "linecolor": "white",
            "ticks": ""
           },
           "bgcolor": "#E5ECF6",
           "caxis": {
            "gridcolor": "white",
            "linecolor": "white",
            "ticks": ""
           }
          },
          "title": {
           "x": 0.05
          },
          "xaxis": {
           "automargin": true,
           "gridcolor": "white",
           "linecolor": "white",
           "ticks": "",
           "title": {
            "standoff": 15
           },
           "zerolinecolor": "white",
           "zerolinewidth": 2
          },
          "yaxis": {
           "automargin": true,
           "gridcolor": "white",
           "linecolor": "white",
           "ticks": "",
           "title": {
            "standoff": 15
           },
           "zerolinecolor": "white",
           "zerolinewidth": 2
          }
         }
        },
        "width": 750,
        "xaxis": {
         "anchor": "y",
         "domain": [
          0,
          1
         ],
         "linecolor": "black",
         "linewidth": 1,
         "mirror": false,
         "showline": true,
         "tickangle": 0,
         "tickfont": {
          "color": "black",
          "family": "serif",
          "size": 18
         },
         "title": {
          "font": {
           "color": "black",
           "family": "serif",
           "size": 18
          },
          "text": "Winner Reason"
         }
        },
        "yaxis": {
         "anchor": "x",
         "domain": [
          0,
          1
         ],
         "gridcolor": "LightGray",
         "gridwidth": 1,
         "showgrid": true,
         "tickfont": {
          "color": "black",
          "family": "serif",
          "size": 18
         },
         "title": {
          "font": {
           "color": "black",
           "family": "serif",
           "size": 18
          },
          "text": "Count"
         }
        }
       }
      },
      "text/html": [
       "<div>                            <div id=\"9cf13c61-697c-418c-9c58-8781a22242ce\" class=\"plotly-graph-div\" style=\"height:500px; width:750px;\"></div>            <script type=\"text/javascript\">                require([\"plotly\"], function(Plotly) {                    window.PLOTLYENV=window.PLOTLYENV || {};                                    if (document.getElementById(\"9cf13c61-697c-418c-9c58-8781a22242ce\")) {                    Plotly.newPlot(                        \"9cf13c61-697c-418c-9c58-8781a22242ce\",                        [{\"alignmentgroup\":\"True\",\"bingroup\":\"x\",\"hovertemplate\":\"Models=Crew: Phi, Imp: Llama\\u003cbr\\u003eWinner Reason=%{x}\\u003cbr\\u003ecount=%{y}\\u003cextra\\u003e\\u003c\\u002fextra\\u003e\",\"legendgroup\":\"Crew: Phi, Imp: Llama\",\"marker\":{\"color\":\"#636efa\",\"pattern\":{\"shape\":\"\"}},\"name\":\"Crew: Phi, Imp: Llama\",\"offsetgroup\":\"Crew: Phi, Imp: Llama\",\"orientation\":\"v\",\"showlegend\":true,\"x\":[\"Impostors win!\\u003cbr\\u003e(Crewmates being\\u003cbr\\u003eoutnumbered or tied\\u003cbr\\u003eto impostors))\",\"Impostors win!\\u003cbr\\u003e(Crewmates being\\u003cbr\\u003eoutnumbered or tied\\u003cbr\\u003eto impostors))\",\"Impostors win!\\u003cbr\\u003e(Crewmates being\\u003cbr\\u003eoutnumbered or tied\\u003cbr\\u003eto impostors))\",\"Impostors win!\\u003cbr\\u003e(Crewmates being\\u003cbr\\u003eoutnumbered or tied\\u003cbr\\u003eto impostors))\",\"Crewmates win!\\u003cbr\\u003e(Impostors\\u003cbr\\u003eeliminated)\",\"Impostors win!\\u003cbr\\u003e(Crewmates being\\u003cbr\\u003eoutnumbered or tied\\u003cbr\\u003eto impostors))\",\"Crewmates win! (All\\u003cbr\\u003etask completed)\",\"Impostors win!\\u003cbr\\u003e(Crewmates being\\u003cbr\\u003eoutnumbered or tied\\u003cbr\\u003eto impostors))\",\"Impostors win!\\u003cbr\\u003e(Crewmates being\\u003cbr\\u003eoutnumbered or tied\\u003cbr\\u003eto impostors))\",\"Crewmates win! (All\\u003cbr\\u003etask completed)\",\"Crewmates win!\\u003cbr\\u003e(Impostors\\u003cbr\\u003eeliminated)\",\"Crewmates win! (All\\u003cbr\\u003etask completed)\",\"Impostors win!\\u003cbr\\u003e(Crewmates being\\u003cbr\\u003eoutnumbered or tied\\u003cbr\\u003eto impostors))\",\"Impostors win!\\u003cbr\\u003e(Crewmates being\\u003cbr\\u003eoutnumbered or tied\\u003cbr\\u003eto impostors))\",\"Impostors win!\\u003cbr\\u003e(Crewmates being\\u003cbr\\u003eoutnumbered or tied\\u003cbr\\u003eto impostors))\",\"Impostors win!\\u003cbr\\u003e(Crewmates being\\u003cbr\\u003eoutnumbered or tied\\u003cbr\\u003eto impostors))\",\"Impostors win!\\u003cbr\\u003e(Crewmates being\\u003cbr\\u003eoutnumbered or tied\\u003cbr\\u003eto impostors))\",\"Crewmates win!\\u003cbr\\u003e(Impostors\\u003cbr\\u003eeliminated)\",\"Impostors win!\\u003cbr\\u003e(Crewmates being\\u003cbr\\u003eoutnumbered or tied\\u003cbr\\u003eto impostors))\",\"Impostors win!\\u003cbr\\u003e(Crewmates being\\u003cbr\\u003eoutnumbered or tied\\u003cbr\\u003eto impostors))\",\"Impostors win!\\u003cbr\\u003e(Crewmates being\\u003cbr\\u003eoutnumbered or tied\\u003cbr\\u003eto impostors))\",\"Impostors win!\\u003cbr\\u003e(Crewmates being\\u003cbr\\u003eoutnumbered or tied\\u003cbr\\u003eto impostors))\",\"Impostors win!\\u003cbr\\u003e(Crewmates being\\u003cbr\\u003eoutnumbered or tied\\u003cbr\\u003eto impostors))\",\"Crewmates win! (All\\u003cbr\\u003etask completed)\",\"Impostors win!\\u003cbr\\u003e(Crewmates being\\u003cbr\\u003eoutnumbered or tied\\u003cbr\\u003eto impostors))\",\"Crewmates win! (All\\u003cbr\\u003etask completed)\",\"Impostors win!\\u003cbr\\u003e(Crewmates being\\u003cbr\\u003eoutnumbered or tied\\u003cbr\\u003eto impostors))\",\"Crewmates win! (All\\u003cbr\\u003etask completed)\",\"Impostors win!\\u003cbr\\u003e(Crewmates being\\u003cbr\\u003eoutnumbered or tied\\u003cbr\\u003eto impostors))\",\"Crewmates win! (All\\u003cbr\\u003etask completed)\",\"Crewmates win! (All\\u003cbr\\u003etask completed)\",\"Crewmates win!\\u003cbr\\u003e(Impostors\\u003cbr\\u003eeliminated)\",\"Impostors win!\\u003cbr\\u003e(Crewmates being\\u003cbr\\u003eoutnumbered or tied\\u003cbr\\u003eto impostors))\",\"Impostors win!\\u003cbr\\u003e(Crewmates being\\u003cbr\\u003eoutnumbered or tied\\u003cbr\\u003eto impostors))\",\"Crewmates win!\\u003cbr\\u003e(Impostors\\u003cbr\\u003eeliminated)\",\"Crewmates win! (All\\u003cbr\\u003etask completed)\",\"Impostors win!\\u003cbr\\u003e(Crewmates being\\u003cbr\\u003eoutnumbered or tied\\u003cbr\\u003eto impostors))\",\"Impostors win!\\u003cbr\\u003e(Crewmates being\\u003cbr\\u003eoutnumbered or tied\\u003cbr\\u003eto impostors))\",\"Impostors win!\\u003cbr\\u003e(Crewmates being\\u003cbr\\u003eoutnumbered or tied\\u003cbr\\u003eto impostors))\",\"Crewmates win! (All\\u003cbr\\u003etask completed)\",\"Impostors win!\\u003cbr\\u003e(Crewmates being\\u003cbr\\u003eoutnumbered or tied\\u003cbr\\u003eto impostors))\",\"Crewmates win!\\u003cbr\\u003e(Impostors\\u003cbr\\u003eeliminated)\",\"Crewmates win!\\u003cbr\\u003e(Impostors\\u003cbr\\u003eeliminated)\",\"Impostors win!\\u003cbr\\u003e(Crewmates being\\u003cbr\\u003eoutnumbered or tied\\u003cbr\\u003eto impostors))\",\"Impostors win!\\u003cbr\\u003e(Crewmates being\\u003cbr\\u003eoutnumbered or tied\\u003cbr\\u003eto impostors))\",\"Impostors win!\\u003cbr\\u003e(Crewmates being\\u003cbr\\u003eoutnumbered or tied\\u003cbr\\u003eto impostors))\",\"Crewmates win! (All\\u003cbr\\u003etask completed)\",\"Crewmates win! (All\\u003cbr\\u003etask completed)\",\"Crewmates win!\\u003cbr\\u003e(Impostors\\u003cbr\\u003eeliminated)\",\"Impostors win!\\u003cbr\\u003e(Crewmates being\\u003cbr\\u003eoutnumbered or tied\\u003cbr\\u003eto impostors))\",\"Impostors win!\\u003cbr\\u003e(Crewmates being\\u003cbr\\u003eoutnumbered or tied\\u003cbr\\u003eto impostors))\",\"Crewmates win!\\u003cbr\\u003e(Impostors\\u003cbr\\u003eeliminated)\",\"Crewmates win! (All\\u003cbr\\u003etask completed)\",\"Crewmates win! (All\\u003cbr\\u003etask completed)\",\"Impostors win!\\u003cbr\\u003e(Crewmates being\\u003cbr\\u003eoutnumbered or tied\\u003cbr\\u003eto impostors))\",\"Impostors win!\\u003cbr\\u003e(Crewmates being\\u003cbr\\u003eoutnumbered or tied\\u003cbr\\u003eto impostors))\",\"Impostors win!\\u003cbr\\u003e(Crewmates being\\u003cbr\\u003eoutnumbered or tied\\u003cbr\\u003eto impostors))\",\"Impostors win!\\u003cbr\\u003e(Crewmates being\\u003cbr\\u003eoutnumbered or tied\\u003cbr\\u003eto impostors))\",\"Crewmates win!\\u003cbr\\u003e(Impostors\\u003cbr\\u003eeliminated)\",\"Crewmates win!\\u003cbr\\u003e(Impostors\\u003cbr\\u003eeliminated)\",\"Crewmates win!\\u003cbr\\u003e(Impostors\\u003cbr\\u003eeliminated)\",\"Crewmates win!\\u003cbr\\u003e(Impostors\\u003cbr\\u003eeliminated)\",\"Impostors win!\\u003cbr\\u003e(Crewmates being\\u003cbr\\u003eoutnumbered or tied\\u003cbr\\u003eto impostors))\",\"Crewmates win! (All\\u003cbr\\u003etask completed)\",\"Crewmates win!\\u003cbr\\u003e(Impostors\\u003cbr\\u003eeliminated)\",\"Impostors win!\\u003cbr\\u003e(Crewmates being\\u003cbr\\u003eoutnumbered or tied\\u003cbr\\u003eto impostors))\",\"Impostors win!\\u003cbr\\u003e(Crewmates being\\u003cbr\\u003eoutnumbered or tied\\u003cbr\\u003eto impostors))\",\"Impostors win!\\u003cbr\\u003e(Crewmates being\\u003cbr\\u003eoutnumbered or tied\\u003cbr\\u003eto impostors))\",\"Crewmates win!\\u003cbr\\u003e(Impostors\\u003cbr\\u003eeliminated)\",\"Crewmates win!\\u003cbr\\u003e(Impostors\\u003cbr\\u003eeliminated)\",\"Crewmates win!\\u003cbr\\u003e(Impostors\\u003cbr\\u003eeliminated)\",\"Impostors win!\\u003cbr\\u003e(Crewmates being\\u003cbr\\u003eoutnumbered or tied\\u003cbr\\u003eto impostors))\",\"Crewmates win!\\u003cbr\\u003e(Impostors\\u003cbr\\u003eeliminated)\",\"Crewmates win! (All\\u003cbr\\u003etask completed)\",\"Crewmates win!\\u003cbr\\u003e(Impostors\\u003cbr\\u003eeliminated)\",\"Crewmates win! (All\\u003cbr\\u003etask completed)\",\"Crewmates win!\\u003cbr\\u003e(Impostors\\u003cbr\\u003eeliminated)\",\"Crewmates win! (All\\u003cbr\\u003etask completed)\",\"Crewmates win! (All\\u003cbr\\u003etask completed)\",\"Crewmates win!\\u003cbr\\u003e(Impostors\\u003cbr\\u003eeliminated)\",\"Crewmates win! (All\\u003cbr\\u003etask completed)\",\"Impostors win!\\u003cbr\\u003e(Crewmates being\\u003cbr\\u003eoutnumbered or tied\\u003cbr\\u003eto impostors))\",\"Crewmates win!\\u003cbr\\u003e(Impostors\\u003cbr\\u003eeliminated)\",\"Crewmates win!\\u003cbr\\u003e(Impostors\\u003cbr\\u003eeliminated)\",\"Impostors win!\\u003cbr\\u003e(Crewmates being\\u003cbr\\u003eoutnumbered or tied\\u003cbr\\u003eto impostors))\",\"Impostors win!\\u003cbr\\u003e(Crewmates being\\u003cbr\\u003eoutnumbered or tied\\u003cbr\\u003eto impostors))\",\"Crewmates win!\\u003cbr\\u003e(Impostors\\u003cbr\\u003eeliminated)\",\"Crewmates win!\\u003cbr\\u003e(Impostors\\u003cbr\\u003eeliminated)\",\"Crewmates win!\\u003cbr\\u003e(Impostors\\u003cbr\\u003eeliminated)\",\"Crewmates win! (All\\u003cbr\\u003etask completed)\",\"Crewmates win!\\u003cbr\\u003e(Impostors\\u003cbr\\u003eeliminated)\",\"Impostors win!\\u003cbr\\u003e(Crewmates being\\u003cbr\\u003eoutnumbered or tied\\u003cbr\\u003eto impostors))\",\"Impostors win!\\u003cbr\\u003e(Crewmates being\\u003cbr\\u003eoutnumbered or tied\\u003cbr\\u003eto impostors))\",\"Impostors win!\\u003cbr\\u003e(Crewmates being\\u003cbr\\u003eoutnumbered or tied\\u003cbr\\u003eto impostors))\",\"Crewmates win! (All\\u003cbr\\u003etask completed)\",\"Crewmates win! (All\\u003cbr\\u003etask completed)\",\"Impostors win!\\u003cbr\\u003e(Crewmates being\\u003cbr\\u003eoutnumbered or tied\\u003cbr\\u003eto impostors))\",\"Crewmates win!\\u003cbr\\u003e(Impostors\\u003cbr\\u003eeliminated)\",\"Crewmates win! (All\\u003cbr\\u003etask completed)\",\"Crewmates win!\\u003cbr\\u003e(Impostors\\u003cbr\\u003eeliminated)\"],\"xaxis\":\"x\",\"yaxis\":\"y\",\"type\":\"histogram\"},{\"alignmentgroup\":\"True\",\"bingroup\":\"x\",\"hovertemplate\":\"Models=Crew: Llama, Imp: Phi\\u003cbr\\u003eWinner Reason=%{x}\\u003cbr\\u003ecount=%{y}\\u003cextra\\u003e\\u003c\\u002fextra\\u003e\",\"legendgroup\":\"Crew: Llama, Imp: Phi\",\"marker\":{\"color\":\"#EF553B\",\"pattern\":{\"shape\":\"\"}},\"name\":\"Crew: Llama, Imp: Phi\",\"offsetgroup\":\"Crew: Llama, Imp: Phi\",\"orientation\":\"v\",\"showlegend\":true,\"x\":[\"Impostors win!\\u003cbr\\u003e(Crewmates being\\u003cbr\\u003eoutnumbered or tied\\u003cbr\\u003eto impostors))\",\"Impostors win!\\u003cbr\\u003e(Crewmates being\\u003cbr\\u003eoutnumbered or tied\\u003cbr\\u003eto impostors))\",\"Impostors win!\\u003cbr\\u003e(Crewmates being\\u003cbr\\u003eoutnumbered or tied\\u003cbr\\u003eto impostors))\",\"Impostors win!\\u003cbr\\u003e(Crewmates being\\u003cbr\\u003eoutnumbered or tied\\u003cbr\\u003eto impostors))\",\"Impostors win!\\u003cbr\\u003e(Crewmates being\\u003cbr\\u003eoutnumbered or tied\\u003cbr\\u003eto impostors))\",\"Crewmates win! (All\\u003cbr\\u003etask completed)\",\"Impostors win!\\u003cbr\\u003e(Crewmates being\\u003cbr\\u003eoutnumbered or tied\\u003cbr\\u003eto impostors))\",\"Crewmates win!\\u003cbr\\u003e(Impostors\\u003cbr\\u003eeliminated)\",\"Impostors win!\\u003cbr\\u003e(Crewmates being\\u003cbr\\u003eoutnumbered or tied\\u003cbr\\u003eto impostors))\",\"Crewmates win! (All\\u003cbr\\u003etask completed)\",\"Impostors win!\\u003cbr\\u003e(Crewmates being\\u003cbr\\u003eoutnumbered or tied\\u003cbr\\u003eto impostors))\",\"Crewmates win!\\u003cbr\\u003e(Impostors\\u003cbr\\u003eeliminated)\",\"Crewmates win! (All\\u003cbr\\u003etask completed)\",\"Crewmates win!\\u003cbr\\u003e(Impostors\\u003cbr\\u003eeliminated)\",\"Crewmates win!\\u003cbr\\u003e(Impostors\\u003cbr\\u003eeliminated)\",\"Crewmates win! (All\\u003cbr\\u003etask completed)\",\"Crewmates win!\\u003cbr\\u003e(Impostors\\u003cbr\\u003eeliminated)\",\"Crewmates win!\\u003cbr\\u003e(Impostors\\u003cbr\\u003eeliminated)\",\"Impostors win!\\u003cbr\\u003e(Crewmates being\\u003cbr\\u003eoutnumbered or tied\\u003cbr\\u003eto impostors))\",\"Crewmates win!\\u003cbr\\u003e(Impostors\\u003cbr\\u003eeliminated)\",\"Impostors win!\\u003cbr\\u003e(Crewmates being\\u003cbr\\u003eoutnumbered or tied\\u003cbr\\u003eto impostors))\",\"Impostors win!\\u003cbr\\u003e(Crewmates being\\u003cbr\\u003eoutnumbered or tied\\u003cbr\\u003eto impostors))\",\"Crewmates win!\\u003cbr\\u003e(Impostors\\u003cbr\\u003eeliminated)\",\"Crewmates win! (All\\u003cbr\\u003etask completed)\",\"Crewmates win! (All\\u003cbr\\u003etask completed)\",\"Impostors win!\\u003cbr\\u003e(Crewmates being\\u003cbr\\u003eoutnumbered or tied\\u003cbr\\u003eto impostors))\",\"Crewmates win!\\u003cbr\\u003e(Impostors\\u003cbr\\u003eeliminated)\",\"Crewmates win!\\u003cbr\\u003e(Impostors\\u003cbr\\u003eeliminated)\",\"Crewmates win! (All\\u003cbr\\u003etask completed)\",\"Crewmates win!\\u003cbr\\u003e(Impostors\\u003cbr\\u003eeliminated)\",\"Crewmates win!\\u003cbr\\u003e(Impostors\\u003cbr\\u003eeliminated)\",\"Crewmates win! (All\\u003cbr\\u003etask completed)\",\"Impostors win!\\u003cbr\\u003e(Crewmates being\\u003cbr\\u003eoutnumbered or tied\\u003cbr\\u003eto impostors))\",\"Impostors win!\\u003cbr\\u003e(Crewmates being\\u003cbr\\u003eoutnumbered or tied\\u003cbr\\u003eto impostors))\",\"Crewmates win!\\u003cbr\\u003e(Impostors\\u003cbr\\u003eeliminated)\",\"Crewmates win!\\u003cbr\\u003e(Impostors\\u003cbr\\u003eeliminated)\",\"Crewmates win! (All\\u003cbr\\u003etask completed)\",\"Crewmates win!\\u003cbr\\u003e(Impostors\\u003cbr\\u003eeliminated)\",\"Crewmates win! (All\\u003cbr\\u003etask completed)\",\"Impostors win!\\u003cbr\\u003e(Crewmates being\\u003cbr\\u003eoutnumbered or tied\\u003cbr\\u003eto impostors))\",\"Crewmates win!\\u003cbr\\u003e(Impostors\\u003cbr\\u003eeliminated)\",\"Crewmates win!\\u003cbr\\u003e(Impostors\\u003cbr\\u003eeliminated)\",\"Crewmates win! (All\\u003cbr\\u003etask completed)\",\"Crewmates win!\\u003cbr\\u003e(Impostors\\u003cbr\\u003eeliminated)\",\"Crewmates win!\\u003cbr\\u003e(Impostors\\u003cbr\\u003eeliminated)\",\"Impostors win!\\u003cbr\\u003e(Crewmates being\\u003cbr\\u003eoutnumbered or tied\\u003cbr\\u003eto impostors))\",\"Impostors win!\\u003cbr\\u003e(Crewmates being\\u003cbr\\u003eoutnumbered or tied\\u003cbr\\u003eto impostors))\",\"Crewmates win!\\u003cbr\\u003e(Impostors\\u003cbr\\u003eeliminated)\",\"Crewmates win!\\u003cbr\\u003e(Impostors\\u003cbr\\u003eeliminated)\",\"Crewmates win! (All\\u003cbr\\u003etask completed)\",\"Crewmates win!\\u003cbr\\u003e(Impostors\\u003cbr\\u003eeliminated)\",\"Crewmates win!\\u003cbr\\u003e(Impostors\\u003cbr\\u003eeliminated)\",\"Crewmates win! (All\\u003cbr\\u003etask completed)\",\"Crewmates win! (All\\u003cbr\\u003etask completed)\",\"Crewmates win!\\u003cbr\\u003e(Impostors\\u003cbr\\u003eeliminated)\",\"Crewmates win!\\u003cbr\\u003e(Impostors\\u003cbr\\u003eeliminated)\",\"Crewmates win!\\u003cbr\\u003e(Impostors\\u003cbr\\u003eeliminated)\",\"Crewmates win!\\u003cbr\\u003e(Impostors\\u003cbr\\u003eeliminated)\",\"Crewmates win! (All\\u003cbr\\u003etask completed)\",\"Crewmates win! (All\\u003cbr\\u003etask completed)\",\"Crewmates win!\\u003cbr\\u003e(Impostors\\u003cbr\\u003eeliminated)\",\"Crewmates win! (All\\u003cbr\\u003etask completed)\",\"Crewmates win!\\u003cbr\\u003e(Impostors\\u003cbr\\u003eeliminated)\",\"Crewmates win!\\u003cbr\\u003e(Impostors\\u003cbr\\u003eeliminated)\",\"Crewmates win! (All\\u003cbr\\u003etask completed)\",\"Impostors win!\\u003cbr\\u003e(Crewmates being\\u003cbr\\u003eoutnumbered or tied\\u003cbr\\u003eto impostors))\",\"Crewmates win!\\u003cbr\\u003e(Impostors\\u003cbr\\u003eeliminated)\",\"Crewmates win!\\u003cbr\\u003e(Impostors\\u003cbr\\u003eeliminated)\",\"Crewmates win!\\u003cbr\\u003e(Impostors\\u003cbr\\u003eeliminated)\",\"Crewmates win! (All\\u003cbr\\u003etask completed)\",\"Crewmates win!\\u003cbr\\u003e(Impostors\\u003cbr\\u003eeliminated)\",\"Crewmates win! (All\\u003cbr\\u003etask completed)\",\"Crewmates win!\\u003cbr\\u003e(Impostors\\u003cbr\\u003eeliminated)\",\"Crewmates win!\\u003cbr\\u003e(Impostors\\u003cbr\\u003eeliminated)\",\"Crewmates win! (All\\u003cbr\\u003etask completed)\",\"Crewmates win! (All\\u003cbr\\u003etask completed)\",\"Crewmates win!\\u003cbr\\u003e(Impostors\\u003cbr\\u003eeliminated)\",\"Crewmates win!\\u003cbr\\u003e(Impostors\\u003cbr\\u003eeliminated)\",\"Crewmates win!\\u003cbr\\u003e(Impostors\\u003cbr\\u003eeliminated)\",\"Crewmates win!\\u003cbr\\u003e(Impostors\\u003cbr\\u003eeliminated)\",\"Crewmates win! (All\\u003cbr\\u003etask completed)\",\"Crewmates win! (All\\u003cbr\\u003etask completed)\",\"Crewmates win!\\u003cbr\\u003e(Impostors\\u003cbr\\u003eeliminated)\",\"Crewmates win!\\u003cbr\\u003e(Impostors\\u003cbr\\u003eeliminated)\",\"Impostors win!\\u003cbr\\u003e(Crewmates being\\u003cbr\\u003eoutnumbered or tied\\u003cbr\\u003eto impostors))\",\"Crewmates win! (All\\u003cbr\\u003etask completed)\",\"Crewmates win!\\u003cbr\\u003e(Impostors\\u003cbr\\u003eeliminated)\",\"Crewmates win!\\u003cbr\\u003e(Impostors\\u003cbr\\u003eeliminated)\",\"Impostors win!\\u003cbr\\u003e(Crewmates being\\u003cbr\\u003eoutnumbered or tied\\u003cbr\\u003eto impostors))\",\"Impostors win!\\u003cbr\\u003e(Crewmates being\\u003cbr\\u003eoutnumbered or tied\\u003cbr\\u003eto impostors))\",\"Crewmates win!\\u003cbr\\u003e(Impostors\\u003cbr\\u003eeliminated)\",\"Crewmates win!\\u003cbr\\u003e(Impostors\\u003cbr\\u003eeliminated)\",\"Crewmates win! (All\\u003cbr\\u003etask completed)\",\"Crewmates win!\\u003cbr\\u003e(Impostors\\u003cbr\\u003eeliminated)\",\"Crewmates win! (All\\u003cbr\\u003etask completed)\",\"Crewmates win!\\u003cbr\\u003e(Impostors\\u003cbr\\u003eeliminated)\",\"Impostors win!\\u003cbr\\u003e(Crewmates being\\u003cbr\\u003eoutnumbered or tied\\u003cbr\\u003eto impostors))\",\"Impostors win!\\u003cbr\\u003e(Crewmates being\\u003cbr\\u003eoutnumbered or tied\\u003cbr\\u003eto impostors))\",\"Crewmates win!\\u003cbr\\u003e(Impostors\\u003cbr\\u003eeliminated)\",\"Crewmates win! (All\\u003cbr\\u003etask completed)\"],\"xaxis\":\"x\",\"yaxis\":\"y\",\"type\":\"histogram\"},{\"alignmentgroup\":\"True\",\"bingroup\":\"x\",\"hovertemplate\":\"Models=Crew: Phi, Imp: Phi\\u003cbr\\u003eWinner Reason=%{x}\\u003cbr\\u003ecount=%{y}\\u003cextra\\u003e\\u003c\\u002fextra\\u003e\",\"legendgroup\":\"Crew: Phi, Imp: Phi\",\"marker\":{\"color\":\"#00cc96\",\"pattern\":{\"shape\":\"\"}},\"name\":\"Crew: Phi, Imp: Phi\",\"offsetgroup\":\"Crew: Phi, Imp: Phi\",\"orientation\":\"v\",\"showlegend\":true,\"x\":[\"Impostors win!\\u003cbr\\u003e(Crewmates being\\u003cbr\\u003eoutnumbered or tied\\u003cbr\\u003eto impostors))\",\"Impostors win!\\u003cbr\\u003e(Crewmates being\\u003cbr\\u003eoutnumbered or tied\\u003cbr\\u003eto impostors))\",\"Impostors win!\\u003cbr\\u003e(Crewmates being\\u003cbr\\u003eoutnumbered or tied\\u003cbr\\u003eto impostors))\",\"Impostors win!\\u003cbr\\u003e(Crewmates being\\u003cbr\\u003eoutnumbered or tied\\u003cbr\\u003eto impostors))\",\"Impostors win!\\u003cbr\\u003e(Crewmates being\\u003cbr\\u003eoutnumbered or tied\\u003cbr\\u003eto impostors))\",\"Impostors win!\\u003cbr\\u003e(Crewmates being\\u003cbr\\u003eoutnumbered or tied\\u003cbr\\u003eto impostors))\",\"Impostors win!\\u003cbr\\u003e(Crewmates being\\u003cbr\\u003eoutnumbered or tied\\u003cbr\\u003eto impostors))\",\"Impostors win!\\u003cbr\\u003e(Crewmates being\\u003cbr\\u003eoutnumbered or tied\\u003cbr\\u003eto impostors))\",\"Impostors win!\\u003cbr\\u003e(Crewmates being\\u003cbr\\u003eoutnumbered or tied\\u003cbr\\u003eto impostors))\",\"Impostors win!\\u003cbr\\u003e(Crewmates being\\u003cbr\\u003eoutnumbered or tied\\u003cbr\\u003eto impostors))\",\"Crewmates win! (All\\u003cbr\\u003etask completed)\",\"Crewmates win!\\u003cbr\\u003e(Impostors\\u003cbr\\u003eeliminated)\",\"Crewmates win!\\u003cbr\\u003e(Impostors\\u003cbr\\u003eeliminated)\",\"Impostors win!\\u003cbr\\u003e(Crewmates being\\u003cbr\\u003eoutnumbered or tied\\u003cbr\\u003eto impostors))\",\"Impostors win!\\u003cbr\\u003e(Crewmates being\\u003cbr\\u003eoutnumbered or tied\\u003cbr\\u003eto impostors))\",\"Crewmates win!\\u003cbr\\u003e(Impostors\\u003cbr\\u003eeliminated)\",\"Impostors win!\\u003cbr\\u003e(Crewmates being\\u003cbr\\u003eoutnumbered or tied\\u003cbr\\u003eto impostors))\",\"Crewmates win!\\u003cbr\\u003e(Impostors\\u003cbr\\u003eeliminated)\",\"Crewmates win!\\u003cbr\\u003e(Impostors\\u003cbr\\u003eeliminated)\",\"Crewmates win!\\u003cbr\\u003e(Impostors\\u003cbr\\u003eeliminated)\",\"Impostors win!\\u003cbr\\u003e(Crewmates being\\u003cbr\\u003eoutnumbered or tied\\u003cbr\\u003eto impostors))\",\"Crewmates win!\\u003cbr\\u003e(Impostors\\u003cbr\\u003eeliminated)\",\"Impostors win!\\u003cbr\\u003e(Crewmates being\\u003cbr\\u003eoutnumbered or tied\\u003cbr\\u003eto impostors))\",\"Impostors win!\\u003cbr\\u003e(Crewmates being\\u003cbr\\u003eoutnumbered or tied\\u003cbr\\u003eto impostors))\",\"Crewmates win! (All\\u003cbr\\u003etask completed)\",\"Crewmates win!\\u003cbr\\u003e(Impostors\\u003cbr\\u003eeliminated)\",\"Impostors win!\\u003cbr\\u003e(Crewmates being\\u003cbr\\u003eoutnumbered or tied\\u003cbr\\u003eto impostors))\",\"Crewmates win!\\u003cbr\\u003e(Impostors\\u003cbr\\u003eeliminated)\",\"Crewmates win! (All\\u003cbr\\u003etask completed)\",\"Crewmates win!\\u003cbr\\u003e(Impostors\\u003cbr\\u003eeliminated)\",\"Impostors win!\\u003cbr\\u003e(Crewmates being\\u003cbr\\u003eoutnumbered or tied\\u003cbr\\u003eto impostors))\",\"Crewmates win! (All\\u003cbr\\u003etask completed)\",\"Crewmates win!\\u003cbr\\u003e(Impostors\\u003cbr\\u003eeliminated)\",\"Crewmates win!\\u003cbr\\u003e(Impostors\\u003cbr\\u003eeliminated)\",\"Impostors win!\\u003cbr\\u003e(Crewmates being\\u003cbr\\u003eoutnumbered or tied\\u003cbr\\u003eto impostors))\",\"Crewmates win!\\u003cbr\\u003e(Impostors\\u003cbr\\u003eeliminated)\",\"Crewmates win!\\u003cbr\\u003e(Impostors\\u003cbr\\u003eeliminated)\",\"Impostors win!\\u003cbr\\u003e(Crewmates being\\u003cbr\\u003eoutnumbered or tied\\u003cbr\\u003eto impostors))\",\"Impostors win!\\u003cbr\\u003e(Crewmates being\\u003cbr\\u003eoutnumbered or tied\\u003cbr\\u003eto impostors))\",\"Impostors win!\\u003cbr\\u003e(Crewmates being\\u003cbr\\u003eoutnumbered or tied\\u003cbr\\u003eto impostors))\",\"Crewmates win!\\u003cbr\\u003e(Impostors\\u003cbr\\u003eeliminated)\",\"Crewmates win!\\u003cbr\\u003e(Impostors\\u003cbr\\u003eeliminated)\",\"Crewmates win! (All\\u003cbr\\u003etask completed)\",\"Crewmates win!\\u003cbr\\u003e(Impostors\\u003cbr\\u003eeliminated)\",\"Crewmates win!\\u003cbr\\u003e(Impostors\\u003cbr\\u003eeliminated)\",\"Crewmates win!\\u003cbr\\u003e(Impostors\\u003cbr\\u003eeliminated)\",\"Crewmates win!\\u003cbr\\u003e(Impostors\\u003cbr\\u003eeliminated)\",\"Impostors win!\\u003cbr\\u003e(Crewmates being\\u003cbr\\u003eoutnumbered or tied\\u003cbr\\u003eto impostors))\",\"Impostors win!\\u003cbr\\u003e(Crewmates being\\u003cbr\\u003eoutnumbered or tied\\u003cbr\\u003eto impostors))\",\"Impostors win!\\u003cbr\\u003e(Crewmates being\\u003cbr\\u003eoutnumbered or tied\\u003cbr\\u003eto impostors))\",\"Crewmates win!\\u003cbr\\u003e(Impostors\\u003cbr\\u003eeliminated)\",\"Impostors win!\\u003cbr\\u003e(Crewmates being\\u003cbr\\u003eoutnumbered or tied\\u003cbr\\u003eto impostors))\",\"Impostors win!\\u003cbr\\u003e(Crewmates being\\u003cbr\\u003eoutnumbered or tied\\u003cbr\\u003eto impostors))\",\"Crewmates win!\\u003cbr\\u003e(Impostors\\u003cbr\\u003eeliminated)\",\"Crewmates win!\\u003cbr\\u003e(Impostors\\u003cbr\\u003eeliminated)\",\"Crewmates win!\\u003cbr\\u003e(Impostors\\u003cbr\\u003eeliminated)\",\"Impostors win!\\u003cbr\\u003e(Crewmates being\\u003cbr\\u003eoutnumbered or tied\\u003cbr\\u003eto impostors))\",\"Impostors win!\\u003cbr\\u003e(Crewmates being\\u003cbr\\u003eoutnumbered or tied\\u003cbr\\u003eto impostors))\",\"Crewmates win!\\u003cbr\\u003e(Impostors\\u003cbr\\u003eeliminated)\",\"Crewmates win!\\u003cbr\\u003e(Impostors\\u003cbr\\u003eeliminated)\",\"Impostors win!\\u003cbr\\u003e(Crewmates being\\u003cbr\\u003eoutnumbered or tied\\u003cbr\\u003eto impostors))\",\"Crewmates win!\\u003cbr\\u003e(Impostors\\u003cbr\\u003eeliminated)\",\"Crewmates win!\\u003cbr\\u003e(Impostors\\u003cbr\\u003eeliminated)\",\"Impostors win!\\u003cbr\\u003e(Crewmates being\\u003cbr\\u003eoutnumbered or tied\\u003cbr\\u003eto impostors))\",\"Crewmates win!\\u003cbr\\u003e(Impostors\\u003cbr\\u003eeliminated)\",\"Crewmates win!\\u003cbr\\u003e(Impostors\\u003cbr\\u003eeliminated)\",\"Impostors win!\\u003cbr\\u003e(Crewmates being\\u003cbr\\u003eoutnumbered or tied\\u003cbr\\u003eto impostors))\",\"Crewmates win! (All\\u003cbr\\u003etask completed)\",\"Crewmates win!\\u003cbr\\u003e(Impostors\\u003cbr\\u003eeliminated)\",\"Crewmates win!\\u003cbr\\u003e(Impostors\\u003cbr\\u003eeliminated)\",\"Impostors win!\\u003cbr\\u003e(Crewmates being\\u003cbr\\u003eoutnumbered or tied\\u003cbr\\u003eto impostors))\",\"Crewmates win!\\u003cbr\\u003e(Impostors\\u003cbr\\u003eeliminated)\",\"Crewmates win!\\u003cbr\\u003e(Impostors\\u003cbr\\u003eeliminated)\",\"Crewmates win! (All\\u003cbr\\u003etask completed)\",\"Crewmates win!\\u003cbr\\u003e(Impostors\\u003cbr\\u003eeliminated)\",\"Crewmates win!\\u003cbr\\u003e(Impostors\\u003cbr\\u003eeliminated)\",\"Crewmates win! (All\\u003cbr\\u003etask completed)\",\"Impostors win!\\u003cbr\\u003e(Crewmates being\\u003cbr\\u003eoutnumbered or tied\\u003cbr\\u003eto impostors))\",\"Impostors win!\\u003cbr\\u003e(Crewmates being\\u003cbr\\u003eoutnumbered or tied\\u003cbr\\u003eto impostors))\",\"Crewmates win!\\u003cbr\\u003e(Impostors\\u003cbr\\u003eeliminated)\",\"Impostors win!\\u003cbr\\u003e(Crewmates being\\u003cbr\\u003eoutnumbered or tied\\u003cbr\\u003eto impostors))\",\"Impostors win!\\u003cbr\\u003e(Crewmates being\\u003cbr\\u003eoutnumbered or tied\\u003cbr\\u003eto impostors))\",\"Crewmates win! (All\\u003cbr\\u003etask completed)\",\"Crewmates win!\\u003cbr\\u003e(Impostors\\u003cbr\\u003eeliminated)\",\"Impostors win!\\u003cbr\\u003e(Crewmates being\\u003cbr\\u003eoutnumbered or tied\\u003cbr\\u003eto impostors))\",\"Crewmates win!\\u003cbr\\u003e(Impostors\\u003cbr\\u003eeliminated)\",\"Crewmates win! (All\\u003cbr\\u003etask completed)\",\"Crewmates win! (All\\u003cbr\\u003etask completed)\",\"Crewmates win! (All\\u003cbr\\u003etask completed)\",\"Impostors win!\\u003cbr\\u003e(Crewmates being\\u003cbr\\u003eoutnumbered or tied\\u003cbr\\u003eto impostors))\",\"Impostors win!\\u003cbr\\u003e(Crewmates being\\u003cbr\\u003eoutnumbered or tied\\u003cbr\\u003eto impostors))\",\"Impostors win!\\u003cbr\\u003e(Crewmates being\\u003cbr\\u003eoutnumbered or tied\\u003cbr\\u003eto impostors))\",\"Crewmates win!\\u003cbr\\u003e(Impostors\\u003cbr\\u003eeliminated)\",\"Crewmates win!\\u003cbr\\u003e(Impostors\\u003cbr\\u003eeliminated)\",\"Crewmates win! (All\\u003cbr\\u003etask completed)\",\"Crewmates win! (All\\u003cbr\\u003etask completed)\",\"Impostors win!\\u003cbr\\u003e(Crewmates being\\u003cbr\\u003eoutnumbered or tied\\u003cbr\\u003eto impostors))\",\"Crewmates win!\\u003cbr\\u003e(Impostors\\u003cbr\\u003eeliminated)\",\"Crewmates win!\\u003cbr\\u003e(Impostors\\u003cbr\\u003eeliminated)\",\"Impostors win! (Time\\u003cbr\\u003elimit reached)\"],\"xaxis\":\"x\",\"yaxis\":\"y\",\"type\":\"histogram\"},{\"alignmentgroup\":\"True\",\"bingroup\":\"x\",\"hovertemplate\":\"Models=Crew: Llama, Imp: Llama\\u003cbr\\u003eWinner Reason=%{x}\\u003cbr\\u003ecount=%{y}\\u003cextra\\u003e\\u003c\\u002fextra\\u003e\",\"legendgroup\":\"Crew: Llama, Imp: Llama\",\"marker\":{\"color\":\"#ab63fa\",\"pattern\":{\"shape\":\"\"}},\"name\":\"Crew: Llama, Imp: Llama\",\"offsetgroup\":\"Crew: Llama, Imp: Llama\",\"orientation\":\"v\",\"showlegend\":true,\"x\":[\"Impostors win!\\u003cbr\\u003e(Crewmates being\\u003cbr\\u003eoutnumbered or tied\\u003cbr\\u003eto impostors))\",\"Impostors win!\\u003cbr\\u003e(Crewmates being\\u003cbr\\u003eoutnumbered or tied\\u003cbr\\u003eto impostors))\",\"Impostors win!\\u003cbr\\u003e(Crewmates being\\u003cbr\\u003eoutnumbered or tied\\u003cbr\\u003eto impostors))\",\"Impostors win!\\u003cbr\\u003e(Crewmates being\\u003cbr\\u003eoutnumbered or tied\\u003cbr\\u003eto impostors))\",\"Impostors win!\\u003cbr\\u003e(Crewmates being\\u003cbr\\u003eoutnumbered or tied\\u003cbr\\u003eto impostors))\",\"Crewmates win! (All\\u003cbr\\u003etask completed)\",\"Crewmates win! (All\\u003cbr\\u003etask completed)\",\"Impostors win!\\u003cbr\\u003e(Crewmates being\\u003cbr\\u003eoutnumbered or tied\\u003cbr\\u003eto impostors))\",\"Crewmates win! (All\\u003cbr\\u003etask completed)\",\"Crewmates win! (All\\u003cbr\\u003etask completed)\",\"Crewmates win! (All\\u003cbr\\u003etask completed)\",\"Crewmates win! (All\\u003cbr\\u003etask completed)\",\"Impostors win!\\u003cbr\\u003e(Crewmates being\\u003cbr\\u003eoutnumbered or tied\\u003cbr\\u003eto impostors))\",\"Impostors win!\\u003cbr\\u003e(Crewmates being\\u003cbr\\u003eoutnumbered or tied\\u003cbr\\u003eto impostors))\",\"Crewmates win! (All\\u003cbr\\u003etask completed)\",\"Crewmates win! (All\\u003cbr\\u003etask completed)\",\"Crewmates win! (All\\u003cbr\\u003etask completed)\",\"Impostors win!\\u003cbr\\u003e(Crewmates being\\u003cbr\\u003eoutnumbered or tied\\u003cbr\\u003eto impostors))\",\"Impostors win!\\u003cbr\\u003e(Crewmates being\\u003cbr\\u003eoutnumbered or tied\\u003cbr\\u003eto impostors))\",\"Crewmates win! (All\\u003cbr\\u003etask completed)\",\"Crewmates win! (All\\u003cbr\\u003etask completed)\",\"Impostors win!\\u003cbr\\u003e(Crewmates being\\u003cbr\\u003eoutnumbered or tied\\u003cbr\\u003eto impostors))\",\"Impostors win!\\u003cbr\\u003e(Crewmates being\\u003cbr\\u003eoutnumbered or tied\\u003cbr\\u003eto impostors))\",\"Impostors win!\\u003cbr\\u003e(Crewmates being\\u003cbr\\u003eoutnumbered or tied\\u003cbr\\u003eto impostors))\",\"Crewmates win! (All\\u003cbr\\u003etask completed)\",\"Impostors win!\\u003cbr\\u003e(Crewmates being\\u003cbr\\u003eoutnumbered or tied\\u003cbr\\u003eto impostors))\",\"Crewmates win! (All\\u003cbr\\u003etask completed)\",\"Crewmates win! (All\\u003cbr\\u003etask completed)\",\"Impostors win!\\u003cbr\\u003e(Crewmates being\\u003cbr\\u003eoutnumbered or tied\\u003cbr\\u003eto impostors))\",\"Crewmates win!\\u003cbr\\u003e(Impostors\\u003cbr\\u003eeliminated)\",\"Impostors win!\\u003cbr\\u003e(Crewmates being\\u003cbr\\u003eoutnumbered or tied\\u003cbr\\u003eto impostors))\",\"Crewmates win! (All\\u003cbr\\u003etask completed)\",\"Impostors win!\\u003cbr\\u003e(Crewmates being\\u003cbr\\u003eoutnumbered or tied\\u003cbr\\u003eto impostors))\",\"Impostors win!\\u003cbr\\u003e(Crewmates being\\u003cbr\\u003eoutnumbered or tied\\u003cbr\\u003eto impostors))\",\"Impostors win!\\u003cbr\\u003e(Crewmates being\\u003cbr\\u003eoutnumbered or tied\\u003cbr\\u003eto impostors))\",\"Impostors win!\\u003cbr\\u003e(Crewmates being\\u003cbr\\u003eoutnumbered or tied\\u003cbr\\u003eto impostors))\",\"Impostors win!\\u003cbr\\u003e(Crewmates being\\u003cbr\\u003eoutnumbered or tied\\u003cbr\\u003eto impostors))\",\"Impostors win!\\u003cbr\\u003e(Crewmates being\\u003cbr\\u003eoutnumbered or tied\\u003cbr\\u003eto impostors))\",\"Impostors win!\\u003cbr\\u003e(Crewmates being\\u003cbr\\u003eoutnumbered or tied\\u003cbr\\u003eto impostors))\",\"Impostors win!\\u003cbr\\u003e(Crewmates being\\u003cbr\\u003eoutnumbered or tied\\u003cbr\\u003eto impostors))\",\"Crewmates win! (All\\u003cbr\\u003etask completed)\",\"Impostors win!\\u003cbr\\u003e(Crewmates being\\u003cbr\\u003eoutnumbered or tied\\u003cbr\\u003eto impostors))\",\"Impostors win!\\u003cbr\\u003e(Crewmates being\\u003cbr\\u003eoutnumbered or tied\\u003cbr\\u003eto impostors))\",\"Crewmates win! (All\\u003cbr\\u003etask completed)\",\"Crewmates win! (All\\u003cbr\\u003etask completed)\",\"Impostors win!\\u003cbr\\u003e(Crewmates being\\u003cbr\\u003eoutnumbered or tied\\u003cbr\\u003eto impostors))\",\"Impostors win!\\u003cbr\\u003e(Crewmates being\\u003cbr\\u003eoutnumbered or tied\\u003cbr\\u003eto impostors))\",\"Impostors win!\\u003cbr\\u003e(Crewmates being\\u003cbr\\u003eoutnumbered or tied\\u003cbr\\u003eto impostors))\",\"Impostors win!\\u003cbr\\u003e(Crewmates being\\u003cbr\\u003eoutnumbered or tied\\u003cbr\\u003eto impostors))\",\"Crewmates win! (All\\u003cbr\\u003etask completed)\",\"Crewmates win! (All\\u003cbr\\u003etask completed)\",\"Crewmates win!\\u003cbr\\u003e(Impostors\\u003cbr\\u003eeliminated)\",\"Impostors win!\\u003cbr\\u003e(Crewmates being\\u003cbr\\u003eoutnumbered or tied\\u003cbr\\u003eto impostors))\",\"Impostors win!\\u003cbr\\u003e(Crewmates being\\u003cbr\\u003eoutnumbered or tied\\u003cbr\\u003eto impostors))\",\"Crewmates win!\\u003cbr\\u003e(Impostors\\u003cbr\\u003eeliminated)\",\"Impostors win!\\u003cbr\\u003e(Crewmates being\\u003cbr\\u003eoutnumbered or tied\\u003cbr\\u003eto impostors))\",\"Crewmates win! (All\\u003cbr\\u003etask completed)\",\"Crewmates win! (All\\u003cbr\\u003etask completed)\",\"Crewmates win!\\u003cbr\\u003e(Impostors\\u003cbr\\u003eeliminated)\",\"Crewmates win!\\u003cbr\\u003e(Impostors\\u003cbr\\u003eeliminated)\",\"Crewmates win! (All\\u003cbr\\u003etask completed)\",\"Impostors win!\\u003cbr\\u003e(Crewmates being\\u003cbr\\u003eoutnumbered or tied\\u003cbr\\u003eto impostors))\",\"Crewmates win! (All\\u003cbr\\u003etask completed)\",\"Crewmates win!\\u003cbr\\u003e(Impostors\\u003cbr\\u003eeliminated)\",\"Crewmates win!\\u003cbr\\u003e(Impostors\\u003cbr\\u003eeliminated)\",\"Crewmates win!\\u003cbr\\u003e(Impostors\\u003cbr\\u003eeliminated)\",\"Crewmates win!\\u003cbr\\u003e(Impostors\\u003cbr\\u003eeliminated)\",\"Crewmates win! (All\\u003cbr\\u003etask completed)\",\"Impostors win!\\u003cbr\\u003e(Crewmates being\\u003cbr\\u003eoutnumbered or tied\\u003cbr\\u003eto impostors))\",\"Impostors win!\\u003cbr\\u003e(Crewmates being\\u003cbr\\u003eoutnumbered or tied\\u003cbr\\u003eto impostors))\",\"Crewmates win!\\u003cbr\\u003e(Impostors\\u003cbr\\u003eeliminated)\",\"Impostors win!\\u003cbr\\u003e(Crewmates being\\u003cbr\\u003eoutnumbered or tied\\u003cbr\\u003eto impostors))\",\"Crewmates win! (All\\u003cbr\\u003etask completed)\",\"Crewmates win!\\u003cbr\\u003e(Impostors\\u003cbr\\u003eeliminated)\",\"Crewmates win! (All\\u003cbr\\u003etask completed)\",\"Crewmates win!\\u003cbr\\u003e(Impostors\\u003cbr\\u003eeliminated)\",\"Crewmates win! (All\\u003cbr\\u003etask completed)\",\"Crewmates win!\\u003cbr\\u003e(Impostors\\u003cbr\\u003eeliminated)\",\"Crewmates win! (All\\u003cbr\\u003etask completed)\",\"Impostors win!\\u003cbr\\u003e(Crewmates being\\u003cbr\\u003eoutnumbered or tied\\u003cbr\\u003eto impostors))\",\"Impostors win!\\u003cbr\\u003e(Crewmates being\\u003cbr\\u003eoutnumbered or tied\\u003cbr\\u003eto impostors))\",\"Crewmates win!\\u003cbr\\u003e(Impostors\\u003cbr\\u003eeliminated)\",\"Crewmates win!\\u003cbr\\u003e(Impostors\\u003cbr\\u003eeliminated)\",\"Impostors win!\\u003cbr\\u003e(Crewmates being\\u003cbr\\u003eoutnumbered or tied\\u003cbr\\u003eto impostors))\",\"Crewmates win! (All\\u003cbr\\u003etask completed)\",\"Crewmates win!\\u003cbr\\u003e(Impostors\\u003cbr\\u003eeliminated)\",\"Impostors win!\\u003cbr\\u003e(Crewmates being\\u003cbr\\u003eoutnumbered or tied\\u003cbr\\u003eto impostors))\",\"Crewmates win!\\u003cbr\\u003e(Impostors\\u003cbr\\u003eeliminated)\",\"Crewmates win!\\u003cbr\\u003e(Impostors\\u003cbr\\u003eeliminated)\",\"Crewmates win! (All\\u003cbr\\u003etask completed)\",\"Crewmates win! (All\\u003cbr\\u003etask completed)\",\"Impostors win!\\u003cbr\\u003e(Crewmates being\\u003cbr\\u003eoutnumbered or tied\\u003cbr\\u003eto impostors))\",\"Crewmates win! (All\\u003cbr\\u003etask completed)\",\"Crewmates win!\\u003cbr\\u003e(Impostors\\u003cbr\\u003eeliminated)\",\"Impostors win!\\u003cbr\\u003e(Crewmates being\\u003cbr\\u003eoutnumbered or tied\\u003cbr\\u003eto impostors))\",\"Impostors win!\\u003cbr\\u003e(Crewmates being\\u003cbr\\u003eoutnumbered or tied\\u003cbr\\u003eto impostors))\",\"Impostors win!\\u003cbr\\u003e(Crewmates being\\u003cbr\\u003eoutnumbered or tied\\u003cbr\\u003eto impostors))\",\"Impostors win!\\u003cbr\\u003e(Crewmates being\\u003cbr\\u003eoutnumbered or tied\\u003cbr\\u003eto impostors))\",\"Crewmates win!\\u003cbr\\u003e(Impostors\\u003cbr\\u003eeliminated)\",\"Crewmates win! (All\\u003cbr\\u003etask completed)\"],\"xaxis\":\"x\",\"yaxis\":\"y\",\"type\":\"histogram\"}],                        {\"template\":{\"data\":{\"histogram2dcontour\":[{\"type\":\"histogram2dcontour\",\"colorbar\":{\"outlinewidth\":0,\"ticks\":\"\"},\"colorscale\":[[0.0,\"#0d0887\"],[0.1111111111111111,\"#46039f\"],[0.2222222222222222,\"#7201a8\"],[0.3333333333333333,\"#9c179e\"],[0.4444444444444444,\"#bd3786\"],[0.5555555555555556,\"#d8576b\"],[0.6666666666666666,\"#ed7953\"],[0.7777777777777778,\"#fb9f3a\"],[0.8888888888888888,\"#fdca26\"],[1.0,\"#f0f921\"]]}],\"choropleth\":[{\"type\":\"choropleth\",\"colorbar\":{\"outlinewidth\":0,\"ticks\":\"\"}}],\"histogram2d\":[{\"type\":\"histogram2d\",\"colorbar\":{\"outlinewidth\":0,\"ticks\":\"\"},\"colorscale\":[[0.0,\"#0d0887\"],[0.1111111111111111,\"#46039f\"],[0.2222222222222222,\"#7201a8\"],[0.3333333333333333,\"#9c179e\"],[0.4444444444444444,\"#bd3786\"],[0.5555555555555556,\"#d8576b\"],[0.6666666666666666,\"#ed7953\"],[0.7777777777777778,\"#fb9f3a\"],[0.8888888888888888,\"#fdca26\"],[1.0,\"#f0f921\"]]}],\"heatmap\":[{\"type\":\"heatmap\",\"colorbar\":{\"outlinewidth\":0,\"ticks\":\"\"},\"colorscale\":[[0.0,\"#0d0887\"],[0.1111111111111111,\"#46039f\"],[0.2222222222222222,\"#7201a8\"],[0.3333333333333333,\"#9c179e\"],[0.4444444444444444,\"#bd3786\"],[0.5555555555555556,\"#d8576b\"],[0.6666666666666666,\"#ed7953\"],[0.7777777777777778,\"#fb9f3a\"],[0.8888888888888888,\"#fdca26\"],[1.0,\"#f0f921\"]]}],\"heatmapgl\":[{\"type\":\"heatmapgl\",\"colorbar\":{\"outlinewidth\":0,\"ticks\":\"\"},\"colorscale\":[[0.0,\"#0d0887\"],[0.1111111111111111,\"#46039f\"],[0.2222222222222222,\"#7201a8\"],[0.3333333333333333,\"#9c179e\"],[0.4444444444444444,\"#bd3786\"],[0.5555555555555556,\"#d8576b\"],[0.6666666666666666,\"#ed7953\"],[0.7777777777777778,\"#fb9f3a\"],[0.8888888888888888,\"#fdca26\"],[1.0,\"#f0f921\"]]}],\"contourcarpet\":[{\"type\":\"contourcarpet\",\"colorbar\":{\"outlinewidth\":0,\"ticks\":\"\"}}],\"contour\":[{\"type\":\"contour\",\"colorbar\":{\"outlinewidth\":0,\"ticks\":\"\"},\"colorscale\":[[0.0,\"#0d0887\"],[0.1111111111111111,\"#46039f\"],[0.2222222222222222,\"#7201a8\"],[0.3333333333333333,\"#9c179e\"],[0.4444444444444444,\"#bd3786\"],[0.5555555555555556,\"#d8576b\"],[0.6666666666666666,\"#ed7953\"],[0.7777777777777778,\"#fb9f3a\"],[0.8888888888888888,\"#fdca26\"],[1.0,\"#f0f921\"]]}],\"surface\":[{\"type\":\"surface\",\"colorbar\":{\"outlinewidth\":0,\"ticks\":\"\"},\"colorscale\":[[0.0,\"#0d0887\"],[0.1111111111111111,\"#46039f\"],[0.2222222222222222,\"#7201a8\"],[0.3333333333333333,\"#9c179e\"],[0.4444444444444444,\"#bd3786\"],[0.5555555555555556,\"#d8576b\"],[0.6666666666666666,\"#ed7953\"],[0.7777777777777778,\"#fb9f3a\"],[0.8888888888888888,\"#fdca26\"],[1.0,\"#f0f921\"]]}],\"mesh3d\":[{\"type\":\"mesh3d\",\"colorbar\":{\"outlinewidth\":0,\"ticks\":\"\"}}],\"scatter\":[{\"fillpattern\":{\"fillmode\":\"overlay\",\"size\":10,\"solidity\":0.2},\"type\":\"scatter\"}],\"parcoords\":[{\"type\":\"parcoords\",\"line\":{\"colorbar\":{\"outlinewidth\":0,\"ticks\":\"\"}}}],\"scatterpolargl\":[{\"type\":\"scatterpolargl\",\"marker\":{\"colorbar\":{\"outlinewidth\":0,\"ticks\":\"\"}}}],\"bar\":[{\"error_x\":{\"color\":\"#2a3f5f\"},\"error_y\":{\"color\":\"#2a3f5f\"},\"marker\":{\"line\":{\"color\":\"#E5ECF6\",\"width\":0.5},\"pattern\":{\"fillmode\":\"overlay\",\"size\":10,\"solidity\":0.2}},\"type\":\"bar\"}],\"scattergeo\":[{\"type\":\"scattergeo\",\"marker\":{\"colorbar\":{\"outlinewidth\":0,\"ticks\":\"\"}}}],\"scatterpolar\":[{\"type\":\"scatterpolar\",\"marker\":{\"colorbar\":{\"outlinewidth\":0,\"ticks\":\"\"}}}],\"histogram\":[{\"marker\":{\"pattern\":{\"fillmode\":\"overlay\",\"size\":10,\"solidity\":0.2}},\"type\":\"histogram\"}],\"scattergl\":[{\"type\":\"scattergl\",\"marker\":{\"colorbar\":{\"outlinewidth\":0,\"ticks\":\"\"}}}],\"scatter3d\":[{\"type\":\"scatter3d\",\"line\":{\"colorbar\":{\"outlinewidth\":0,\"ticks\":\"\"}},\"marker\":{\"colorbar\":{\"outlinewidth\":0,\"ticks\":\"\"}}}],\"scattermapbox\":[{\"type\":\"scattermapbox\",\"marker\":{\"colorbar\":{\"outlinewidth\":0,\"ticks\":\"\"}}}],\"scatterternary\":[{\"type\":\"scatterternary\",\"marker\":{\"colorbar\":{\"outlinewidth\":0,\"ticks\":\"\"}}}],\"scattercarpet\":[{\"type\":\"scattercarpet\",\"marker\":{\"colorbar\":{\"outlinewidth\":0,\"ticks\":\"\"}}}],\"carpet\":[{\"aaxis\":{\"endlinecolor\":\"#2a3f5f\",\"gridcolor\":\"white\",\"linecolor\":\"white\",\"minorgridcolor\":\"white\",\"startlinecolor\":\"#2a3f5f\"},\"baxis\":{\"endlinecolor\":\"#2a3f5f\",\"gridcolor\":\"white\",\"linecolor\":\"white\",\"minorgridcolor\":\"white\",\"startlinecolor\":\"#2a3f5f\"},\"type\":\"carpet\"}],\"table\":[{\"cells\":{\"fill\":{\"color\":\"#EBF0F8\"},\"line\":{\"color\":\"white\"}},\"header\":{\"fill\":{\"color\":\"#C8D4E3\"},\"line\":{\"color\":\"white\"}},\"type\":\"table\"}],\"barpolar\":[{\"marker\":{\"line\":{\"color\":\"#E5ECF6\",\"width\":0.5},\"pattern\":{\"fillmode\":\"overlay\",\"size\":10,\"solidity\":0.2}},\"type\":\"barpolar\"}],\"pie\":[{\"automargin\":true,\"type\":\"pie\"}]},\"layout\":{\"autotypenumbers\":\"strict\",\"colorway\":[\"#636efa\",\"#EF553B\",\"#00cc96\",\"#ab63fa\",\"#FFA15A\",\"#19d3f3\",\"#FF6692\",\"#B6E880\",\"#FF97FF\",\"#FECB52\"],\"font\":{\"color\":\"#2a3f5f\"},\"hovermode\":\"closest\",\"hoverlabel\":{\"align\":\"left\"},\"paper_bgcolor\":\"white\",\"plot_bgcolor\":\"#E5ECF6\",\"polar\":{\"bgcolor\":\"#E5ECF6\",\"angularaxis\":{\"gridcolor\":\"white\",\"linecolor\":\"white\",\"ticks\":\"\"},\"radialaxis\":{\"gridcolor\":\"white\",\"linecolor\":\"white\",\"ticks\":\"\"}},\"ternary\":{\"bgcolor\":\"#E5ECF6\",\"aaxis\":{\"gridcolor\":\"white\",\"linecolor\":\"white\",\"ticks\":\"\"},\"baxis\":{\"gridcolor\":\"white\",\"linecolor\":\"white\",\"ticks\":\"\"},\"caxis\":{\"gridcolor\":\"white\",\"linecolor\":\"white\",\"ticks\":\"\"}},\"coloraxis\":{\"colorbar\":{\"outlinewidth\":0,\"ticks\":\"\"}},\"colorscale\":{\"sequential\":[[0.0,\"#0d0887\"],[0.1111111111111111,\"#46039f\"],[0.2222222222222222,\"#7201a8\"],[0.3333333333333333,\"#9c179e\"],[0.4444444444444444,\"#bd3786\"],[0.5555555555555556,\"#d8576b\"],[0.6666666666666666,\"#ed7953\"],[0.7777777777777778,\"#fb9f3a\"],[0.8888888888888888,\"#fdca26\"],[1.0,\"#f0f921\"]],\"sequentialminus\":[[0.0,\"#0d0887\"],[0.1111111111111111,\"#46039f\"],[0.2222222222222222,\"#7201a8\"],[0.3333333333333333,\"#9c179e\"],[0.4444444444444444,\"#bd3786\"],[0.5555555555555556,\"#d8576b\"],[0.6666666666666666,\"#ed7953\"],[0.7777777777777778,\"#fb9f3a\"],[0.8888888888888888,\"#fdca26\"],[1.0,\"#f0f921\"]],\"diverging\":[[0,\"#8e0152\"],[0.1,\"#c51b7d\"],[0.2,\"#de77ae\"],[0.3,\"#f1b6da\"],[0.4,\"#fde0ef\"],[0.5,\"#f7f7f7\"],[0.6,\"#e6f5d0\"],[0.7,\"#b8e186\"],[0.8,\"#7fbc41\"],[0.9,\"#4d9221\"],[1,\"#276419\"]]},\"xaxis\":{\"gridcolor\":\"white\",\"linecolor\":\"white\",\"ticks\":\"\",\"title\":{\"standoff\":15},\"zerolinecolor\":\"white\",\"automargin\":true,\"zerolinewidth\":2},\"yaxis\":{\"gridcolor\":\"white\",\"linecolor\":\"white\",\"ticks\":\"\",\"title\":{\"standoff\":15},\"zerolinecolor\":\"white\",\"automargin\":true,\"zerolinewidth\":2},\"scene\":{\"xaxis\":{\"backgroundcolor\":\"#E5ECF6\",\"gridcolor\":\"white\",\"linecolor\":\"white\",\"showbackground\":true,\"ticks\":\"\",\"zerolinecolor\":\"white\",\"gridwidth\":2},\"yaxis\":{\"backgroundcolor\":\"#E5ECF6\",\"gridcolor\":\"white\",\"linecolor\":\"white\",\"showbackground\":true,\"ticks\":\"\",\"zerolinecolor\":\"white\",\"gridwidth\":2},\"zaxis\":{\"backgroundcolor\":\"#E5ECF6\",\"gridcolor\":\"white\",\"linecolor\":\"white\",\"showbackground\":true,\"ticks\":\"\",\"zerolinecolor\":\"white\",\"gridwidth\":2}},\"shapedefaults\":{\"line\":{\"color\":\"#2a3f5f\"}},\"annotationdefaults\":{\"arrowcolor\":\"#2a3f5f\",\"arrowhead\":0,\"arrowwidth\":1},\"geo\":{\"bgcolor\":\"white\",\"landcolor\":\"#E5ECF6\",\"subunitcolor\":\"white\",\"showland\":true,\"showlakes\":true,\"lakecolor\":\"white\"},\"title\":{\"x\":0.05},\"mapbox\":{\"style\":\"light\"}}},\"xaxis\":{\"anchor\":\"y\",\"domain\":[0.0,1.0],\"title\":{\"text\":\"Winner Reason\",\"font\":{\"family\":\"serif\",\"size\":18,\"color\":\"black\"}},\"tickfont\":{\"family\":\"serif\",\"size\":18,\"color\":\"black\"},\"showline\":true,\"linewidth\":1,\"linecolor\":\"black\",\"mirror\":false,\"tickangle\":0},\"yaxis\":{\"anchor\":\"x\",\"domain\":[0.0,1.0],\"title\":{\"text\":\"Count\",\"font\":{\"family\":\"serif\",\"size\":18,\"color\":\"black\"}},\"showgrid\":true,\"gridwidth\":1,\"gridcolor\":\"LightGray\",\"tickfont\":{\"family\":\"serif\",\"size\":18,\"color\":\"black\"}},\"legend\":{\"title\":{\"text\":\"Models\"},\"tracegroupgap\":0,\"orientation\":\"v\",\"yanchor\":\"top\",\"y\":1,\"xanchor\":\"right\",\"x\":0.85,\"traceorder\":\"normal\",\"bgcolor\":\"white\",\"bordercolor\":\"black\",\"borderwidth\":1},\"margin\":{\"t\":60},\"barmode\":\"group\",\"showlegend\":true,\"autosize\":false,\"width\":750,\"height\":500,\"plot_bgcolor\":\"rgba(255, 255, 255, 1)\",\"font\":{\"family\":\"serif\",\"size\":15,\"color\":\"black\"}},                        {\"responsive\": true}                    ).then(function(){\n",
       "                            \n",
       "var gd = document.getElementById('9cf13c61-697c-418c-9c58-8781a22242ce');\n",
       "var x = new MutationObserver(function (mutations, observer) {{\n",
       "        var display = window.getComputedStyle(gd).display;\n",
       "        if (!display || display === 'none') {{\n",
       "            console.log([gd, 'removed!']);\n",
       "            Plotly.purge(gd);\n",
       "            observer.disconnect();\n",
       "        }}\n",
       "}});\n",
       "\n",
       "// Listen for the removal of the full notebook cells\n",
       "var notebookContainer = gd.closest('#notebook-container');\n",
       "if (notebookContainer) {{\n",
       "    x.observe(notebookContainer, {childList: true});\n",
       "}}\n",
       "\n",
       "// Listen for the clearing of the current output cell\n",
       "var outputEl = gd.closest('.output');\n",
       "if (outputEl) {{\n",
       "    x.observe(outputEl, {childList: true});\n",
       "}}\n",
       "\n",
       "                        })                };                });            </script>        </div>"
      ]
     },
     "metadata": {},
     "output_type": "display_data"
    }
   ],
   "source": [
    "fig = px.histogram(\n",
    "    combined_df, \n",
    "    x=\"Winner Reason\",\n",
    "    color=\"Models\",\n",
    "    title=\"\", \n",
    "    barmode=\"group\"\n",
    ")\n",
    "\n",
    "fig.update_layout(\n",
    "    xaxis_title=\"Winner Reason\",\n",
    "    yaxis_title=\"Count\",\n",
    "    showlegend=True,\n",
    "    autosize=False,\n",
    "    width=1000,\n",
    "    height=500,\n",
    "    plot_bgcolor='white'\n",
    ")\n",
    "\n",
    "# show legend at fixed position\n",
    "fig.update_layout(legend=dict(\n",
    "    orientation=\"v\",\n",
    "    yanchor=\"top\",\n",
    "    y=1.02,\n",
    "    xanchor=\"right\",\n",
    "    x=0.85\n",
    "))\n",
    "\n",
    "fig.update_layout({'plot_bgcolor': 'rgba(255, 255, 255, 1)',})\n",
    "# show fine grid lines on both axes on both subplotsß\n",
    "# fig.update_xaxes(showgrid=True, gridwidth=1, gridcolor='LightGray')\n",
    "fig.update_yaxes(showgrid=True, gridwidth=1, gridcolor='LightGray')\n",
    "\n",
    "# legend inside the plot in a box\n",
    "fig.update_layout(legend=dict(x=0.85, y=1, traceorder=\"normal\", bgcolor=\"white\", bordercolor=\"black\", borderwidth=1))\n",
    "\n",
    "# width and height\n",
    "fig.update_layout(width=750, height=500)\n",
    "\n",
    "# make y axis start from 0\n",
    "# fig.update_yaxes(range=[0, 0.6])\n",
    "\n",
    "# # ticks on both axes\n",
    "# fig.update_xaxes(tickmode='linear', tick0=0, dtick=500)\n",
    "# fig.update_yaxes(tickmode='linear', tick0=0, dtick=0.2)\n",
    "\n",
    "# everthing latex font (for research paper)\n",
    "fig.update_layout(font=dict(family='serif', size=15, color='black'))\n",
    "fig.update_xaxes(title_font=dict(family='serif', size=18, color='black'))\n",
    "fig.update_yaxes(title_font=dict(family='serif', size=18, color='black'))\n",
    "fig.update_xaxes(tickfont=dict(family='serif', size=18, color='black'))\n",
    "fig.update_yaxes(tickfont=dict(family='serif', size=18, color='black'))\n",
    "fig.update_xaxes(showline=True, linewidth=1, linecolor='black', mirror=False)\n",
    "\n",
    "fig.update_xaxes(tickangle=0)\n",
    "fig.show()"
   ]
  },
  {
   "cell_type": "code",
   "execution_count": 39,
   "metadata": {},
   "outputs": [
    {
     "data": {
      "application/vnd.plotly.v1+json": {
       "config": {
        "plotlyServerURL": "https://plot.ly"
       },
       "data": [
        {
         "alignmentgroup": "True",
         "bingroup": "x",
         "hovertemplate": "Models=Crew: Phi, Imp: Llama<br>Winner Reason=%{x}<br>count=%{y}<extra></extra>",
         "legendgroup": "Crew: Phi, Imp: Llama",
         "marker": {
          "color": "#636efa",
          "pattern": {
           "shape": ""
          }
         },
         "name": "Crew: Phi, Imp: Llama",
         "offsetgroup": "Crew: Phi, Imp: Llama",
         "orientation": "v",
         "showlegend": true,
         "type": "histogram",
         "x": [
          "Impostors win!<br>(Crewmates being<br>outnumbered or tied<br>to impostors))",
          "Impostors win!<br>(Crewmates being<br>outnumbered or tied<br>to impostors))",
          "Impostors win!<br>(Crewmates being<br>outnumbered or tied<br>to impostors))",
          "Impostors win!<br>(Crewmates being<br>outnumbered or tied<br>to impostors))",
          "Crewmates win!<br>(Impostors<br>eliminated)",
          "Impostors win!<br>(Crewmates being<br>outnumbered or tied<br>to impostors))",
          "Crewmates win! (All<br>task completed)",
          "Impostors win!<br>(Crewmates being<br>outnumbered or tied<br>to impostors))",
          "Impostors win!<br>(Crewmates being<br>outnumbered or tied<br>to impostors))",
          "Crewmates win! (All<br>task completed)",
          "Crewmates win!<br>(Impostors<br>eliminated)",
          "Crewmates win! (All<br>task completed)",
          "Impostors win!<br>(Crewmates being<br>outnumbered or tied<br>to impostors))",
          "Impostors win!<br>(Crewmates being<br>outnumbered or tied<br>to impostors))",
          "Impostors win!<br>(Crewmates being<br>outnumbered or tied<br>to impostors))",
          "Impostors win!<br>(Crewmates being<br>outnumbered or tied<br>to impostors))",
          "Impostors win!<br>(Crewmates being<br>outnumbered or tied<br>to impostors))",
          "Crewmates win!<br>(Impostors<br>eliminated)",
          "Impostors win!<br>(Crewmates being<br>outnumbered or tied<br>to impostors))",
          "Impostors win!<br>(Crewmates being<br>outnumbered or tied<br>to impostors))",
          "Impostors win!<br>(Crewmates being<br>outnumbered or tied<br>to impostors))",
          "Impostors win!<br>(Crewmates being<br>outnumbered or tied<br>to impostors))",
          "Impostors win!<br>(Crewmates being<br>outnumbered or tied<br>to impostors))",
          "Crewmates win! (All<br>task completed)",
          "Impostors win!<br>(Crewmates being<br>outnumbered or tied<br>to impostors))",
          "Crewmates win! (All<br>task completed)",
          "Impostors win!<br>(Crewmates being<br>outnumbered or tied<br>to impostors))",
          "Crewmates win! (All<br>task completed)",
          "Impostors win!<br>(Crewmates being<br>outnumbered or tied<br>to impostors))",
          "Crewmates win! (All<br>task completed)",
          "Crewmates win! (All<br>task completed)",
          "Crewmates win!<br>(Impostors<br>eliminated)",
          "Impostors win!<br>(Crewmates being<br>outnumbered or tied<br>to impostors))",
          "Impostors win!<br>(Crewmates being<br>outnumbered or tied<br>to impostors))",
          "Crewmates win!<br>(Impostors<br>eliminated)",
          "Crewmates win! (All<br>task completed)",
          "Impostors win!<br>(Crewmates being<br>outnumbered or tied<br>to impostors))",
          "Impostors win!<br>(Crewmates being<br>outnumbered or tied<br>to impostors))",
          "Impostors win!<br>(Crewmates being<br>outnumbered or tied<br>to impostors))",
          "Crewmates win! (All<br>task completed)",
          "Impostors win!<br>(Crewmates being<br>outnumbered or tied<br>to impostors))",
          "Crewmates win!<br>(Impostors<br>eliminated)",
          "Crewmates win!<br>(Impostors<br>eliminated)",
          "Impostors win!<br>(Crewmates being<br>outnumbered or tied<br>to impostors))",
          "Impostors win!<br>(Crewmates being<br>outnumbered or tied<br>to impostors))",
          "Impostors win!<br>(Crewmates being<br>outnumbered or tied<br>to impostors))",
          "Crewmates win! (All<br>task completed)",
          "Crewmates win! (All<br>task completed)",
          "Crewmates win!<br>(Impostors<br>eliminated)",
          "Impostors win!<br>(Crewmates being<br>outnumbered or tied<br>to impostors))",
          "Impostors win!<br>(Crewmates being<br>outnumbered or tied<br>to impostors))",
          "Crewmates win!<br>(Impostors<br>eliminated)",
          "Crewmates win! (All<br>task completed)",
          "Crewmates win! (All<br>task completed)",
          "Impostors win!<br>(Crewmates being<br>outnumbered or tied<br>to impostors))",
          "Impostors win!<br>(Crewmates being<br>outnumbered or tied<br>to impostors))",
          "Impostors win!<br>(Crewmates being<br>outnumbered or tied<br>to impostors))",
          "Impostors win!<br>(Crewmates being<br>outnumbered or tied<br>to impostors))",
          "Crewmates win!<br>(Impostors<br>eliminated)",
          "Crewmates win!<br>(Impostors<br>eliminated)",
          "Crewmates win!<br>(Impostors<br>eliminated)",
          "Crewmates win!<br>(Impostors<br>eliminated)",
          "Impostors win!<br>(Crewmates being<br>outnumbered or tied<br>to impostors))",
          "Crewmates win! (All<br>task completed)",
          "Crewmates win!<br>(Impostors<br>eliminated)",
          "Impostors win!<br>(Crewmates being<br>outnumbered or tied<br>to impostors))",
          "Impostors win!<br>(Crewmates being<br>outnumbered or tied<br>to impostors))",
          "Impostors win!<br>(Crewmates being<br>outnumbered or tied<br>to impostors))",
          "Crewmates win!<br>(Impostors<br>eliminated)",
          "Crewmates win!<br>(Impostors<br>eliminated)",
          "Crewmates win!<br>(Impostors<br>eliminated)",
          "Impostors win!<br>(Crewmates being<br>outnumbered or tied<br>to impostors))",
          "Crewmates win!<br>(Impostors<br>eliminated)",
          "Crewmates win! (All<br>task completed)",
          "Crewmates win!<br>(Impostors<br>eliminated)",
          "Crewmates win! (All<br>task completed)",
          "Crewmates win!<br>(Impostors<br>eliminated)",
          "Crewmates win! (All<br>task completed)",
          "Crewmates win! (All<br>task completed)",
          "Crewmates win!<br>(Impostors<br>eliminated)",
          "Crewmates win! (All<br>task completed)",
          "Impostors win!<br>(Crewmates being<br>outnumbered or tied<br>to impostors))",
          "Crewmates win!<br>(Impostors<br>eliminated)",
          "Crewmates win!<br>(Impostors<br>eliminated)",
          "Impostors win!<br>(Crewmates being<br>outnumbered or tied<br>to impostors))",
          "Impostors win!<br>(Crewmates being<br>outnumbered or tied<br>to impostors))",
          "Crewmates win!<br>(Impostors<br>eliminated)",
          "Crewmates win!<br>(Impostors<br>eliminated)",
          "Crewmates win!<br>(Impostors<br>eliminated)",
          "Crewmates win! (All<br>task completed)",
          "Crewmates win!<br>(Impostors<br>eliminated)",
          "Impostors win!<br>(Crewmates being<br>outnumbered or tied<br>to impostors))",
          "Impostors win!<br>(Crewmates being<br>outnumbered or tied<br>to impostors))",
          "Impostors win!<br>(Crewmates being<br>outnumbered or tied<br>to impostors))",
          "Crewmates win! (All<br>task completed)",
          "Crewmates win! (All<br>task completed)",
          "Impostors win!<br>(Crewmates being<br>outnumbered or tied<br>to impostors))",
          "Crewmates win!<br>(Impostors<br>eliminated)",
          "Crewmates win! (All<br>task completed)",
          "Crewmates win!<br>(Impostors<br>eliminated)"
         ],
         "xaxis": "x",
         "yaxis": "y"
        },
        {
         "alignmentgroup": "True",
         "bingroup": "x",
         "hovertemplate": "Models=Crew: Llama, Imp: Phi<br>Winner Reason=%{x}<br>count=%{y}<extra></extra>",
         "legendgroup": "Crew: Llama, Imp: Phi",
         "marker": {
          "color": "#EF553B",
          "pattern": {
           "shape": ""
          }
         },
         "name": "Crew: Llama, Imp: Phi",
         "offsetgroup": "Crew: Llama, Imp: Phi",
         "orientation": "v",
         "showlegend": true,
         "type": "histogram",
         "x": [
          "Impostors win!<br>(Crewmates being<br>outnumbered or tied<br>to impostors))",
          "Impostors win!<br>(Crewmates being<br>outnumbered or tied<br>to impostors))",
          "Impostors win!<br>(Crewmates being<br>outnumbered or tied<br>to impostors))",
          "Impostors win!<br>(Crewmates being<br>outnumbered or tied<br>to impostors))",
          "Impostors win!<br>(Crewmates being<br>outnumbered or tied<br>to impostors))",
          "Crewmates win! (All<br>task completed)",
          "Impostors win!<br>(Crewmates being<br>outnumbered or tied<br>to impostors))",
          "Crewmates win!<br>(Impostors<br>eliminated)",
          "Impostors win!<br>(Crewmates being<br>outnumbered or tied<br>to impostors))",
          "Crewmates win! (All<br>task completed)",
          "Impostors win!<br>(Crewmates being<br>outnumbered or tied<br>to impostors))",
          "Crewmates win!<br>(Impostors<br>eliminated)",
          "Crewmates win! (All<br>task completed)",
          "Crewmates win!<br>(Impostors<br>eliminated)",
          "Crewmates win!<br>(Impostors<br>eliminated)",
          "Crewmates win! (All<br>task completed)",
          "Crewmates win!<br>(Impostors<br>eliminated)",
          "Crewmates win!<br>(Impostors<br>eliminated)",
          "Impostors win!<br>(Crewmates being<br>outnumbered or tied<br>to impostors))",
          "Crewmates win!<br>(Impostors<br>eliminated)",
          "Impostors win!<br>(Crewmates being<br>outnumbered or tied<br>to impostors))",
          "Impostors win!<br>(Crewmates being<br>outnumbered or tied<br>to impostors))",
          "Crewmates win!<br>(Impostors<br>eliminated)",
          "Crewmates win! (All<br>task completed)",
          "Crewmates win! (All<br>task completed)",
          "Impostors win!<br>(Crewmates being<br>outnumbered or tied<br>to impostors))",
          "Crewmates win!<br>(Impostors<br>eliminated)",
          "Crewmates win!<br>(Impostors<br>eliminated)",
          "Crewmates win! (All<br>task completed)",
          "Crewmates win!<br>(Impostors<br>eliminated)",
          "Crewmates win!<br>(Impostors<br>eliminated)",
          "Crewmates win! (All<br>task completed)",
          "Impostors win!<br>(Crewmates being<br>outnumbered or tied<br>to impostors))",
          "Impostors win!<br>(Crewmates being<br>outnumbered or tied<br>to impostors))",
          "Crewmates win!<br>(Impostors<br>eliminated)",
          "Crewmates win!<br>(Impostors<br>eliminated)",
          "Crewmates win! (All<br>task completed)",
          "Crewmates win!<br>(Impostors<br>eliminated)",
          "Crewmates win! (All<br>task completed)",
          "Impostors win!<br>(Crewmates being<br>outnumbered or tied<br>to impostors))",
          "Crewmates win!<br>(Impostors<br>eliminated)",
          "Crewmates win!<br>(Impostors<br>eliminated)",
          "Crewmates win! (All<br>task completed)",
          "Crewmates win!<br>(Impostors<br>eliminated)",
          "Crewmates win!<br>(Impostors<br>eliminated)",
          "Impostors win!<br>(Crewmates being<br>outnumbered or tied<br>to impostors))",
          "Impostors win!<br>(Crewmates being<br>outnumbered or tied<br>to impostors))",
          "Crewmates win!<br>(Impostors<br>eliminated)",
          "Crewmates win!<br>(Impostors<br>eliminated)",
          "Crewmates win! (All<br>task completed)",
          "Crewmates win!<br>(Impostors<br>eliminated)",
          "Crewmates win!<br>(Impostors<br>eliminated)",
          "Crewmates win! (All<br>task completed)",
          "Crewmates win! (All<br>task completed)",
          "Crewmates win!<br>(Impostors<br>eliminated)",
          "Crewmates win!<br>(Impostors<br>eliminated)",
          "Crewmates win!<br>(Impostors<br>eliminated)",
          "Crewmates win!<br>(Impostors<br>eliminated)",
          "Crewmates win! (All<br>task completed)",
          "Crewmates win! (All<br>task completed)",
          "Crewmates win!<br>(Impostors<br>eliminated)",
          "Crewmates win! (All<br>task completed)",
          "Crewmates win!<br>(Impostors<br>eliminated)",
          "Crewmates win!<br>(Impostors<br>eliminated)",
          "Crewmates win! (All<br>task completed)",
          "Impostors win!<br>(Crewmates being<br>outnumbered or tied<br>to impostors))",
          "Crewmates win!<br>(Impostors<br>eliminated)",
          "Crewmates win!<br>(Impostors<br>eliminated)",
          "Crewmates win!<br>(Impostors<br>eliminated)",
          "Crewmates win! (All<br>task completed)",
          "Crewmates win!<br>(Impostors<br>eliminated)",
          "Crewmates win! (All<br>task completed)",
          "Crewmates win!<br>(Impostors<br>eliminated)",
          "Crewmates win!<br>(Impostors<br>eliminated)",
          "Crewmates win! (All<br>task completed)",
          "Crewmates win! (All<br>task completed)",
          "Crewmates win!<br>(Impostors<br>eliminated)",
          "Crewmates win!<br>(Impostors<br>eliminated)",
          "Crewmates win!<br>(Impostors<br>eliminated)",
          "Crewmates win!<br>(Impostors<br>eliminated)",
          "Crewmates win! (All<br>task completed)",
          "Crewmates win! (All<br>task completed)",
          "Crewmates win!<br>(Impostors<br>eliminated)",
          "Crewmates win!<br>(Impostors<br>eliminated)",
          "Impostors win!<br>(Crewmates being<br>outnumbered or tied<br>to impostors))",
          "Crewmates win! (All<br>task completed)",
          "Crewmates win!<br>(Impostors<br>eliminated)",
          "Crewmates win!<br>(Impostors<br>eliminated)",
          "Impostors win!<br>(Crewmates being<br>outnumbered or tied<br>to impostors))",
          "Impostors win!<br>(Crewmates being<br>outnumbered or tied<br>to impostors))",
          "Crewmates win!<br>(Impostors<br>eliminated)",
          "Crewmates win!<br>(Impostors<br>eliminated)",
          "Crewmates win! (All<br>task completed)",
          "Crewmates win!<br>(Impostors<br>eliminated)",
          "Crewmates win! (All<br>task completed)",
          "Crewmates win!<br>(Impostors<br>eliminated)",
          "Impostors win!<br>(Crewmates being<br>outnumbered or tied<br>to impostors))",
          "Impostors win!<br>(Crewmates being<br>outnumbered or tied<br>to impostors))",
          "Crewmates win!<br>(Impostors<br>eliminated)",
          "Crewmates win! (All<br>task completed)"
         ],
         "xaxis": "x",
         "yaxis": "y"
        },
        {
         "alignmentgroup": "True",
         "bingroup": "x",
         "hovertemplate": "Models=Crew: Phi, Imp: Phi<br>Winner Reason=%{x}<br>count=%{y}<extra></extra>",
         "legendgroup": "Crew: Phi, Imp: Phi",
         "marker": {
          "color": "#00cc96",
          "pattern": {
           "shape": ""
          }
         },
         "name": "Crew: Phi, Imp: Phi",
         "offsetgroup": "Crew: Phi, Imp: Phi",
         "orientation": "v",
         "showlegend": true,
         "type": "histogram",
         "x": [
          "Impostors win!<br>(Crewmates being<br>outnumbered or tied<br>to impostors))",
          "Impostors win!<br>(Crewmates being<br>outnumbered or tied<br>to impostors))",
          "Impostors win!<br>(Crewmates being<br>outnumbered or tied<br>to impostors))",
          "Impostors win!<br>(Crewmates being<br>outnumbered or tied<br>to impostors))",
          "Impostors win!<br>(Crewmates being<br>outnumbered or tied<br>to impostors))",
          "Impostors win!<br>(Crewmates being<br>outnumbered or tied<br>to impostors))",
          "Impostors win!<br>(Crewmates being<br>outnumbered or tied<br>to impostors))",
          "Impostors win!<br>(Crewmates being<br>outnumbered or tied<br>to impostors))",
          "Impostors win!<br>(Crewmates being<br>outnumbered or tied<br>to impostors))",
          "Impostors win!<br>(Crewmates being<br>outnumbered or tied<br>to impostors))",
          "Crewmates win! (All<br>task completed)",
          "Crewmates win!<br>(Impostors<br>eliminated)",
          "Crewmates win!<br>(Impostors<br>eliminated)",
          "Impostors win!<br>(Crewmates being<br>outnumbered or tied<br>to impostors))",
          "Impostors win!<br>(Crewmates being<br>outnumbered or tied<br>to impostors))",
          "Crewmates win!<br>(Impostors<br>eliminated)",
          "Impostors win!<br>(Crewmates being<br>outnumbered or tied<br>to impostors))",
          "Crewmates win!<br>(Impostors<br>eliminated)",
          "Crewmates win!<br>(Impostors<br>eliminated)",
          "Crewmates win!<br>(Impostors<br>eliminated)",
          "Impostors win!<br>(Crewmates being<br>outnumbered or tied<br>to impostors))",
          "Crewmates win!<br>(Impostors<br>eliminated)",
          "Impostors win!<br>(Crewmates being<br>outnumbered or tied<br>to impostors))",
          "Impostors win!<br>(Crewmates being<br>outnumbered or tied<br>to impostors))",
          "Crewmates win! (All<br>task completed)",
          "Crewmates win!<br>(Impostors<br>eliminated)",
          "Impostors win!<br>(Crewmates being<br>outnumbered or tied<br>to impostors))",
          "Crewmates win!<br>(Impostors<br>eliminated)",
          "Crewmates win! (All<br>task completed)",
          "Crewmates win!<br>(Impostors<br>eliminated)",
          "Impostors win!<br>(Crewmates being<br>outnumbered or tied<br>to impostors))",
          "Crewmates win! (All<br>task completed)",
          "Crewmates win!<br>(Impostors<br>eliminated)",
          "Crewmates win!<br>(Impostors<br>eliminated)",
          "Impostors win!<br>(Crewmates being<br>outnumbered or tied<br>to impostors))",
          "Crewmates win!<br>(Impostors<br>eliminated)",
          "Crewmates win!<br>(Impostors<br>eliminated)",
          "Impostors win!<br>(Crewmates being<br>outnumbered or tied<br>to impostors))",
          "Impostors win!<br>(Crewmates being<br>outnumbered or tied<br>to impostors))",
          "Impostors win!<br>(Crewmates being<br>outnumbered or tied<br>to impostors))",
          "Crewmates win!<br>(Impostors<br>eliminated)",
          "Crewmates win!<br>(Impostors<br>eliminated)",
          "Crewmates win! (All<br>task completed)",
          "Crewmates win!<br>(Impostors<br>eliminated)",
          "Crewmates win!<br>(Impostors<br>eliminated)",
          "Crewmates win!<br>(Impostors<br>eliminated)",
          "Crewmates win!<br>(Impostors<br>eliminated)",
          "Impostors win!<br>(Crewmates being<br>outnumbered or tied<br>to impostors))",
          "Impostors win!<br>(Crewmates being<br>outnumbered or tied<br>to impostors))",
          "Impostors win!<br>(Crewmates being<br>outnumbered or tied<br>to impostors))",
          "Crewmates win!<br>(Impostors<br>eliminated)",
          "Impostors win!<br>(Crewmates being<br>outnumbered or tied<br>to impostors))",
          "Impostors win!<br>(Crewmates being<br>outnumbered or tied<br>to impostors))",
          "Crewmates win!<br>(Impostors<br>eliminated)",
          "Crewmates win!<br>(Impostors<br>eliminated)",
          "Crewmates win!<br>(Impostors<br>eliminated)",
          "Impostors win!<br>(Crewmates being<br>outnumbered or tied<br>to impostors))",
          "Impostors win!<br>(Crewmates being<br>outnumbered or tied<br>to impostors))",
          "Crewmates win!<br>(Impostors<br>eliminated)",
          "Crewmates win!<br>(Impostors<br>eliminated)",
          "Impostors win!<br>(Crewmates being<br>outnumbered or tied<br>to impostors))",
          "Crewmates win!<br>(Impostors<br>eliminated)",
          "Crewmates win!<br>(Impostors<br>eliminated)",
          "Impostors win!<br>(Crewmates being<br>outnumbered or tied<br>to impostors))",
          "Crewmates win!<br>(Impostors<br>eliminated)",
          "Crewmates win!<br>(Impostors<br>eliminated)",
          "Impostors win!<br>(Crewmates being<br>outnumbered or tied<br>to impostors))",
          "Crewmates win! (All<br>task completed)",
          "Crewmates win!<br>(Impostors<br>eliminated)",
          "Crewmates win!<br>(Impostors<br>eliminated)",
          "Impostors win!<br>(Crewmates being<br>outnumbered or tied<br>to impostors))",
          "Crewmates win!<br>(Impostors<br>eliminated)",
          "Crewmates win!<br>(Impostors<br>eliminated)",
          "Crewmates win! (All<br>task completed)",
          "Crewmates win!<br>(Impostors<br>eliminated)",
          "Crewmates win!<br>(Impostors<br>eliminated)",
          "Crewmates win! (All<br>task completed)",
          "Impostors win!<br>(Crewmates being<br>outnumbered or tied<br>to impostors))",
          "Impostors win!<br>(Crewmates being<br>outnumbered or tied<br>to impostors))",
          "Crewmates win!<br>(Impostors<br>eliminated)",
          "Impostors win!<br>(Crewmates being<br>outnumbered or tied<br>to impostors))",
          "Impostors win!<br>(Crewmates being<br>outnumbered or tied<br>to impostors))",
          "Crewmates win! (All<br>task completed)",
          "Crewmates win!<br>(Impostors<br>eliminated)",
          "Impostors win!<br>(Crewmates being<br>outnumbered or tied<br>to impostors))",
          "Crewmates win!<br>(Impostors<br>eliminated)",
          "Crewmates win! (All<br>task completed)",
          "Crewmates win! (All<br>task completed)",
          "Crewmates win! (All<br>task completed)",
          "Impostors win!<br>(Crewmates being<br>outnumbered or tied<br>to impostors))",
          "Impostors win!<br>(Crewmates being<br>outnumbered or tied<br>to impostors))",
          "Impostors win!<br>(Crewmates being<br>outnumbered or tied<br>to impostors))",
          "Crewmates win!<br>(Impostors<br>eliminated)",
          "Crewmates win!<br>(Impostors<br>eliminated)",
          "Crewmates win! (All<br>task completed)",
          "Crewmates win! (All<br>task completed)",
          "Impostors win!<br>(Crewmates being<br>outnumbered or tied<br>to impostors))",
          "Crewmates win!<br>(Impostors<br>eliminated)",
          "Crewmates win!<br>(Impostors<br>eliminated)",
          "Impostors win! (Time<br>limit reached)"
         ],
         "xaxis": "x",
         "yaxis": "y"
        },
        {
         "alignmentgroup": "True",
         "bingroup": "x",
         "hovertemplate": "Models=Crew: Llama, Imp: Llama<br>Winner Reason=%{x}<br>count=%{y}<extra></extra>",
         "legendgroup": "Crew: Llama, Imp: Llama",
         "marker": {
          "color": "#ab63fa",
          "pattern": {
           "shape": ""
          }
         },
         "name": "Crew: Llama, Imp: Llama",
         "offsetgroup": "Crew: Llama, Imp: Llama",
         "orientation": "v",
         "showlegend": true,
         "type": "histogram",
         "x": [
          "Impostors win!<br>(Crewmates being<br>outnumbered or tied<br>to impostors))",
          "Impostors win!<br>(Crewmates being<br>outnumbered or tied<br>to impostors))",
          "Impostors win!<br>(Crewmates being<br>outnumbered or tied<br>to impostors))",
          "Impostors win!<br>(Crewmates being<br>outnumbered or tied<br>to impostors))",
          "Impostors win!<br>(Crewmates being<br>outnumbered or tied<br>to impostors))",
          "Crewmates win! (All<br>task completed)",
          "Crewmates win! (All<br>task completed)",
          "Impostors win!<br>(Crewmates being<br>outnumbered or tied<br>to impostors))",
          "Crewmates win! (All<br>task completed)",
          "Crewmates win! (All<br>task completed)",
          "Crewmates win! (All<br>task completed)",
          "Crewmates win! (All<br>task completed)",
          "Impostors win!<br>(Crewmates being<br>outnumbered or tied<br>to impostors))",
          "Impostors win!<br>(Crewmates being<br>outnumbered or tied<br>to impostors))",
          "Crewmates win! (All<br>task completed)",
          "Crewmates win! (All<br>task completed)",
          "Crewmates win! (All<br>task completed)",
          "Impostors win!<br>(Crewmates being<br>outnumbered or tied<br>to impostors))",
          "Impostors win!<br>(Crewmates being<br>outnumbered or tied<br>to impostors))",
          "Crewmates win! (All<br>task completed)",
          "Crewmates win! (All<br>task completed)",
          "Impostors win!<br>(Crewmates being<br>outnumbered or tied<br>to impostors))",
          "Impostors win!<br>(Crewmates being<br>outnumbered or tied<br>to impostors))",
          "Impostors win!<br>(Crewmates being<br>outnumbered or tied<br>to impostors))",
          "Crewmates win! (All<br>task completed)",
          "Impostors win!<br>(Crewmates being<br>outnumbered or tied<br>to impostors))",
          "Crewmates win! (All<br>task completed)",
          "Crewmates win! (All<br>task completed)",
          "Impostors win!<br>(Crewmates being<br>outnumbered or tied<br>to impostors))",
          "Crewmates win!<br>(Impostors<br>eliminated)",
          "Impostors win!<br>(Crewmates being<br>outnumbered or tied<br>to impostors))",
          "Crewmates win! (All<br>task completed)",
          "Impostors win!<br>(Crewmates being<br>outnumbered or tied<br>to impostors))",
          "Impostors win!<br>(Crewmates being<br>outnumbered or tied<br>to impostors))",
          "Impostors win!<br>(Crewmates being<br>outnumbered or tied<br>to impostors))",
          "Impostors win!<br>(Crewmates being<br>outnumbered or tied<br>to impostors))",
          "Impostors win!<br>(Crewmates being<br>outnumbered or tied<br>to impostors))",
          "Impostors win!<br>(Crewmates being<br>outnumbered or tied<br>to impostors))",
          "Impostors win!<br>(Crewmates being<br>outnumbered or tied<br>to impostors))",
          "Impostors win!<br>(Crewmates being<br>outnumbered or tied<br>to impostors))",
          "Crewmates win! (All<br>task completed)",
          "Impostors win!<br>(Crewmates being<br>outnumbered or tied<br>to impostors))",
          "Impostors win!<br>(Crewmates being<br>outnumbered or tied<br>to impostors))",
          "Crewmates win! (All<br>task completed)",
          "Crewmates win! (All<br>task completed)",
          "Impostors win!<br>(Crewmates being<br>outnumbered or tied<br>to impostors))",
          "Impostors win!<br>(Crewmates being<br>outnumbered or tied<br>to impostors))",
          "Impostors win!<br>(Crewmates being<br>outnumbered or tied<br>to impostors))",
          "Impostors win!<br>(Crewmates being<br>outnumbered or tied<br>to impostors))",
          "Crewmates win! (All<br>task completed)",
          "Crewmates win! (All<br>task completed)",
          "Crewmates win!<br>(Impostors<br>eliminated)",
          "Impostors win!<br>(Crewmates being<br>outnumbered or tied<br>to impostors))",
          "Impostors win!<br>(Crewmates being<br>outnumbered or tied<br>to impostors))",
          "Crewmates win!<br>(Impostors<br>eliminated)",
          "Impostors win!<br>(Crewmates being<br>outnumbered or tied<br>to impostors))",
          "Crewmates win! (All<br>task completed)",
          "Crewmates win! (All<br>task completed)",
          "Crewmates win!<br>(Impostors<br>eliminated)",
          "Crewmates win!<br>(Impostors<br>eliminated)",
          "Crewmates win! (All<br>task completed)",
          "Impostors win!<br>(Crewmates being<br>outnumbered or tied<br>to impostors))",
          "Crewmates win! (All<br>task completed)",
          "Crewmates win!<br>(Impostors<br>eliminated)",
          "Crewmates win!<br>(Impostors<br>eliminated)",
          "Crewmates win!<br>(Impostors<br>eliminated)",
          "Crewmates win!<br>(Impostors<br>eliminated)",
          "Crewmates win! (All<br>task completed)",
          "Impostors win!<br>(Crewmates being<br>outnumbered or tied<br>to impostors))",
          "Impostors win!<br>(Crewmates being<br>outnumbered or tied<br>to impostors))",
          "Crewmates win!<br>(Impostors<br>eliminated)",
          "Impostors win!<br>(Crewmates being<br>outnumbered or tied<br>to impostors))",
          "Crewmates win! (All<br>task completed)",
          "Crewmates win!<br>(Impostors<br>eliminated)",
          "Crewmates win! (All<br>task completed)",
          "Crewmates win!<br>(Impostors<br>eliminated)",
          "Crewmates win! (All<br>task completed)",
          "Crewmates win!<br>(Impostors<br>eliminated)",
          "Crewmates win! (All<br>task completed)",
          "Impostors win!<br>(Crewmates being<br>outnumbered or tied<br>to impostors))",
          "Impostors win!<br>(Crewmates being<br>outnumbered or tied<br>to impostors))",
          "Crewmates win!<br>(Impostors<br>eliminated)",
          "Crewmates win!<br>(Impostors<br>eliminated)",
          "Impostors win!<br>(Crewmates being<br>outnumbered or tied<br>to impostors))",
          "Crewmates win! (All<br>task completed)",
          "Crewmates win!<br>(Impostors<br>eliminated)",
          "Impostors win!<br>(Crewmates being<br>outnumbered or tied<br>to impostors))",
          "Crewmates win!<br>(Impostors<br>eliminated)",
          "Crewmates win!<br>(Impostors<br>eliminated)",
          "Crewmates win! (All<br>task completed)",
          "Crewmates win! (All<br>task completed)",
          "Impostors win!<br>(Crewmates being<br>outnumbered or tied<br>to impostors))",
          "Crewmates win! (All<br>task completed)",
          "Crewmates win!<br>(Impostors<br>eliminated)",
          "Impostors win!<br>(Crewmates being<br>outnumbered or tied<br>to impostors))",
          "Impostors win!<br>(Crewmates being<br>outnumbered or tied<br>to impostors))",
          "Impostors win!<br>(Crewmates being<br>outnumbered or tied<br>to impostors))",
          "Impostors win!<br>(Crewmates being<br>outnumbered or tied<br>to impostors))",
          "Crewmates win!<br>(Impostors<br>eliminated)",
          "Crewmates win! (All<br>task completed)"
         ],
         "xaxis": "x",
         "yaxis": "y"
        }
       ],
       "layout": {
        "autosize": false,
        "barmode": "group",
        "font": {
         "color": "black",
         "family": "serif",
         "size": 15
        },
        "height": 600,
        "legend": {
         "bgcolor": "white",
         "bordercolor": "black",
         "borderwidth": 1,
         "orientation": "v",
         "title": {
          "text": "Models"
         },
         "tracegroupgap": 0,
         "traceorder": "normal",
         "x": 0.85,
         "xanchor": "right",
         "y": 1,
         "yanchor": "top"
        },
        "margin": {
         "t": 60
        },
        "plot_bgcolor": "rgba(255, 255, 255, 1)",
        "showlegend": true,
        "template": {
         "data": {
          "bar": [
           {
            "error_x": {
             "color": "#2a3f5f"
            },
            "error_y": {
             "color": "#2a3f5f"
            },
            "marker": {
             "line": {
              "color": "#E5ECF6",
              "width": 0.5
             },
             "pattern": {
              "fillmode": "overlay",
              "size": 10,
              "solidity": 0.2
             }
            },
            "type": "bar"
           }
          ],
          "barpolar": [
           {
            "marker": {
             "line": {
              "color": "#E5ECF6",
              "width": 0.5
             },
             "pattern": {
              "fillmode": "overlay",
              "size": 10,
              "solidity": 0.2
             }
            },
            "type": "barpolar"
           }
          ],
          "carpet": [
           {
            "aaxis": {
             "endlinecolor": "#2a3f5f",
             "gridcolor": "white",
             "linecolor": "white",
             "minorgridcolor": "white",
             "startlinecolor": "#2a3f5f"
            },
            "baxis": {
             "endlinecolor": "#2a3f5f",
             "gridcolor": "white",
             "linecolor": "white",
             "minorgridcolor": "white",
             "startlinecolor": "#2a3f5f"
            },
            "type": "carpet"
           }
          ],
          "choropleth": [
           {
            "colorbar": {
             "outlinewidth": 0,
             "ticks": ""
            },
            "type": "choropleth"
           }
          ],
          "contour": [
           {
            "colorbar": {
             "outlinewidth": 0,
             "ticks": ""
            },
            "colorscale": [
             [
              0,
              "#0d0887"
             ],
             [
              0.1111111111111111,
              "#46039f"
             ],
             [
              0.2222222222222222,
              "#7201a8"
             ],
             [
              0.3333333333333333,
              "#9c179e"
             ],
             [
              0.4444444444444444,
              "#bd3786"
             ],
             [
              0.5555555555555556,
              "#d8576b"
             ],
             [
              0.6666666666666666,
              "#ed7953"
             ],
             [
              0.7777777777777778,
              "#fb9f3a"
             ],
             [
              0.8888888888888888,
              "#fdca26"
             ],
             [
              1,
              "#f0f921"
             ]
            ],
            "type": "contour"
           }
          ],
          "contourcarpet": [
           {
            "colorbar": {
             "outlinewidth": 0,
             "ticks": ""
            },
            "type": "contourcarpet"
           }
          ],
          "heatmap": [
           {
            "colorbar": {
             "outlinewidth": 0,
             "ticks": ""
            },
            "colorscale": [
             [
              0,
              "#0d0887"
             ],
             [
              0.1111111111111111,
              "#46039f"
             ],
             [
              0.2222222222222222,
              "#7201a8"
             ],
             [
              0.3333333333333333,
              "#9c179e"
             ],
             [
              0.4444444444444444,
              "#bd3786"
             ],
             [
              0.5555555555555556,
              "#d8576b"
             ],
             [
              0.6666666666666666,
              "#ed7953"
             ],
             [
              0.7777777777777778,
              "#fb9f3a"
             ],
             [
              0.8888888888888888,
              "#fdca26"
             ],
             [
              1,
              "#f0f921"
             ]
            ],
            "type": "heatmap"
           }
          ],
          "heatmapgl": [
           {
            "colorbar": {
             "outlinewidth": 0,
             "ticks": ""
            },
            "colorscale": [
             [
              0,
              "#0d0887"
             ],
             [
              0.1111111111111111,
              "#46039f"
             ],
             [
              0.2222222222222222,
              "#7201a8"
             ],
             [
              0.3333333333333333,
              "#9c179e"
             ],
             [
              0.4444444444444444,
              "#bd3786"
             ],
             [
              0.5555555555555556,
              "#d8576b"
             ],
             [
              0.6666666666666666,
              "#ed7953"
             ],
             [
              0.7777777777777778,
              "#fb9f3a"
             ],
             [
              0.8888888888888888,
              "#fdca26"
             ],
             [
              1,
              "#f0f921"
             ]
            ],
            "type": "heatmapgl"
           }
          ],
          "histogram": [
           {
            "marker": {
             "pattern": {
              "fillmode": "overlay",
              "size": 10,
              "solidity": 0.2
             }
            },
            "type": "histogram"
           }
          ],
          "histogram2d": [
           {
            "colorbar": {
             "outlinewidth": 0,
             "ticks": ""
            },
            "colorscale": [
             [
              0,
              "#0d0887"
             ],
             [
              0.1111111111111111,
              "#46039f"
             ],
             [
              0.2222222222222222,
              "#7201a8"
             ],
             [
              0.3333333333333333,
              "#9c179e"
             ],
             [
              0.4444444444444444,
              "#bd3786"
             ],
             [
              0.5555555555555556,
              "#d8576b"
             ],
             [
              0.6666666666666666,
              "#ed7953"
             ],
             [
              0.7777777777777778,
              "#fb9f3a"
             ],
             [
              0.8888888888888888,
              "#fdca26"
             ],
             [
              1,
              "#f0f921"
             ]
            ],
            "type": "histogram2d"
           }
          ],
          "histogram2dcontour": [
           {
            "colorbar": {
             "outlinewidth": 0,
             "ticks": ""
            },
            "colorscale": [
             [
              0,
              "#0d0887"
             ],
             [
              0.1111111111111111,
              "#46039f"
             ],
             [
              0.2222222222222222,
              "#7201a8"
             ],
             [
              0.3333333333333333,
              "#9c179e"
             ],
             [
              0.4444444444444444,
              "#bd3786"
             ],
             [
              0.5555555555555556,
              "#d8576b"
             ],
             [
              0.6666666666666666,
              "#ed7953"
             ],
             [
              0.7777777777777778,
              "#fb9f3a"
             ],
             [
              0.8888888888888888,
              "#fdca26"
             ],
             [
              1,
              "#f0f921"
             ]
            ],
            "type": "histogram2dcontour"
           }
          ],
          "mesh3d": [
           {
            "colorbar": {
             "outlinewidth": 0,
             "ticks": ""
            },
            "type": "mesh3d"
           }
          ],
          "parcoords": [
           {
            "line": {
             "colorbar": {
              "outlinewidth": 0,
              "ticks": ""
             }
            },
            "type": "parcoords"
           }
          ],
          "pie": [
           {
            "automargin": true,
            "type": "pie"
           }
          ],
          "scatter": [
           {
            "fillpattern": {
             "fillmode": "overlay",
             "size": 10,
             "solidity": 0.2
            },
            "type": "scatter"
           }
          ],
          "scatter3d": [
           {
            "line": {
             "colorbar": {
              "outlinewidth": 0,
              "ticks": ""
             }
            },
            "marker": {
             "colorbar": {
              "outlinewidth": 0,
              "ticks": ""
             }
            },
            "type": "scatter3d"
           }
          ],
          "scattercarpet": [
           {
            "marker": {
             "colorbar": {
              "outlinewidth": 0,
              "ticks": ""
             }
            },
            "type": "scattercarpet"
           }
          ],
          "scattergeo": [
           {
            "marker": {
             "colorbar": {
              "outlinewidth": 0,
              "ticks": ""
             }
            },
            "type": "scattergeo"
           }
          ],
          "scattergl": [
           {
            "marker": {
             "colorbar": {
              "outlinewidth": 0,
              "ticks": ""
             }
            },
            "type": "scattergl"
           }
          ],
          "scattermapbox": [
           {
            "marker": {
             "colorbar": {
              "outlinewidth": 0,
              "ticks": ""
             }
            },
            "type": "scattermapbox"
           }
          ],
          "scatterpolar": [
           {
            "marker": {
             "colorbar": {
              "outlinewidth": 0,
              "ticks": ""
             }
            },
            "type": "scatterpolar"
           }
          ],
          "scatterpolargl": [
           {
            "marker": {
             "colorbar": {
              "outlinewidth": 0,
              "ticks": ""
             }
            },
            "type": "scatterpolargl"
           }
          ],
          "scatterternary": [
           {
            "marker": {
             "colorbar": {
              "outlinewidth": 0,
              "ticks": ""
             }
            },
            "type": "scatterternary"
           }
          ],
          "surface": [
           {
            "colorbar": {
             "outlinewidth": 0,
             "ticks": ""
            },
            "colorscale": [
             [
              0,
              "#0d0887"
             ],
             [
              0.1111111111111111,
              "#46039f"
             ],
             [
              0.2222222222222222,
              "#7201a8"
             ],
             [
              0.3333333333333333,
              "#9c179e"
             ],
             [
              0.4444444444444444,
              "#bd3786"
             ],
             [
              0.5555555555555556,
              "#d8576b"
             ],
             [
              0.6666666666666666,
              "#ed7953"
             ],
             [
              0.7777777777777778,
              "#fb9f3a"
             ],
             [
              0.8888888888888888,
              "#fdca26"
             ],
             [
              1,
              "#f0f921"
             ]
            ],
            "type": "surface"
           }
          ],
          "table": [
           {
            "cells": {
             "fill": {
              "color": "#EBF0F8"
             },
             "line": {
              "color": "white"
             }
            },
            "header": {
             "fill": {
              "color": "#C8D4E3"
             },
             "line": {
              "color": "white"
             }
            },
            "type": "table"
           }
          ]
         },
         "layout": {
          "annotationdefaults": {
           "arrowcolor": "#2a3f5f",
           "arrowhead": 0,
           "arrowwidth": 1
          },
          "autotypenumbers": "strict",
          "coloraxis": {
           "colorbar": {
            "outlinewidth": 0,
            "ticks": ""
           }
          },
          "colorscale": {
           "diverging": [
            [
             0,
             "#8e0152"
            ],
            [
             0.1,
             "#c51b7d"
            ],
            [
             0.2,
             "#de77ae"
            ],
            [
             0.3,
             "#f1b6da"
            ],
            [
             0.4,
             "#fde0ef"
            ],
            [
             0.5,
             "#f7f7f7"
            ],
            [
             0.6,
             "#e6f5d0"
            ],
            [
             0.7,
             "#b8e186"
            ],
            [
             0.8,
             "#7fbc41"
            ],
            [
             0.9,
             "#4d9221"
            ],
            [
             1,
             "#276419"
            ]
           ],
           "sequential": [
            [
             0,
             "#0d0887"
            ],
            [
             0.1111111111111111,
             "#46039f"
            ],
            [
             0.2222222222222222,
             "#7201a8"
            ],
            [
             0.3333333333333333,
             "#9c179e"
            ],
            [
             0.4444444444444444,
             "#bd3786"
            ],
            [
             0.5555555555555556,
             "#d8576b"
            ],
            [
             0.6666666666666666,
             "#ed7953"
            ],
            [
             0.7777777777777778,
             "#fb9f3a"
            ],
            [
             0.8888888888888888,
             "#fdca26"
            ],
            [
             1,
             "#f0f921"
            ]
           ],
           "sequentialminus": [
            [
             0,
             "#0d0887"
            ],
            [
             0.1111111111111111,
             "#46039f"
            ],
            [
             0.2222222222222222,
             "#7201a8"
            ],
            [
             0.3333333333333333,
             "#9c179e"
            ],
            [
             0.4444444444444444,
             "#bd3786"
            ],
            [
             0.5555555555555556,
             "#d8576b"
            ],
            [
             0.6666666666666666,
             "#ed7953"
            ],
            [
             0.7777777777777778,
             "#fb9f3a"
            ],
            [
             0.8888888888888888,
             "#fdca26"
            ],
            [
             1,
             "#f0f921"
            ]
           ]
          },
          "colorway": [
           "#636efa",
           "#EF553B",
           "#00cc96",
           "#ab63fa",
           "#FFA15A",
           "#19d3f3",
           "#FF6692",
           "#B6E880",
           "#FF97FF",
           "#FECB52"
          ],
          "font": {
           "color": "#2a3f5f"
          },
          "geo": {
           "bgcolor": "white",
           "lakecolor": "white",
           "landcolor": "#E5ECF6",
           "showlakes": true,
           "showland": true,
           "subunitcolor": "white"
          },
          "hoverlabel": {
           "align": "left"
          },
          "hovermode": "closest",
          "mapbox": {
           "style": "light"
          },
          "paper_bgcolor": "white",
          "plot_bgcolor": "#E5ECF6",
          "polar": {
           "angularaxis": {
            "gridcolor": "white",
            "linecolor": "white",
            "ticks": ""
           },
           "bgcolor": "#E5ECF6",
           "radialaxis": {
            "gridcolor": "white",
            "linecolor": "white",
            "ticks": ""
           }
          },
          "scene": {
           "xaxis": {
            "backgroundcolor": "#E5ECF6",
            "gridcolor": "white",
            "gridwidth": 2,
            "linecolor": "white",
            "showbackground": true,
            "ticks": "",
            "zerolinecolor": "white"
           },
           "yaxis": {
            "backgroundcolor": "#E5ECF6",
            "gridcolor": "white",
            "gridwidth": 2,
            "linecolor": "white",
            "showbackground": true,
            "ticks": "",
            "zerolinecolor": "white"
           },
           "zaxis": {
            "backgroundcolor": "#E5ECF6",
            "gridcolor": "white",
            "gridwidth": 2,
            "linecolor": "white",
            "showbackground": true,
            "ticks": "",
            "zerolinecolor": "white"
           }
          },
          "shapedefaults": {
           "line": {
            "color": "#2a3f5f"
           }
          },
          "ternary": {
           "aaxis": {
            "gridcolor": "white",
            "linecolor": "white",
            "ticks": ""
           },
           "baxis": {
            "gridcolor": "white",
            "linecolor": "white",
            "ticks": ""
           },
           "bgcolor": "#E5ECF6",
           "caxis": {
            "gridcolor": "white",
            "linecolor": "white",
            "ticks": ""
           }
          },
          "title": {
           "x": 0.05
          },
          "xaxis": {
           "automargin": true,
           "gridcolor": "white",
           "linecolor": "white",
           "ticks": "",
           "title": {
            "standoff": 15
           },
           "zerolinecolor": "white",
           "zerolinewidth": 2
          },
          "yaxis": {
           "automargin": true,
           "gridcolor": "white",
           "linecolor": "white",
           "ticks": "",
           "title": {
            "standoff": 15
           },
           "zerolinecolor": "white",
           "zerolinewidth": 2
          }
         }
        },
        "width": 800,
        "xaxis": {
         "anchor": "y",
         "domain": [
          0,
          1
         ],
         "linecolor": "black",
         "linewidth": 1,
         "mirror": false,
         "showline": true,
         "tickangle": 0,
         "tickfont": {
          "color": "black",
          "family": "serif",
          "size": 18
         },
         "title": {
          "font": {
           "color": "black",
           "family": "serif",
           "size": 18
          },
          "text": "Winner Reason"
         }
        },
        "yaxis": {
         "anchor": "x",
         "domain": [
          0,
          1
         ],
         "gridcolor": "LightGray",
         "gridwidth": 1,
         "range": [
          0,
          70
         ],
         "showgrid": true,
         "tickfont": {
          "color": "black",
          "family": "serif",
          "size": 18
         },
         "title": {
          "font": {
           "color": "black",
           "family": "serif",
           "size": 18
          },
          "text": "Count"
         }
        }
       }
      },
      "text/html": [
       "<div>                            <div id=\"b5d72682-692d-4db0-aa8b-bd0ea021b299\" class=\"plotly-graph-div\" style=\"height:600px; width:800px;\"></div>            <script type=\"text/javascript\">                require([\"plotly\"], function(Plotly) {                    window.PLOTLYENV=window.PLOTLYENV || {};                                    if (document.getElementById(\"b5d72682-692d-4db0-aa8b-bd0ea021b299\")) {                    Plotly.newPlot(                        \"b5d72682-692d-4db0-aa8b-bd0ea021b299\",                        [{\"alignmentgroup\":\"True\",\"bingroup\":\"x\",\"hovertemplate\":\"Models=Crew: Phi, Imp: Llama\\u003cbr\\u003eWinner Reason=%{x}\\u003cbr\\u003ecount=%{y}\\u003cextra\\u003e\\u003c\\u002fextra\\u003e\",\"legendgroup\":\"Crew: Phi, Imp: Llama\",\"marker\":{\"color\":\"#636efa\",\"pattern\":{\"shape\":\"\"}},\"name\":\"Crew: Phi, Imp: Llama\",\"offsetgroup\":\"Crew: Phi, Imp: Llama\",\"orientation\":\"v\",\"showlegend\":true,\"x\":[\"Impostors win!\\u003cbr\\u003e(Crewmates being\\u003cbr\\u003eoutnumbered or tied\\u003cbr\\u003eto impostors))\",\"Impostors win!\\u003cbr\\u003e(Crewmates being\\u003cbr\\u003eoutnumbered or tied\\u003cbr\\u003eto impostors))\",\"Impostors win!\\u003cbr\\u003e(Crewmates being\\u003cbr\\u003eoutnumbered or tied\\u003cbr\\u003eto impostors))\",\"Impostors win!\\u003cbr\\u003e(Crewmates being\\u003cbr\\u003eoutnumbered or tied\\u003cbr\\u003eto impostors))\",\"Crewmates win!\\u003cbr\\u003e(Impostors\\u003cbr\\u003eeliminated)\",\"Impostors win!\\u003cbr\\u003e(Crewmates being\\u003cbr\\u003eoutnumbered or tied\\u003cbr\\u003eto impostors))\",\"Crewmates win! (All\\u003cbr\\u003etask completed)\",\"Impostors win!\\u003cbr\\u003e(Crewmates being\\u003cbr\\u003eoutnumbered or tied\\u003cbr\\u003eto impostors))\",\"Impostors win!\\u003cbr\\u003e(Crewmates being\\u003cbr\\u003eoutnumbered or tied\\u003cbr\\u003eto impostors))\",\"Crewmates win! (All\\u003cbr\\u003etask completed)\",\"Crewmates win!\\u003cbr\\u003e(Impostors\\u003cbr\\u003eeliminated)\",\"Crewmates win! (All\\u003cbr\\u003etask completed)\",\"Impostors win!\\u003cbr\\u003e(Crewmates being\\u003cbr\\u003eoutnumbered or tied\\u003cbr\\u003eto impostors))\",\"Impostors win!\\u003cbr\\u003e(Crewmates being\\u003cbr\\u003eoutnumbered or tied\\u003cbr\\u003eto impostors))\",\"Impostors win!\\u003cbr\\u003e(Crewmates being\\u003cbr\\u003eoutnumbered or tied\\u003cbr\\u003eto impostors))\",\"Impostors win!\\u003cbr\\u003e(Crewmates being\\u003cbr\\u003eoutnumbered or tied\\u003cbr\\u003eto impostors))\",\"Impostors win!\\u003cbr\\u003e(Crewmates being\\u003cbr\\u003eoutnumbered or tied\\u003cbr\\u003eto impostors))\",\"Crewmates win!\\u003cbr\\u003e(Impostors\\u003cbr\\u003eeliminated)\",\"Impostors win!\\u003cbr\\u003e(Crewmates being\\u003cbr\\u003eoutnumbered or tied\\u003cbr\\u003eto impostors))\",\"Impostors win!\\u003cbr\\u003e(Crewmates being\\u003cbr\\u003eoutnumbered or tied\\u003cbr\\u003eto impostors))\",\"Impostors win!\\u003cbr\\u003e(Crewmates being\\u003cbr\\u003eoutnumbered or tied\\u003cbr\\u003eto impostors))\",\"Impostors win!\\u003cbr\\u003e(Crewmates being\\u003cbr\\u003eoutnumbered or tied\\u003cbr\\u003eto impostors))\",\"Impostors win!\\u003cbr\\u003e(Crewmates being\\u003cbr\\u003eoutnumbered or tied\\u003cbr\\u003eto impostors))\",\"Crewmates win! (All\\u003cbr\\u003etask completed)\",\"Impostors win!\\u003cbr\\u003e(Crewmates being\\u003cbr\\u003eoutnumbered or tied\\u003cbr\\u003eto impostors))\",\"Crewmates win! (All\\u003cbr\\u003etask completed)\",\"Impostors win!\\u003cbr\\u003e(Crewmates being\\u003cbr\\u003eoutnumbered or tied\\u003cbr\\u003eto impostors))\",\"Crewmates win! (All\\u003cbr\\u003etask completed)\",\"Impostors win!\\u003cbr\\u003e(Crewmates being\\u003cbr\\u003eoutnumbered or tied\\u003cbr\\u003eto impostors))\",\"Crewmates win! (All\\u003cbr\\u003etask completed)\",\"Crewmates win! (All\\u003cbr\\u003etask completed)\",\"Crewmates win!\\u003cbr\\u003e(Impostors\\u003cbr\\u003eeliminated)\",\"Impostors win!\\u003cbr\\u003e(Crewmates being\\u003cbr\\u003eoutnumbered or tied\\u003cbr\\u003eto impostors))\",\"Impostors win!\\u003cbr\\u003e(Crewmates being\\u003cbr\\u003eoutnumbered or tied\\u003cbr\\u003eto impostors))\",\"Crewmates win!\\u003cbr\\u003e(Impostors\\u003cbr\\u003eeliminated)\",\"Crewmates win! (All\\u003cbr\\u003etask completed)\",\"Impostors win!\\u003cbr\\u003e(Crewmates being\\u003cbr\\u003eoutnumbered or tied\\u003cbr\\u003eto impostors))\",\"Impostors win!\\u003cbr\\u003e(Crewmates being\\u003cbr\\u003eoutnumbered or tied\\u003cbr\\u003eto impostors))\",\"Impostors win!\\u003cbr\\u003e(Crewmates being\\u003cbr\\u003eoutnumbered or tied\\u003cbr\\u003eto impostors))\",\"Crewmates win! (All\\u003cbr\\u003etask completed)\",\"Impostors win!\\u003cbr\\u003e(Crewmates being\\u003cbr\\u003eoutnumbered or tied\\u003cbr\\u003eto impostors))\",\"Crewmates win!\\u003cbr\\u003e(Impostors\\u003cbr\\u003eeliminated)\",\"Crewmates win!\\u003cbr\\u003e(Impostors\\u003cbr\\u003eeliminated)\",\"Impostors win!\\u003cbr\\u003e(Crewmates being\\u003cbr\\u003eoutnumbered or tied\\u003cbr\\u003eto impostors))\",\"Impostors win!\\u003cbr\\u003e(Crewmates being\\u003cbr\\u003eoutnumbered or tied\\u003cbr\\u003eto impostors))\",\"Impostors win!\\u003cbr\\u003e(Crewmates being\\u003cbr\\u003eoutnumbered or tied\\u003cbr\\u003eto impostors))\",\"Crewmates win! (All\\u003cbr\\u003etask completed)\",\"Crewmates win! (All\\u003cbr\\u003etask completed)\",\"Crewmates win!\\u003cbr\\u003e(Impostors\\u003cbr\\u003eeliminated)\",\"Impostors win!\\u003cbr\\u003e(Crewmates being\\u003cbr\\u003eoutnumbered or tied\\u003cbr\\u003eto impostors))\",\"Impostors win!\\u003cbr\\u003e(Crewmates being\\u003cbr\\u003eoutnumbered or tied\\u003cbr\\u003eto impostors))\",\"Crewmates win!\\u003cbr\\u003e(Impostors\\u003cbr\\u003eeliminated)\",\"Crewmates win! (All\\u003cbr\\u003etask completed)\",\"Crewmates win! (All\\u003cbr\\u003etask completed)\",\"Impostors win!\\u003cbr\\u003e(Crewmates being\\u003cbr\\u003eoutnumbered or tied\\u003cbr\\u003eto impostors))\",\"Impostors win!\\u003cbr\\u003e(Crewmates being\\u003cbr\\u003eoutnumbered or tied\\u003cbr\\u003eto impostors))\",\"Impostors win!\\u003cbr\\u003e(Crewmates being\\u003cbr\\u003eoutnumbered or tied\\u003cbr\\u003eto impostors))\",\"Impostors win!\\u003cbr\\u003e(Crewmates being\\u003cbr\\u003eoutnumbered or tied\\u003cbr\\u003eto impostors))\",\"Crewmates win!\\u003cbr\\u003e(Impostors\\u003cbr\\u003eeliminated)\",\"Crewmates win!\\u003cbr\\u003e(Impostors\\u003cbr\\u003eeliminated)\",\"Crewmates win!\\u003cbr\\u003e(Impostors\\u003cbr\\u003eeliminated)\",\"Crewmates win!\\u003cbr\\u003e(Impostors\\u003cbr\\u003eeliminated)\",\"Impostors win!\\u003cbr\\u003e(Crewmates being\\u003cbr\\u003eoutnumbered or tied\\u003cbr\\u003eto impostors))\",\"Crewmates win! (All\\u003cbr\\u003etask completed)\",\"Crewmates win!\\u003cbr\\u003e(Impostors\\u003cbr\\u003eeliminated)\",\"Impostors win!\\u003cbr\\u003e(Crewmates being\\u003cbr\\u003eoutnumbered or tied\\u003cbr\\u003eto impostors))\",\"Impostors win!\\u003cbr\\u003e(Crewmates being\\u003cbr\\u003eoutnumbered or tied\\u003cbr\\u003eto impostors))\",\"Impostors win!\\u003cbr\\u003e(Crewmates being\\u003cbr\\u003eoutnumbered or tied\\u003cbr\\u003eto impostors))\",\"Crewmates win!\\u003cbr\\u003e(Impostors\\u003cbr\\u003eeliminated)\",\"Crewmates win!\\u003cbr\\u003e(Impostors\\u003cbr\\u003eeliminated)\",\"Crewmates win!\\u003cbr\\u003e(Impostors\\u003cbr\\u003eeliminated)\",\"Impostors win!\\u003cbr\\u003e(Crewmates being\\u003cbr\\u003eoutnumbered or tied\\u003cbr\\u003eto impostors))\",\"Crewmates win!\\u003cbr\\u003e(Impostors\\u003cbr\\u003eeliminated)\",\"Crewmates win! (All\\u003cbr\\u003etask completed)\",\"Crewmates win!\\u003cbr\\u003e(Impostors\\u003cbr\\u003eeliminated)\",\"Crewmates win! (All\\u003cbr\\u003etask completed)\",\"Crewmates win!\\u003cbr\\u003e(Impostors\\u003cbr\\u003eeliminated)\",\"Crewmates win! (All\\u003cbr\\u003etask completed)\",\"Crewmates win! (All\\u003cbr\\u003etask completed)\",\"Crewmates win!\\u003cbr\\u003e(Impostors\\u003cbr\\u003eeliminated)\",\"Crewmates win! (All\\u003cbr\\u003etask completed)\",\"Impostors win!\\u003cbr\\u003e(Crewmates being\\u003cbr\\u003eoutnumbered or tied\\u003cbr\\u003eto impostors))\",\"Crewmates win!\\u003cbr\\u003e(Impostors\\u003cbr\\u003eeliminated)\",\"Crewmates win!\\u003cbr\\u003e(Impostors\\u003cbr\\u003eeliminated)\",\"Impostors win!\\u003cbr\\u003e(Crewmates being\\u003cbr\\u003eoutnumbered or tied\\u003cbr\\u003eto impostors))\",\"Impostors win!\\u003cbr\\u003e(Crewmates being\\u003cbr\\u003eoutnumbered or tied\\u003cbr\\u003eto impostors))\",\"Crewmates win!\\u003cbr\\u003e(Impostors\\u003cbr\\u003eeliminated)\",\"Crewmates win!\\u003cbr\\u003e(Impostors\\u003cbr\\u003eeliminated)\",\"Crewmates win!\\u003cbr\\u003e(Impostors\\u003cbr\\u003eeliminated)\",\"Crewmates win! (All\\u003cbr\\u003etask completed)\",\"Crewmates win!\\u003cbr\\u003e(Impostors\\u003cbr\\u003eeliminated)\",\"Impostors win!\\u003cbr\\u003e(Crewmates being\\u003cbr\\u003eoutnumbered or tied\\u003cbr\\u003eto impostors))\",\"Impostors win!\\u003cbr\\u003e(Crewmates being\\u003cbr\\u003eoutnumbered or tied\\u003cbr\\u003eto impostors))\",\"Impostors win!\\u003cbr\\u003e(Crewmates being\\u003cbr\\u003eoutnumbered or tied\\u003cbr\\u003eto impostors))\",\"Crewmates win! (All\\u003cbr\\u003etask completed)\",\"Crewmates win! (All\\u003cbr\\u003etask completed)\",\"Impostors win!\\u003cbr\\u003e(Crewmates being\\u003cbr\\u003eoutnumbered or tied\\u003cbr\\u003eto impostors))\",\"Crewmates win!\\u003cbr\\u003e(Impostors\\u003cbr\\u003eeliminated)\",\"Crewmates win! (All\\u003cbr\\u003etask completed)\",\"Crewmates win!\\u003cbr\\u003e(Impostors\\u003cbr\\u003eeliminated)\"],\"xaxis\":\"x\",\"yaxis\":\"y\",\"type\":\"histogram\"},{\"alignmentgroup\":\"True\",\"bingroup\":\"x\",\"hovertemplate\":\"Models=Crew: Llama, Imp: Phi\\u003cbr\\u003eWinner Reason=%{x}\\u003cbr\\u003ecount=%{y}\\u003cextra\\u003e\\u003c\\u002fextra\\u003e\",\"legendgroup\":\"Crew: Llama, Imp: Phi\",\"marker\":{\"color\":\"#EF553B\",\"pattern\":{\"shape\":\"\"}},\"name\":\"Crew: Llama, Imp: Phi\",\"offsetgroup\":\"Crew: Llama, Imp: Phi\",\"orientation\":\"v\",\"showlegend\":true,\"x\":[\"Impostors win!\\u003cbr\\u003e(Crewmates being\\u003cbr\\u003eoutnumbered or tied\\u003cbr\\u003eto impostors))\",\"Impostors win!\\u003cbr\\u003e(Crewmates being\\u003cbr\\u003eoutnumbered or tied\\u003cbr\\u003eto impostors))\",\"Impostors win!\\u003cbr\\u003e(Crewmates being\\u003cbr\\u003eoutnumbered or tied\\u003cbr\\u003eto impostors))\",\"Impostors win!\\u003cbr\\u003e(Crewmates being\\u003cbr\\u003eoutnumbered or tied\\u003cbr\\u003eto impostors))\",\"Impostors win!\\u003cbr\\u003e(Crewmates being\\u003cbr\\u003eoutnumbered or tied\\u003cbr\\u003eto impostors))\",\"Crewmates win! (All\\u003cbr\\u003etask completed)\",\"Impostors win!\\u003cbr\\u003e(Crewmates being\\u003cbr\\u003eoutnumbered or tied\\u003cbr\\u003eto impostors))\",\"Crewmates win!\\u003cbr\\u003e(Impostors\\u003cbr\\u003eeliminated)\",\"Impostors win!\\u003cbr\\u003e(Crewmates being\\u003cbr\\u003eoutnumbered or tied\\u003cbr\\u003eto impostors))\",\"Crewmates win! (All\\u003cbr\\u003etask completed)\",\"Impostors win!\\u003cbr\\u003e(Crewmates being\\u003cbr\\u003eoutnumbered or tied\\u003cbr\\u003eto impostors))\",\"Crewmates win!\\u003cbr\\u003e(Impostors\\u003cbr\\u003eeliminated)\",\"Crewmates win! (All\\u003cbr\\u003etask completed)\",\"Crewmates win!\\u003cbr\\u003e(Impostors\\u003cbr\\u003eeliminated)\",\"Crewmates win!\\u003cbr\\u003e(Impostors\\u003cbr\\u003eeliminated)\",\"Crewmates win! (All\\u003cbr\\u003etask completed)\",\"Crewmates win!\\u003cbr\\u003e(Impostors\\u003cbr\\u003eeliminated)\",\"Crewmates win!\\u003cbr\\u003e(Impostors\\u003cbr\\u003eeliminated)\",\"Impostors win!\\u003cbr\\u003e(Crewmates being\\u003cbr\\u003eoutnumbered or tied\\u003cbr\\u003eto impostors))\",\"Crewmates win!\\u003cbr\\u003e(Impostors\\u003cbr\\u003eeliminated)\",\"Impostors win!\\u003cbr\\u003e(Crewmates being\\u003cbr\\u003eoutnumbered or tied\\u003cbr\\u003eto impostors))\",\"Impostors win!\\u003cbr\\u003e(Crewmates being\\u003cbr\\u003eoutnumbered or tied\\u003cbr\\u003eto impostors))\",\"Crewmates win!\\u003cbr\\u003e(Impostors\\u003cbr\\u003eeliminated)\",\"Crewmates win! (All\\u003cbr\\u003etask completed)\",\"Crewmates win! (All\\u003cbr\\u003etask completed)\",\"Impostors win!\\u003cbr\\u003e(Crewmates being\\u003cbr\\u003eoutnumbered or tied\\u003cbr\\u003eto impostors))\",\"Crewmates win!\\u003cbr\\u003e(Impostors\\u003cbr\\u003eeliminated)\",\"Crewmates win!\\u003cbr\\u003e(Impostors\\u003cbr\\u003eeliminated)\",\"Crewmates win! (All\\u003cbr\\u003etask completed)\",\"Crewmates win!\\u003cbr\\u003e(Impostors\\u003cbr\\u003eeliminated)\",\"Crewmates win!\\u003cbr\\u003e(Impostors\\u003cbr\\u003eeliminated)\",\"Crewmates win! (All\\u003cbr\\u003etask completed)\",\"Impostors win!\\u003cbr\\u003e(Crewmates being\\u003cbr\\u003eoutnumbered or tied\\u003cbr\\u003eto impostors))\",\"Impostors win!\\u003cbr\\u003e(Crewmates being\\u003cbr\\u003eoutnumbered or tied\\u003cbr\\u003eto impostors))\",\"Crewmates win!\\u003cbr\\u003e(Impostors\\u003cbr\\u003eeliminated)\",\"Crewmates win!\\u003cbr\\u003e(Impostors\\u003cbr\\u003eeliminated)\",\"Crewmates win! (All\\u003cbr\\u003etask completed)\",\"Crewmates win!\\u003cbr\\u003e(Impostors\\u003cbr\\u003eeliminated)\",\"Crewmates win! (All\\u003cbr\\u003etask completed)\",\"Impostors win!\\u003cbr\\u003e(Crewmates being\\u003cbr\\u003eoutnumbered or tied\\u003cbr\\u003eto impostors))\",\"Crewmates win!\\u003cbr\\u003e(Impostors\\u003cbr\\u003eeliminated)\",\"Crewmates win!\\u003cbr\\u003e(Impostors\\u003cbr\\u003eeliminated)\",\"Crewmates win! (All\\u003cbr\\u003etask completed)\",\"Crewmates win!\\u003cbr\\u003e(Impostors\\u003cbr\\u003eeliminated)\",\"Crewmates win!\\u003cbr\\u003e(Impostors\\u003cbr\\u003eeliminated)\",\"Impostors win!\\u003cbr\\u003e(Crewmates being\\u003cbr\\u003eoutnumbered or tied\\u003cbr\\u003eto impostors))\",\"Impostors win!\\u003cbr\\u003e(Crewmates being\\u003cbr\\u003eoutnumbered or tied\\u003cbr\\u003eto impostors))\",\"Crewmates win!\\u003cbr\\u003e(Impostors\\u003cbr\\u003eeliminated)\",\"Crewmates win!\\u003cbr\\u003e(Impostors\\u003cbr\\u003eeliminated)\",\"Crewmates win! (All\\u003cbr\\u003etask completed)\",\"Crewmates win!\\u003cbr\\u003e(Impostors\\u003cbr\\u003eeliminated)\",\"Crewmates win!\\u003cbr\\u003e(Impostors\\u003cbr\\u003eeliminated)\",\"Crewmates win! (All\\u003cbr\\u003etask completed)\",\"Crewmates win! (All\\u003cbr\\u003etask completed)\",\"Crewmates win!\\u003cbr\\u003e(Impostors\\u003cbr\\u003eeliminated)\",\"Crewmates win!\\u003cbr\\u003e(Impostors\\u003cbr\\u003eeliminated)\",\"Crewmates win!\\u003cbr\\u003e(Impostors\\u003cbr\\u003eeliminated)\",\"Crewmates win!\\u003cbr\\u003e(Impostors\\u003cbr\\u003eeliminated)\",\"Crewmates win! (All\\u003cbr\\u003etask completed)\",\"Crewmates win! (All\\u003cbr\\u003etask completed)\",\"Crewmates win!\\u003cbr\\u003e(Impostors\\u003cbr\\u003eeliminated)\",\"Crewmates win! (All\\u003cbr\\u003etask completed)\",\"Crewmates win!\\u003cbr\\u003e(Impostors\\u003cbr\\u003eeliminated)\",\"Crewmates win!\\u003cbr\\u003e(Impostors\\u003cbr\\u003eeliminated)\",\"Crewmates win! (All\\u003cbr\\u003etask completed)\",\"Impostors win!\\u003cbr\\u003e(Crewmates being\\u003cbr\\u003eoutnumbered or tied\\u003cbr\\u003eto impostors))\",\"Crewmates win!\\u003cbr\\u003e(Impostors\\u003cbr\\u003eeliminated)\",\"Crewmates win!\\u003cbr\\u003e(Impostors\\u003cbr\\u003eeliminated)\",\"Crewmates win!\\u003cbr\\u003e(Impostors\\u003cbr\\u003eeliminated)\",\"Crewmates win! (All\\u003cbr\\u003etask completed)\",\"Crewmates win!\\u003cbr\\u003e(Impostors\\u003cbr\\u003eeliminated)\",\"Crewmates win! (All\\u003cbr\\u003etask completed)\",\"Crewmates win!\\u003cbr\\u003e(Impostors\\u003cbr\\u003eeliminated)\",\"Crewmates win!\\u003cbr\\u003e(Impostors\\u003cbr\\u003eeliminated)\",\"Crewmates win! (All\\u003cbr\\u003etask completed)\",\"Crewmates win! (All\\u003cbr\\u003etask completed)\",\"Crewmates win!\\u003cbr\\u003e(Impostors\\u003cbr\\u003eeliminated)\",\"Crewmates win!\\u003cbr\\u003e(Impostors\\u003cbr\\u003eeliminated)\",\"Crewmates win!\\u003cbr\\u003e(Impostors\\u003cbr\\u003eeliminated)\",\"Crewmates win!\\u003cbr\\u003e(Impostors\\u003cbr\\u003eeliminated)\",\"Crewmates win! (All\\u003cbr\\u003etask completed)\",\"Crewmates win! (All\\u003cbr\\u003etask completed)\",\"Crewmates win!\\u003cbr\\u003e(Impostors\\u003cbr\\u003eeliminated)\",\"Crewmates win!\\u003cbr\\u003e(Impostors\\u003cbr\\u003eeliminated)\",\"Impostors win!\\u003cbr\\u003e(Crewmates being\\u003cbr\\u003eoutnumbered or tied\\u003cbr\\u003eto impostors))\",\"Crewmates win! (All\\u003cbr\\u003etask completed)\",\"Crewmates win!\\u003cbr\\u003e(Impostors\\u003cbr\\u003eeliminated)\",\"Crewmates win!\\u003cbr\\u003e(Impostors\\u003cbr\\u003eeliminated)\",\"Impostors win!\\u003cbr\\u003e(Crewmates being\\u003cbr\\u003eoutnumbered or tied\\u003cbr\\u003eto impostors))\",\"Impostors win!\\u003cbr\\u003e(Crewmates being\\u003cbr\\u003eoutnumbered or tied\\u003cbr\\u003eto impostors))\",\"Crewmates win!\\u003cbr\\u003e(Impostors\\u003cbr\\u003eeliminated)\",\"Crewmates win!\\u003cbr\\u003e(Impostors\\u003cbr\\u003eeliminated)\",\"Crewmates win! (All\\u003cbr\\u003etask completed)\",\"Crewmates win!\\u003cbr\\u003e(Impostors\\u003cbr\\u003eeliminated)\",\"Crewmates win! (All\\u003cbr\\u003etask completed)\",\"Crewmates win!\\u003cbr\\u003e(Impostors\\u003cbr\\u003eeliminated)\",\"Impostors win!\\u003cbr\\u003e(Crewmates being\\u003cbr\\u003eoutnumbered or tied\\u003cbr\\u003eto impostors))\",\"Impostors win!\\u003cbr\\u003e(Crewmates being\\u003cbr\\u003eoutnumbered or tied\\u003cbr\\u003eto impostors))\",\"Crewmates win!\\u003cbr\\u003e(Impostors\\u003cbr\\u003eeliminated)\",\"Crewmates win! (All\\u003cbr\\u003etask completed)\"],\"xaxis\":\"x\",\"yaxis\":\"y\",\"type\":\"histogram\"},{\"alignmentgroup\":\"True\",\"bingroup\":\"x\",\"hovertemplate\":\"Models=Crew: Phi, Imp: Phi\\u003cbr\\u003eWinner Reason=%{x}\\u003cbr\\u003ecount=%{y}\\u003cextra\\u003e\\u003c\\u002fextra\\u003e\",\"legendgroup\":\"Crew: Phi, Imp: Phi\",\"marker\":{\"color\":\"#00cc96\",\"pattern\":{\"shape\":\"\"}},\"name\":\"Crew: Phi, Imp: Phi\",\"offsetgroup\":\"Crew: Phi, Imp: Phi\",\"orientation\":\"v\",\"showlegend\":true,\"x\":[\"Impostors win!\\u003cbr\\u003e(Crewmates being\\u003cbr\\u003eoutnumbered or tied\\u003cbr\\u003eto impostors))\",\"Impostors win!\\u003cbr\\u003e(Crewmates being\\u003cbr\\u003eoutnumbered or tied\\u003cbr\\u003eto impostors))\",\"Impostors win!\\u003cbr\\u003e(Crewmates being\\u003cbr\\u003eoutnumbered or tied\\u003cbr\\u003eto impostors))\",\"Impostors win!\\u003cbr\\u003e(Crewmates being\\u003cbr\\u003eoutnumbered or tied\\u003cbr\\u003eto impostors))\",\"Impostors win!\\u003cbr\\u003e(Crewmates being\\u003cbr\\u003eoutnumbered or tied\\u003cbr\\u003eto impostors))\",\"Impostors win!\\u003cbr\\u003e(Crewmates being\\u003cbr\\u003eoutnumbered or tied\\u003cbr\\u003eto impostors))\",\"Impostors win!\\u003cbr\\u003e(Crewmates being\\u003cbr\\u003eoutnumbered or tied\\u003cbr\\u003eto impostors))\",\"Impostors win!\\u003cbr\\u003e(Crewmates being\\u003cbr\\u003eoutnumbered or tied\\u003cbr\\u003eto impostors))\",\"Impostors win!\\u003cbr\\u003e(Crewmates being\\u003cbr\\u003eoutnumbered or tied\\u003cbr\\u003eto impostors))\",\"Impostors win!\\u003cbr\\u003e(Crewmates being\\u003cbr\\u003eoutnumbered or tied\\u003cbr\\u003eto impostors))\",\"Crewmates win! (All\\u003cbr\\u003etask completed)\",\"Crewmates win!\\u003cbr\\u003e(Impostors\\u003cbr\\u003eeliminated)\",\"Crewmates win!\\u003cbr\\u003e(Impostors\\u003cbr\\u003eeliminated)\",\"Impostors win!\\u003cbr\\u003e(Crewmates being\\u003cbr\\u003eoutnumbered or tied\\u003cbr\\u003eto impostors))\",\"Impostors win!\\u003cbr\\u003e(Crewmates being\\u003cbr\\u003eoutnumbered or tied\\u003cbr\\u003eto impostors))\",\"Crewmates win!\\u003cbr\\u003e(Impostors\\u003cbr\\u003eeliminated)\",\"Impostors win!\\u003cbr\\u003e(Crewmates being\\u003cbr\\u003eoutnumbered or tied\\u003cbr\\u003eto impostors))\",\"Crewmates win!\\u003cbr\\u003e(Impostors\\u003cbr\\u003eeliminated)\",\"Crewmates win!\\u003cbr\\u003e(Impostors\\u003cbr\\u003eeliminated)\",\"Crewmates win!\\u003cbr\\u003e(Impostors\\u003cbr\\u003eeliminated)\",\"Impostors win!\\u003cbr\\u003e(Crewmates being\\u003cbr\\u003eoutnumbered or tied\\u003cbr\\u003eto impostors))\",\"Crewmates win!\\u003cbr\\u003e(Impostors\\u003cbr\\u003eeliminated)\",\"Impostors win!\\u003cbr\\u003e(Crewmates being\\u003cbr\\u003eoutnumbered or tied\\u003cbr\\u003eto impostors))\",\"Impostors win!\\u003cbr\\u003e(Crewmates being\\u003cbr\\u003eoutnumbered or tied\\u003cbr\\u003eto impostors))\",\"Crewmates win! (All\\u003cbr\\u003etask completed)\",\"Crewmates win!\\u003cbr\\u003e(Impostors\\u003cbr\\u003eeliminated)\",\"Impostors win!\\u003cbr\\u003e(Crewmates being\\u003cbr\\u003eoutnumbered or tied\\u003cbr\\u003eto impostors))\",\"Crewmates win!\\u003cbr\\u003e(Impostors\\u003cbr\\u003eeliminated)\",\"Crewmates win! (All\\u003cbr\\u003etask completed)\",\"Crewmates win!\\u003cbr\\u003e(Impostors\\u003cbr\\u003eeliminated)\",\"Impostors win!\\u003cbr\\u003e(Crewmates being\\u003cbr\\u003eoutnumbered or tied\\u003cbr\\u003eto impostors))\",\"Crewmates win! (All\\u003cbr\\u003etask completed)\",\"Crewmates win!\\u003cbr\\u003e(Impostors\\u003cbr\\u003eeliminated)\",\"Crewmates win!\\u003cbr\\u003e(Impostors\\u003cbr\\u003eeliminated)\",\"Impostors win!\\u003cbr\\u003e(Crewmates being\\u003cbr\\u003eoutnumbered or tied\\u003cbr\\u003eto impostors))\",\"Crewmates win!\\u003cbr\\u003e(Impostors\\u003cbr\\u003eeliminated)\",\"Crewmates win!\\u003cbr\\u003e(Impostors\\u003cbr\\u003eeliminated)\",\"Impostors win!\\u003cbr\\u003e(Crewmates being\\u003cbr\\u003eoutnumbered or tied\\u003cbr\\u003eto impostors))\",\"Impostors win!\\u003cbr\\u003e(Crewmates being\\u003cbr\\u003eoutnumbered or tied\\u003cbr\\u003eto impostors))\",\"Impostors win!\\u003cbr\\u003e(Crewmates being\\u003cbr\\u003eoutnumbered or tied\\u003cbr\\u003eto impostors))\",\"Crewmates win!\\u003cbr\\u003e(Impostors\\u003cbr\\u003eeliminated)\",\"Crewmates win!\\u003cbr\\u003e(Impostors\\u003cbr\\u003eeliminated)\",\"Crewmates win! (All\\u003cbr\\u003etask completed)\",\"Crewmates win!\\u003cbr\\u003e(Impostors\\u003cbr\\u003eeliminated)\",\"Crewmates win!\\u003cbr\\u003e(Impostors\\u003cbr\\u003eeliminated)\",\"Crewmates win!\\u003cbr\\u003e(Impostors\\u003cbr\\u003eeliminated)\",\"Crewmates win!\\u003cbr\\u003e(Impostors\\u003cbr\\u003eeliminated)\",\"Impostors win!\\u003cbr\\u003e(Crewmates being\\u003cbr\\u003eoutnumbered or tied\\u003cbr\\u003eto impostors))\",\"Impostors win!\\u003cbr\\u003e(Crewmates being\\u003cbr\\u003eoutnumbered or tied\\u003cbr\\u003eto impostors))\",\"Impostors win!\\u003cbr\\u003e(Crewmates being\\u003cbr\\u003eoutnumbered or tied\\u003cbr\\u003eto impostors))\",\"Crewmates win!\\u003cbr\\u003e(Impostors\\u003cbr\\u003eeliminated)\",\"Impostors win!\\u003cbr\\u003e(Crewmates being\\u003cbr\\u003eoutnumbered or tied\\u003cbr\\u003eto impostors))\",\"Impostors win!\\u003cbr\\u003e(Crewmates being\\u003cbr\\u003eoutnumbered or tied\\u003cbr\\u003eto impostors))\",\"Crewmates win!\\u003cbr\\u003e(Impostors\\u003cbr\\u003eeliminated)\",\"Crewmates win!\\u003cbr\\u003e(Impostors\\u003cbr\\u003eeliminated)\",\"Crewmates win!\\u003cbr\\u003e(Impostors\\u003cbr\\u003eeliminated)\",\"Impostors win!\\u003cbr\\u003e(Crewmates being\\u003cbr\\u003eoutnumbered or tied\\u003cbr\\u003eto impostors))\",\"Impostors win!\\u003cbr\\u003e(Crewmates being\\u003cbr\\u003eoutnumbered or tied\\u003cbr\\u003eto impostors))\",\"Crewmates win!\\u003cbr\\u003e(Impostors\\u003cbr\\u003eeliminated)\",\"Crewmates win!\\u003cbr\\u003e(Impostors\\u003cbr\\u003eeliminated)\",\"Impostors win!\\u003cbr\\u003e(Crewmates being\\u003cbr\\u003eoutnumbered or tied\\u003cbr\\u003eto impostors))\",\"Crewmates win!\\u003cbr\\u003e(Impostors\\u003cbr\\u003eeliminated)\",\"Crewmates win!\\u003cbr\\u003e(Impostors\\u003cbr\\u003eeliminated)\",\"Impostors win!\\u003cbr\\u003e(Crewmates being\\u003cbr\\u003eoutnumbered or tied\\u003cbr\\u003eto impostors))\",\"Crewmates win!\\u003cbr\\u003e(Impostors\\u003cbr\\u003eeliminated)\",\"Crewmates win!\\u003cbr\\u003e(Impostors\\u003cbr\\u003eeliminated)\",\"Impostors win!\\u003cbr\\u003e(Crewmates being\\u003cbr\\u003eoutnumbered or tied\\u003cbr\\u003eto impostors))\",\"Crewmates win! (All\\u003cbr\\u003etask completed)\",\"Crewmates win!\\u003cbr\\u003e(Impostors\\u003cbr\\u003eeliminated)\",\"Crewmates win!\\u003cbr\\u003e(Impostors\\u003cbr\\u003eeliminated)\",\"Impostors win!\\u003cbr\\u003e(Crewmates being\\u003cbr\\u003eoutnumbered or tied\\u003cbr\\u003eto impostors))\",\"Crewmates win!\\u003cbr\\u003e(Impostors\\u003cbr\\u003eeliminated)\",\"Crewmates win!\\u003cbr\\u003e(Impostors\\u003cbr\\u003eeliminated)\",\"Crewmates win! (All\\u003cbr\\u003etask completed)\",\"Crewmates win!\\u003cbr\\u003e(Impostors\\u003cbr\\u003eeliminated)\",\"Crewmates win!\\u003cbr\\u003e(Impostors\\u003cbr\\u003eeliminated)\",\"Crewmates win! (All\\u003cbr\\u003etask completed)\",\"Impostors win!\\u003cbr\\u003e(Crewmates being\\u003cbr\\u003eoutnumbered or tied\\u003cbr\\u003eto impostors))\",\"Impostors win!\\u003cbr\\u003e(Crewmates being\\u003cbr\\u003eoutnumbered or tied\\u003cbr\\u003eto impostors))\",\"Crewmates win!\\u003cbr\\u003e(Impostors\\u003cbr\\u003eeliminated)\",\"Impostors win!\\u003cbr\\u003e(Crewmates being\\u003cbr\\u003eoutnumbered or tied\\u003cbr\\u003eto impostors))\",\"Impostors win!\\u003cbr\\u003e(Crewmates being\\u003cbr\\u003eoutnumbered or tied\\u003cbr\\u003eto impostors))\",\"Crewmates win! (All\\u003cbr\\u003etask completed)\",\"Crewmates win!\\u003cbr\\u003e(Impostors\\u003cbr\\u003eeliminated)\",\"Impostors win!\\u003cbr\\u003e(Crewmates being\\u003cbr\\u003eoutnumbered or tied\\u003cbr\\u003eto impostors))\",\"Crewmates win!\\u003cbr\\u003e(Impostors\\u003cbr\\u003eeliminated)\",\"Crewmates win! (All\\u003cbr\\u003etask completed)\",\"Crewmates win! (All\\u003cbr\\u003etask completed)\",\"Crewmates win! (All\\u003cbr\\u003etask completed)\",\"Impostors win!\\u003cbr\\u003e(Crewmates being\\u003cbr\\u003eoutnumbered or tied\\u003cbr\\u003eto impostors))\",\"Impostors win!\\u003cbr\\u003e(Crewmates being\\u003cbr\\u003eoutnumbered or tied\\u003cbr\\u003eto impostors))\",\"Impostors win!\\u003cbr\\u003e(Crewmates being\\u003cbr\\u003eoutnumbered or tied\\u003cbr\\u003eto impostors))\",\"Crewmates win!\\u003cbr\\u003e(Impostors\\u003cbr\\u003eeliminated)\",\"Crewmates win!\\u003cbr\\u003e(Impostors\\u003cbr\\u003eeliminated)\",\"Crewmates win! (All\\u003cbr\\u003etask completed)\",\"Crewmates win! (All\\u003cbr\\u003etask completed)\",\"Impostors win!\\u003cbr\\u003e(Crewmates being\\u003cbr\\u003eoutnumbered or tied\\u003cbr\\u003eto impostors))\",\"Crewmates win!\\u003cbr\\u003e(Impostors\\u003cbr\\u003eeliminated)\",\"Crewmates win!\\u003cbr\\u003e(Impostors\\u003cbr\\u003eeliminated)\",\"Impostors win! (Time\\u003cbr\\u003elimit reached)\"],\"xaxis\":\"x\",\"yaxis\":\"y\",\"type\":\"histogram\"},{\"alignmentgroup\":\"True\",\"bingroup\":\"x\",\"hovertemplate\":\"Models=Crew: Llama, Imp: Llama\\u003cbr\\u003eWinner Reason=%{x}\\u003cbr\\u003ecount=%{y}\\u003cextra\\u003e\\u003c\\u002fextra\\u003e\",\"legendgroup\":\"Crew: Llama, Imp: Llama\",\"marker\":{\"color\":\"#ab63fa\",\"pattern\":{\"shape\":\"\"}},\"name\":\"Crew: Llama, Imp: Llama\",\"offsetgroup\":\"Crew: Llama, Imp: Llama\",\"orientation\":\"v\",\"showlegend\":true,\"x\":[\"Impostors win!\\u003cbr\\u003e(Crewmates being\\u003cbr\\u003eoutnumbered or tied\\u003cbr\\u003eto impostors))\",\"Impostors win!\\u003cbr\\u003e(Crewmates being\\u003cbr\\u003eoutnumbered or tied\\u003cbr\\u003eto impostors))\",\"Impostors win!\\u003cbr\\u003e(Crewmates being\\u003cbr\\u003eoutnumbered or tied\\u003cbr\\u003eto impostors))\",\"Impostors win!\\u003cbr\\u003e(Crewmates being\\u003cbr\\u003eoutnumbered or tied\\u003cbr\\u003eto impostors))\",\"Impostors win!\\u003cbr\\u003e(Crewmates being\\u003cbr\\u003eoutnumbered or tied\\u003cbr\\u003eto impostors))\",\"Crewmates win! (All\\u003cbr\\u003etask completed)\",\"Crewmates win! (All\\u003cbr\\u003etask completed)\",\"Impostors win!\\u003cbr\\u003e(Crewmates being\\u003cbr\\u003eoutnumbered or tied\\u003cbr\\u003eto impostors))\",\"Crewmates win! (All\\u003cbr\\u003etask completed)\",\"Crewmates win! (All\\u003cbr\\u003etask completed)\",\"Crewmates win! (All\\u003cbr\\u003etask completed)\",\"Crewmates win! (All\\u003cbr\\u003etask completed)\",\"Impostors win!\\u003cbr\\u003e(Crewmates being\\u003cbr\\u003eoutnumbered or tied\\u003cbr\\u003eto impostors))\",\"Impostors win!\\u003cbr\\u003e(Crewmates being\\u003cbr\\u003eoutnumbered or tied\\u003cbr\\u003eto impostors))\",\"Crewmates win! (All\\u003cbr\\u003etask completed)\",\"Crewmates win! (All\\u003cbr\\u003etask completed)\",\"Crewmates win! (All\\u003cbr\\u003etask completed)\",\"Impostors win!\\u003cbr\\u003e(Crewmates being\\u003cbr\\u003eoutnumbered or tied\\u003cbr\\u003eto impostors))\",\"Impostors win!\\u003cbr\\u003e(Crewmates being\\u003cbr\\u003eoutnumbered or tied\\u003cbr\\u003eto impostors))\",\"Crewmates win! (All\\u003cbr\\u003etask completed)\",\"Crewmates win! (All\\u003cbr\\u003etask completed)\",\"Impostors win!\\u003cbr\\u003e(Crewmates being\\u003cbr\\u003eoutnumbered or tied\\u003cbr\\u003eto impostors))\",\"Impostors win!\\u003cbr\\u003e(Crewmates being\\u003cbr\\u003eoutnumbered or tied\\u003cbr\\u003eto impostors))\",\"Impostors win!\\u003cbr\\u003e(Crewmates being\\u003cbr\\u003eoutnumbered or tied\\u003cbr\\u003eto impostors))\",\"Crewmates win! (All\\u003cbr\\u003etask completed)\",\"Impostors win!\\u003cbr\\u003e(Crewmates being\\u003cbr\\u003eoutnumbered or tied\\u003cbr\\u003eto impostors))\",\"Crewmates win! (All\\u003cbr\\u003etask completed)\",\"Crewmates win! (All\\u003cbr\\u003etask completed)\",\"Impostors win!\\u003cbr\\u003e(Crewmates being\\u003cbr\\u003eoutnumbered or tied\\u003cbr\\u003eto impostors))\",\"Crewmates win!\\u003cbr\\u003e(Impostors\\u003cbr\\u003eeliminated)\",\"Impostors win!\\u003cbr\\u003e(Crewmates being\\u003cbr\\u003eoutnumbered or tied\\u003cbr\\u003eto impostors))\",\"Crewmates win! (All\\u003cbr\\u003etask completed)\",\"Impostors win!\\u003cbr\\u003e(Crewmates being\\u003cbr\\u003eoutnumbered or tied\\u003cbr\\u003eto impostors))\",\"Impostors win!\\u003cbr\\u003e(Crewmates being\\u003cbr\\u003eoutnumbered or tied\\u003cbr\\u003eto impostors))\",\"Impostors win!\\u003cbr\\u003e(Crewmates being\\u003cbr\\u003eoutnumbered or tied\\u003cbr\\u003eto impostors))\",\"Impostors win!\\u003cbr\\u003e(Crewmates being\\u003cbr\\u003eoutnumbered or tied\\u003cbr\\u003eto impostors))\",\"Impostors win!\\u003cbr\\u003e(Crewmates being\\u003cbr\\u003eoutnumbered or tied\\u003cbr\\u003eto impostors))\",\"Impostors win!\\u003cbr\\u003e(Crewmates being\\u003cbr\\u003eoutnumbered or tied\\u003cbr\\u003eto impostors))\",\"Impostors win!\\u003cbr\\u003e(Crewmates being\\u003cbr\\u003eoutnumbered or tied\\u003cbr\\u003eto impostors))\",\"Impostors win!\\u003cbr\\u003e(Crewmates being\\u003cbr\\u003eoutnumbered or tied\\u003cbr\\u003eto impostors))\",\"Crewmates win! (All\\u003cbr\\u003etask completed)\",\"Impostors win!\\u003cbr\\u003e(Crewmates being\\u003cbr\\u003eoutnumbered or tied\\u003cbr\\u003eto impostors))\",\"Impostors win!\\u003cbr\\u003e(Crewmates being\\u003cbr\\u003eoutnumbered or tied\\u003cbr\\u003eto impostors))\",\"Crewmates win! (All\\u003cbr\\u003etask completed)\",\"Crewmates win! (All\\u003cbr\\u003etask completed)\",\"Impostors win!\\u003cbr\\u003e(Crewmates being\\u003cbr\\u003eoutnumbered or tied\\u003cbr\\u003eto impostors))\",\"Impostors win!\\u003cbr\\u003e(Crewmates being\\u003cbr\\u003eoutnumbered or tied\\u003cbr\\u003eto impostors))\",\"Impostors win!\\u003cbr\\u003e(Crewmates being\\u003cbr\\u003eoutnumbered or tied\\u003cbr\\u003eto impostors))\",\"Impostors win!\\u003cbr\\u003e(Crewmates being\\u003cbr\\u003eoutnumbered or tied\\u003cbr\\u003eto impostors))\",\"Crewmates win! (All\\u003cbr\\u003etask completed)\",\"Crewmates win! (All\\u003cbr\\u003etask completed)\",\"Crewmates win!\\u003cbr\\u003e(Impostors\\u003cbr\\u003eeliminated)\",\"Impostors win!\\u003cbr\\u003e(Crewmates being\\u003cbr\\u003eoutnumbered or tied\\u003cbr\\u003eto impostors))\",\"Impostors win!\\u003cbr\\u003e(Crewmates being\\u003cbr\\u003eoutnumbered or tied\\u003cbr\\u003eto impostors))\",\"Crewmates win!\\u003cbr\\u003e(Impostors\\u003cbr\\u003eeliminated)\",\"Impostors win!\\u003cbr\\u003e(Crewmates being\\u003cbr\\u003eoutnumbered or tied\\u003cbr\\u003eto impostors))\",\"Crewmates win! (All\\u003cbr\\u003etask completed)\",\"Crewmates win! (All\\u003cbr\\u003etask completed)\",\"Crewmates win!\\u003cbr\\u003e(Impostors\\u003cbr\\u003eeliminated)\",\"Crewmates win!\\u003cbr\\u003e(Impostors\\u003cbr\\u003eeliminated)\",\"Crewmates win! (All\\u003cbr\\u003etask completed)\",\"Impostors win!\\u003cbr\\u003e(Crewmates being\\u003cbr\\u003eoutnumbered or tied\\u003cbr\\u003eto impostors))\",\"Crewmates win! (All\\u003cbr\\u003etask completed)\",\"Crewmates win!\\u003cbr\\u003e(Impostors\\u003cbr\\u003eeliminated)\",\"Crewmates win!\\u003cbr\\u003e(Impostors\\u003cbr\\u003eeliminated)\",\"Crewmates win!\\u003cbr\\u003e(Impostors\\u003cbr\\u003eeliminated)\",\"Crewmates win!\\u003cbr\\u003e(Impostors\\u003cbr\\u003eeliminated)\",\"Crewmates win! (All\\u003cbr\\u003etask completed)\",\"Impostors win!\\u003cbr\\u003e(Crewmates being\\u003cbr\\u003eoutnumbered or tied\\u003cbr\\u003eto impostors))\",\"Impostors win!\\u003cbr\\u003e(Crewmates being\\u003cbr\\u003eoutnumbered or tied\\u003cbr\\u003eto impostors))\",\"Crewmates win!\\u003cbr\\u003e(Impostors\\u003cbr\\u003eeliminated)\",\"Impostors win!\\u003cbr\\u003e(Crewmates being\\u003cbr\\u003eoutnumbered or tied\\u003cbr\\u003eto impostors))\",\"Crewmates win! (All\\u003cbr\\u003etask completed)\",\"Crewmates win!\\u003cbr\\u003e(Impostors\\u003cbr\\u003eeliminated)\",\"Crewmates win! (All\\u003cbr\\u003etask completed)\",\"Crewmates win!\\u003cbr\\u003e(Impostors\\u003cbr\\u003eeliminated)\",\"Crewmates win! (All\\u003cbr\\u003etask completed)\",\"Crewmates win!\\u003cbr\\u003e(Impostors\\u003cbr\\u003eeliminated)\",\"Crewmates win! (All\\u003cbr\\u003etask completed)\",\"Impostors win!\\u003cbr\\u003e(Crewmates being\\u003cbr\\u003eoutnumbered or tied\\u003cbr\\u003eto impostors))\",\"Impostors win!\\u003cbr\\u003e(Crewmates being\\u003cbr\\u003eoutnumbered or tied\\u003cbr\\u003eto impostors))\",\"Crewmates win!\\u003cbr\\u003e(Impostors\\u003cbr\\u003eeliminated)\",\"Crewmates win!\\u003cbr\\u003e(Impostors\\u003cbr\\u003eeliminated)\",\"Impostors win!\\u003cbr\\u003e(Crewmates being\\u003cbr\\u003eoutnumbered or tied\\u003cbr\\u003eto impostors))\",\"Crewmates win! (All\\u003cbr\\u003etask completed)\",\"Crewmates win!\\u003cbr\\u003e(Impostors\\u003cbr\\u003eeliminated)\",\"Impostors win!\\u003cbr\\u003e(Crewmates being\\u003cbr\\u003eoutnumbered or tied\\u003cbr\\u003eto impostors))\",\"Crewmates win!\\u003cbr\\u003e(Impostors\\u003cbr\\u003eeliminated)\",\"Crewmates win!\\u003cbr\\u003e(Impostors\\u003cbr\\u003eeliminated)\",\"Crewmates win! (All\\u003cbr\\u003etask completed)\",\"Crewmates win! (All\\u003cbr\\u003etask completed)\",\"Impostors win!\\u003cbr\\u003e(Crewmates being\\u003cbr\\u003eoutnumbered or tied\\u003cbr\\u003eto impostors))\",\"Crewmates win! (All\\u003cbr\\u003etask completed)\",\"Crewmates win!\\u003cbr\\u003e(Impostors\\u003cbr\\u003eeliminated)\",\"Impostors win!\\u003cbr\\u003e(Crewmates being\\u003cbr\\u003eoutnumbered or tied\\u003cbr\\u003eto impostors))\",\"Impostors win!\\u003cbr\\u003e(Crewmates being\\u003cbr\\u003eoutnumbered or tied\\u003cbr\\u003eto impostors))\",\"Impostors win!\\u003cbr\\u003e(Crewmates being\\u003cbr\\u003eoutnumbered or tied\\u003cbr\\u003eto impostors))\",\"Impostors win!\\u003cbr\\u003e(Crewmates being\\u003cbr\\u003eoutnumbered or tied\\u003cbr\\u003eto impostors))\",\"Crewmates win!\\u003cbr\\u003e(Impostors\\u003cbr\\u003eeliminated)\",\"Crewmates win! (All\\u003cbr\\u003etask completed)\"],\"xaxis\":\"x\",\"yaxis\":\"y\",\"type\":\"histogram\"}],                        {\"template\":{\"data\":{\"histogram2dcontour\":[{\"type\":\"histogram2dcontour\",\"colorbar\":{\"outlinewidth\":0,\"ticks\":\"\"},\"colorscale\":[[0.0,\"#0d0887\"],[0.1111111111111111,\"#46039f\"],[0.2222222222222222,\"#7201a8\"],[0.3333333333333333,\"#9c179e\"],[0.4444444444444444,\"#bd3786\"],[0.5555555555555556,\"#d8576b\"],[0.6666666666666666,\"#ed7953\"],[0.7777777777777778,\"#fb9f3a\"],[0.8888888888888888,\"#fdca26\"],[1.0,\"#f0f921\"]]}],\"choropleth\":[{\"type\":\"choropleth\",\"colorbar\":{\"outlinewidth\":0,\"ticks\":\"\"}}],\"histogram2d\":[{\"type\":\"histogram2d\",\"colorbar\":{\"outlinewidth\":0,\"ticks\":\"\"},\"colorscale\":[[0.0,\"#0d0887\"],[0.1111111111111111,\"#46039f\"],[0.2222222222222222,\"#7201a8\"],[0.3333333333333333,\"#9c179e\"],[0.4444444444444444,\"#bd3786\"],[0.5555555555555556,\"#d8576b\"],[0.6666666666666666,\"#ed7953\"],[0.7777777777777778,\"#fb9f3a\"],[0.8888888888888888,\"#fdca26\"],[1.0,\"#f0f921\"]]}],\"heatmap\":[{\"type\":\"heatmap\",\"colorbar\":{\"outlinewidth\":0,\"ticks\":\"\"},\"colorscale\":[[0.0,\"#0d0887\"],[0.1111111111111111,\"#46039f\"],[0.2222222222222222,\"#7201a8\"],[0.3333333333333333,\"#9c179e\"],[0.4444444444444444,\"#bd3786\"],[0.5555555555555556,\"#d8576b\"],[0.6666666666666666,\"#ed7953\"],[0.7777777777777778,\"#fb9f3a\"],[0.8888888888888888,\"#fdca26\"],[1.0,\"#f0f921\"]]}],\"heatmapgl\":[{\"type\":\"heatmapgl\",\"colorbar\":{\"outlinewidth\":0,\"ticks\":\"\"},\"colorscale\":[[0.0,\"#0d0887\"],[0.1111111111111111,\"#46039f\"],[0.2222222222222222,\"#7201a8\"],[0.3333333333333333,\"#9c179e\"],[0.4444444444444444,\"#bd3786\"],[0.5555555555555556,\"#d8576b\"],[0.6666666666666666,\"#ed7953\"],[0.7777777777777778,\"#fb9f3a\"],[0.8888888888888888,\"#fdca26\"],[1.0,\"#f0f921\"]]}],\"contourcarpet\":[{\"type\":\"contourcarpet\",\"colorbar\":{\"outlinewidth\":0,\"ticks\":\"\"}}],\"contour\":[{\"type\":\"contour\",\"colorbar\":{\"outlinewidth\":0,\"ticks\":\"\"},\"colorscale\":[[0.0,\"#0d0887\"],[0.1111111111111111,\"#46039f\"],[0.2222222222222222,\"#7201a8\"],[0.3333333333333333,\"#9c179e\"],[0.4444444444444444,\"#bd3786\"],[0.5555555555555556,\"#d8576b\"],[0.6666666666666666,\"#ed7953\"],[0.7777777777777778,\"#fb9f3a\"],[0.8888888888888888,\"#fdca26\"],[1.0,\"#f0f921\"]]}],\"surface\":[{\"type\":\"surface\",\"colorbar\":{\"outlinewidth\":0,\"ticks\":\"\"},\"colorscale\":[[0.0,\"#0d0887\"],[0.1111111111111111,\"#46039f\"],[0.2222222222222222,\"#7201a8\"],[0.3333333333333333,\"#9c179e\"],[0.4444444444444444,\"#bd3786\"],[0.5555555555555556,\"#d8576b\"],[0.6666666666666666,\"#ed7953\"],[0.7777777777777778,\"#fb9f3a\"],[0.8888888888888888,\"#fdca26\"],[1.0,\"#f0f921\"]]}],\"mesh3d\":[{\"type\":\"mesh3d\",\"colorbar\":{\"outlinewidth\":0,\"ticks\":\"\"}}],\"scatter\":[{\"fillpattern\":{\"fillmode\":\"overlay\",\"size\":10,\"solidity\":0.2},\"type\":\"scatter\"}],\"parcoords\":[{\"type\":\"parcoords\",\"line\":{\"colorbar\":{\"outlinewidth\":0,\"ticks\":\"\"}}}],\"scatterpolargl\":[{\"type\":\"scatterpolargl\",\"marker\":{\"colorbar\":{\"outlinewidth\":0,\"ticks\":\"\"}}}],\"bar\":[{\"error_x\":{\"color\":\"#2a3f5f\"},\"error_y\":{\"color\":\"#2a3f5f\"},\"marker\":{\"line\":{\"color\":\"#E5ECF6\",\"width\":0.5},\"pattern\":{\"fillmode\":\"overlay\",\"size\":10,\"solidity\":0.2}},\"type\":\"bar\"}],\"scattergeo\":[{\"type\":\"scattergeo\",\"marker\":{\"colorbar\":{\"outlinewidth\":0,\"ticks\":\"\"}}}],\"scatterpolar\":[{\"type\":\"scatterpolar\",\"marker\":{\"colorbar\":{\"outlinewidth\":0,\"ticks\":\"\"}}}],\"histogram\":[{\"marker\":{\"pattern\":{\"fillmode\":\"overlay\",\"size\":10,\"solidity\":0.2}},\"type\":\"histogram\"}],\"scattergl\":[{\"type\":\"scattergl\",\"marker\":{\"colorbar\":{\"outlinewidth\":0,\"ticks\":\"\"}}}],\"scatter3d\":[{\"type\":\"scatter3d\",\"line\":{\"colorbar\":{\"outlinewidth\":0,\"ticks\":\"\"}},\"marker\":{\"colorbar\":{\"outlinewidth\":0,\"ticks\":\"\"}}}],\"scattermapbox\":[{\"type\":\"scattermapbox\",\"marker\":{\"colorbar\":{\"outlinewidth\":0,\"ticks\":\"\"}}}],\"scatterternary\":[{\"type\":\"scatterternary\",\"marker\":{\"colorbar\":{\"outlinewidth\":0,\"ticks\":\"\"}}}],\"scattercarpet\":[{\"type\":\"scattercarpet\",\"marker\":{\"colorbar\":{\"outlinewidth\":0,\"ticks\":\"\"}}}],\"carpet\":[{\"aaxis\":{\"endlinecolor\":\"#2a3f5f\",\"gridcolor\":\"white\",\"linecolor\":\"white\",\"minorgridcolor\":\"white\",\"startlinecolor\":\"#2a3f5f\"},\"baxis\":{\"endlinecolor\":\"#2a3f5f\",\"gridcolor\":\"white\",\"linecolor\":\"white\",\"minorgridcolor\":\"white\",\"startlinecolor\":\"#2a3f5f\"},\"type\":\"carpet\"}],\"table\":[{\"cells\":{\"fill\":{\"color\":\"#EBF0F8\"},\"line\":{\"color\":\"white\"}},\"header\":{\"fill\":{\"color\":\"#C8D4E3\"},\"line\":{\"color\":\"white\"}},\"type\":\"table\"}],\"barpolar\":[{\"marker\":{\"line\":{\"color\":\"#E5ECF6\",\"width\":0.5},\"pattern\":{\"fillmode\":\"overlay\",\"size\":10,\"solidity\":0.2}},\"type\":\"barpolar\"}],\"pie\":[{\"automargin\":true,\"type\":\"pie\"}]},\"layout\":{\"autotypenumbers\":\"strict\",\"colorway\":[\"#636efa\",\"#EF553B\",\"#00cc96\",\"#ab63fa\",\"#FFA15A\",\"#19d3f3\",\"#FF6692\",\"#B6E880\",\"#FF97FF\",\"#FECB52\"],\"font\":{\"color\":\"#2a3f5f\"},\"hovermode\":\"closest\",\"hoverlabel\":{\"align\":\"left\"},\"paper_bgcolor\":\"white\",\"plot_bgcolor\":\"#E5ECF6\",\"polar\":{\"bgcolor\":\"#E5ECF6\",\"angularaxis\":{\"gridcolor\":\"white\",\"linecolor\":\"white\",\"ticks\":\"\"},\"radialaxis\":{\"gridcolor\":\"white\",\"linecolor\":\"white\",\"ticks\":\"\"}},\"ternary\":{\"bgcolor\":\"#E5ECF6\",\"aaxis\":{\"gridcolor\":\"white\",\"linecolor\":\"white\",\"ticks\":\"\"},\"baxis\":{\"gridcolor\":\"white\",\"linecolor\":\"white\",\"ticks\":\"\"},\"caxis\":{\"gridcolor\":\"white\",\"linecolor\":\"white\",\"ticks\":\"\"}},\"coloraxis\":{\"colorbar\":{\"outlinewidth\":0,\"ticks\":\"\"}},\"colorscale\":{\"sequential\":[[0.0,\"#0d0887\"],[0.1111111111111111,\"#46039f\"],[0.2222222222222222,\"#7201a8\"],[0.3333333333333333,\"#9c179e\"],[0.4444444444444444,\"#bd3786\"],[0.5555555555555556,\"#d8576b\"],[0.6666666666666666,\"#ed7953\"],[0.7777777777777778,\"#fb9f3a\"],[0.8888888888888888,\"#fdca26\"],[1.0,\"#f0f921\"]],\"sequentialminus\":[[0.0,\"#0d0887\"],[0.1111111111111111,\"#46039f\"],[0.2222222222222222,\"#7201a8\"],[0.3333333333333333,\"#9c179e\"],[0.4444444444444444,\"#bd3786\"],[0.5555555555555556,\"#d8576b\"],[0.6666666666666666,\"#ed7953\"],[0.7777777777777778,\"#fb9f3a\"],[0.8888888888888888,\"#fdca26\"],[1.0,\"#f0f921\"]],\"diverging\":[[0,\"#8e0152\"],[0.1,\"#c51b7d\"],[0.2,\"#de77ae\"],[0.3,\"#f1b6da\"],[0.4,\"#fde0ef\"],[0.5,\"#f7f7f7\"],[0.6,\"#e6f5d0\"],[0.7,\"#b8e186\"],[0.8,\"#7fbc41\"],[0.9,\"#4d9221\"],[1,\"#276419\"]]},\"xaxis\":{\"gridcolor\":\"white\",\"linecolor\":\"white\",\"ticks\":\"\",\"title\":{\"standoff\":15},\"zerolinecolor\":\"white\",\"automargin\":true,\"zerolinewidth\":2},\"yaxis\":{\"gridcolor\":\"white\",\"linecolor\":\"white\",\"ticks\":\"\",\"title\":{\"standoff\":15},\"zerolinecolor\":\"white\",\"automargin\":true,\"zerolinewidth\":2},\"scene\":{\"xaxis\":{\"backgroundcolor\":\"#E5ECF6\",\"gridcolor\":\"white\",\"linecolor\":\"white\",\"showbackground\":true,\"ticks\":\"\",\"zerolinecolor\":\"white\",\"gridwidth\":2},\"yaxis\":{\"backgroundcolor\":\"#E5ECF6\",\"gridcolor\":\"white\",\"linecolor\":\"white\",\"showbackground\":true,\"ticks\":\"\",\"zerolinecolor\":\"white\",\"gridwidth\":2},\"zaxis\":{\"backgroundcolor\":\"#E5ECF6\",\"gridcolor\":\"white\",\"linecolor\":\"white\",\"showbackground\":true,\"ticks\":\"\",\"zerolinecolor\":\"white\",\"gridwidth\":2}},\"shapedefaults\":{\"line\":{\"color\":\"#2a3f5f\"}},\"annotationdefaults\":{\"arrowcolor\":\"#2a3f5f\",\"arrowhead\":0,\"arrowwidth\":1},\"geo\":{\"bgcolor\":\"white\",\"landcolor\":\"#E5ECF6\",\"subunitcolor\":\"white\",\"showland\":true,\"showlakes\":true,\"lakecolor\":\"white\"},\"title\":{\"x\":0.05},\"mapbox\":{\"style\":\"light\"}}},\"xaxis\":{\"anchor\":\"y\",\"domain\":[0.0,1.0],\"title\":{\"text\":\"Winner Reason\",\"font\":{\"family\":\"serif\",\"size\":18,\"color\":\"black\"}},\"tickfont\":{\"family\":\"serif\",\"size\":18,\"color\":\"black\"},\"showline\":true,\"linewidth\":1,\"linecolor\":\"black\",\"mirror\":false,\"tickangle\":0},\"yaxis\":{\"anchor\":\"x\",\"domain\":[0.0,1.0],\"title\":{\"text\":\"Count\",\"font\":{\"family\":\"serif\",\"size\":18,\"color\":\"black\"}},\"showgrid\":true,\"gridwidth\":1,\"gridcolor\":\"LightGray\",\"range\":[0,70],\"tickfont\":{\"family\":\"serif\",\"size\":18,\"color\":\"black\"}},\"legend\":{\"title\":{\"text\":\"Models\"},\"tracegroupgap\":0,\"orientation\":\"v\",\"yanchor\":\"top\",\"y\":1,\"xanchor\":\"right\",\"x\":0.85,\"traceorder\":\"normal\",\"bgcolor\":\"white\",\"bordercolor\":\"black\",\"borderwidth\":1},\"margin\":{\"t\":60},\"barmode\":\"group\",\"showlegend\":true,\"autosize\":false,\"width\":800,\"height\":600,\"plot_bgcolor\":\"rgba(255, 255, 255, 1)\",\"font\":{\"family\":\"serif\",\"size\":15,\"color\":\"black\"}},                        {\"responsive\": true}                    ).then(function(){\n",
       "                            \n",
       "var gd = document.getElementById('b5d72682-692d-4db0-aa8b-bd0ea021b299');\n",
       "var x = new MutationObserver(function (mutations, observer) {{\n",
       "        var display = window.getComputedStyle(gd).display;\n",
       "        if (!display || display === 'none') {{\n",
       "            console.log([gd, 'removed!']);\n",
       "            Plotly.purge(gd);\n",
       "            observer.disconnect();\n",
       "        }}\n",
       "}});\n",
       "\n",
       "// Listen for the removal of the full notebook cells\n",
       "var notebookContainer = gd.closest('#notebook-container');\n",
       "if (notebookContainer) {{\n",
       "    x.observe(notebookContainer, {childList: true});\n",
       "}}\n",
       "\n",
       "// Listen for the clearing of the current output cell\n",
       "var outputEl = gd.closest('.output');\n",
       "if (outputEl) {{\n",
       "    x.observe(outputEl, {childList: true});\n",
       "}}\n",
       "\n",
       "                        })                };                });            </script>        </div>"
      ]
     },
     "metadata": {},
     "output_type": "display_data"
    }
   ],
   "source": [
    "fig = px.histogram(\n",
    "    combined_df, \n",
    "    x=\"Winner Reason\",\n",
    "    color=\"Models\",\n",
    "    title=\"\", \n",
    "    barmode=\"group\"\n",
    ")\n",
    "\n",
    "fig.update_layout(\n",
    "    xaxis_title=\"Winner Reason\",\n",
    "    yaxis_title=\"Count\",\n",
    "    showlegend=True,\n",
    "    autosize=False,\n",
    "    width=1000,\n",
    "    height=500,\n",
    "    plot_bgcolor='white'\n",
    ")\n",
    "\n",
    "# show legend at fixed position\n",
    "fig.update_layout(legend=dict(\n",
    "    orientation=\"v\",\n",
    "    yanchor=\"top\",\n",
    "    y=1.02,\n",
    "    xanchor=\"right\",\n",
    "    x=0.85\n",
    "))\n",
    "\n",
    "fig.update_layout({'plot_bgcolor': 'rgba(255, 255, 255, 1)',})\n",
    "# show fine grid lines on both axes on both subplotsß\n",
    "# fig.update_xaxes(showgrid=True, gridwidth=1, gridcolor='LightGray')\n",
    "fig.update_yaxes(showgrid=True, gridwidth=1, gridcolor='LightGray')\n",
    "\n",
    "# legend inside the plot in a box\n",
    "fig.update_layout(legend=dict(x=0.85, y=1, traceorder=\"normal\", bgcolor=\"white\", bordercolor=\"black\", borderwidth=1))\n",
    "\n",
    "# width and height\n",
    "fig.update_layout(width=800, height=600)\n",
    "\n",
    "# make y axis start from 0\n",
    "fig.update_yaxes(range=[0, 70])\n",
    "\n",
    "# # ticks on both axes\n",
    "# fig.update_xaxes(tickmode='linear', tick0=0, dtick=500)\n",
    "# fig.update_yaxes(tickmode='linear', tick0=0, dtick=0.2)\n",
    "\n",
    "# everthing latex font (for research paper)\n",
    "fig.update_layout(font=dict(family='serif', size=15, color='black'))\n",
    "fig.update_xaxes(title_font=dict(family='serif', size=18, color='black'))\n",
    "fig.update_yaxes(title_font=dict(family='serif', size=18, color='black'))\n",
    "fig.update_xaxes(tickfont=dict(family='serif', size=18, color='black'))\n",
    "fig.update_yaxes(tickfont=dict(family='serif', size=18, color='black'))\n",
    "fig.update_xaxes(showline=True, linewidth=1, linecolor='black', mirror=False)\n",
    "\n",
    "fig.update_xaxes(tickangle=0)\n",
    "fig.show()"
   ]
  },
  {
   "cell_type": "code",
   "execution_count": null,
   "metadata": {},
   "outputs": [],
   "source": []
  },
  {
   "cell_type": "code",
   "execution_count": null,
   "metadata": {},
   "outputs": [],
   "source": []
  },
  {
   "cell_type": "code",
   "execution_count": null,
   "metadata": {},
   "outputs": [],
   "source": []
  }
 ],
 "metadata": {
  "kernelspec": {
   "display_name": "amongus",
   "language": "python",
   "name": "python3"
  },
  "language_info": {
   "codemirror_mode": {
    "name": "ipython",
    "version": 3
   },
   "file_extension": ".py",
   "mimetype": "text/x-python",
   "name": "python",
   "nbconvert_exporter": "python",
   "pygments_lexer": "ipython3",
   "version": "3.10.16"
  }
 },
 "nbformat": 4,
 "nbformat_minor": 2
}
