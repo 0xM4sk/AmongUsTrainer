{
 "cells": [
  {
   "cell_type": "code",
   "execution_count": 1,
   "metadata": {},
   "outputs": [
    {
     "name": "stdout",
     "output_type": "stream",
     "text": [
      "lolmax\n"
     ]
    }
   ],
   "source": [
    "print(f'lolmax')"
   ]
  },
  {
   "cell_type": "markdown",
   "metadata": {},
   "source": [
    "# Evaluating Linear Probes on the Model Output and Action"
   ]
  },
  {
   "cell_type": "code",
   "execution_count": 2,
   "metadata": {},
   "outputs": [],
   "source": [
    "import sys\n",
    "import argparse\n",
    "from transformers import AutoTokenizer, AutoModelForCausalLM\n",
    "import torch as t\n",
    "import importlib\n",
    "import os\n",
    "import tqdm\n",
    "import pickle\n",
    "import json\n",
    "import pandas as pd\n",
    "import plotly.express as px\n",
    "import plotly.graph_objects as go\n",
    "from pandas import DataFrame, json_normalize\n",
    "from tqdm import tqdm\n",
    "import os\n",
    "import numpy as np\n",
    "from typing import Dict, Any, List, Tuple\n",
    "from sklearn.metrics import roc_curve, auc, precision_recall_curve, average_precision_score, roc_auc_score"
   ]
  },
  {
   "cell_type": "code",
   "execution_count": 3,
   "metadata": {},
   "outputs": [],
   "source": [
    "sys.path.append('../linear-probes/')\n",
    "from probes import LinearProbe\n",
    "sys.path.append(os.path.dirname(os.path.abspath('.')))\n",
    "\n",
    "from evaluate_utils import evaluate_probe_on_activation_dataset\n",
    "from plots import plot_behavior_distribution, plot_roc_curves, add_roc_curves, print_metrics, plot_roc_curve_eval\n",
    "import probes\n",
    "from pprint import pprint as pp\n",
    "\n",
    "from probe_datasets import AmongUsDataset, TruthfulQADataset, DishonestQADataset, RepEngDataset, RolePlayingDataset, ApolloProbeDataset\n",
    "from configs import config_phi4, config_gpt2, config_llama3\n",
    "base_config = config_phi4\n",
    "amongus_expt_name: str = \"2025-02-01_phi_phi_100_games_v3\"\n",
    "# layers_to_work_on: List[int] = list(range(base_config[\"num_layers\"]))\n",
    "layers_to_work_on: List[int] = [20]"
   ]
  },
  {
   "cell_type": "code",
   "execution_count": 4,
   "metadata": {},
   "outputs": [],
   "source": [
    "from configs import config_phi4, config_gpt2, config_llama3\n",
    "base_config = config_phi4"
   ]
  },
  {
   "cell_type": "code",
   "execution_count": 5,
   "metadata": {},
   "outputs": [
    {
     "name": "stdout",
     "output_type": "stream",
     "text": [
      "Loaded probe trained on RepEngDataset for layer 20.\n"
     ]
    }
   ],
   "source": [
    "layer: int = layers_to_work_on[0]\n",
    "probe_dataset_name: str = 'RepEngDataset'\n",
    "\n",
    "probe = LinearProbe(base_config[\"activation_size\"])\n",
    "        \n",
    "checkpoint_path = f'../linear-probes/checkpoints/{probe_dataset_name}_probe_{base_config[\"short_name\"]}_layer{layer}.pkl'\n",
    "\n",
    "with open(checkpoint_path, 'rb') as f:\n",
    "    probe.model = pickle.load(f).model\n",
    "    print(f'Loaded probe trained on {probe_dataset_name} for layer {layer}.')\n",
    "\n",
    "config = base_config.copy()\n",
    "config[\"layer\"] = str(layer)"
   ]
  },
  {
   "cell_type": "code",
   "execution_count": 6,
   "metadata": {},
   "outputs": [],
   "source": [
    "dataset = AmongUsDataset(config, model=None, tokenizer=None, device='cpu', expt_name=config['expt_name'], test_split=1)\n",
    "all_probe_outputs = []\n",
    "chunk_size: int = 500\n",
    "list_of_chunks_to_eval = [1]\n",
    "row_indices = []\n",
    "all_token_scores = []"
   ]
  },
  {
   "cell_type": "code",
   "execution_count": 7,
   "metadata": {},
   "outputs": [
    {
     "name": "stderr",
     "output_type": "stream",
     "text": [
      "100%|██████████| 500/500 [00:34<00:00, 14.51it/s]\n",
      "100%|██████████| 1/1 [00:51<00:00, 51.30s/it]\n"
     ]
    }
   ],
   "source": [
    "for chunk_idx in tqdm(list_of_chunks_to_eval):\n",
    "    test_acts_chunk = dataset.get_test_acts(chunk_idx)\n",
    "    \n",
    "    # Store the row indices for this chunk\n",
    "    start_idx = chunk_idx * chunk_size\n",
    "    end_idx = start_idx + len(test_acts_chunk)\n",
    "    row_indices.extend(range(start_idx, end_idx))\n",
    "    \n",
    "    chunk_probe_outputs, _, token_scores = evaluate_probe_on_activation_dataset(\n",
    "        chunk_data=test_acts_chunk,\n",
    "        probe=probe,\n",
    "        device=None,\n",
    "        num_tokens=None,\n",
    "        verbose=False,\n",
    "        output_token_scores=True,\n",
    "    )\n",
    "    all_probe_outputs.extend(chunk_probe_outputs)\n",
    "    all_token_scores.extend(token_scores)"
   ]
  },
  {
   "cell_type": "code",
   "execution_count": 8,
   "metadata": {},
   "outputs": [],
   "source": [
    "from transformers import AutoTokenizer\n",
    "\n",
    "model_name = config['model_name']\n",
    "tokenizer = AutoTokenizer.from_pretrained(model_name)"
   ]
  },
  {
   "cell_type": "code",
   "execution_count": 9,
   "metadata": {},
   "outputs": [
    {
     "data": {
      "text/plain": [
       "(500, 500)"
      ]
     },
     "execution_count": 9,
     "metadata": {},
     "output_type": "execute_result"
    }
   ],
   "source": [
    "len(all_token_scores), len(chunk_probe_outputs)"
   ]
  },
  {
   "cell_type": "code",
   "execution_count": 10,
   "metadata": {},
   "outputs": [
    {
     "data": {
      "text/plain": [
       "500"
      ]
     },
     "execution_count": 10,
     "metadata": {},
     "output_type": "execute_result"
    }
   ],
   "source": [
    "len(all_token_scores)"
   ]
  },
  {
   "cell_type": "code",
   "execution_count": 11,
   "metadata": {},
   "outputs": [
    {
     "data": {
      "text/plain": [
       "1085"
      ]
     },
     "execution_count": 11,
     "metadata": {},
     "output_type": "execute_result"
    }
   ],
   "source": [
    "len(all_token_scores[0])"
   ]
  },
  {
   "cell_type": "code",
   "execution_count": 12,
   "metadata": {},
   "outputs": [],
   "source": [
    "import numpy as np\n",
    "import matplotlib\n",
    "import matplotlib.pyplot as plt\n",
    "from IPython.display import HTML"
   ]
  },
  {
   "cell_type": "code",
   "execution_count": 13,
   "metadata": {},
   "outputs": [
    {
     "data": {
      "text/plain": [
       "game_index                                                                         Game 59\n",
       "step                                                                                     1\n",
       "timestamp                                                       2025-02-01 04:56:28.893432\n",
       "player.name                                                                 Player 4: cyan\n",
       "player.identity                                                                   Impostor\n",
       "player.personality                                                                    None\n",
       "player.model                                                               microsoft/phi-4\n",
       "player.location                                                                  Cafeteria\n",
       "interaction.system_prompt                \\nYou are Player 4: cyan. You are an Impostor ...\n",
       "interaction.prompt.Summarization                         No thought process has been made.\n",
       "interaction.prompt.All Info              Game Time: 1/50\\nCurrent phase: Meeting phase ...\n",
       "interaction.prompt.Memory                                    No memory has been processed.\n",
       "interaction.prompt.Phase                                                     Meeting phase\n",
       "interaction.response.Condensed Memory    - No prior actions taken by other players or m...\n",
       "interaction.full_response                [Condensed Memory]\\n- No prior actions taken b...\n",
       "action                                   SPEAK: It's interesting that Player 3 called a...\n",
       "thought                                  - The current meeting phase is a critical oppo...\n",
       "Name: 533, dtype: object"
      ]
     },
     "execution_count": 13,
     "metadata": {},
     "output_type": "execute_result"
    }
   ],
   "source": [
    "dataset.agent_logs_df.iloc[row_indices[33]]"
   ]
  },
  {
   "cell_type": "code",
   "execution_count": 14,
   "metadata": {},
   "outputs": [],
   "source": [
    "row_index = 0\n",
    "\n",
    "row_token_scores = all_token_scores[row_index]\n",
    "row_token_scores = np.array(row_token_scores)\n",
    "raw_df = dataset.agent_logs_df\n",
    "actual_row_idx = row_indices[row_index]\n",
    "\n",
    "fp = dataset.agent_logs_row_to_full_prompt(raw_df.iloc[actual_row_idx])\n",
    "encoded = tokenizer.encode(fp, return_tensors=\"pt\")\n",
    "\n",
    "full_prompt_tokens = []\n",
    "\n",
    "for token_id in encoded[0]:\n",
    "    token = tokenizer.decode(token_id)\n",
    "    full_prompt_tokens.append(token)\n",
    "\n",
    "words = full_prompt_tokens"
   ]
  },
  {
   "cell_type": "code",
   "execution_count": 15,
   "metadata": {},
   "outputs": [
    {
     "name": "stderr",
     "output_type": "stream",
     "text": [
      "100%|██████████| 500/500 [00:07<00:00, 67.30it/s]\n"
     ]
    }
   ],
   "source": [
    "all_index_words = []\n",
    "all_index_scores = []\n",
    "all_index_label = []\n",
    "\n",
    "\n",
    "for row_index in tqdm(range(len(all_token_scores))):\n",
    "    row_token_scores = all_token_scores[row_index]\n",
    "    row_token_scores = np.array(row_token_scores)\n",
    "    actual_row_idx = row_indices[row_index]\n",
    "    raw_df = dataset.agent_logs_df\n",
    "    fp = dataset.agent_logs_row_to_full_prompt(raw_df.iloc[actual_row_idx])\n",
    "    identity = raw_df.iloc[actual_row_idx]['player.identity']\n",
    "    encoded = tokenizer.encode(fp, return_tensors=\"pt\")\n",
    "\n",
    "    full_prompt_tokens = []\n",
    "\n",
    "    for token_id in encoded[0]:\n",
    "        token = tokenizer.decode(token_id)\n",
    "        full_prompt_tokens.append(token)\n",
    "\n",
    "    row_words = full_prompt_tokens\n",
    "    all_index_words.append(row_words)\n",
    "    all_index_scores.append(row_token_scores)\n",
    "    all_index_label.append(identity)"
   ]
  },
  {
   "cell_type": "code",
   "execution_count": 17,
   "metadata": {},
   "outputs": [],
   "source": [
    "df = pd.DataFrame({'string_tokens': all_index_words, 'token_scores': all_index_scores, 'label': all_index_label})\n",
    "system_identifier = ['<|im_start|>', 'system', '<|im_sep|>']\n",
    "user_identifier = ['<|im_start|>', 'user', '<|im_sep|>']\n",
    "model_output_identifier = ['<|im_start|>', 'assistant', '<|im_sep|>']\n",
    "model_action_identifier = ['[', 'Action']\n",
    "model_action_identifier_2 = ['[', 'action']\n",
    "\n",
    "def find_sublist_start_idx(tokens, sublist, reversed=False):\n",
    "    n = len(tokens)\n",
    "    m = len(sublist)\n",
    "    \n",
    "    if reversed:\n",
    "        # Search from the end to find the last occurrence\n",
    "        for i in range(n - m, -1, -1):\n",
    "            if tokens[i:i+m] == sublist:\n",
    "                return i\n",
    "    else:\n",
    "        # Original behavior - find first occurrence\n",
    "        for i in range(n - m + 1):\n",
    "            if tokens[i:i+m] == sublist:\n",
    "                return i\n",
    "    return 0"
   ]
  },
  {
   "cell_type": "code",
   "execution_count": 51,
   "metadata": {},
   "outputs": [],
   "source": [
    "# Define a soft mix parameter between mean and max aggregation\n",
    "k = 0  # 0 = pure mean, 1 = pure max\n",
    "\n",
    "df['system_start_idx'] = df['string_tokens'].apply(lambda tokens: find_sublist_start_idx(tokens, system_identifier))\n",
    "df['user_start_idx'] = df['string_tokens'].apply(lambda tokens: find_sublist_start_idx(tokens, user_identifier))\n",
    "df['model_output_start_idx'] = df['string_tokens'].apply(lambda tokens: find_sublist_start_idx(tokens, model_output_identifier))\n",
    "df['model_action_start_idx'] = df['string_tokens'].apply(lambda tokens: \\\n",
    "    max(find_sublist_start_idx(tokens, model_action_identifier, reversed=True), \\\n",
    "        find_sublist_start_idx(tokens, model_action_identifier_2, reversed=True)))\n",
    "\n",
    "# Define a function that creates a soft mix between mean and max\n",
    "def soft_agg(values):\n",
    "    if len(values) == 0:\n",
    "        return 0\n",
    "    return k * np.max(values) + (1-k) * np.mean(values)\n",
    "\n",
    "df['system_scores'] = df.apply(lambda row: soft_agg(row['token_scores'][row['system_start_idx']:row['user_start_idx']]), axis=1)\n",
    "df['user_scores'] = df.apply(lambda row: soft_agg(row['token_scores'][row['user_start_idx']:row['model_output_start_idx']]), axis=1)\n",
    "df['model_output_scores'] = df.apply(lambda row: soft_agg(row['token_scores'][row['model_output_start_idx']:]), axis=1)\n",
    "df['model_action_scores'] = df.apply(lambda row: soft_agg(row['token_scores'][row['model_action_start_idx']:]), axis=1)\n",
    "\n",
    "df['ground_truth'] = df['label'].apply(lambda x: 1 if x == 'Crewmate' else 0)"
   ]
  },
  {
   "cell_type": "code",
   "execution_count": 52,
   "metadata": {},
   "outputs": [
    {
     "data": {
      "text/plain": [
       "(500, 12)"
      ]
     },
     "execution_count": 52,
     "metadata": {},
     "output_type": "execute_result"
    }
   ],
   "source": [
    "df.shape"
   ]
  },
  {
   "cell_type": "code",
   "execution_count": 53,
   "metadata": {},
   "outputs": [],
   "source": [
    "def plot_roc_curves(df):\n",
    "    prediction_cols = ['system_scores', 'user_scores', 'model_output_scores', 'model_action_scores']\n",
    "    legend_names = ['+System', '+User', '+Thinking', 'Action']\n",
    "    \n",
    "    # Create figure with square shape\n",
    "    fig = go.Figure(layout=go.Layout(\n",
    "        width=500, \n",
    "        height=500,\n",
    "        font=dict(family=\"Computer Modern\", size=14),  # LaTeX-style font\n",
    "        template=\"plotly_white\"\n",
    "    ))\n",
    "    \n",
    "    # Color palette for elegant, deep colors\n",
    "    colors = ['#1f77b4', '#d62728', '#2ca02c', '#9467bd']\n",
    "    \n",
    "    # Add ROC curves with thicker lines and calculate AUROC\n",
    "    for i, col in enumerate(prediction_cols):\n",
    "        fpr, tpr, thresholds = roc_curve(df['ground_truth'], df[col])\n",
    "        auc_score = roc_auc_score(df['ground_truth'], df[col])\n",
    "        \n",
    "        # Format name with AUROC value\n",
    "        name = f\"{col} (AUC = {auc_score:.3f})\"\n",
    "        \n",
    "        fig.add_trace(go.Scatter(\n",
    "            x=fpr, \n",
    "            y=tpr, \n",
    "            mode='lines', \n",
    "            name=f'{legend_names[i]} (AUC = {auc_score:.3f})',\n",
    "            line=dict(color=colors[i], width=3),\n",
    "        ))\n",
    "    \n",
    "    # Add random baseline (y=x) as dashed black line\n",
    "    fig.add_trace(go.Scatter(\n",
    "        x=[0, 1], \n",
    "        y=[0, 1], \n",
    "        mode='lines', \n",
    "        name='Random (AUC = 0.500)',\n",
    "        line=dict(color='black', width=2, dash='dash'),\n",
    "    ))\n",
    "    \n",
    "    # Update layout for research paper quality\n",
    "    fig.update_layout(\n",
    "        xaxis=dict(\n",
    "            title='False Positive Rate',\n",
    "            titlefont=dict(size=16),\n",
    "            tickfont=dict(size=14),\n",
    "            gridcolor='#E9E9E9',\n",
    "        ),\n",
    "        yaxis=dict(\n",
    "            title='True Positive Rate',\n",
    "            titlefont=dict(size=16),\n",
    "            tickfont=dict(size=14),\n",
    "            gridcolor='#E9E9E9',\n",
    "        ),\n",
    "        legend=dict(\n",
    "            x=0.45,\n",
    "            y=0.1,\n",
    "            bgcolor='rgba(255, 255, 255, 0.8)',\n",
    "            bordercolor='#E2E2E2',\n",
    "            borderwidth=1,\n",
    "            traceorder='reversed',  # Reverse the order of the legend items\n",
    "        ),\n",
    "        plot_bgcolor='white',\n",
    "        margin=dict(l=60, r=30, t=30, b=60),\n",
    "    )\n",
    "    \n",
    "    fig.update_layout(width=520, height=500)\n",
    "\n",
    "    return fig"
   ]
  },
  {
   "cell_type": "code",
   "execution_count": 54,
   "metadata": {},
   "outputs": [
    {
     "data": {
      "application/vnd.plotly.v1+json": {
       "config": {
        "plotlyServerURL": "https://plot.ly"
       },
       "data": [
        {
         "line": {
          "color": "#1f77b4",
          "width": 3
         },
         "mode": "lines",
         "name": "+System (AUC = 0.500)",
         "type": "scatter",
         "x": [
          0,
          1
         ],
         "y": [
          0,
          1
         ]
        },
        {
         "line": {
          "color": "#d62728",
          "width": 3
         },
         "mode": "lines",
         "name": "+User (AUC = 0.475)",
         "type": "scatter",
         "x": [
          0,
          0.9182389937106918,
          0.9559748427672956,
          0.9622641509433962,
          0.9748427672955975,
          0.9811320754716981,
          0.9811320754716981,
          0.9874213836477987,
          0.9874213836477987,
          0.9874213836477987,
          0.9937106918238994,
          0.9937106918238994,
          1,
          1
         ],
         "y": [
          0,
          0.873900293255132,
          0.8826979472140762,
          0.8856304985337243,
          0.8973607038123167,
          0.9178885630498533,
          0.9266862170087976,
          0.9413489736070382,
          0.9765395894428153,
          0.9824046920821115,
          0.9882697947214076,
          0.9970674486803519,
          0.9970674486803519,
          1
         ]
        },
        {
         "line": {
          "color": "#2ca02c",
          "width": 3
         },
         "mode": "lines",
         "name": "+Thinking (AUC = 0.751)",
         "type": "scatter",
         "x": [
          0,
          0.24528301886792453,
          0.27672955974842767,
          0.3081761006289308,
          0.37735849056603776,
          0.4339622641509434,
          0.5157232704402516,
          0.6226415094339622,
          0.6981132075471698,
          0.7987421383647799,
          0.8490566037735849,
          0.8742138364779874,
          0.9245283018867925,
          0.949685534591195,
          0.9559748427672956,
          0.9685534591194969,
          0.9874213836477987,
          1
         ],
         "y": [
          0,
          0.30498533724340177,
          0.6304985337243402,
          0.8211143695014663,
          0.9120234604105572,
          0.9648093841642229,
          0.9912023460410557,
          0.9941348973607038,
          0.9970674486803519,
          1,
          1,
          1,
          1,
          1,
          1,
          1,
          1,
          1
         ]
        },
        {
         "line": {
          "color": "#9467bd",
          "width": 3
         },
         "mode": "lines",
         "name": "Action (AUC = 0.769)",
         "type": "scatter",
         "x": [
          0,
          0.006289308176100629,
          0.006289308176100629,
          0.006289308176100629,
          0.012578616352201259,
          0.012578616352201259,
          0.018867924528301886,
          0.018867924528301886,
          0.018867924528301886,
          0.018867924528301886,
          0.025157232704402517,
          0.031446540880503145,
          0.031446540880503145,
          0.031446540880503145,
          0.03773584905660377,
          0.0440251572327044,
          0.05660377358490566,
          0.06289308176100629,
          0.06918238993710692,
          0.06918238993710692,
          0.0880503144654088,
          0.1069182389937107,
          0.11949685534591195,
          0.14465408805031446,
          0.16352201257861634,
          0.18867924528301888,
          0.22012578616352202,
          0.2389937106918239,
          0.27044025157232704,
          0.3081761006289308,
          0.34591194968553457,
          0.37735849056603776,
          0.4025157232704403,
          0.4276729559748428,
          0.4591194968553459,
          0.49056603773584906,
          0.49056603773584906,
          0.5031446540880503,
          0.5345911949685535,
          0.5534591194968553,
          0.5723270440251572,
          0.5786163522012578,
          0.6037735849056604,
          0.6163522012578616,
          0.6415094339622641,
          0.6666666666666666,
          0.6918238993710691,
          0.7044025157232704,
          0.710691823899371,
          0.7232704402515723,
          0.7295597484276729,
          0.7547169811320755,
          0.7735849056603774,
          0.7735849056603774,
          0.7861635220125787,
          0.7924528301886793,
          0.7924528301886793,
          0.7924528301886793,
          0.8050314465408805,
          0.8301886792452831,
          0.8364779874213837,
          0.8427672955974843,
          0.8490566037735849,
          0.8490566037735849,
          0.8553459119496856,
          0.8616352201257862,
          0.8742138364779874,
          0.8805031446540881,
          0.8805031446540881,
          0.8930817610062893,
          0.9182389937106918,
          0.9308176100628931,
          0.9371069182389937,
          0.9433962264150944,
          0.9433962264150944,
          0.9559748427672956,
          0.9559748427672956,
          1
         ],
         "y": [
          0,
          0.02346041055718475,
          0.02932551319648094,
          0.03812316715542522,
          0.04105571847507331,
          0.04985337243401759,
          0.05571847507331378,
          0.07331378299120235,
          0.10557184750733138,
          0.12609970674486803,
          0.1436950146627566,
          0.17302052785923755,
          0.187683284457478,
          0.2404692082111437,
          0.26099706744868034,
          0.2785923753665689,
          0.2903225806451613,
          0.30498533724340177,
          0.3460410557184751,
          0.3841642228739003,
          0.41348973607038125,
          0.4604105571847507,
          0.49560117302052786,
          0.5249266862170088,
          0.5483870967741935,
          0.5689149560117303,
          0.6041055718475073,
          0.6334310850439883,
          0.656891495601173,
          0.6832844574780058,
          0.7038123167155426,
          0.7448680351906158,
          0.7741935483870968,
          0.7976539589442815,
          0.8064516129032258,
          0.8299120234604106,
          0.8357771260997068,
          0.8563049853372434,
          0.8768328445747801,
          0.8944281524926686,
          0.9002932551319648,
          0.9032258064516129,
          0.9149560117302052,
          0.9237536656891495,
          0.9296187683284457,
          0.9325513196480938,
          0.9413489736070382,
          0.9413489736070382,
          0.9413489736070382,
          0.9472140762463344,
          0.9472140762463344,
          0.9472140762463344,
          0.9501466275659824,
          0.9560117302052786,
          0.9560117302052786,
          0.9560117302052786,
          0.9618768328445748,
          0.9648093841642229,
          0.967741935483871,
          0.9706744868035191,
          0.9736070381231672,
          0.9736070381231672,
          0.9765395894428153,
          0.9824046920821115,
          0.9824046920821115,
          0.9853372434017595,
          0.9853372434017595,
          0.9882697947214076,
          0.9912023460410557,
          0.9912023460410557,
          0.9912023460410557,
          0.9912023460410557,
          0.9941348973607038,
          0.9941348973607038,
          0.9970674486803519,
          0.9970674486803519,
          1,
          1
         ]
        },
        {
         "line": {
          "color": "black",
          "dash": "dash",
          "width": 2
         },
         "mode": "lines",
         "name": "Random (AUC = 0.500)",
         "type": "scatter",
         "x": [
          0,
          1
         ],
         "y": [
          0,
          1
         ]
        }
       ],
       "layout": {
        "font": {
         "family": "Computer Modern",
         "size": 14
        },
        "height": 500,
        "legend": {
         "bgcolor": "rgba(255, 255, 255, 0.8)",
         "bordercolor": "#E2E2E2",
         "borderwidth": 1,
         "traceorder": "reversed",
         "x": 0.45,
         "y": 0.1
        },
        "margin": {
         "b": 60,
         "l": 60,
         "r": 30,
         "t": 30
        },
        "plot_bgcolor": "white",
        "template": {
         "data": {
          "bar": [
           {
            "error_x": {
             "color": "#2a3f5f"
            },
            "error_y": {
             "color": "#2a3f5f"
            },
            "marker": {
             "line": {
              "color": "white",
              "width": 0.5
             },
             "pattern": {
              "fillmode": "overlay",
              "size": 10,
              "solidity": 0.2
             }
            },
            "type": "bar"
           }
          ],
          "barpolar": [
           {
            "marker": {
             "line": {
              "color": "white",
              "width": 0.5
             },
             "pattern": {
              "fillmode": "overlay",
              "size": 10,
              "solidity": 0.2
             }
            },
            "type": "barpolar"
           }
          ],
          "carpet": [
           {
            "aaxis": {
             "endlinecolor": "#2a3f5f",
             "gridcolor": "#C8D4E3",
             "linecolor": "#C8D4E3",
             "minorgridcolor": "#C8D4E3",
             "startlinecolor": "#2a3f5f"
            },
            "baxis": {
             "endlinecolor": "#2a3f5f",
             "gridcolor": "#C8D4E3",
             "linecolor": "#C8D4E3",
             "minorgridcolor": "#C8D4E3",
             "startlinecolor": "#2a3f5f"
            },
            "type": "carpet"
           }
          ],
          "choropleth": [
           {
            "colorbar": {
             "outlinewidth": 0,
             "ticks": ""
            },
            "type": "choropleth"
           }
          ],
          "contour": [
           {
            "colorbar": {
             "outlinewidth": 0,
             "ticks": ""
            },
            "colorscale": [
             [
              0,
              "#0d0887"
             ],
             [
              0.1111111111111111,
              "#46039f"
             ],
             [
              0.2222222222222222,
              "#7201a8"
             ],
             [
              0.3333333333333333,
              "#9c179e"
             ],
             [
              0.4444444444444444,
              "#bd3786"
             ],
             [
              0.5555555555555556,
              "#d8576b"
             ],
             [
              0.6666666666666666,
              "#ed7953"
             ],
             [
              0.7777777777777778,
              "#fb9f3a"
             ],
             [
              0.8888888888888888,
              "#fdca26"
             ],
             [
              1,
              "#f0f921"
             ]
            ],
            "type": "contour"
           }
          ],
          "contourcarpet": [
           {
            "colorbar": {
             "outlinewidth": 0,
             "ticks": ""
            },
            "type": "contourcarpet"
           }
          ],
          "heatmap": [
           {
            "colorbar": {
             "outlinewidth": 0,
             "ticks": ""
            },
            "colorscale": [
             [
              0,
              "#0d0887"
             ],
             [
              0.1111111111111111,
              "#46039f"
             ],
             [
              0.2222222222222222,
              "#7201a8"
             ],
             [
              0.3333333333333333,
              "#9c179e"
             ],
             [
              0.4444444444444444,
              "#bd3786"
             ],
             [
              0.5555555555555556,
              "#d8576b"
             ],
             [
              0.6666666666666666,
              "#ed7953"
             ],
             [
              0.7777777777777778,
              "#fb9f3a"
             ],
             [
              0.8888888888888888,
              "#fdca26"
             ],
             [
              1,
              "#f0f921"
             ]
            ],
            "type": "heatmap"
           }
          ],
          "heatmapgl": [
           {
            "colorbar": {
             "outlinewidth": 0,
             "ticks": ""
            },
            "colorscale": [
             [
              0,
              "#0d0887"
             ],
             [
              0.1111111111111111,
              "#46039f"
             ],
             [
              0.2222222222222222,
              "#7201a8"
             ],
             [
              0.3333333333333333,
              "#9c179e"
             ],
             [
              0.4444444444444444,
              "#bd3786"
             ],
             [
              0.5555555555555556,
              "#d8576b"
             ],
             [
              0.6666666666666666,
              "#ed7953"
             ],
             [
              0.7777777777777778,
              "#fb9f3a"
             ],
             [
              0.8888888888888888,
              "#fdca26"
             ],
             [
              1,
              "#f0f921"
             ]
            ],
            "type": "heatmapgl"
           }
          ],
          "histogram": [
           {
            "marker": {
             "pattern": {
              "fillmode": "overlay",
              "size": 10,
              "solidity": 0.2
             }
            },
            "type": "histogram"
           }
          ],
          "histogram2d": [
           {
            "colorbar": {
             "outlinewidth": 0,
             "ticks": ""
            },
            "colorscale": [
             [
              0,
              "#0d0887"
             ],
             [
              0.1111111111111111,
              "#46039f"
             ],
             [
              0.2222222222222222,
              "#7201a8"
             ],
             [
              0.3333333333333333,
              "#9c179e"
             ],
             [
              0.4444444444444444,
              "#bd3786"
             ],
             [
              0.5555555555555556,
              "#d8576b"
             ],
             [
              0.6666666666666666,
              "#ed7953"
             ],
             [
              0.7777777777777778,
              "#fb9f3a"
             ],
             [
              0.8888888888888888,
              "#fdca26"
             ],
             [
              1,
              "#f0f921"
             ]
            ],
            "type": "histogram2d"
           }
          ],
          "histogram2dcontour": [
           {
            "colorbar": {
             "outlinewidth": 0,
             "ticks": ""
            },
            "colorscale": [
             [
              0,
              "#0d0887"
             ],
             [
              0.1111111111111111,
              "#46039f"
             ],
             [
              0.2222222222222222,
              "#7201a8"
             ],
             [
              0.3333333333333333,
              "#9c179e"
             ],
             [
              0.4444444444444444,
              "#bd3786"
             ],
             [
              0.5555555555555556,
              "#d8576b"
             ],
             [
              0.6666666666666666,
              "#ed7953"
             ],
             [
              0.7777777777777778,
              "#fb9f3a"
             ],
             [
              0.8888888888888888,
              "#fdca26"
             ],
             [
              1,
              "#f0f921"
             ]
            ],
            "type": "histogram2dcontour"
           }
          ],
          "mesh3d": [
           {
            "colorbar": {
             "outlinewidth": 0,
             "ticks": ""
            },
            "type": "mesh3d"
           }
          ],
          "parcoords": [
           {
            "line": {
             "colorbar": {
              "outlinewidth": 0,
              "ticks": ""
             }
            },
            "type": "parcoords"
           }
          ],
          "pie": [
           {
            "automargin": true,
            "type": "pie"
           }
          ],
          "scatter": [
           {
            "fillpattern": {
             "fillmode": "overlay",
             "size": 10,
             "solidity": 0.2
            },
            "type": "scatter"
           }
          ],
          "scatter3d": [
           {
            "line": {
             "colorbar": {
              "outlinewidth": 0,
              "ticks": ""
             }
            },
            "marker": {
             "colorbar": {
              "outlinewidth": 0,
              "ticks": ""
             }
            },
            "type": "scatter3d"
           }
          ],
          "scattercarpet": [
           {
            "marker": {
             "colorbar": {
              "outlinewidth": 0,
              "ticks": ""
             }
            },
            "type": "scattercarpet"
           }
          ],
          "scattergeo": [
           {
            "marker": {
             "colorbar": {
              "outlinewidth": 0,
              "ticks": ""
             }
            },
            "type": "scattergeo"
           }
          ],
          "scattergl": [
           {
            "marker": {
             "colorbar": {
              "outlinewidth": 0,
              "ticks": ""
             }
            },
            "type": "scattergl"
           }
          ],
          "scattermapbox": [
           {
            "marker": {
             "colorbar": {
              "outlinewidth": 0,
              "ticks": ""
             }
            },
            "type": "scattermapbox"
           }
          ],
          "scatterpolar": [
           {
            "marker": {
             "colorbar": {
              "outlinewidth": 0,
              "ticks": ""
             }
            },
            "type": "scatterpolar"
           }
          ],
          "scatterpolargl": [
           {
            "marker": {
             "colorbar": {
              "outlinewidth": 0,
              "ticks": ""
             }
            },
            "type": "scatterpolargl"
           }
          ],
          "scatterternary": [
           {
            "marker": {
             "colorbar": {
              "outlinewidth": 0,
              "ticks": ""
             }
            },
            "type": "scatterternary"
           }
          ],
          "surface": [
           {
            "colorbar": {
             "outlinewidth": 0,
             "ticks": ""
            },
            "colorscale": [
             [
              0,
              "#0d0887"
             ],
             [
              0.1111111111111111,
              "#46039f"
             ],
             [
              0.2222222222222222,
              "#7201a8"
             ],
             [
              0.3333333333333333,
              "#9c179e"
             ],
             [
              0.4444444444444444,
              "#bd3786"
             ],
             [
              0.5555555555555556,
              "#d8576b"
             ],
             [
              0.6666666666666666,
              "#ed7953"
             ],
             [
              0.7777777777777778,
              "#fb9f3a"
             ],
             [
              0.8888888888888888,
              "#fdca26"
             ],
             [
              1,
              "#f0f921"
             ]
            ],
            "type": "surface"
           }
          ],
          "table": [
           {
            "cells": {
             "fill": {
              "color": "#EBF0F8"
             },
             "line": {
              "color": "white"
             }
            },
            "header": {
             "fill": {
              "color": "#C8D4E3"
             },
             "line": {
              "color": "white"
             }
            },
            "type": "table"
           }
          ]
         },
         "layout": {
          "annotationdefaults": {
           "arrowcolor": "#2a3f5f",
           "arrowhead": 0,
           "arrowwidth": 1
          },
          "autotypenumbers": "strict",
          "coloraxis": {
           "colorbar": {
            "outlinewidth": 0,
            "ticks": ""
           }
          },
          "colorscale": {
           "diverging": [
            [
             0,
             "#8e0152"
            ],
            [
             0.1,
             "#c51b7d"
            ],
            [
             0.2,
             "#de77ae"
            ],
            [
             0.3,
             "#f1b6da"
            ],
            [
             0.4,
             "#fde0ef"
            ],
            [
             0.5,
             "#f7f7f7"
            ],
            [
             0.6,
             "#e6f5d0"
            ],
            [
             0.7,
             "#b8e186"
            ],
            [
             0.8,
             "#7fbc41"
            ],
            [
             0.9,
             "#4d9221"
            ],
            [
             1,
             "#276419"
            ]
           ],
           "sequential": [
            [
             0,
             "#0d0887"
            ],
            [
             0.1111111111111111,
             "#46039f"
            ],
            [
             0.2222222222222222,
             "#7201a8"
            ],
            [
             0.3333333333333333,
             "#9c179e"
            ],
            [
             0.4444444444444444,
             "#bd3786"
            ],
            [
             0.5555555555555556,
             "#d8576b"
            ],
            [
             0.6666666666666666,
             "#ed7953"
            ],
            [
             0.7777777777777778,
             "#fb9f3a"
            ],
            [
             0.8888888888888888,
             "#fdca26"
            ],
            [
             1,
             "#f0f921"
            ]
           ],
           "sequentialminus": [
            [
             0,
             "#0d0887"
            ],
            [
             0.1111111111111111,
             "#46039f"
            ],
            [
             0.2222222222222222,
             "#7201a8"
            ],
            [
             0.3333333333333333,
             "#9c179e"
            ],
            [
             0.4444444444444444,
             "#bd3786"
            ],
            [
             0.5555555555555556,
             "#d8576b"
            ],
            [
             0.6666666666666666,
             "#ed7953"
            ],
            [
             0.7777777777777778,
             "#fb9f3a"
            ],
            [
             0.8888888888888888,
             "#fdca26"
            ],
            [
             1,
             "#f0f921"
            ]
           ]
          },
          "colorway": [
           "#636efa",
           "#EF553B",
           "#00cc96",
           "#ab63fa",
           "#FFA15A",
           "#19d3f3",
           "#FF6692",
           "#B6E880",
           "#FF97FF",
           "#FECB52"
          ],
          "font": {
           "color": "#2a3f5f"
          },
          "geo": {
           "bgcolor": "white",
           "lakecolor": "white",
           "landcolor": "white",
           "showlakes": true,
           "showland": true,
           "subunitcolor": "#C8D4E3"
          },
          "hoverlabel": {
           "align": "left"
          },
          "hovermode": "closest",
          "mapbox": {
           "style": "light"
          },
          "paper_bgcolor": "white",
          "plot_bgcolor": "white",
          "polar": {
           "angularaxis": {
            "gridcolor": "#EBF0F8",
            "linecolor": "#EBF0F8",
            "ticks": ""
           },
           "bgcolor": "white",
           "radialaxis": {
            "gridcolor": "#EBF0F8",
            "linecolor": "#EBF0F8",
            "ticks": ""
           }
          },
          "scene": {
           "xaxis": {
            "backgroundcolor": "white",
            "gridcolor": "#DFE8F3",
            "gridwidth": 2,
            "linecolor": "#EBF0F8",
            "showbackground": true,
            "ticks": "",
            "zerolinecolor": "#EBF0F8"
           },
           "yaxis": {
            "backgroundcolor": "white",
            "gridcolor": "#DFE8F3",
            "gridwidth": 2,
            "linecolor": "#EBF0F8",
            "showbackground": true,
            "ticks": "",
            "zerolinecolor": "#EBF0F8"
           },
           "zaxis": {
            "backgroundcolor": "white",
            "gridcolor": "#DFE8F3",
            "gridwidth": 2,
            "linecolor": "#EBF0F8",
            "showbackground": true,
            "ticks": "",
            "zerolinecolor": "#EBF0F8"
           }
          },
          "shapedefaults": {
           "line": {
            "color": "#2a3f5f"
           }
          },
          "ternary": {
           "aaxis": {
            "gridcolor": "#DFE8F3",
            "linecolor": "#A2B1C6",
            "ticks": ""
           },
           "baxis": {
            "gridcolor": "#DFE8F3",
            "linecolor": "#A2B1C6",
            "ticks": ""
           },
           "bgcolor": "white",
           "caxis": {
            "gridcolor": "#DFE8F3",
            "linecolor": "#A2B1C6",
            "ticks": ""
           }
          },
          "title": {
           "x": 0.05
          },
          "xaxis": {
           "automargin": true,
           "gridcolor": "#EBF0F8",
           "linecolor": "#EBF0F8",
           "ticks": "",
           "title": {
            "standoff": 15
           },
           "zerolinecolor": "#EBF0F8",
           "zerolinewidth": 2
          },
          "yaxis": {
           "automargin": true,
           "gridcolor": "#EBF0F8",
           "linecolor": "#EBF0F8",
           "ticks": "",
           "title": {
            "standoff": 15
           },
           "zerolinecolor": "#EBF0F8",
           "zerolinewidth": 2
          }
         }
        },
        "width": 520,
        "xaxis": {
         "gridcolor": "#E9E9E9",
         "tickfont": {
          "size": 14
         },
         "title": {
          "font": {
           "size": 16
          },
          "text": "False Positive Rate"
         }
        },
        "yaxis": {
         "gridcolor": "#E9E9E9",
         "tickfont": {
          "size": 14
         },
         "title": {
          "font": {
           "size": 16
          },
          "text": "True Positive Rate"
         }
        }
       }
      },
      "text/html": [
       "<div>                            <div id=\"3dddfac1-dc76-49e6-a4e9-3fe61d9939df\" class=\"plotly-graph-div\" style=\"height:500px; width:520px;\"></div>            <script type=\"text/javascript\">                require([\"plotly\"], function(Plotly) {                    window.PLOTLYENV=window.PLOTLYENV || {};                                    if (document.getElementById(\"3dddfac1-dc76-49e6-a4e9-3fe61d9939df\")) {                    Plotly.newPlot(                        \"3dddfac1-dc76-49e6-a4e9-3fe61d9939df\",                        [{\"line\":{\"color\":\"#1f77b4\",\"width\":3},\"mode\":\"lines\",\"name\":\"+System (AUC = 0.500)\",\"x\":[0.0,1.0],\"y\":[0.0,1.0],\"type\":\"scatter\"},{\"line\":{\"color\":\"#d62728\",\"width\":3},\"mode\":\"lines\",\"name\":\"+User (AUC = 0.475)\",\"x\":[0.0,0.9182389937106918,0.9559748427672956,0.9622641509433962,0.9748427672955975,0.9811320754716981,0.9811320754716981,0.9874213836477987,0.9874213836477987,0.9874213836477987,0.9937106918238994,0.9937106918238994,1.0,1.0],\"y\":[0.0,0.873900293255132,0.8826979472140762,0.8856304985337243,0.8973607038123167,0.9178885630498533,0.9266862170087976,0.9413489736070382,0.9765395894428153,0.9824046920821115,0.9882697947214076,0.9970674486803519,0.9970674486803519,1.0],\"type\":\"scatter\"},{\"line\":{\"color\":\"#2ca02c\",\"width\":3},\"mode\":\"lines\",\"name\":\"+Thinking (AUC = 0.751)\",\"x\":[0.0,0.24528301886792453,0.27672955974842767,0.3081761006289308,0.37735849056603776,0.4339622641509434,0.5157232704402516,0.6226415094339622,0.6981132075471698,0.7987421383647799,0.8490566037735849,0.8742138364779874,0.9245283018867925,0.949685534591195,0.9559748427672956,0.9685534591194969,0.9874213836477987,1.0],\"y\":[0.0,0.30498533724340177,0.6304985337243402,0.8211143695014663,0.9120234604105572,0.9648093841642229,0.9912023460410557,0.9941348973607038,0.9970674486803519,1.0,1.0,1.0,1.0,1.0,1.0,1.0,1.0,1.0],\"type\":\"scatter\"},{\"line\":{\"color\":\"#9467bd\",\"width\":3},\"mode\":\"lines\",\"name\":\"Action (AUC = 0.769)\",\"x\":[0.0,0.006289308176100629,0.006289308176100629,0.006289308176100629,0.012578616352201259,0.012578616352201259,0.018867924528301886,0.018867924528301886,0.018867924528301886,0.018867924528301886,0.025157232704402517,0.031446540880503145,0.031446540880503145,0.031446540880503145,0.03773584905660377,0.0440251572327044,0.05660377358490566,0.06289308176100629,0.06918238993710692,0.06918238993710692,0.0880503144654088,0.1069182389937107,0.11949685534591195,0.14465408805031446,0.16352201257861634,0.18867924528301888,0.22012578616352202,0.2389937106918239,0.27044025157232704,0.3081761006289308,0.34591194968553457,0.37735849056603776,0.4025157232704403,0.4276729559748428,0.4591194968553459,0.49056603773584906,0.49056603773584906,0.5031446540880503,0.5345911949685535,0.5534591194968553,0.5723270440251572,0.5786163522012578,0.6037735849056604,0.6163522012578616,0.6415094339622641,0.6666666666666666,0.6918238993710691,0.7044025157232704,0.710691823899371,0.7232704402515723,0.7295597484276729,0.7547169811320755,0.7735849056603774,0.7735849056603774,0.7861635220125787,0.7924528301886793,0.7924528301886793,0.7924528301886793,0.8050314465408805,0.8301886792452831,0.8364779874213837,0.8427672955974843,0.8490566037735849,0.8490566037735849,0.8553459119496856,0.8616352201257862,0.8742138364779874,0.8805031446540881,0.8805031446540881,0.8930817610062893,0.9182389937106918,0.9308176100628931,0.9371069182389937,0.9433962264150944,0.9433962264150944,0.9559748427672956,0.9559748427672956,1.0],\"y\":[0.0,0.02346041055718475,0.02932551319648094,0.03812316715542522,0.04105571847507331,0.04985337243401759,0.05571847507331378,0.07331378299120235,0.10557184750733138,0.12609970674486803,0.1436950146627566,0.17302052785923755,0.187683284457478,0.2404692082111437,0.26099706744868034,0.2785923753665689,0.2903225806451613,0.30498533724340177,0.3460410557184751,0.3841642228739003,0.41348973607038125,0.4604105571847507,0.49560117302052786,0.5249266862170088,0.5483870967741935,0.5689149560117303,0.6041055718475073,0.6334310850439883,0.656891495601173,0.6832844574780058,0.7038123167155426,0.7448680351906158,0.7741935483870968,0.7976539589442815,0.8064516129032258,0.8299120234604106,0.8357771260997068,0.8563049853372434,0.8768328445747801,0.8944281524926686,0.9002932551319648,0.9032258064516129,0.9149560117302052,0.9237536656891495,0.9296187683284457,0.9325513196480938,0.9413489736070382,0.9413489736070382,0.9413489736070382,0.9472140762463344,0.9472140762463344,0.9472140762463344,0.9501466275659824,0.9560117302052786,0.9560117302052786,0.9560117302052786,0.9618768328445748,0.9648093841642229,0.967741935483871,0.9706744868035191,0.9736070381231672,0.9736070381231672,0.9765395894428153,0.9824046920821115,0.9824046920821115,0.9853372434017595,0.9853372434017595,0.9882697947214076,0.9912023460410557,0.9912023460410557,0.9912023460410557,0.9912023460410557,0.9941348973607038,0.9941348973607038,0.9970674486803519,0.9970674486803519,1.0,1.0],\"type\":\"scatter\"},{\"line\":{\"color\":\"black\",\"dash\":\"dash\",\"width\":2},\"mode\":\"lines\",\"name\":\"Random (AUC = 0.500)\",\"x\":[0,1],\"y\":[0,1],\"type\":\"scatter\"}],                        {\"font\":{\"family\":\"Computer Modern\",\"size\":14},\"height\":500,\"template\":{\"data\":{\"barpolar\":[{\"marker\":{\"line\":{\"color\":\"white\",\"width\":0.5},\"pattern\":{\"fillmode\":\"overlay\",\"size\":10,\"solidity\":0.2}},\"type\":\"barpolar\"}],\"bar\":[{\"error_x\":{\"color\":\"#2a3f5f\"},\"error_y\":{\"color\":\"#2a3f5f\"},\"marker\":{\"line\":{\"color\":\"white\",\"width\":0.5},\"pattern\":{\"fillmode\":\"overlay\",\"size\":10,\"solidity\":0.2}},\"type\":\"bar\"}],\"carpet\":[{\"aaxis\":{\"endlinecolor\":\"#2a3f5f\",\"gridcolor\":\"#C8D4E3\",\"linecolor\":\"#C8D4E3\",\"minorgridcolor\":\"#C8D4E3\",\"startlinecolor\":\"#2a3f5f\"},\"baxis\":{\"endlinecolor\":\"#2a3f5f\",\"gridcolor\":\"#C8D4E3\",\"linecolor\":\"#C8D4E3\",\"minorgridcolor\":\"#C8D4E3\",\"startlinecolor\":\"#2a3f5f\"},\"type\":\"carpet\"}],\"choropleth\":[{\"colorbar\":{\"outlinewidth\":0,\"ticks\":\"\"},\"type\":\"choropleth\"}],\"contourcarpet\":[{\"colorbar\":{\"outlinewidth\":0,\"ticks\":\"\"},\"type\":\"contourcarpet\"}],\"contour\":[{\"colorbar\":{\"outlinewidth\":0,\"ticks\":\"\"},\"colorscale\":[[0.0,\"#0d0887\"],[0.1111111111111111,\"#46039f\"],[0.2222222222222222,\"#7201a8\"],[0.3333333333333333,\"#9c179e\"],[0.4444444444444444,\"#bd3786\"],[0.5555555555555556,\"#d8576b\"],[0.6666666666666666,\"#ed7953\"],[0.7777777777777778,\"#fb9f3a\"],[0.8888888888888888,\"#fdca26\"],[1.0,\"#f0f921\"]],\"type\":\"contour\"}],\"heatmapgl\":[{\"colorbar\":{\"outlinewidth\":0,\"ticks\":\"\"},\"colorscale\":[[0.0,\"#0d0887\"],[0.1111111111111111,\"#46039f\"],[0.2222222222222222,\"#7201a8\"],[0.3333333333333333,\"#9c179e\"],[0.4444444444444444,\"#bd3786\"],[0.5555555555555556,\"#d8576b\"],[0.6666666666666666,\"#ed7953\"],[0.7777777777777778,\"#fb9f3a\"],[0.8888888888888888,\"#fdca26\"],[1.0,\"#f0f921\"]],\"type\":\"heatmapgl\"}],\"heatmap\":[{\"colorbar\":{\"outlinewidth\":0,\"ticks\":\"\"},\"colorscale\":[[0.0,\"#0d0887\"],[0.1111111111111111,\"#46039f\"],[0.2222222222222222,\"#7201a8\"],[0.3333333333333333,\"#9c179e\"],[0.4444444444444444,\"#bd3786\"],[0.5555555555555556,\"#d8576b\"],[0.6666666666666666,\"#ed7953\"],[0.7777777777777778,\"#fb9f3a\"],[0.8888888888888888,\"#fdca26\"],[1.0,\"#f0f921\"]],\"type\":\"heatmap\"}],\"histogram2dcontour\":[{\"colorbar\":{\"outlinewidth\":0,\"ticks\":\"\"},\"colorscale\":[[0.0,\"#0d0887\"],[0.1111111111111111,\"#46039f\"],[0.2222222222222222,\"#7201a8\"],[0.3333333333333333,\"#9c179e\"],[0.4444444444444444,\"#bd3786\"],[0.5555555555555556,\"#d8576b\"],[0.6666666666666666,\"#ed7953\"],[0.7777777777777778,\"#fb9f3a\"],[0.8888888888888888,\"#fdca26\"],[1.0,\"#f0f921\"]],\"type\":\"histogram2dcontour\"}],\"histogram2d\":[{\"colorbar\":{\"outlinewidth\":0,\"ticks\":\"\"},\"colorscale\":[[0.0,\"#0d0887\"],[0.1111111111111111,\"#46039f\"],[0.2222222222222222,\"#7201a8\"],[0.3333333333333333,\"#9c179e\"],[0.4444444444444444,\"#bd3786\"],[0.5555555555555556,\"#d8576b\"],[0.6666666666666666,\"#ed7953\"],[0.7777777777777778,\"#fb9f3a\"],[0.8888888888888888,\"#fdca26\"],[1.0,\"#f0f921\"]],\"type\":\"histogram2d\"}],\"histogram\":[{\"marker\":{\"pattern\":{\"fillmode\":\"overlay\",\"size\":10,\"solidity\":0.2}},\"type\":\"histogram\"}],\"mesh3d\":[{\"colorbar\":{\"outlinewidth\":0,\"ticks\":\"\"},\"type\":\"mesh3d\"}],\"parcoords\":[{\"line\":{\"colorbar\":{\"outlinewidth\":0,\"ticks\":\"\"}},\"type\":\"parcoords\"}],\"pie\":[{\"automargin\":true,\"type\":\"pie\"}],\"scatter3d\":[{\"line\":{\"colorbar\":{\"outlinewidth\":0,\"ticks\":\"\"}},\"marker\":{\"colorbar\":{\"outlinewidth\":0,\"ticks\":\"\"}},\"type\":\"scatter3d\"}],\"scattercarpet\":[{\"marker\":{\"colorbar\":{\"outlinewidth\":0,\"ticks\":\"\"}},\"type\":\"scattercarpet\"}],\"scattergeo\":[{\"marker\":{\"colorbar\":{\"outlinewidth\":0,\"ticks\":\"\"}},\"type\":\"scattergeo\"}],\"scattergl\":[{\"marker\":{\"colorbar\":{\"outlinewidth\":0,\"ticks\":\"\"}},\"type\":\"scattergl\"}],\"scattermapbox\":[{\"marker\":{\"colorbar\":{\"outlinewidth\":0,\"ticks\":\"\"}},\"type\":\"scattermapbox\"}],\"scatterpolargl\":[{\"marker\":{\"colorbar\":{\"outlinewidth\":0,\"ticks\":\"\"}},\"type\":\"scatterpolargl\"}],\"scatterpolar\":[{\"marker\":{\"colorbar\":{\"outlinewidth\":0,\"ticks\":\"\"}},\"type\":\"scatterpolar\"}],\"scatter\":[{\"fillpattern\":{\"fillmode\":\"overlay\",\"size\":10,\"solidity\":0.2},\"type\":\"scatter\"}],\"scatterternary\":[{\"marker\":{\"colorbar\":{\"outlinewidth\":0,\"ticks\":\"\"}},\"type\":\"scatterternary\"}],\"surface\":[{\"colorbar\":{\"outlinewidth\":0,\"ticks\":\"\"},\"colorscale\":[[0.0,\"#0d0887\"],[0.1111111111111111,\"#46039f\"],[0.2222222222222222,\"#7201a8\"],[0.3333333333333333,\"#9c179e\"],[0.4444444444444444,\"#bd3786\"],[0.5555555555555556,\"#d8576b\"],[0.6666666666666666,\"#ed7953\"],[0.7777777777777778,\"#fb9f3a\"],[0.8888888888888888,\"#fdca26\"],[1.0,\"#f0f921\"]],\"type\":\"surface\"}],\"table\":[{\"cells\":{\"fill\":{\"color\":\"#EBF0F8\"},\"line\":{\"color\":\"white\"}},\"header\":{\"fill\":{\"color\":\"#C8D4E3\"},\"line\":{\"color\":\"white\"}},\"type\":\"table\"}]},\"layout\":{\"annotationdefaults\":{\"arrowcolor\":\"#2a3f5f\",\"arrowhead\":0,\"arrowwidth\":1},\"autotypenumbers\":\"strict\",\"coloraxis\":{\"colorbar\":{\"outlinewidth\":0,\"ticks\":\"\"}},\"colorscale\":{\"diverging\":[[0,\"#8e0152\"],[0.1,\"#c51b7d\"],[0.2,\"#de77ae\"],[0.3,\"#f1b6da\"],[0.4,\"#fde0ef\"],[0.5,\"#f7f7f7\"],[0.6,\"#e6f5d0\"],[0.7,\"#b8e186\"],[0.8,\"#7fbc41\"],[0.9,\"#4d9221\"],[1,\"#276419\"]],\"sequential\":[[0.0,\"#0d0887\"],[0.1111111111111111,\"#46039f\"],[0.2222222222222222,\"#7201a8\"],[0.3333333333333333,\"#9c179e\"],[0.4444444444444444,\"#bd3786\"],[0.5555555555555556,\"#d8576b\"],[0.6666666666666666,\"#ed7953\"],[0.7777777777777778,\"#fb9f3a\"],[0.8888888888888888,\"#fdca26\"],[1.0,\"#f0f921\"]],\"sequentialminus\":[[0.0,\"#0d0887\"],[0.1111111111111111,\"#46039f\"],[0.2222222222222222,\"#7201a8\"],[0.3333333333333333,\"#9c179e\"],[0.4444444444444444,\"#bd3786\"],[0.5555555555555556,\"#d8576b\"],[0.6666666666666666,\"#ed7953\"],[0.7777777777777778,\"#fb9f3a\"],[0.8888888888888888,\"#fdca26\"],[1.0,\"#f0f921\"]]},\"colorway\":[\"#636efa\",\"#EF553B\",\"#00cc96\",\"#ab63fa\",\"#FFA15A\",\"#19d3f3\",\"#FF6692\",\"#B6E880\",\"#FF97FF\",\"#FECB52\"],\"font\":{\"color\":\"#2a3f5f\"},\"geo\":{\"bgcolor\":\"white\",\"lakecolor\":\"white\",\"landcolor\":\"white\",\"showlakes\":true,\"showland\":true,\"subunitcolor\":\"#C8D4E3\"},\"hoverlabel\":{\"align\":\"left\"},\"hovermode\":\"closest\",\"mapbox\":{\"style\":\"light\"},\"paper_bgcolor\":\"white\",\"plot_bgcolor\":\"white\",\"polar\":{\"angularaxis\":{\"gridcolor\":\"#EBF0F8\",\"linecolor\":\"#EBF0F8\",\"ticks\":\"\"},\"bgcolor\":\"white\",\"radialaxis\":{\"gridcolor\":\"#EBF0F8\",\"linecolor\":\"#EBF0F8\",\"ticks\":\"\"}},\"scene\":{\"xaxis\":{\"backgroundcolor\":\"white\",\"gridcolor\":\"#DFE8F3\",\"gridwidth\":2,\"linecolor\":\"#EBF0F8\",\"showbackground\":true,\"ticks\":\"\",\"zerolinecolor\":\"#EBF0F8\"},\"yaxis\":{\"backgroundcolor\":\"white\",\"gridcolor\":\"#DFE8F3\",\"gridwidth\":2,\"linecolor\":\"#EBF0F8\",\"showbackground\":true,\"ticks\":\"\",\"zerolinecolor\":\"#EBF0F8\"},\"zaxis\":{\"backgroundcolor\":\"white\",\"gridcolor\":\"#DFE8F3\",\"gridwidth\":2,\"linecolor\":\"#EBF0F8\",\"showbackground\":true,\"ticks\":\"\",\"zerolinecolor\":\"#EBF0F8\"}},\"shapedefaults\":{\"line\":{\"color\":\"#2a3f5f\"}},\"ternary\":{\"aaxis\":{\"gridcolor\":\"#DFE8F3\",\"linecolor\":\"#A2B1C6\",\"ticks\":\"\"},\"baxis\":{\"gridcolor\":\"#DFE8F3\",\"linecolor\":\"#A2B1C6\",\"ticks\":\"\"},\"bgcolor\":\"white\",\"caxis\":{\"gridcolor\":\"#DFE8F3\",\"linecolor\":\"#A2B1C6\",\"ticks\":\"\"}},\"title\":{\"x\":0.05},\"xaxis\":{\"automargin\":true,\"gridcolor\":\"#EBF0F8\",\"linecolor\":\"#EBF0F8\",\"ticks\":\"\",\"title\":{\"standoff\":15},\"zerolinecolor\":\"#EBF0F8\",\"zerolinewidth\":2},\"yaxis\":{\"automargin\":true,\"gridcolor\":\"#EBF0F8\",\"linecolor\":\"#EBF0F8\",\"ticks\":\"\",\"title\":{\"standoff\":15},\"zerolinecolor\":\"#EBF0F8\",\"zerolinewidth\":2}}},\"width\":520,\"xaxis\":{\"title\":{\"text\":\"False Positive Rate\",\"font\":{\"size\":16}},\"tickfont\":{\"size\":14},\"gridcolor\":\"#E9E9E9\"},\"yaxis\":{\"title\":{\"text\":\"True Positive Rate\",\"font\":{\"size\":16}},\"tickfont\":{\"size\":14},\"gridcolor\":\"#E9E9E9\"},\"legend\":{\"x\":0.45,\"y\":0.1,\"bgcolor\":\"rgba(255, 255, 255, 0.8)\",\"bordercolor\":\"#E2E2E2\",\"borderwidth\":1,\"traceorder\":\"reversed\"},\"margin\":{\"l\":60,\"r\":30,\"t\":30,\"b\":60},\"plot_bgcolor\":\"white\"},                        {\"responsive\": true}                    ).then(function(){\n",
       "                            \n",
       "var gd = document.getElementById('3dddfac1-dc76-49e6-a4e9-3fe61d9939df');\n",
       "var x = new MutationObserver(function (mutations, observer) {{\n",
       "        var display = window.getComputedStyle(gd).display;\n",
       "        if (!display || display === 'none') {{\n",
       "            console.log([gd, 'removed!']);\n",
       "            Plotly.purge(gd);\n",
       "            observer.disconnect();\n",
       "        }}\n",
       "}});\n",
       "\n",
       "// Listen for the removal of the full notebook cells\n",
       "var notebookContainer = gd.closest('#notebook-container');\n",
       "if (notebookContainer) {{\n",
       "    x.observe(notebookContainer, {childList: true});\n",
       "}}\n",
       "\n",
       "// Listen for the clearing of the current output cell\n",
       "var outputEl = gd.closest('.output');\n",
       "if (outputEl) {{\n",
       "    x.observe(outputEl, {childList: true});\n",
       "}}\n",
       "\n",
       "                        })                };                });            </script>        </div>"
      ]
     },
     "metadata": {},
     "output_type": "display_data"
    }
   ],
   "source": [
    "fig = plot_roc_curves(df)\n",
    "fig.show()"
   ]
  },
  {
   "cell_type": "code",
   "execution_count": 50,
   "metadata": {},
   "outputs": [],
   "source": [
    "# save as a high quality pdf\n",
    "fig.write_image(\"plots/output_action_roc_mean.pdf\", width=500, height=500)"
   ]
  },
  {
   "cell_type": "code",
   "execution_count": null,
   "metadata": {},
   "outputs": [],
   "source": []
  },
  {
   "cell_type": "code",
   "execution_count": null,
   "metadata": {},
   "outputs": [],
   "source": []
  },
  {
   "cell_type": "code",
   "execution_count": null,
   "metadata": {},
   "outputs": [],
   "source": []
  },
  {
   "cell_type": "code",
   "execution_count": null,
   "metadata": {},
   "outputs": [],
   "source": []
  },
  {
   "cell_type": "code",
   "execution_count": null,
   "metadata": {},
   "outputs": [],
   "source": []
  },
  {
   "cell_type": "code",
   "execution_count": null,
   "metadata": {},
   "outputs": [],
   "source": []
  },
  {
   "cell_type": "code",
   "execution_count": null,
   "metadata": {},
   "outputs": [],
   "source": []
  },
  {
   "cell_type": "code",
   "execution_count": null,
   "metadata": {},
   "outputs": [],
   "source": []
  },
  {
   "cell_type": "code",
   "execution_count": null,
   "metadata": {},
   "outputs": [],
   "source": []
  },
  {
   "cell_type": "code",
   "execution_count": null,
   "metadata": {},
   "outputs": [],
   "source": []
  },
  {
   "cell_type": "code",
   "execution_count": null,
   "metadata": {},
   "outputs": [],
   "source": []
  },
  {
   "cell_type": "code",
   "execution_count": null,
   "metadata": {},
   "outputs": [],
   "source": []
  },
  {
   "cell_type": "code",
   "execution_count": null,
   "metadata": {},
   "outputs": [],
   "source": []
  },
  {
   "cell_type": "code",
   "execution_count": null,
   "metadata": {},
   "outputs": [],
   "source": []
  },
  {
   "cell_type": "code",
   "execution_count": null,
   "metadata": {},
   "outputs": [],
   "source": []
  },
  {
   "cell_type": "code",
   "execution_count": null,
   "metadata": {},
   "outputs": [],
   "source": []
  },
  {
   "cell_type": "code",
   "execution_count": null,
   "metadata": {},
   "outputs": [],
   "source": []
  }
 ],
 "metadata": {
  "kernelspec": {
   "display_name": "amongus",
   "language": "python",
   "name": "python3"
  },
  "language_info": {
   "codemirror_mode": {
    "name": "ipython",
    "version": 3
   },
   "file_extension": ".py",
   "mimetype": "text/x-python",
   "name": "python",
   "nbconvert_exporter": "python",
   "pygments_lexer": "ipython3",
   "version": "3.10.16"
  }
 },
 "nbformat": 4,
 "nbformat_minor": 2
}
