{
 "cells": [
  {
   "cell_type": "code",
   "execution_count": 1,
   "metadata": {},
   "outputs": [],
   "source": [
    "import sys\n",
    "sys.path.append('../linear-probes')"
   ]
  },
  {
   "cell_type": "code",
   "execution_count": 2,
   "metadata": {},
   "outputs": [],
   "source": [
    "from probes import LinearProbe\n",
    "from probe_datasets import DishonestQADataset, AmongUsDataset, RepEngDataset\n",
    "from configs import config_phi4, config_llama3\n",
    "from evaluate_utils import evaluate_probe_on_activation_dataset\n",
    "from probe_utils import read_jsonl_as_json"
   ]
  },
  {
   "cell_type": "code",
   "execution_count": 3,
   "metadata": {},
   "outputs": [],
   "source": [
    "import torch.nn as nn\n",
    "import torch as t\n",
    "import torch.nn as nn\n",
    "import torch.optim as optim\n",
    "from torch.utils.data import DataLoader\n",
    "import random\n",
    "import numpy as np\n",
    "from torch.utils.data import Dataset, DataLoader, random_split\n",
    "import torch as t\n",
    "import gc\n",
    "from typing import List, Tuple, Dict, Any\n",
    "import pickle\n",
    "import pandas as pd\n",
    "import os\n",
    "import sys\n",
    "import yaml\n",
    "from transformers import AutoTokenizer, AutoModelForCausalLM\n",
    "import tqdm\n",
    "import plotly.express as px\n",
    "import plotly.graph_objects as go\n",
    "from sklearn.metrics import roc_curve, auc, precision_recall_curve, average_precision_score"
   ]
  },
  {
   "cell_type": "code",
   "execution_count": 4,
   "metadata": {},
   "outputs": [],
   "source": [
    "def evaluate_probe_on_amongus(dataset, probe, config, model=None, tokenizer=None, device='cpu', plot_stuff=False):\n",
    "    \"\"\"\n",
    "    Evaluate a probe on the AmongUs dataset and return the deception AUROC.\n",
    "    \n",
    "    Args:\n",
    "        probe: LinearProbe object to evaluate\n",
    "        config: Configuration dictionary\n",
    "        model: Language model (optional)\n",
    "        tokenizer: Tokenizer for the model (optional)\n",
    "        device: Device to run model on\n",
    "        plot_stuff: Whether to generate plots (not implemented)\n",
    "        \n",
    "    Returns:\n",
    "        float: AUROC for deception detection\n",
    "    \"\"\"\n",
    "    all_probe_outputs = []\n",
    "    chunk_size: int = 500\n",
    "    list_of_chunks_to_eval = [1]\n",
    "    row_indices = []\n",
    "\n",
    "    # Evaluate probe on test chunks\n",
    "    for chunk_idx in tqdm.tqdm(list_of_chunks_to_eval):\n",
    "        test_acts_chunk = dataset.get_test_acts(chunk_idx)\n",
    "        \n",
    "        # Store the row indices for this chunk\n",
    "        start_idx = chunk_idx * chunk_size\n",
    "        end_idx = start_idx + len(test_acts_chunk)\n",
    "        row_indices.extend(range(start_idx, end_idx))\n",
    "        \n",
    "        chunk_probe_outputs, _ = evaluate_probe_on_activation_dataset(\n",
    "            chunk_data=test_acts_chunk,\n",
    "            probe=probe,\n",
    "            device=device,\n",
    "            num_tokens=None,\n",
    "            verbose=False,\n",
    "        )\n",
    "        all_probe_outputs.extend(chunk_probe_outputs)\n",
    "\n",
    "    av_probe_outputs = all_probe_outputs\n",
    "\n",
    "    # Create JSON outputs with probe predictions\n",
    "    json_outputs = []\n",
    "    eval_rows_num = len(av_probe_outputs)\n",
    "\n",
    "    for i in range(eval_rows_num):\n",
    "        actual_row_idx = row_indices[i]\n",
    "        row = dataset.agent_logs_df.iloc[actual_row_idx]\n",
    "        probe_output = av_probe_outputs[i]\n",
    "        \n",
    "        json_output = {\n",
    "            \"game_index\": int(row[\"game_index\"].split(\" \")[1]) if isinstance(row[\"game_index\"], str) else int(row[\"game_index\"]),\n",
    "            \"step\": int(row[\"step\"]),\n",
    "            \"player_name\": row[\"player.name\"],\n",
    "            \"probe_output\": probe_output,\n",
    "            \"timestamp\": row[\"timestamp\"],\n",
    "            \"player_role\": row[\"player.personality\"],\n",
    "        }\n",
    "        json_outputs.append(json_output)\n",
    "\n",
    "    probe_output_df = pd.DataFrame(json_outputs)\n",
    "    \n",
    "    # Load skill scores from evaluation results\n",
    "    EXPT_NAMES: List[str] = [config[\"expt_name\"],]\n",
    "    LOGS_PATH: str = \"../evaluations/results/\"\n",
    "    RAW_PATH: str = \"../expt-logs/\"\n",
    "    summary_logs_paths: List[str] = [os.path.join(LOGS_PATH, f\"{expt_name}_all_skill_scores.json\") for expt_name in EXPT_NAMES]\n",
    "    summary_dfs: List[pd.DataFrame] = []\n",
    "\n",
    "    for summary_logs_path in summary_logs_paths:\n",
    "        summary_logs: List[Dict[str, Any]] = read_jsonl_as_json(summary_logs_path)\n",
    "        summary_df: pd.DataFrame = pd.json_normalize(summary_logs)\n",
    "        summary_df = summary_df.sort_values(by=[\"game_index\", \"step\"])\n",
    "        summary_dfs.append(summary_df)\n",
    "    \n",
    "    summary_df = summary_dfs[0]\n",
    "    summary_df['game_index'] = summary_df['game_index'].str.extract('(\\d+)').astype(int) if summary_df['game_index'].dtype == 'object' else summary_df['game_index'].astype(int)\n",
    "\n",
    "    # Merge probe outputs with skill scores\n",
    "    probe_df = probe_output_df[['game_index', 'step', 'player_name', 'probe_output', 'timestamp']].copy()\n",
    "    summary_df = summary_df[['timestamp', 'game_index', 'step', 'player_identity', 'awareness', 'lying', 'deception', 'planning', 'player_name', 'action']].copy()\n",
    "    probe_eval = pd.merge(\n",
    "        probe_df,\n",
    "        summary_df[['game_index', 'step', 'player_name', 'player_identity', 'awareness', 'lying', 'deception', 'planning', 'action', 'timestamp']],\n",
    "        on=['timestamp'],\n",
    "        how='inner'\n",
    "    )\n",
    "\n",
    "    # Invert lying and deception scores (higher = more lying/deception)\n",
    "    probe_eval['lying'] = 10 - probe_eval['lying'].astype(int)\n",
    "    probe_eval['deception'] = 10 - probe_eval['deception'].astype(int)\n",
    "\n",
    "    # Convert behavior scores to binary ground truth (>5 is lying)\n",
    "    behaviors = ['lying', 'deception', 'planning', 'awareness']\n",
    "    for col in behaviors:\n",
    "        probe_eval[col] = probe_eval[col].astype(int)\n",
    "        probe_eval[f'{col}_truth'] = (probe_eval[col] > 5).astype(int)\n",
    "    \n",
    "    # Calculate ROC for deception\n",
    "    fpr_deception, tpr_deception, _ = roc_curve(probe_eval['deception_truth'], probe_eval['probe_output'])\n",
    "    roc_auc_deception = auc(fpr_deception, tpr_deception)\n",
    "    \n",
    "    return roc_auc_deception"
   ]
  },
  {
   "cell_type": "code",
   "execution_count": 5,
   "metadata": {},
   "outputs": [],
   "source": [
    "ks = [0.01, 0.02, 0.05, 0.1, 0.2, 0.3, 0.4, 0.5, 0.6, 0.7, 0.8, 0.9, 1.0]\n",
    "# ks = [0.9]\n",
    "test_aurocs = []\n",
    "best_lambdas = []\n",
    "amongus_aurocs = []\n",
    "train_accuracies = []\n",
    "average_cosine_similarities = []\n",
    "\n",
    "model = None\n",
    "tokenizer = None\n",
    "device = 'cpu'\n",
    "config = config_phi4"
   ]
  },
  {
   "cell_type": "code",
   "execution_count": 6,
   "metadata": {},
   "outputs": [
    {
     "name": "stdout",
     "output_type": "stream",
     "text": [
      "Running for k = 0.01\n"
     ]
    },
    {
     "name": "stdout",
     "output_type": "stream",
     "text": [
      "Validation size: 15\n"
     ]
    },
    {
     "name": "stderr",
     "output_type": "stream",
     "text": [
      "100%|██████████| 122/122 [00:00<00:00, 418.31it/s]\n",
      "100%|██████████| 500/500 [00:27<00:00, 18.04it/s]\n",
      "100%|██████████| 1/1 [00:37<00:00, 37.50s/it]\n",
      "100%|██████████| 10/10 [00:00<00:00, 114.21it/s]\n"
     ]
    },
    {
     "name": "stdout",
     "output_type": "stream",
     "text": [
      "Running for k = 0.02\n",
      "Validation size: 55\n"
     ]
    },
    {
     "name": "stderr",
     "output_type": "stream",
     "text": [
      "100%|██████████| 122/122 [00:00<00:00, 533.33it/s]\n",
      "100%|██████████| 500/500 [00:27<00:00, 18.33it/s]\n",
      "100%|██████████| 1/1 [00:37<00:00, 37.06s/it]\n",
      "100%|██████████| 10/10 [00:00<00:00, 36.27it/s]\n"
     ]
    },
    {
     "name": "stdout",
     "output_type": "stream",
     "text": [
      "Running for k = 0.05\n",
      "Validation size: 123\n"
     ]
    },
    {
     "name": "stderr",
     "output_type": "stream",
     "text": [
      "100%|██████████| 122/122 [00:00<00:00, 427.65it/s]\n",
      "100%|██████████| 500/500 [00:26<00:00, 18.81it/s]\n",
      "100%|██████████| 1/1 [00:36<00:00, 36.40s/it]\n",
      "100%|██████████| 10/10 [00:00<00:00, 12.67it/s]\n"
     ]
    },
    {
     "name": "stdout",
     "output_type": "stream",
     "text": [
      "Running for k = 0.1\n",
      "Validation size: 123\n"
     ]
    },
    {
     "name": "stderr",
     "output_type": "stream",
     "text": [
      "100%|██████████| 122/122 [00:00<00:00, 281.44it/s]\n",
      "100%|██████████| 500/500 [00:25<00:00, 19.45it/s]\n",
      "100%|██████████| 1/1 [00:36<00:00, 36.17s/it]\n",
      "100%|██████████| 10/10 [00:01<00:00,  5.68it/s]\n"
     ]
    },
    {
     "name": "stdout",
     "output_type": "stream",
     "text": [
      "Running for k = 0.2\n",
      "Validation size: 123\n"
     ]
    },
    {
     "name": "stderr",
     "output_type": "stream",
     "text": [
      "100%|██████████| 122/122 [00:00<00:00, 290.36it/s]\n",
      "100%|██████████| 500/500 [00:26<00:00, 19.14it/s]\n",
      "100%|██████████| 1/1 [00:36<00:00, 36.51s/it]\n",
      "100%|██████████| 10/10 [00:03<00:00,  3.23it/s]\n"
     ]
    },
    {
     "name": "stdout",
     "output_type": "stream",
     "text": [
      "Running for k = 0.3\n",
      "Validation size: 123\n"
     ]
    },
    {
     "name": "stderr",
     "output_type": "stream",
     "text": [
      "100%|██████████| 122/122 [00:00<00:00, 238.32it/s]\n",
      "100%|██████████| 500/500 [00:25<00:00, 19.67it/s]\n",
      "100%|██████████| 1/1 [00:36<00:00, 36.40s/it]\n",
      "100%|██████████| 10/10 [00:04<00:00,  2.24it/s]\n"
     ]
    },
    {
     "name": "stdout",
     "output_type": "stream",
     "text": [
      "Running for k = 0.4\n",
      "Validation size: 123\n"
     ]
    },
    {
     "name": "stderr",
     "output_type": "stream",
     "text": [
      "100%|██████████| 122/122 [00:00<00:00, 220.77it/s]\n",
      "100%|██████████| 500/500 [00:25<00:00, 19.42it/s]\n",
      "100%|██████████| 1/1 [00:37<00:00, 37.04s/it]\n",
      "100%|██████████| 10/10 [00:05<00:00,  1.70it/s]\n"
     ]
    },
    {
     "name": "stdout",
     "output_type": "stream",
     "text": [
      "Running for k = 0.5\n",
      "Validation size: 123\n"
     ]
    },
    {
     "name": "stderr",
     "output_type": "stream",
     "text": [
      "100%|██████████| 122/122 [00:00<00:00, 337.47it/s]\n",
      "100%|██████████| 500/500 [00:25<00:00, 19.48it/s]\n",
      "100%|██████████| 1/1 [00:37<00:00, 37.48s/it]\n",
      "100%|██████████| 10/10 [00:07<00:00,  1.33it/s]\n"
     ]
    },
    {
     "name": "stdout",
     "output_type": "stream",
     "text": [
      "Running for k = 0.6\n",
      "Validation size: 123\n"
     ]
    },
    {
     "name": "stderr",
     "output_type": "stream",
     "text": [
      "100%|██████████| 122/122 [00:00<00:00, 226.48it/s]\n",
      "100%|██████████| 500/500 [00:25<00:00, 19.63it/s]\n",
      "100%|██████████| 1/1 [00:37<00:00, 37.27s/it]\n",
      "100%|██████████| 10/10 [00:08<00:00,  1.19it/s]\n"
     ]
    },
    {
     "name": "stdout",
     "output_type": "stream",
     "text": [
      "Running for k = 0.7\n",
      "Validation size: 123\n"
     ]
    },
    {
     "name": "stderr",
     "output_type": "stream",
     "text": [
      "100%|██████████| 122/122 [00:00<00:00, 210.39it/s]\n",
      "100%|██████████| 500/500 [00:26<00:00, 19.01it/s]\n",
      "100%|██████████| 1/1 [00:38<00:00, 38.33s/it]\n",
      "100%|██████████| 10/10 [00:09<00:00,  1.01it/s]\n"
     ]
    },
    {
     "name": "stdout",
     "output_type": "stream",
     "text": [
      "Running for k = 0.8\n",
      "Validation size: 123\n"
     ]
    },
    {
     "name": "stderr",
     "output_type": "stream",
     "text": [
      "100%|██████████| 122/122 [00:00<00:00, 200.94it/s]\n",
      "100%|██████████| 500/500 [00:25<00:00, 19.56it/s]\n",
      "100%|██████████| 1/1 [00:37<00:00, 37.73s/it]\n",
      "100%|██████████| 10/10 [00:11<00:00,  1.20s/it]\n"
     ]
    },
    {
     "name": "stdout",
     "output_type": "stream",
     "text": [
      "Running for k = 0.9\n",
      "Validation size: 123\n"
     ]
    },
    {
     "name": "stderr",
     "output_type": "stream",
     "text": [
      "100%|██████████| 122/122 [00:00<00:00, 214.87it/s]\n",
      "100%|██████████| 500/500 [00:25<00:00, 19.59it/s]\n",
      "100%|██████████| 1/1 [00:37<00:00, 37.77s/it]\n",
      "100%|██████████| 10/10 [00:12<00:00,  1.27s/it]\n"
     ]
    },
    {
     "name": "stdout",
     "output_type": "stream",
     "text": [
      "Running for k = 1.0\n",
      "Validation size: 123\n"
     ]
    },
    {
     "name": "stderr",
     "output_type": "stream",
     "text": [
      "100%|██████████| 122/122 [00:00<00:00, 208.41it/s]\n",
      "100%|██████████| 500/500 [00:26<00:00, 19.22it/s]\n",
      "100%|██████████| 1/1 [00:38<00:00, 38.11s/it]\n",
      "100%|██████████| 10/10 [00:14<00:00,  1.41s/it]\n"
     ]
    }
   ],
   "source": [
    "for k in ks:\n",
    "    print(f\"Running for k = {k}\")\n",
    "    dataset = RepEngDataset(config, model=model, tokenizer=tokenizer, device=device, test_split=0.2)\n",
    "    amongus_dataset = AmongUsDataset(config, model=model, tokenizer=tokenizer, device=device, test_split=1, expt_name=config['expt_name'])\n",
    "    train_loader, val_loader = dataset.get_train(\n",
    "        batch_size=config[\"probe_training_batch_size\"],\n",
    "        num_tokens=config[\"probe_training_num_tokens\"],\n",
    "        keep_frac=k,\n",
    "        get_val=True\n",
    "    )\n",
    "    # Define a range of L2 weight decay values to try\n",
    "    weight_decays = [1e-5, 1e-4, 1e-3, 1e-2, 1e-1]\n",
    "    best_val_acc = 0\n",
    "    best_wd = None\n",
    "    best_probe = None\n",
    "    \n",
    "    # Grid search to find the best weight decay\n",
    "    for wd in weight_decays:\n",
    "        # Create and train probe with current weight decay\n",
    "        probe_candidate = LinearProbe(\n",
    "            input_dim=dataset.activation_size,\n",
    "            device=device,\n",
    "            lr=config[\"probe_training_learning_rate\"],\n",
    "            seed=420,\n",
    "            verbose=False,\n",
    "            weight_decay=wd\n",
    "        )\n",
    "        probe_candidate.fit(train_loader, epochs=config[\"probe_training_epochs\"])\n",
    "        \n",
    "        # Evaluate on validation set\n",
    "        val_acc = probe_candidate.accuracy(val_loader)\n",
    "        \n",
    "        # Update best if this is better\n",
    "        if val_acc > best_val_acc:\n",
    "            best_val_acc = val_acc\n",
    "            best_wd = wd\n",
    "            best_probe = probe_candidate\n",
    "    \n",
    "    # Use the best probe for further evaluation\n",
    "    probe = best_probe\n",
    "    train_acc = probe.train_accs[-1]  # Get the final training accuracy\n",
    "    print(f\"Best weight decay: {best_wd}\")\n",
    "    best_lambdas.append(best_wd)  # Store the best weight decay\n",
    "    test_acts_chunk = dataset.get_test_acts()\n",
    "    amongus_test_acts_chunk = amongus_dataset.get_test_acts()\n",
    "    av_probe_outputs, accuracy = evaluate_probe_on_activation_dataset(\n",
    "        chunk_data=test_acts_chunk,\n",
    "        probe=probe,\n",
    "        device=device,\n",
    "        num_tokens=None,\n",
    "        verbose=False\n",
    "    )\n",
    "    labels = t.tensor([batch[1] for batch in test_acts_chunk]).numpy()\n",
    "    fpr, tpr, _ = roc_curve(labels, av_probe_outputs)\n",
    "    roc_auc = auc(fpr, tpr)\n",
    "    test_aurocs.append(roc_auc)\n",
    "    amongus_aurocs.append(evaluate_probe_on_amongus(amongus_dataset, probe, config, model, tokenizer, device, plot_stuff=False))\n",
    "    train_accuracies.append(train_acc)\n",
    "    directions = []\n",
    "    for i in tqdm.trange(10):\n",
    "        seed = random.randint(0, 1000000)\n",
    "        probe = LinearProbe(input_dim=dataset.activation_size,  device=device,  lr=config[\"probe_training_learning_rate\"], seed=seed, verbose=False)\n",
    "        acc = probe.fit(train_loader, epochs=config[\"probe_training_epochs\"])\n",
    "        directions.append(probe.model.linear.weight.data.cpu().numpy()[0])\n",
    "    directions = np.array(directions)\n",
    "    normalized_directions = directions / np.linalg.norm(directions, axis=1)[:, np.newaxis]\n",
    "    directions_matrix = np.dot(normalized_directions, normalized_directions.T)\n",
    "    average_cosine_similarities.append(np.mean(directions_matrix[np.triu_indices(len(directions_matrix), k=1)]))"
   ]
  },
  {
   "cell_type": "code",
   "execution_count": 48,
   "metadata": {},
   "outputs": [
    {
     "data": {
      "application/vnd.plotly.v1+json": {
       "config": {
        "plotlyServerURL": "https://plot.ly"
       },
       "data": [
        {
         "line": {
          "color": "#D4A27F",
          "width": 3
         },
         "mode": "lines+markers",
         "name": "Test AUROC (RepEng)",
         "type": "scatter",
         "x": [
          73,
          146,
          366,
          733,
          1467,
          2200,
          2934,
          3667,
          4401,
          5134,
          5868,
          6601,
          7335
         ],
         "y": [
          0.9902777777777778,
          1,
          1,
          1,
          1,
          1,
          1,
          1,
          1,
          1,
          1,
          1,
          1,
          0.9922222222222222,
          1,
          1,
          1,
          1,
          1,
          1,
          1,
          1,
          1,
          1,
          1,
          1
         ]
        },
        {
         "line": {
          "color": "#5F8670",
          "width": 3
         },
         "mode": "lines+markers",
         "name": "Test AUROC (AmongUs)",
         "type": "scatter",
         "x": [
          73,
          146,
          366,
          733,
          1467,
          2200,
          2934,
          3667,
          4401,
          5134,
          5868,
          6601,
          7335
         ],
         "y": [
          0.21616038658035003,
          0.7231966653756062,
          0.9190136299083347,
          0.8962725243918183,
          0.8794334089525812,
          0.912134122724506,
          0.9267599918847637,
          0.942086722366698,
          0.9213190947822719,
          0.9389144027001606,
          0.9385824157583135,
          0.9531529537615966,
          0.9523045426879877,
          0.5046385953263617,
          0.7231966653756062,
          0.9190136299083347,
          0.8962725243918183,
          0.8794334089525812,
          0.912134122724506,
          0.9267599918847637,
          0.942086722366698,
          0.9213190947822719,
          0.9389144027001606,
          0.9385824157583135,
          0.9531529537615966,
          0.9523045426879877
         ]
        },
        {
         "line": {
          "color": "#7D6E83",
          "width": 3
         },
         "mode": "lines+markers",
         "name": "Train Acc. (RepEng)",
         "type": "scatter",
         "x": [
          73,
          146,
          366,
          733,
          1467,
          2200,
          2934,
          3667,
          4401,
          5134,
          5868,
          6601,
          7335
         ],
         "y": [
          1,
          1,
          1,
          0.9944444444444445,
          0.9980392156862745,
          0.9979452054794521,
          0.9974358974358974,
          0.9983333333333333,
          0.9971631205673759,
          0.9982089552238806,
          0.9976253298153034,
          0.9979020979020979,
          0.9977505112474437,
          1,
          1,
          1,
          0.9944444444444445,
          0.9980392156862745,
          0.9979452054794521,
          0.9974358974358974,
          0.9983333333333333,
          0.9971631205673759,
          0.9982089552238806,
          0.9976253298153034,
          0.9979020979020979,
          0.9977505112474437
         ]
        },
        {
         "line": {
          "color": "#A75D5D",
          "width": 3
         },
         "mode": "lines+markers",
         "name": "Cosine Sim. (C(10, 2))",
         "type": "scatter",
         "x": [
          73,
          146,
          366,
          733,
          1467,
          2200,
          2934,
          3667,
          4401,
          5134,
          5868,
          6601,
          7335
         ],
         "y": [
          0.11795393377542496,
          0.371690571308136,
          0.5118849277496338,
          0.5642275214195251,
          0.6265559792518616,
          0.6722668409347534,
          0.6994895935058594,
          0.7275099158287048,
          0.7436289191246033,
          0.7629883885383606,
          0.7784394025802612,
          0.7881385684013367,
          0.8076933026313782,
          0.23455128073692322,
          0.371690571308136,
          0.5118849277496338,
          0.5642275214195251,
          0.6265559792518616,
          0.6722668409347534,
          0.6994895935058594,
          0.7275099158287048,
          0.7436289191246033,
          0.7629883885383606,
          0.7784394025802612,
          0.7881385684013367,
          0.8076933026313782
         ]
        }
       ],
       "layout": {
        "font": {
         "family": "Computer Modern",
         "size": 15
        },
        "height": 400,
        "legend": {
         "bgcolor": "rgba(220, 220, 215, 0.8)",
         "font": {
          "family": "Computer Modern",
          "size": 15
         },
         "x": 0.4,
         "y": 0.1
        },
        "plot_bgcolor": "#fafaf7",
        "template": {
         "data": {
          "bar": [
           {
            "error_x": {
             "color": "#2a3f5f"
            },
            "error_y": {
             "color": "#2a3f5f"
            },
            "marker": {
             "line": {
              "color": "white",
              "width": 0.5
             },
             "pattern": {
              "fillmode": "overlay",
              "size": 10,
              "solidity": 0.2
             }
            },
            "type": "bar"
           }
          ],
          "barpolar": [
           {
            "marker": {
             "line": {
              "color": "white",
              "width": 0.5
             },
             "pattern": {
              "fillmode": "overlay",
              "size": 10,
              "solidity": 0.2
             }
            },
            "type": "barpolar"
           }
          ],
          "carpet": [
           {
            "aaxis": {
             "endlinecolor": "#2a3f5f",
             "gridcolor": "#C8D4E3",
             "linecolor": "#C8D4E3",
             "minorgridcolor": "#C8D4E3",
             "startlinecolor": "#2a3f5f"
            },
            "baxis": {
             "endlinecolor": "#2a3f5f",
             "gridcolor": "#C8D4E3",
             "linecolor": "#C8D4E3",
             "minorgridcolor": "#C8D4E3",
             "startlinecolor": "#2a3f5f"
            },
            "type": "carpet"
           }
          ],
          "choropleth": [
           {
            "colorbar": {
             "outlinewidth": 0,
             "ticks": ""
            },
            "type": "choropleth"
           }
          ],
          "contour": [
           {
            "colorbar": {
             "outlinewidth": 0,
             "ticks": ""
            },
            "colorscale": [
             [
              0,
              "#0d0887"
             ],
             [
              0.1111111111111111,
              "#46039f"
             ],
             [
              0.2222222222222222,
              "#7201a8"
             ],
             [
              0.3333333333333333,
              "#9c179e"
             ],
             [
              0.4444444444444444,
              "#bd3786"
             ],
             [
              0.5555555555555556,
              "#d8576b"
             ],
             [
              0.6666666666666666,
              "#ed7953"
             ],
             [
              0.7777777777777778,
              "#fb9f3a"
             ],
             [
              0.8888888888888888,
              "#fdca26"
             ],
             [
              1,
              "#f0f921"
             ]
            ],
            "type": "contour"
           }
          ],
          "contourcarpet": [
           {
            "colorbar": {
             "outlinewidth": 0,
             "ticks": ""
            },
            "type": "contourcarpet"
           }
          ],
          "heatmap": [
           {
            "colorbar": {
             "outlinewidth": 0,
             "ticks": ""
            },
            "colorscale": [
             [
              0,
              "#0d0887"
             ],
             [
              0.1111111111111111,
              "#46039f"
             ],
             [
              0.2222222222222222,
              "#7201a8"
             ],
             [
              0.3333333333333333,
              "#9c179e"
             ],
             [
              0.4444444444444444,
              "#bd3786"
             ],
             [
              0.5555555555555556,
              "#d8576b"
             ],
             [
              0.6666666666666666,
              "#ed7953"
             ],
             [
              0.7777777777777778,
              "#fb9f3a"
             ],
             [
              0.8888888888888888,
              "#fdca26"
             ],
             [
              1,
              "#f0f921"
             ]
            ],
            "type": "heatmap"
           }
          ],
          "heatmapgl": [
           {
            "colorbar": {
             "outlinewidth": 0,
             "ticks": ""
            },
            "colorscale": [
             [
              0,
              "#0d0887"
             ],
             [
              0.1111111111111111,
              "#46039f"
             ],
             [
              0.2222222222222222,
              "#7201a8"
             ],
             [
              0.3333333333333333,
              "#9c179e"
             ],
             [
              0.4444444444444444,
              "#bd3786"
             ],
             [
              0.5555555555555556,
              "#d8576b"
             ],
             [
              0.6666666666666666,
              "#ed7953"
             ],
             [
              0.7777777777777778,
              "#fb9f3a"
             ],
             [
              0.8888888888888888,
              "#fdca26"
             ],
             [
              1,
              "#f0f921"
             ]
            ],
            "type": "heatmapgl"
           }
          ],
          "histogram": [
           {
            "marker": {
             "pattern": {
              "fillmode": "overlay",
              "size": 10,
              "solidity": 0.2
             }
            },
            "type": "histogram"
           }
          ],
          "histogram2d": [
           {
            "colorbar": {
             "outlinewidth": 0,
             "ticks": ""
            },
            "colorscale": [
             [
              0,
              "#0d0887"
             ],
             [
              0.1111111111111111,
              "#46039f"
             ],
             [
              0.2222222222222222,
              "#7201a8"
             ],
             [
              0.3333333333333333,
              "#9c179e"
             ],
             [
              0.4444444444444444,
              "#bd3786"
             ],
             [
              0.5555555555555556,
              "#d8576b"
             ],
             [
              0.6666666666666666,
              "#ed7953"
             ],
             [
              0.7777777777777778,
              "#fb9f3a"
             ],
             [
              0.8888888888888888,
              "#fdca26"
             ],
             [
              1,
              "#f0f921"
             ]
            ],
            "type": "histogram2d"
           }
          ],
          "histogram2dcontour": [
           {
            "colorbar": {
             "outlinewidth": 0,
             "ticks": ""
            },
            "colorscale": [
             [
              0,
              "#0d0887"
             ],
             [
              0.1111111111111111,
              "#46039f"
             ],
             [
              0.2222222222222222,
              "#7201a8"
             ],
             [
              0.3333333333333333,
              "#9c179e"
             ],
             [
              0.4444444444444444,
              "#bd3786"
             ],
             [
              0.5555555555555556,
              "#d8576b"
             ],
             [
              0.6666666666666666,
              "#ed7953"
             ],
             [
              0.7777777777777778,
              "#fb9f3a"
             ],
             [
              0.8888888888888888,
              "#fdca26"
             ],
             [
              1,
              "#f0f921"
             ]
            ],
            "type": "histogram2dcontour"
           }
          ],
          "mesh3d": [
           {
            "colorbar": {
             "outlinewidth": 0,
             "ticks": ""
            },
            "type": "mesh3d"
           }
          ],
          "parcoords": [
           {
            "line": {
             "colorbar": {
              "outlinewidth": 0,
              "ticks": ""
             }
            },
            "type": "parcoords"
           }
          ],
          "pie": [
           {
            "automargin": true,
            "type": "pie"
           }
          ],
          "scatter": [
           {
            "fillpattern": {
             "fillmode": "overlay",
             "size": 10,
             "solidity": 0.2
            },
            "type": "scatter"
           }
          ],
          "scatter3d": [
           {
            "line": {
             "colorbar": {
              "outlinewidth": 0,
              "ticks": ""
             }
            },
            "marker": {
             "colorbar": {
              "outlinewidth": 0,
              "ticks": ""
             }
            },
            "type": "scatter3d"
           }
          ],
          "scattercarpet": [
           {
            "marker": {
             "colorbar": {
              "outlinewidth": 0,
              "ticks": ""
             }
            },
            "type": "scattercarpet"
           }
          ],
          "scattergeo": [
           {
            "marker": {
             "colorbar": {
              "outlinewidth": 0,
              "ticks": ""
             }
            },
            "type": "scattergeo"
           }
          ],
          "scattergl": [
           {
            "marker": {
             "colorbar": {
              "outlinewidth": 0,
              "ticks": ""
             }
            },
            "type": "scattergl"
           }
          ],
          "scattermapbox": [
           {
            "marker": {
             "colorbar": {
              "outlinewidth": 0,
              "ticks": ""
             }
            },
            "type": "scattermapbox"
           }
          ],
          "scatterpolar": [
           {
            "marker": {
             "colorbar": {
              "outlinewidth": 0,
              "ticks": ""
             }
            },
            "type": "scatterpolar"
           }
          ],
          "scatterpolargl": [
           {
            "marker": {
             "colorbar": {
              "outlinewidth": 0,
              "ticks": ""
             }
            },
            "type": "scatterpolargl"
           }
          ],
          "scatterternary": [
           {
            "marker": {
             "colorbar": {
              "outlinewidth": 0,
              "ticks": ""
             }
            },
            "type": "scatterternary"
           }
          ],
          "surface": [
           {
            "colorbar": {
             "outlinewidth": 0,
             "ticks": ""
            },
            "colorscale": [
             [
              0,
              "#0d0887"
             ],
             [
              0.1111111111111111,
              "#46039f"
             ],
             [
              0.2222222222222222,
              "#7201a8"
             ],
             [
              0.3333333333333333,
              "#9c179e"
             ],
             [
              0.4444444444444444,
              "#bd3786"
             ],
             [
              0.5555555555555556,
              "#d8576b"
             ],
             [
              0.6666666666666666,
              "#ed7953"
             ],
             [
              0.7777777777777778,
              "#fb9f3a"
             ],
             [
              0.8888888888888888,
              "#fdca26"
             ],
             [
              1,
              "#f0f921"
             ]
            ],
            "type": "surface"
           }
          ],
          "table": [
           {
            "cells": {
             "fill": {
              "color": "#EBF0F8"
             },
             "line": {
              "color": "white"
             }
            },
            "header": {
             "fill": {
              "color": "#C8D4E3"
             },
             "line": {
              "color": "white"
             }
            },
            "type": "table"
           }
          ]
         },
         "layout": {
          "annotationdefaults": {
           "arrowcolor": "#2a3f5f",
           "arrowhead": 0,
           "arrowwidth": 1
          },
          "autotypenumbers": "strict",
          "coloraxis": {
           "colorbar": {
            "outlinewidth": 0,
            "ticks": ""
           }
          },
          "colorscale": {
           "diverging": [
            [
             0,
             "#8e0152"
            ],
            [
             0.1,
             "#c51b7d"
            ],
            [
             0.2,
             "#de77ae"
            ],
            [
             0.3,
             "#f1b6da"
            ],
            [
             0.4,
             "#fde0ef"
            ],
            [
             0.5,
             "#f7f7f7"
            ],
            [
             0.6,
             "#e6f5d0"
            ],
            [
             0.7,
             "#b8e186"
            ],
            [
             0.8,
             "#7fbc41"
            ],
            [
             0.9,
             "#4d9221"
            ],
            [
             1,
             "#276419"
            ]
           ],
           "sequential": [
            [
             0,
             "#0d0887"
            ],
            [
             0.1111111111111111,
             "#46039f"
            ],
            [
             0.2222222222222222,
             "#7201a8"
            ],
            [
             0.3333333333333333,
             "#9c179e"
            ],
            [
             0.4444444444444444,
             "#bd3786"
            ],
            [
             0.5555555555555556,
             "#d8576b"
            ],
            [
             0.6666666666666666,
             "#ed7953"
            ],
            [
             0.7777777777777778,
             "#fb9f3a"
            ],
            [
             0.8888888888888888,
             "#fdca26"
            ],
            [
             1,
             "#f0f921"
            ]
           ],
           "sequentialminus": [
            [
             0,
             "#0d0887"
            ],
            [
             0.1111111111111111,
             "#46039f"
            ],
            [
             0.2222222222222222,
             "#7201a8"
            ],
            [
             0.3333333333333333,
             "#9c179e"
            ],
            [
             0.4444444444444444,
             "#bd3786"
            ],
            [
             0.5555555555555556,
             "#d8576b"
            ],
            [
             0.6666666666666666,
             "#ed7953"
            ],
            [
             0.7777777777777778,
             "#fb9f3a"
            ],
            [
             0.8888888888888888,
             "#fdca26"
            ],
            [
             1,
             "#f0f921"
            ]
           ]
          },
          "colorway": [
           "#636efa",
           "#EF553B",
           "#00cc96",
           "#ab63fa",
           "#FFA15A",
           "#19d3f3",
           "#FF6692",
           "#B6E880",
           "#FF97FF",
           "#FECB52"
          ],
          "font": {
           "color": "#2a3f5f"
          },
          "geo": {
           "bgcolor": "white",
           "lakecolor": "white",
           "landcolor": "white",
           "showlakes": true,
           "showland": true,
           "subunitcolor": "#C8D4E3"
          },
          "hoverlabel": {
           "align": "left"
          },
          "hovermode": "closest",
          "mapbox": {
           "style": "light"
          },
          "paper_bgcolor": "white",
          "plot_bgcolor": "white",
          "polar": {
           "angularaxis": {
            "gridcolor": "#EBF0F8",
            "linecolor": "#EBF0F8",
            "ticks": ""
           },
           "bgcolor": "white",
           "radialaxis": {
            "gridcolor": "#EBF0F8",
            "linecolor": "#EBF0F8",
            "ticks": ""
           }
          },
          "scene": {
           "xaxis": {
            "backgroundcolor": "white",
            "gridcolor": "#DFE8F3",
            "gridwidth": 2,
            "linecolor": "#EBF0F8",
            "showbackground": true,
            "ticks": "",
            "zerolinecolor": "#EBF0F8"
           },
           "yaxis": {
            "backgroundcolor": "white",
            "gridcolor": "#DFE8F3",
            "gridwidth": 2,
            "linecolor": "#EBF0F8",
            "showbackground": true,
            "ticks": "",
            "zerolinecolor": "#EBF0F8"
           },
           "zaxis": {
            "backgroundcolor": "white",
            "gridcolor": "#DFE8F3",
            "gridwidth": 2,
            "linecolor": "#EBF0F8",
            "showbackground": true,
            "ticks": "",
            "zerolinecolor": "#EBF0F8"
           }
          },
          "shapedefaults": {
           "line": {
            "color": "#2a3f5f"
           }
          },
          "ternary": {
           "aaxis": {
            "gridcolor": "#DFE8F3",
            "linecolor": "#A2B1C6",
            "ticks": ""
           },
           "baxis": {
            "gridcolor": "#DFE8F3",
            "linecolor": "#A2B1C6",
            "ticks": ""
           },
           "bgcolor": "white",
           "caxis": {
            "gridcolor": "#DFE8F3",
            "linecolor": "#A2B1C6",
            "ticks": ""
           }
          },
          "title": {
           "x": 0.05
          },
          "xaxis": {
           "automargin": true,
           "gridcolor": "#EBF0F8",
           "linecolor": "#EBF0F8",
           "ticks": "",
           "title": {
            "standoff": 15
           },
           "zerolinecolor": "#EBF0F8",
           "zerolinewidth": 2
          },
          "yaxis": {
           "automargin": true,
           "gridcolor": "#EBF0F8",
           "linecolor": "#EBF0F8",
           "ticks": "",
           "title": {
            "standoff": 15
           },
           "zerolinecolor": "#EBF0F8",
           "zerolinewidth": 2
          }
         }
        },
        "width": 600,
        "xaxis": {
         "gridcolor": "lightgray",
         "linecolor": "black",
         "linewidth": 2,
         "range": [
          0,
          7701.75
         ],
         "showline": true,
         "tickfont": {
          "family": "Computer Modern",
          "size": 15
         },
         "title": {
          "font": {
           "family": "Computer Modern",
           "size": 16
          },
          "text": "Train (+Val) Data Size"
         },
         "zeroline": true,
         "zerolinecolor": "black"
        },
        "yaxis": {
         "gridcolor": "lightgray",
         "linecolor": "black",
         "linewidth": 2,
         "range": [
          0,
          1.1
         ],
         "showline": false,
         "tickfont": {
          "family": "Computer Modern",
          "size": 15
         },
         "title": {
          "font": {
           "family": "Computer Modern",
           "size": 16
          },
          "text": "Similarity / Performance"
         },
         "zeroline": true,
         "zerolinecolor": "black",
         "zerolinewidth": 2
        }
       }
      },
      "text/html": [
       "<div>                            <div id=\"e46c9fc6-38d4-4673-95ec-e1bb46d0fb62\" class=\"plotly-graph-div\" style=\"height:400px; width:600px;\"></div>            <script type=\"text/javascript\">                require([\"plotly\"], function(Plotly) {                    window.PLOTLYENV=window.PLOTLYENV || {};                                    if (document.getElementById(\"e46c9fc6-38d4-4673-95ec-e1bb46d0fb62\")) {                    Plotly.newPlot(                        \"e46c9fc6-38d4-4673-95ec-e1bb46d0fb62\",                        [{\"line\":{\"color\":\"#D4A27F\",\"width\":3},\"mode\":\"lines+markers\",\"name\":\"Test AUROC (RepEng)\",\"x\":[73,146,366,733,1467,2200,2934,3667,4401,5134,5868,6601,7335],\"y\":[0.9902777777777778,1.0,1.0,1.0,1.0,1.0,1.0,1.0,1.0,1.0,1.0,1.0,1.0,0.9922222222222222,1.0,1.0,1.0,1.0,1.0,1.0,1.0,1.0,1.0,1.0,1.0,1.0],\"type\":\"scatter\"},{\"line\":{\"color\":\"#5F8670\",\"width\":3},\"mode\":\"lines+markers\",\"name\":\"Test AUROC (AmongUs)\",\"x\":[73,146,366,733,1467,2200,2934,3667,4401,5134,5868,6601,7335],\"y\":[0.21616038658035003,0.7231966653756062,0.9190136299083347,0.8962725243918183,0.8794334089525812,0.912134122724506,0.9267599918847637,0.942086722366698,0.9213190947822719,0.9389144027001606,0.9385824157583135,0.9531529537615966,0.9523045426879877,0.5046385953263617,0.7231966653756062,0.9190136299083347,0.8962725243918183,0.8794334089525812,0.912134122724506,0.9267599918847637,0.942086722366698,0.9213190947822719,0.9389144027001606,0.9385824157583135,0.9531529537615966,0.9523045426879877],\"type\":\"scatter\"},{\"line\":{\"color\":\"#7D6E83\",\"width\":3},\"mode\":\"lines+markers\",\"name\":\"Train Acc. (RepEng)\",\"x\":[73,146,366,733,1467,2200,2934,3667,4401,5134,5868,6601,7335],\"y\":[1.0,1.0,1.0,0.9944444444444445,0.9980392156862745,0.9979452054794521,0.9974358974358974,0.9983333333333333,0.9971631205673759,0.9982089552238806,0.9976253298153034,0.9979020979020979,0.9977505112474437,1.0,1.0,1.0,0.9944444444444445,0.9980392156862745,0.9979452054794521,0.9974358974358974,0.9983333333333333,0.9971631205673759,0.9982089552238806,0.9976253298153034,0.9979020979020979,0.9977505112474437],\"type\":\"scatter\"},{\"line\":{\"color\":\"#A75D5D\",\"width\":3},\"mode\":\"lines+markers\",\"name\":\"Cosine Sim. (C(10, 2))\",\"x\":[73,146,366,733,1467,2200,2934,3667,4401,5134,5868,6601,7335],\"y\":[0.11795393377542496,0.371690571308136,0.5118849277496338,0.5642275214195251,0.6265559792518616,0.6722668409347534,0.6994895935058594,0.7275099158287048,0.7436289191246033,0.7629883885383606,0.7784394025802612,0.7881385684013367,0.8076933026313782,0.23455128073692322,0.371690571308136,0.5118849277496338,0.5642275214195251,0.6265559792518616,0.6722668409347534,0.6994895935058594,0.7275099158287048,0.7436289191246033,0.7629883885383606,0.7784394025802612,0.7881385684013367,0.8076933026313782],\"type\":\"scatter\"}],                        {\"template\":{\"data\":{\"barpolar\":[{\"marker\":{\"line\":{\"color\":\"white\",\"width\":0.5},\"pattern\":{\"fillmode\":\"overlay\",\"size\":10,\"solidity\":0.2}},\"type\":\"barpolar\"}],\"bar\":[{\"error_x\":{\"color\":\"#2a3f5f\"},\"error_y\":{\"color\":\"#2a3f5f\"},\"marker\":{\"line\":{\"color\":\"white\",\"width\":0.5},\"pattern\":{\"fillmode\":\"overlay\",\"size\":10,\"solidity\":0.2}},\"type\":\"bar\"}],\"carpet\":[{\"aaxis\":{\"endlinecolor\":\"#2a3f5f\",\"gridcolor\":\"#C8D4E3\",\"linecolor\":\"#C8D4E3\",\"minorgridcolor\":\"#C8D4E3\",\"startlinecolor\":\"#2a3f5f\"},\"baxis\":{\"endlinecolor\":\"#2a3f5f\",\"gridcolor\":\"#C8D4E3\",\"linecolor\":\"#C8D4E3\",\"minorgridcolor\":\"#C8D4E3\",\"startlinecolor\":\"#2a3f5f\"},\"type\":\"carpet\"}],\"choropleth\":[{\"colorbar\":{\"outlinewidth\":0,\"ticks\":\"\"},\"type\":\"choropleth\"}],\"contourcarpet\":[{\"colorbar\":{\"outlinewidth\":0,\"ticks\":\"\"},\"type\":\"contourcarpet\"}],\"contour\":[{\"colorbar\":{\"outlinewidth\":0,\"ticks\":\"\"},\"colorscale\":[[0.0,\"#0d0887\"],[0.1111111111111111,\"#46039f\"],[0.2222222222222222,\"#7201a8\"],[0.3333333333333333,\"#9c179e\"],[0.4444444444444444,\"#bd3786\"],[0.5555555555555556,\"#d8576b\"],[0.6666666666666666,\"#ed7953\"],[0.7777777777777778,\"#fb9f3a\"],[0.8888888888888888,\"#fdca26\"],[1.0,\"#f0f921\"]],\"type\":\"contour\"}],\"heatmapgl\":[{\"colorbar\":{\"outlinewidth\":0,\"ticks\":\"\"},\"colorscale\":[[0.0,\"#0d0887\"],[0.1111111111111111,\"#46039f\"],[0.2222222222222222,\"#7201a8\"],[0.3333333333333333,\"#9c179e\"],[0.4444444444444444,\"#bd3786\"],[0.5555555555555556,\"#d8576b\"],[0.6666666666666666,\"#ed7953\"],[0.7777777777777778,\"#fb9f3a\"],[0.8888888888888888,\"#fdca26\"],[1.0,\"#f0f921\"]],\"type\":\"heatmapgl\"}],\"heatmap\":[{\"colorbar\":{\"outlinewidth\":0,\"ticks\":\"\"},\"colorscale\":[[0.0,\"#0d0887\"],[0.1111111111111111,\"#46039f\"],[0.2222222222222222,\"#7201a8\"],[0.3333333333333333,\"#9c179e\"],[0.4444444444444444,\"#bd3786\"],[0.5555555555555556,\"#d8576b\"],[0.6666666666666666,\"#ed7953\"],[0.7777777777777778,\"#fb9f3a\"],[0.8888888888888888,\"#fdca26\"],[1.0,\"#f0f921\"]],\"type\":\"heatmap\"}],\"histogram2dcontour\":[{\"colorbar\":{\"outlinewidth\":0,\"ticks\":\"\"},\"colorscale\":[[0.0,\"#0d0887\"],[0.1111111111111111,\"#46039f\"],[0.2222222222222222,\"#7201a8\"],[0.3333333333333333,\"#9c179e\"],[0.4444444444444444,\"#bd3786\"],[0.5555555555555556,\"#d8576b\"],[0.6666666666666666,\"#ed7953\"],[0.7777777777777778,\"#fb9f3a\"],[0.8888888888888888,\"#fdca26\"],[1.0,\"#f0f921\"]],\"type\":\"histogram2dcontour\"}],\"histogram2d\":[{\"colorbar\":{\"outlinewidth\":0,\"ticks\":\"\"},\"colorscale\":[[0.0,\"#0d0887\"],[0.1111111111111111,\"#46039f\"],[0.2222222222222222,\"#7201a8\"],[0.3333333333333333,\"#9c179e\"],[0.4444444444444444,\"#bd3786\"],[0.5555555555555556,\"#d8576b\"],[0.6666666666666666,\"#ed7953\"],[0.7777777777777778,\"#fb9f3a\"],[0.8888888888888888,\"#fdca26\"],[1.0,\"#f0f921\"]],\"type\":\"histogram2d\"}],\"histogram\":[{\"marker\":{\"pattern\":{\"fillmode\":\"overlay\",\"size\":10,\"solidity\":0.2}},\"type\":\"histogram\"}],\"mesh3d\":[{\"colorbar\":{\"outlinewidth\":0,\"ticks\":\"\"},\"type\":\"mesh3d\"}],\"parcoords\":[{\"line\":{\"colorbar\":{\"outlinewidth\":0,\"ticks\":\"\"}},\"type\":\"parcoords\"}],\"pie\":[{\"automargin\":true,\"type\":\"pie\"}],\"scatter3d\":[{\"line\":{\"colorbar\":{\"outlinewidth\":0,\"ticks\":\"\"}},\"marker\":{\"colorbar\":{\"outlinewidth\":0,\"ticks\":\"\"}},\"type\":\"scatter3d\"}],\"scattercarpet\":[{\"marker\":{\"colorbar\":{\"outlinewidth\":0,\"ticks\":\"\"}},\"type\":\"scattercarpet\"}],\"scattergeo\":[{\"marker\":{\"colorbar\":{\"outlinewidth\":0,\"ticks\":\"\"}},\"type\":\"scattergeo\"}],\"scattergl\":[{\"marker\":{\"colorbar\":{\"outlinewidth\":0,\"ticks\":\"\"}},\"type\":\"scattergl\"}],\"scattermapbox\":[{\"marker\":{\"colorbar\":{\"outlinewidth\":0,\"ticks\":\"\"}},\"type\":\"scattermapbox\"}],\"scatterpolargl\":[{\"marker\":{\"colorbar\":{\"outlinewidth\":0,\"ticks\":\"\"}},\"type\":\"scatterpolargl\"}],\"scatterpolar\":[{\"marker\":{\"colorbar\":{\"outlinewidth\":0,\"ticks\":\"\"}},\"type\":\"scatterpolar\"}],\"scatter\":[{\"fillpattern\":{\"fillmode\":\"overlay\",\"size\":10,\"solidity\":0.2},\"type\":\"scatter\"}],\"scatterternary\":[{\"marker\":{\"colorbar\":{\"outlinewidth\":0,\"ticks\":\"\"}},\"type\":\"scatterternary\"}],\"surface\":[{\"colorbar\":{\"outlinewidth\":0,\"ticks\":\"\"},\"colorscale\":[[0.0,\"#0d0887\"],[0.1111111111111111,\"#46039f\"],[0.2222222222222222,\"#7201a8\"],[0.3333333333333333,\"#9c179e\"],[0.4444444444444444,\"#bd3786\"],[0.5555555555555556,\"#d8576b\"],[0.6666666666666666,\"#ed7953\"],[0.7777777777777778,\"#fb9f3a\"],[0.8888888888888888,\"#fdca26\"],[1.0,\"#f0f921\"]],\"type\":\"surface\"}],\"table\":[{\"cells\":{\"fill\":{\"color\":\"#EBF0F8\"},\"line\":{\"color\":\"white\"}},\"header\":{\"fill\":{\"color\":\"#C8D4E3\"},\"line\":{\"color\":\"white\"}},\"type\":\"table\"}]},\"layout\":{\"annotationdefaults\":{\"arrowcolor\":\"#2a3f5f\",\"arrowhead\":0,\"arrowwidth\":1},\"autotypenumbers\":\"strict\",\"coloraxis\":{\"colorbar\":{\"outlinewidth\":0,\"ticks\":\"\"}},\"colorscale\":{\"diverging\":[[0,\"#8e0152\"],[0.1,\"#c51b7d\"],[0.2,\"#de77ae\"],[0.3,\"#f1b6da\"],[0.4,\"#fde0ef\"],[0.5,\"#f7f7f7\"],[0.6,\"#e6f5d0\"],[0.7,\"#b8e186\"],[0.8,\"#7fbc41\"],[0.9,\"#4d9221\"],[1,\"#276419\"]],\"sequential\":[[0.0,\"#0d0887\"],[0.1111111111111111,\"#46039f\"],[0.2222222222222222,\"#7201a8\"],[0.3333333333333333,\"#9c179e\"],[0.4444444444444444,\"#bd3786\"],[0.5555555555555556,\"#d8576b\"],[0.6666666666666666,\"#ed7953\"],[0.7777777777777778,\"#fb9f3a\"],[0.8888888888888888,\"#fdca26\"],[1.0,\"#f0f921\"]],\"sequentialminus\":[[0.0,\"#0d0887\"],[0.1111111111111111,\"#46039f\"],[0.2222222222222222,\"#7201a8\"],[0.3333333333333333,\"#9c179e\"],[0.4444444444444444,\"#bd3786\"],[0.5555555555555556,\"#d8576b\"],[0.6666666666666666,\"#ed7953\"],[0.7777777777777778,\"#fb9f3a\"],[0.8888888888888888,\"#fdca26\"],[1.0,\"#f0f921\"]]},\"colorway\":[\"#636efa\",\"#EF553B\",\"#00cc96\",\"#ab63fa\",\"#FFA15A\",\"#19d3f3\",\"#FF6692\",\"#B6E880\",\"#FF97FF\",\"#FECB52\"],\"font\":{\"color\":\"#2a3f5f\"},\"geo\":{\"bgcolor\":\"white\",\"lakecolor\":\"white\",\"landcolor\":\"white\",\"showlakes\":true,\"showland\":true,\"subunitcolor\":\"#C8D4E3\"},\"hoverlabel\":{\"align\":\"left\"},\"hovermode\":\"closest\",\"mapbox\":{\"style\":\"light\"},\"paper_bgcolor\":\"white\",\"plot_bgcolor\":\"white\",\"polar\":{\"angularaxis\":{\"gridcolor\":\"#EBF0F8\",\"linecolor\":\"#EBF0F8\",\"ticks\":\"\"},\"bgcolor\":\"white\",\"radialaxis\":{\"gridcolor\":\"#EBF0F8\",\"linecolor\":\"#EBF0F8\",\"ticks\":\"\"}},\"scene\":{\"xaxis\":{\"backgroundcolor\":\"white\",\"gridcolor\":\"#DFE8F3\",\"gridwidth\":2,\"linecolor\":\"#EBF0F8\",\"showbackground\":true,\"ticks\":\"\",\"zerolinecolor\":\"#EBF0F8\"},\"yaxis\":{\"backgroundcolor\":\"white\",\"gridcolor\":\"#DFE8F3\",\"gridwidth\":2,\"linecolor\":\"#EBF0F8\",\"showbackground\":true,\"ticks\":\"\",\"zerolinecolor\":\"#EBF0F8\"},\"zaxis\":{\"backgroundcolor\":\"white\",\"gridcolor\":\"#DFE8F3\",\"gridwidth\":2,\"linecolor\":\"#EBF0F8\",\"showbackground\":true,\"ticks\":\"\",\"zerolinecolor\":\"#EBF0F8\"}},\"shapedefaults\":{\"line\":{\"color\":\"#2a3f5f\"}},\"ternary\":{\"aaxis\":{\"gridcolor\":\"#DFE8F3\",\"linecolor\":\"#A2B1C6\",\"ticks\":\"\"},\"baxis\":{\"gridcolor\":\"#DFE8F3\",\"linecolor\":\"#A2B1C6\",\"ticks\":\"\"},\"bgcolor\":\"white\",\"caxis\":{\"gridcolor\":\"#DFE8F3\",\"linecolor\":\"#A2B1C6\",\"ticks\":\"\"}},\"title\":{\"x\":0.05},\"xaxis\":{\"automargin\":true,\"gridcolor\":\"#EBF0F8\",\"linecolor\":\"#EBF0F8\",\"ticks\":\"\",\"title\":{\"standoff\":15},\"zerolinecolor\":\"#EBF0F8\",\"zerolinewidth\":2},\"yaxis\":{\"automargin\":true,\"gridcolor\":\"#EBF0F8\",\"linecolor\":\"#EBF0F8\",\"ticks\":\"\",\"title\":{\"standoff\":15},\"zerolinecolor\":\"#EBF0F8\",\"zerolinewidth\":2}}},\"xaxis\":{\"title\":{\"text\":\"Train (+Val) Data Size\",\"font\":{\"family\":\"Computer Modern\",\"size\":16}},\"gridcolor\":\"lightgray\",\"zeroline\":true,\"zerolinecolor\":\"black\",\"showline\":true,\"linewidth\":2,\"linecolor\":\"black\",\"range\":[0,7701.75],\"tickfont\":{\"family\":\"Computer Modern\",\"size\":15}},\"yaxis\":{\"title\":{\"text\":\"Similarity \\u002f Performance\",\"font\":{\"family\":\"Computer Modern\",\"size\":16}},\"gridcolor\":\"lightgray\",\"zeroline\":true,\"zerolinecolor\":\"black\",\"zerolinewidth\":2,\"showline\":false,\"linewidth\":2,\"linecolor\":\"black\",\"range\":[0,1.1],\"tickfont\":{\"family\":\"Computer Modern\",\"size\":15}},\"font\":{\"family\":\"Computer Modern\",\"size\":15},\"plot_bgcolor\":\"#fafaf7\",\"width\":600,\"height\":400,\"legend\":{\"font\":{\"family\":\"Computer Modern\",\"size\":15},\"x\":0.4,\"y\":0.1,\"bgcolor\":\"rgba(220, 220, 215, 0.8)\"}},                        {\"responsive\": true}                    ).then(function(){\n",
       "                            \n",
       "var gd = document.getElementById('e46c9fc6-38d4-4673-95ec-e1bb46d0fb62');\n",
       "var x = new MutationObserver(function (mutations, observer) {{\n",
       "        var display = window.getComputedStyle(gd).display;\n",
       "        if (!display || display === 'none') {{\n",
       "            console.log([gd, 'removed!']);\n",
       "            Plotly.purge(gd);\n",
       "            observer.disconnect();\n",
       "        }}\n",
       "}});\n",
       "\n",
       "// Listen for the removal of the full notebook cells\n",
       "var notebookContainer = gd.closest('#notebook-container');\n",
       "if (notebookContainer) {{\n",
       "    x.observe(notebookContainer, {childList: true});\n",
       "}}\n",
       "\n",
       "// Listen for the clearing of the current output cell\n",
       "var outputEl = gd.closest('.output');\n",
       "if (outputEl) {{\n",
       "    x.observe(outputEl, {childList: true});\n",
       "}}\n",
       "\n",
       "                        })                };                });            </script>        </div>"
      ]
     },
     "metadata": {},
     "output_type": "display_data"
    }
   ],
   "source": [
    "data_size = len(train_loader.dataset)\n",
    "# datapoints = [int(data_size * k) for k in ks]\n",
    "# now the number of datapoints also includes the validation set\n",
    "datapoints = [int(data_size * k * (1.5)) for k in ks]\n",
    "\n",
    "# plot test auroc, train accuracy, and average cosine similarity vs k in different colors on the same plot\n",
    "fig = go.Figure()\n",
    "colors = ['#D4A27F', '#5F8670', '#7D6E83', '#A75D5D', '#3F4E4F', '#6D8B74', '#BDCDD6', '#4F709C', '#9E7676', '#6C3428']\n",
    "fig.add_trace(go.Scatter(x=datapoints, y=test_aurocs, mode='lines+markers', name='Test AUROC (RepEng)', \n",
    "                         line=dict(color=colors[0], width=3)))\n",
    "fig.add_trace(go.Scatter(x=datapoints, y=amongus_aurocs, mode='lines+markers', name='Test AUROC (AmongUs)', \n",
    "                         line=dict(color=colors[1], width=3)))\n",
    "fig.add_trace(go.Scatter(x=datapoints, y=train_accuracies, mode='lines+markers', name='Train Acc. (RepEng)', \n",
    "                         line=dict(color=colors[2], width=3)))\n",
    "fig.add_trace(go.Scatter(x=datapoints, y=average_cosine_similarities, mode='lines+markers', name='Cosine Sim. (C(10, 2))', \n",
    "                         line=dict(color=colors[3], width=3)))\n",
    "fig.update_xaxes(title='Train (+Val) Data Size', title_font=dict(family=\"Computer Modern\", size=16))\n",
    "fig.update_yaxes(title='Similarity / Performance', title_font=dict(family=\"Computer Modern\", size=16))\n",
    "fig.update_layout(template='plotly_white')\n",
    "fig.update_layout(\n",
    "    template='plotly_white', \n",
    "    font=dict(family=\"Computer Modern\", size=14), \n",
    "    xaxis=dict(\n",
    "        gridcolor='lightgray', \n",
    "        zeroline=True, \n",
    "        zerolinecolor='black', \n",
    "        showline=True, \n",
    "        linewidth=2, \n",
    "        linecolor='black', \n",
    "    ), \n",
    "    yaxis=dict(\n",
    "        gridcolor='lightgray', \n",
    "        zeroline=True,\n",
    "        zerolinecolor='black',\n",
    "        zerolinewidth=2,\n",
    "        showline=False, \n",
    "        linewidth=2, \n",
    "        linecolor='black',\n",
    "    ),\n",
    "    plot_bgcolor='#fafaf7'\n",
    ")\n",
    "fig.update_layout(width=600, height=400)\n",
    "fig.update_layout(legend=dict(x=0.4, y=0.1, font=dict(family=\"Computer Modern\", size=15), bgcolor='rgba(220, 220, 215, 0.8)'))\n",
    "fig.update_layout(font=dict(family=\"Computer Modern\", size=15))\n",
    "fig.update_yaxes(range=[0, 1.1])\n",
    "fig.update_xaxes(range=[0, max(datapoints) * 1.05])  # Ensure x-axis starts at 0\n",
    "fig.update_xaxes(tickfont=dict(family=\"Computer Modern\", size=15))\n",
    "fig.update_yaxes(tickfont=dict(family=\"Computer Modern\", size=15))\n",
    "fig.show()"
   ]
  },
  {
   "cell_type": "code",
   "execution_count": 50,
   "metadata": {},
   "outputs": [],
   "source": [
    "fig.write_image(\"plots/less_data_probes.pdf\")"
   ]
  },
  {
   "cell_type": "code",
   "execution_count": 25,
   "metadata": {},
   "outputs": [
    {
     "data": {
      "text/plain": [
       "[1e-05,\n",
       " 1e-05,\n",
       " 1e-05,\n",
       " 1e-05,\n",
       " 1e-05,\n",
       " 1e-05,\n",
       " 1e-05,\n",
       " 0.01,\n",
       " 1e-05,\n",
       " 1e-05,\n",
       " 1e-05,\n",
       " 1e-05,\n",
       " 1e-05,\n",
       " 1e-05,\n",
       " 1e-05,\n",
       " 1e-05,\n",
       " 1e-05,\n",
       " 1e-05,\n",
       " 1e-05,\n",
       " 1e-05,\n",
       " 0.01,\n",
       " 1e-05,\n",
       " 1e-05,\n",
       " 1e-05,\n",
       " 1e-05,\n",
       " 1e-05]"
      ]
     },
     "execution_count": 25,
     "metadata": {},
     "output_type": "execute_result"
    }
   ],
   "source": [
    "best_lambdas"
   ]
  },
  {
   "cell_type": "code",
   "execution_count": 11,
   "metadata": {},
   "outputs": [
    {
     "data": {
      "text/plain": [
       "(26, 26, 26, 26)"
      ]
     },
     "execution_count": 11,
     "metadata": {},
     "output_type": "execute_result"
    }
   ],
   "source": [
    "len(test_aurocs), len(amongus_aurocs), len(train_accuracies), len(average_cosine_similarities)"
   ]
  },
  {
   "cell_type": "code",
   "execution_count": null,
   "metadata": {},
   "outputs": [],
   "source": []
  }
 ],
 "metadata": {
  "kernelspec": {
   "display_name": "amongus",
   "language": "python",
   "name": "python3"
  },
  "language_info": {
   "codemirror_mode": {
    "name": "ipython",
    "version": 3
   },
   "file_extension": ".py",
   "mimetype": "text/x-python",
   "name": "python",
   "nbconvert_exporter": "python",
   "pygments_lexer": "ipython3",
   "version": "3.10.16"
  }
 },
 "nbformat": 4,
 "nbformat_minor": 2
}
