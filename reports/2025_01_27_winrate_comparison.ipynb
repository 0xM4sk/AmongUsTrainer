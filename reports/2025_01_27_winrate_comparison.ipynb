{
 "cells": [
  {
   "cell_type": "markdown",
   "metadata": {},
   "source": [
    "# Setup Evaluations for Multiple Games"
   ]
  },
  {
   "cell_type": "code",
   "execution_count": 1,
   "metadata": {},
   "outputs": [],
   "source": [
    "import os\n",
    "import sys\n",
    "import json\n",
    "import plotly.express as px\n",
    "import plotly.graph_objects as go\n",
    "import numpy as np\n",
    "import requests\n",
    "import pandas as pd\n",
    "\n",
    "from pandas import DataFrame, json_normalize\n",
    "from typing import List, Dict, Any, Tuple, Union, Optional\n",
    "\n",
    "LOGS_PATH: str = \"../expt-logs/\""
   ]
  },
  {
   "cell_type": "code",
   "execution_count": 2,
   "metadata": {},
   "outputs": [
    {
     "data": {
      "text/plain": [
       "True"
      ]
     },
     "execution_count": 2,
     "metadata": {},
     "output_type": "execute_result"
    }
   ],
   "source": [
    "import dotenv\n",
    "dotenv.load_dotenv()"
   ]
  },
  {
   "cell_type": "code",
   "execution_count": 3,
   "metadata": {},
   "outputs": [],
   "source": [
    "sys.path.append(\"..\")\n",
    "\n",
    "from utils import load_agent_logs_df, read_jsonl_as_json, load_game_summary"
   ]
  },
  {
   "cell_type": "code",
   "execution_count": 4,
   "metadata": {},
   "outputs": [],
   "source": [
    "EXPT_NAMES: List[str] = [\n",
    "    \"2025-01-25_phi_llama_100_games\",\n",
    "    \"2025-01-27_llama_phi_100_games\",\n",
    "    \"2025-01-28_phi_phi_100_games\",\n",
    "    \"2025-01-28_llama_llama_100_games\",\n",
    "    ]"
   ]
  },
  {
   "cell_type": "code",
   "execution_count": 10,
   "metadata": {},
   "outputs": [],
   "source": [
    "DESCRIPTIONS: List[str] = [\n",
    "    \"Crewmate: Phi 4, Impostor: Llama 3.3\",\n",
    "    \"Crewmate: Llama 3.3, Impostor: Phi 4\",\n",
    "    \"Crewmate: Phi 4, Impostor: Phi 4\",\n",
    "    \"Crewmate: Llama 3.3, Impostor: Llama 3.3\",\n",
    "    ]"
   ]
  },
  {
   "cell_type": "code",
   "execution_count": 11,
   "metadata": {},
   "outputs": [],
   "source": [
    "summary_logs_paths: List[str] = [\n",
    "    os.path.join(LOGS_PATH, expt_name, \"summary.json\") for expt_name in EXPT_NAMES\n",
    "]"
   ]
  },
  {
   "cell_type": "code",
   "execution_count": 12,
   "metadata": {},
   "outputs": [],
   "source": [
    "summary_dfs: List[DataFrame] = [\n",
    "    load_game_summary(logs_path) for logs_path in summary_logs_paths\n",
    "]"
   ]
  },
  {
   "cell_type": "code",
   "execution_count": 13,
   "metadata": {},
   "outputs": [],
   "source": [
    "reasons = [\n",
    "    \"Impostors Win! (outnumbered C.)\",\n",
    "    \"Crewmates Win! (tasks done)\",\n",
    "    \"Crewmates Win! (voted out I.)\",\n",
    "    \"Impostors Win! (time up)\",\n",
    "]\n",
    "\n",
    "for i, df in enumerate(summary_dfs):\n",
    "    df['Winner Reason'] = df['Winner'].apply(lambda x: reasons[x-1])\n",
    "    df['Models'] = DESCRIPTIONS[i]"
   ]
  },
  {
   "cell_type": "code",
   "execution_count": 14,
   "metadata": {},
   "outputs": [],
   "source": [
    "combined_df: DataFrame = pd.concat(summary_dfs)"
   ]
  },
  {
   "cell_type": "code",
   "execution_count": 15,
   "metadata": {},
   "outputs": [
    {
     "data": {
      "text/html": [
       "<div>\n",
       "<style scoped>\n",
       "    .dataframe tbody tr th:only-of-type {\n",
       "        vertical-align: middle;\n",
       "    }\n",
       "\n",
       "    .dataframe tbody tr th {\n",
       "        vertical-align: top;\n",
       "    }\n",
       "\n",
       "    .dataframe thead th {\n",
       "        text-align: right;\n",
       "    }\n",
       "</style>\n",
       "<table border=\"1\" class=\"dataframe\">\n",
       "  <thead>\n",
       "    <tr style=\"text-align: right;\">\n",
       "      <th></th>\n",
       "      <th>Game</th>\n",
       "      <th>Winner</th>\n",
       "      <th>Winner Reason</th>\n",
       "      <th>Models</th>\n",
       "    </tr>\n",
       "  </thead>\n",
       "  <tbody>\n",
       "    <tr>\n",
       "      <th>0</th>\n",
       "      <td>Game 1</td>\n",
       "      <td>1</td>\n",
       "      <td>Impostors Win! (outnumbered C.)</td>\n",
       "      <td>Crewmate: Phi 4, Impostor: Llama 3.3</td>\n",
       "    </tr>\n",
       "    <tr>\n",
       "      <th>1</th>\n",
       "      <td>Game 2</td>\n",
       "      <td>3</td>\n",
       "      <td>Crewmates Win! (voted out I.)</td>\n",
       "      <td>Crewmate: Phi 4, Impostor: Llama 3.3</td>\n",
       "    </tr>\n",
       "    <tr>\n",
       "      <th>2</th>\n",
       "      <td>Game 3</td>\n",
       "      <td>1</td>\n",
       "      <td>Impostors Win! (outnumbered C.)</td>\n",
       "      <td>Crewmate: Phi 4, Impostor: Llama 3.3</td>\n",
       "    </tr>\n",
       "    <tr>\n",
       "      <th>3</th>\n",
       "      <td>Game 4</td>\n",
       "      <td>1</td>\n",
       "      <td>Impostors Win! (outnumbered C.)</td>\n",
       "      <td>Crewmate: Phi 4, Impostor: Llama 3.3</td>\n",
       "    </tr>\n",
       "    <tr>\n",
       "      <th>4</th>\n",
       "      <td>Game 5</td>\n",
       "      <td>1</td>\n",
       "      <td>Impostors Win! (outnumbered C.)</td>\n",
       "      <td>Crewmate: Phi 4, Impostor: Llama 3.3</td>\n",
       "    </tr>\n",
       "    <tr>\n",
       "      <th>...</th>\n",
       "      <td>...</td>\n",
       "      <td>...</td>\n",
       "      <td>...</td>\n",
       "      <td>...</td>\n",
       "    </tr>\n",
       "    <tr>\n",
       "      <th>95</th>\n",
       "      <td>Game 65</td>\n",
       "      <td>2</td>\n",
       "      <td>Crewmates Win! (tasks done)</td>\n",
       "      <td>Crewmate: Llama 3.3, Impostor: Llama 3.3</td>\n",
       "    </tr>\n",
       "    <tr>\n",
       "      <th>96</th>\n",
       "      <td>Game 67</td>\n",
       "      <td>3</td>\n",
       "      <td>Crewmates Win! (voted out I.)</td>\n",
       "      <td>Crewmate: Llama 3.3, Impostor: Llama 3.3</td>\n",
       "    </tr>\n",
       "    <tr>\n",
       "      <th>97</th>\n",
       "      <td>Game 71</td>\n",
       "      <td>1</td>\n",
       "      <td>Impostors Win! (outnumbered C.)</td>\n",
       "      <td>Crewmate: Llama 3.3, Impostor: Llama 3.3</td>\n",
       "    </tr>\n",
       "    <tr>\n",
       "      <th>98</th>\n",
       "      <td>Game 55</td>\n",
       "      <td>1</td>\n",
       "      <td>Impostors Win! (outnumbered C.)</td>\n",
       "      <td>Crewmate: Llama 3.3, Impostor: Llama 3.3</td>\n",
       "    </tr>\n",
       "    <tr>\n",
       "      <th>99</th>\n",
       "      <td>Game 84</td>\n",
       "      <td>1</td>\n",
       "      <td>Impostors Win! (outnumbered C.)</td>\n",
       "      <td>Crewmate: Llama 3.3, Impostor: Llama 3.3</td>\n",
       "    </tr>\n",
       "  </tbody>\n",
       "</table>\n",
       "<p>400 rows × 4 columns</p>\n",
       "</div>"
      ],
      "text/plain": [
       "       Game  Winner                    Winner Reason  \\\n",
       "0    Game 1       1  Impostors Win! (outnumbered C.)   \n",
       "1    Game 2       3    Crewmates Win! (voted out I.)   \n",
       "2    Game 3       1  Impostors Win! (outnumbered C.)   \n",
       "3    Game 4       1  Impostors Win! (outnumbered C.)   \n",
       "4    Game 5       1  Impostors Win! (outnumbered C.)   \n",
       "..      ...     ...                              ...   \n",
       "95  Game 65       2      Crewmates Win! (tasks done)   \n",
       "96  Game 67       3    Crewmates Win! (voted out I.)   \n",
       "97  Game 71       1  Impostors Win! (outnumbered C.)   \n",
       "98  Game 55       1  Impostors Win! (outnumbered C.)   \n",
       "99  Game 84       1  Impostors Win! (outnumbered C.)   \n",
       "\n",
       "                                      Models  \n",
       "0       Crewmate: Phi 4, Impostor: Llama 3.3  \n",
       "1       Crewmate: Phi 4, Impostor: Llama 3.3  \n",
       "2       Crewmate: Phi 4, Impostor: Llama 3.3  \n",
       "3       Crewmate: Phi 4, Impostor: Llama 3.3  \n",
       "4       Crewmate: Phi 4, Impostor: Llama 3.3  \n",
       "..                                       ...  \n",
       "95  Crewmate: Llama 3.3, Impostor: Llama 3.3  \n",
       "96  Crewmate: Llama 3.3, Impostor: Llama 3.3  \n",
       "97  Crewmate: Llama 3.3, Impostor: Llama 3.3  \n",
       "98  Crewmate: Llama 3.3, Impostor: Llama 3.3  \n",
       "99  Crewmate: Llama 3.3, Impostor: Llama 3.3  \n",
       "\n",
       "[400 rows x 4 columns]"
      ]
     },
     "execution_count": 15,
     "metadata": {},
     "output_type": "execute_result"
    }
   ],
   "source": [
    "combined_df"
   ]
  },
  {
   "cell_type": "code",
   "execution_count": 16,
   "metadata": {},
   "outputs": [],
   "source": [
    "import numpy as np\n",
    "from scipy import stats\n",
    "\n",
    "# Function to calculate bootstrap confidence intervals\n",
    "def calculate_bootstrap_ci(data, n_bootstrap=1000, ci=0.90):\n",
    "    \"\"\"\n",
    "    Calculate bootstrap confidence intervals for a binary dataset.\n",
    "    \n",
    "    Args:\n",
    "        data: Binary data array\n",
    "        n_bootstrap: Number of bootstrap samples\n",
    "        ci: Confidence interval (0-1)\n",
    "        \n",
    "    Returns:\n",
    "        tuple: (lower bound, upper bound)\n",
    "    \"\"\"\n",
    "    bootstrap_samples = np.random.choice(data, size=(n_bootstrap, len(data)), replace=True)\n",
    "    bootstrap_counts = np.sum(bootstrap_samples, axis=1)\n",
    "    lower_percentile = (1 - ci) / 2 * 100\n",
    "    upper_percentile = (1 + ci) / 2 * 100\n",
    "    lower = np.percentile(bootstrap_counts, lower_percentile)\n",
    "    upper = np.percentile(bootstrap_counts, upper_percentile)\n",
    "    return lower, upper"
   ]
  },
  {
   "cell_type": "code",
   "execution_count": 35,
   "metadata": {},
   "outputs": [],
   "source": [
    "def plot_winner_reasons_with_ci(combined_df, n_bootstrap=1000, ci=0.90):\n",
    "    \"\"\"\n",
    "    Plot winner reasons with bootstrap confidence intervals.\n",
    "    \n",
    "    Args:\n",
    "        combined_df: DataFrame with game results\n",
    "        n_bootstrap: Number of bootstrap samples\n",
    "        ci: Confidence interval (0-1)\n",
    "        \n",
    "    Returns:\n",
    "        plotly.graph_objects.Figure: The figure object\n",
    "    \"\"\"\n",
    "    # Softer color theme\n",
    "    custom_colors = [\n",
    "        (\"#b05a44\", \"#8b4513\"),  # More reddish terracotta/sienna\n",
    "        (\"#4a5859\", \"#22333b\"),  # Deep slate/charcoal\n",
    "        (\"#567d46\", \"#2c5f2d\"),  # Mid-tone forest green\n",
    "        (\"#8e7dbe\", \"#5e548e\"),  # Royal lavender/plum\n",
    "    ]   \n",
    "    # Get unique winner reasons and models\n",
    "    winner_reasons = combined_df['Winner Reason'].unique()\n",
    "    models = combined_df['Models'].unique()\n",
    "    \n",
    "    # Create wrapped text labels for x-ticks\n",
    "    wrapped_labels = []\n",
    "    for reason in winner_reasons:\n",
    "        # Split long reasons at appropriate points and join with <br> for line breaks\n",
    "        words = reason.split()\n",
    "        if len(words) > 3:\n",
    "            # Split roughly in half\n",
    "            mid = len(words) // 2\n",
    "            wrapped_labels.append(' '.join(words[:mid]) + '<br>' + ' '.join(words[mid:]))\n",
    "        else:\n",
    "            wrapped_labels.append(reason)\n",
    "\n",
    "    # Create a figure\n",
    "    fig = go.Figure()\n",
    "\n",
    "    # Calculate bar positions\n",
    "    num_reasons = len(winner_reasons)\n",
    "    num_models = len(models)\n",
    "    bar_width = 0.8 / num_models  # Width of each bar\n",
    "    bar_positions = {}\n",
    "    \n",
    "    for i, reason in enumerate(winner_reasons):\n",
    "        for j, model in enumerate(models):\n",
    "            # Calculate position for this bar\n",
    "            position = i + (j - num_models/2 + 0.5) * bar_width\n",
    "            if reason not in bar_positions:\n",
    "                bar_positions[reason] = {}\n",
    "            bar_positions[reason][model] = position\n",
    "\n",
    "    # For each model, add a bar trace with error bars\n",
    "    for j, model in enumerate(models):\n",
    "        model_data = combined_df[combined_df['Models'] == model]\n",
    "        \n",
    "        counts = []\n",
    "        error_y = []\n",
    "        positions = []\n",
    "        \n",
    "        for reason in winner_reasons:\n",
    "            # Count occurrences of this reason for this model\n",
    "            reason_data = (model_data['Winner Reason'] == reason).astype(int)\n",
    "            count = reason_data.sum()\n",
    "            counts.append(count)\n",
    "            positions.append(bar_positions[reason][model])\n",
    "            \n",
    "            # Calculate bootstrap confidence intervals\n",
    "            lower, upper = calculate_bootstrap_ci(reason_data.values, n_bootstrap, ci)\n",
    "            error_y.append((upper - lower) / 2)  # Use average of upper and lower as error\n",
    "        \n",
    "        # Add bar trace with error bars using Among Us colors\n",
    "        color_idx = j % len(custom_colors)\n",
    "        fig.add_trace(go.Bar(\n",
    "            x=positions,  # Use custom positions\n",
    "            y=counts,\n",
    "            name=model,\n",
    "            marker_color=custom_colors[color_idx][0],\n",
    "            marker_line_color=custom_colors[color_idx][1],\n",
    "            marker_line_width=1.5,\n",
    "            error_y=dict(\n",
    "                type='data',\n",
    "                array=error_y,\n",
    "                visible=True,\n",
    "                color=custom_colors[color_idx][1]\n",
    "            ),\n",
    "            width=bar_width * 0.9  # Slightly narrower than calculated width\n",
    "        ))\n",
    "\n",
    "    # Update layout\n",
    "    fig.update_layout(\n",
    "        title=\"\",\n",
    "        xaxis_title=\"Winner (Reason)\",\n",
    "        yaxis_title=\"Number of Games\",\n",
    "        barmode=\"group\",\n",
    "        showlegend=True,\n",
    "        plot_bgcolor='white'\n",
    "    )\n",
    "    \n",
    "    # Set custom tick positions and labels\n",
    "    fig.update_xaxes(\n",
    "        tickmode='array',\n",
    "        tickvals=list(range(len(winner_reasons))),  # Center positions for each group\n",
    "        ticktext=wrapped_labels,\n",
    "        tickangle=0\n",
    "    )\n",
    "\n",
    "    # Ensure y-axis starts at zero\n",
    "    fig.update_yaxes(range=[0, max([max(counts) for counts in [\n",
    "        [reason_data.sum() for reason_data in \n",
    "         [(combined_df[combined_df['Models'] == model]['Winner Reason'] == reason).astype(int) \n",
    "          for reason in winner_reasons]]\n",
    "        for model in models\n",
    "    ]]) * 1.4])  # Add some headroom for error bars\n",
    "\n",
    "    # Legend settings\n",
    "    fig.update_layout(legend=dict(\n",
    "        orientation=\"v\",\n",
    "        x=0.4,\n",
    "        y=0.85,\n",
    "        traceorder=\"normal\",\n",
    "        bgcolor=\"white\",\n",
    "        bordercolor=\"black\",\n",
    "        borderwidth=1\n",
    "    ))\n",
    "\n",
    "    # Grid lines\n",
    "    fig.update_yaxes(showgrid=True, gridwidth=1, gridcolor='LightGray')\n",
    "\n",
    "    # Width and height\n",
    "    fig.update_layout(width=800, height=450)\n",
    "\n",
    "    # Font settings for research paper\n",
    "    fig.update_layout(font=dict(family='serif', size=15, color='black'))\n",
    "    fig.update_xaxes(title_font=dict(family='serif', size=18, color='black'))\n",
    "    fig.update_yaxes(title_font=dict(family='serif', size=18, color='black'))\n",
    "    fig.update_xaxes(tickfont=dict(family='serif', size=18, color='black'))\n",
    "    fig.update_yaxes(tickfont=dict(family='serif', size=18, color='black'))\n",
    "    fig.update_xaxes(showline=True, linewidth=1, linecolor='black', mirror=False)\n",
    "    \n",
    "    return fig"
   ]
  },
  {
   "cell_type": "code",
   "execution_count": 36,
   "metadata": {},
   "outputs": [
    {
     "data": {
      "application/vnd.plotly.v1+json": {
       "config": {
        "plotlyServerURL": "https://plot.ly"
       },
       "data": [
        {
         "error_y": {
          "array": [
           8,
           7,
           5.5,
           0
          ],
          "color": "#8b4513",
          "type": "data",
          "visible": true
         },
         "marker": {
          "color": "#b05a44",
          "line": {
           "color": "#8b4513",
           "width": 1.5
          }
         },
         "name": "Crewmate: Phi 4, Impostor: Llama 3.3",
         "type": "bar",
         "width": 0.18000000000000002,
         "x": [
          -0.30000000000000004,
          0.7,
          1.7,
          2.7
         ],
         "y": [
          65,
          22,
          13,
          0
         ]
        },
        {
         "error_y": {
          "array": [
           7.5,
           7,
           4.5,
           0
          ],
          "color": "#22333b",
          "type": "data",
          "visible": true
         },
         "marker": {
          "color": "#4a5859",
          "line": {
           "color": "#22333b",
           "width": 1.5
          }
         },
         "name": "Crewmate: Llama 3.3, Impostor: Phi 4",
         "type": "bar",
         "width": 0.18000000000000002,
         "x": [
          -0.1,
          0.9,
          1.9,
          2.9
         ],
         "y": [
          69,
          24,
          7,
          0
         ]
        },
        {
         "error_y": {
          "array": [
           8,
           7.5,
           6,
           2.5
          ],
          "color": "#2c5f2d",
          "type": "data",
          "visible": true
         },
         "marker": {
          "color": "#567d46",
          "line": {
           "color": "#2c5f2d",
           "width": 1.5
          }
         },
         "name": "Crewmate: Phi 4, Impostor: Phi 4",
         "type": "bar",
         "width": 0.18000000000000002,
         "x": [
          0.1,
          1.1,
          2.1,
          3.1
         ],
         "y": [
          52,
          29,
          17,
          2
         ]
        },
        {
         "error_y": {
          "array": [
           7,
           5.525000000000006,
           4,
           0
          ],
          "color": "#5e548e",
          "type": "data",
          "visible": true
         },
         "marker": {
          "color": "#8e7dbe",
          "line": {
           "color": "#5e548e",
           "width": 1.5
          }
         },
         "name": "Crewmate: Llama 3.3, Impostor: Llama 3.3",
         "type": "bar",
         "width": 0.18000000000000002,
         "x": [
          0.30000000000000004,
          1.3,
          2.3,
          3.3
         ],
         "y": [
          78,
          15,
          7,
          0
         ]
        }
       ],
       "layout": {
        "barmode": "group",
        "font": {
         "color": "black",
         "family": "serif",
         "size": 15
        },
        "height": 450,
        "legend": {
         "bgcolor": "white",
         "bordercolor": "black",
         "borderwidth": 1,
         "orientation": "v",
         "traceorder": "normal",
         "x": 0.4,
         "y": 0.85
        },
        "plot_bgcolor": "white",
        "showlegend": true,
        "template": {
         "data": {
          "bar": [
           {
            "error_x": {
             "color": "#2a3f5f"
            },
            "error_y": {
             "color": "#2a3f5f"
            },
            "marker": {
             "line": {
              "color": "#E5ECF6",
              "width": 0.5
             },
             "pattern": {
              "fillmode": "overlay",
              "size": 10,
              "solidity": 0.2
             }
            },
            "type": "bar"
           }
          ],
          "barpolar": [
           {
            "marker": {
             "line": {
              "color": "#E5ECF6",
              "width": 0.5
             },
             "pattern": {
              "fillmode": "overlay",
              "size": 10,
              "solidity": 0.2
             }
            },
            "type": "barpolar"
           }
          ],
          "carpet": [
           {
            "aaxis": {
             "endlinecolor": "#2a3f5f",
             "gridcolor": "white",
             "linecolor": "white",
             "minorgridcolor": "white",
             "startlinecolor": "#2a3f5f"
            },
            "baxis": {
             "endlinecolor": "#2a3f5f",
             "gridcolor": "white",
             "linecolor": "white",
             "minorgridcolor": "white",
             "startlinecolor": "#2a3f5f"
            },
            "type": "carpet"
           }
          ],
          "choropleth": [
           {
            "colorbar": {
             "outlinewidth": 0,
             "ticks": ""
            },
            "type": "choropleth"
           }
          ],
          "contour": [
           {
            "colorbar": {
             "outlinewidth": 0,
             "ticks": ""
            },
            "colorscale": [
             [
              0,
              "#0d0887"
             ],
             [
              0.1111111111111111,
              "#46039f"
             ],
             [
              0.2222222222222222,
              "#7201a8"
             ],
             [
              0.3333333333333333,
              "#9c179e"
             ],
             [
              0.4444444444444444,
              "#bd3786"
             ],
             [
              0.5555555555555556,
              "#d8576b"
             ],
             [
              0.6666666666666666,
              "#ed7953"
             ],
             [
              0.7777777777777778,
              "#fb9f3a"
             ],
             [
              0.8888888888888888,
              "#fdca26"
             ],
             [
              1,
              "#f0f921"
             ]
            ],
            "type": "contour"
           }
          ],
          "contourcarpet": [
           {
            "colorbar": {
             "outlinewidth": 0,
             "ticks": ""
            },
            "type": "contourcarpet"
           }
          ],
          "heatmap": [
           {
            "colorbar": {
             "outlinewidth": 0,
             "ticks": ""
            },
            "colorscale": [
             [
              0,
              "#0d0887"
             ],
             [
              0.1111111111111111,
              "#46039f"
             ],
             [
              0.2222222222222222,
              "#7201a8"
             ],
             [
              0.3333333333333333,
              "#9c179e"
             ],
             [
              0.4444444444444444,
              "#bd3786"
             ],
             [
              0.5555555555555556,
              "#d8576b"
             ],
             [
              0.6666666666666666,
              "#ed7953"
             ],
             [
              0.7777777777777778,
              "#fb9f3a"
             ],
             [
              0.8888888888888888,
              "#fdca26"
             ],
             [
              1,
              "#f0f921"
             ]
            ],
            "type": "heatmap"
           }
          ],
          "heatmapgl": [
           {
            "colorbar": {
             "outlinewidth": 0,
             "ticks": ""
            },
            "colorscale": [
             [
              0,
              "#0d0887"
             ],
             [
              0.1111111111111111,
              "#46039f"
             ],
             [
              0.2222222222222222,
              "#7201a8"
             ],
             [
              0.3333333333333333,
              "#9c179e"
             ],
             [
              0.4444444444444444,
              "#bd3786"
             ],
             [
              0.5555555555555556,
              "#d8576b"
             ],
             [
              0.6666666666666666,
              "#ed7953"
             ],
             [
              0.7777777777777778,
              "#fb9f3a"
             ],
             [
              0.8888888888888888,
              "#fdca26"
             ],
             [
              1,
              "#f0f921"
             ]
            ],
            "type": "heatmapgl"
           }
          ],
          "histogram": [
           {
            "marker": {
             "pattern": {
              "fillmode": "overlay",
              "size": 10,
              "solidity": 0.2
             }
            },
            "type": "histogram"
           }
          ],
          "histogram2d": [
           {
            "colorbar": {
             "outlinewidth": 0,
             "ticks": ""
            },
            "colorscale": [
             [
              0,
              "#0d0887"
             ],
             [
              0.1111111111111111,
              "#46039f"
             ],
             [
              0.2222222222222222,
              "#7201a8"
             ],
             [
              0.3333333333333333,
              "#9c179e"
             ],
             [
              0.4444444444444444,
              "#bd3786"
             ],
             [
              0.5555555555555556,
              "#d8576b"
             ],
             [
              0.6666666666666666,
              "#ed7953"
             ],
             [
              0.7777777777777778,
              "#fb9f3a"
             ],
             [
              0.8888888888888888,
              "#fdca26"
             ],
             [
              1,
              "#f0f921"
             ]
            ],
            "type": "histogram2d"
           }
          ],
          "histogram2dcontour": [
           {
            "colorbar": {
             "outlinewidth": 0,
             "ticks": ""
            },
            "colorscale": [
             [
              0,
              "#0d0887"
             ],
             [
              0.1111111111111111,
              "#46039f"
             ],
             [
              0.2222222222222222,
              "#7201a8"
             ],
             [
              0.3333333333333333,
              "#9c179e"
             ],
             [
              0.4444444444444444,
              "#bd3786"
             ],
             [
              0.5555555555555556,
              "#d8576b"
             ],
             [
              0.6666666666666666,
              "#ed7953"
             ],
             [
              0.7777777777777778,
              "#fb9f3a"
             ],
             [
              0.8888888888888888,
              "#fdca26"
             ],
             [
              1,
              "#f0f921"
             ]
            ],
            "type": "histogram2dcontour"
           }
          ],
          "mesh3d": [
           {
            "colorbar": {
             "outlinewidth": 0,
             "ticks": ""
            },
            "type": "mesh3d"
           }
          ],
          "parcoords": [
           {
            "line": {
             "colorbar": {
              "outlinewidth": 0,
              "ticks": ""
             }
            },
            "type": "parcoords"
           }
          ],
          "pie": [
           {
            "automargin": true,
            "type": "pie"
           }
          ],
          "scatter": [
           {
            "fillpattern": {
             "fillmode": "overlay",
             "size": 10,
             "solidity": 0.2
            },
            "type": "scatter"
           }
          ],
          "scatter3d": [
           {
            "line": {
             "colorbar": {
              "outlinewidth": 0,
              "ticks": ""
             }
            },
            "marker": {
             "colorbar": {
              "outlinewidth": 0,
              "ticks": ""
             }
            },
            "type": "scatter3d"
           }
          ],
          "scattercarpet": [
           {
            "marker": {
             "colorbar": {
              "outlinewidth": 0,
              "ticks": ""
             }
            },
            "type": "scattercarpet"
           }
          ],
          "scattergeo": [
           {
            "marker": {
             "colorbar": {
              "outlinewidth": 0,
              "ticks": ""
             }
            },
            "type": "scattergeo"
           }
          ],
          "scattergl": [
           {
            "marker": {
             "colorbar": {
              "outlinewidth": 0,
              "ticks": ""
             }
            },
            "type": "scattergl"
           }
          ],
          "scattermapbox": [
           {
            "marker": {
             "colorbar": {
              "outlinewidth": 0,
              "ticks": ""
             }
            },
            "type": "scattermapbox"
           }
          ],
          "scatterpolar": [
           {
            "marker": {
             "colorbar": {
              "outlinewidth": 0,
              "ticks": ""
             }
            },
            "type": "scatterpolar"
           }
          ],
          "scatterpolargl": [
           {
            "marker": {
             "colorbar": {
              "outlinewidth": 0,
              "ticks": ""
             }
            },
            "type": "scatterpolargl"
           }
          ],
          "scatterternary": [
           {
            "marker": {
             "colorbar": {
              "outlinewidth": 0,
              "ticks": ""
             }
            },
            "type": "scatterternary"
           }
          ],
          "surface": [
           {
            "colorbar": {
             "outlinewidth": 0,
             "ticks": ""
            },
            "colorscale": [
             [
              0,
              "#0d0887"
             ],
             [
              0.1111111111111111,
              "#46039f"
             ],
             [
              0.2222222222222222,
              "#7201a8"
             ],
             [
              0.3333333333333333,
              "#9c179e"
             ],
             [
              0.4444444444444444,
              "#bd3786"
             ],
             [
              0.5555555555555556,
              "#d8576b"
             ],
             [
              0.6666666666666666,
              "#ed7953"
             ],
             [
              0.7777777777777778,
              "#fb9f3a"
             ],
             [
              0.8888888888888888,
              "#fdca26"
             ],
             [
              1,
              "#f0f921"
             ]
            ],
            "type": "surface"
           }
          ],
          "table": [
           {
            "cells": {
             "fill": {
              "color": "#EBF0F8"
             },
             "line": {
              "color": "white"
             }
            },
            "header": {
             "fill": {
              "color": "#C8D4E3"
             },
             "line": {
              "color": "white"
             }
            },
            "type": "table"
           }
          ]
         },
         "layout": {
          "annotationdefaults": {
           "arrowcolor": "#2a3f5f",
           "arrowhead": 0,
           "arrowwidth": 1
          },
          "autotypenumbers": "strict",
          "coloraxis": {
           "colorbar": {
            "outlinewidth": 0,
            "ticks": ""
           }
          },
          "colorscale": {
           "diverging": [
            [
             0,
             "#8e0152"
            ],
            [
             0.1,
             "#c51b7d"
            ],
            [
             0.2,
             "#de77ae"
            ],
            [
             0.3,
             "#f1b6da"
            ],
            [
             0.4,
             "#fde0ef"
            ],
            [
             0.5,
             "#f7f7f7"
            ],
            [
             0.6,
             "#e6f5d0"
            ],
            [
             0.7,
             "#b8e186"
            ],
            [
             0.8,
             "#7fbc41"
            ],
            [
             0.9,
             "#4d9221"
            ],
            [
             1,
             "#276419"
            ]
           ],
           "sequential": [
            [
             0,
             "#0d0887"
            ],
            [
             0.1111111111111111,
             "#46039f"
            ],
            [
             0.2222222222222222,
             "#7201a8"
            ],
            [
             0.3333333333333333,
             "#9c179e"
            ],
            [
             0.4444444444444444,
             "#bd3786"
            ],
            [
             0.5555555555555556,
             "#d8576b"
            ],
            [
             0.6666666666666666,
             "#ed7953"
            ],
            [
             0.7777777777777778,
             "#fb9f3a"
            ],
            [
             0.8888888888888888,
             "#fdca26"
            ],
            [
             1,
             "#f0f921"
            ]
           ],
           "sequentialminus": [
            [
             0,
             "#0d0887"
            ],
            [
             0.1111111111111111,
             "#46039f"
            ],
            [
             0.2222222222222222,
             "#7201a8"
            ],
            [
             0.3333333333333333,
             "#9c179e"
            ],
            [
             0.4444444444444444,
             "#bd3786"
            ],
            [
             0.5555555555555556,
             "#d8576b"
            ],
            [
             0.6666666666666666,
             "#ed7953"
            ],
            [
             0.7777777777777778,
             "#fb9f3a"
            ],
            [
             0.8888888888888888,
             "#fdca26"
            ],
            [
             1,
             "#f0f921"
            ]
           ]
          },
          "colorway": [
           "#636efa",
           "#EF553B",
           "#00cc96",
           "#ab63fa",
           "#FFA15A",
           "#19d3f3",
           "#FF6692",
           "#B6E880",
           "#FF97FF",
           "#FECB52"
          ],
          "font": {
           "color": "#2a3f5f"
          },
          "geo": {
           "bgcolor": "white",
           "lakecolor": "white",
           "landcolor": "#E5ECF6",
           "showlakes": true,
           "showland": true,
           "subunitcolor": "white"
          },
          "hoverlabel": {
           "align": "left"
          },
          "hovermode": "closest",
          "mapbox": {
           "style": "light"
          },
          "paper_bgcolor": "white",
          "plot_bgcolor": "#E5ECF6",
          "polar": {
           "angularaxis": {
            "gridcolor": "white",
            "linecolor": "white",
            "ticks": ""
           },
           "bgcolor": "#E5ECF6",
           "radialaxis": {
            "gridcolor": "white",
            "linecolor": "white",
            "ticks": ""
           }
          },
          "scene": {
           "xaxis": {
            "backgroundcolor": "#E5ECF6",
            "gridcolor": "white",
            "gridwidth": 2,
            "linecolor": "white",
            "showbackground": true,
            "ticks": "",
            "zerolinecolor": "white"
           },
           "yaxis": {
            "backgroundcolor": "#E5ECF6",
            "gridcolor": "white",
            "gridwidth": 2,
            "linecolor": "white",
            "showbackground": true,
            "ticks": "",
            "zerolinecolor": "white"
           },
           "zaxis": {
            "backgroundcolor": "#E5ECF6",
            "gridcolor": "white",
            "gridwidth": 2,
            "linecolor": "white",
            "showbackground": true,
            "ticks": "",
            "zerolinecolor": "white"
           }
          },
          "shapedefaults": {
           "line": {
            "color": "#2a3f5f"
           }
          },
          "ternary": {
           "aaxis": {
            "gridcolor": "white",
            "linecolor": "white",
            "ticks": ""
           },
           "baxis": {
            "gridcolor": "white",
            "linecolor": "white",
            "ticks": ""
           },
           "bgcolor": "#E5ECF6",
           "caxis": {
            "gridcolor": "white",
            "linecolor": "white",
            "ticks": ""
           }
          },
          "title": {
           "x": 0.05
          },
          "xaxis": {
           "automargin": true,
           "gridcolor": "white",
           "linecolor": "white",
           "ticks": "",
           "title": {
            "standoff": 15
           },
           "zerolinecolor": "white",
           "zerolinewidth": 2
          },
          "yaxis": {
           "automargin": true,
           "gridcolor": "white",
           "linecolor": "white",
           "ticks": "",
           "title": {
            "standoff": 15
           },
           "zerolinecolor": "white",
           "zerolinewidth": 2
          }
         }
        },
        "title": {
         "text": ""
        },
        "width": 800,
        "xaxis": {
         "linecolor": "black",
         "linewidth": 1,
         "mirror": false,
         "showline": true,
         "tickangle": 0,
         "tickfont": {
          "color": "black",
          "family": "serif",
          "size": 18
         },
         "tickmode": "array",
         "ticktext": [
          "Impostors Win!<br>(outnumbered C.)",
          "Crewmates Win!<br>(voted out I.)",
          "Crewmates Win!<br>(tasks done)",
          "Impostors Win!<br>(time up)"
         ],
         "tickvals": [
          0,
          1,
          2,
          3
         ],
         "title": {
          "font": {
           "color": "black",
           "family": "serif",
           "size": 18
          },
          "text": "Winner (Reason)"
         }
        },
        "yaxis": {
         "gridcolor": "LightGray",
         "gridwidth": 1,
         "range": [
          0,
          109.19999999999999
         ],
         "showgrid": true,
         "tickfont": {
          "color": "black",
          "family": "serif",
          "size": 18
         },
         "title": {
          "font": {
           "color": "black",
           "family": "serif",
           "size": 18
          },
          "text": "Number of Games"
         }
        }
       }
      },
      "text/html": [
       "<div>                            <div id=\"c09e9fa6-3dad-40de-b90f-e083adafce2c\" class=\"plotly-graph-div\" style=\"height:450px; width:800px;\"></div>            <script type=\"text/javascript\">                require([\"plotly\"], function(Plotly) {                    window.PLOTLYENV=window.PLOTLYENV || {};                                    if (document.getElementById(\"c09e9fa6-3dad-40de-b90f-e083adafce2c\")) {                    Plotly.newPlot(                        \"c09e9fa6-3dad-40de-b90f-e083adafce2c\",                        [{\"error_y\":{\"array\":[8.0,7.0,5.5,0.0],\"color\":\"#8b4513\",\"type\":\"data\",\"visible\":true},\"marker\":{\"color\":\"#b05a44\",\"line\":{\"color\":\"#8b4513\",\"width\":1.5}},\"name\":\"Crewmate: Phi 4, Impostor: Llama 3.3\",\"width\":0.18000000000000002,\"x\":[-0.30000000000000004,0.7,1.7,2.7],\"y\":[65,22,13,0],\"type\":\"bar\"},{\"error_y\":{\"array\":[7.5,7.0,4.5,0.0],\"color\":\"#22333b\",\"type\":\"data\",\"visible\":true},\"marker\":{\"color\":\"#4a5859\",\"line\":{\"color\":\"#22333b\",\"width\":1.5}},\"name\":\"Crewmate: Llama 3.3, Impostor: Phi 4\",\"width\":0.18000000000000002,\"x\":[-0.1,0.9,1.9,2.9],\"y\":[69,24,7,0],\"type\":\"bar\"},{\"error_y\":{\"array\":[8.0,7.5,6.0,2.5],\"color\":\"#2c5f2d\",\"type\":\"data\",\"visible\":true},\"marker\":{\"color\":\"#567d46\",\"line\":{\"color\":\"#2c5f2d\",\"width\":1.5}},\"name\":\"Crewmate: Phi 4, Impostor: Phi 4\",\"width\":0.18000000000000002,\"x\":[0.1,1.1,2.1,3.1],\"y\":[52,29,17,2],\"type\":\"bar\"},{\"error_y\":{\"array\":[7.0,5.525000000000006,4.0,0.0],\"color\":\"#5e548e\",\"type\":\"data\",\"visible\":true},\"marker\":{\"color\":\"#8e7dbe\",\"line\":{\"color\":\"#5e548e\",\"width\":1.5}},\"name\":\"Crewmate: Llama 3.3, Impostor: Llama 3.3\",\"width\":0.18000000000000002,\"x\":[0.30000000000000004,1.3,2.3,3.3],\"y\":[78,15,7,0],\"type\":\"bar\"}],                        {\"template\":{\"data\":{\"histogram2dcontour\":[{\"type\":\"histogram2dcontour\",\"colorbar\":{\"outlinewidth\":0,\"ticks\":\"\"},\"colorscale\":[[0.0,\"#0d0887\"],[0.1111111111111111,\"#46039f\"],[0.2222222222222222,\"#7201a8\"],[0.3333333333333333,\"#9c179e\"],[0.4444444444444444,\"#bd3786\"],[0.5555555555555556,\"#d8576b\"],[0.6666666666666666,\"#ed7953\"],[0.7777777777777778,\"#fb9f3a\"],[0.8888888888888888,\"#fdca26\"],[1.0,\"#f0f921\"]]}],\"choropleth\":[{\"type\":\"choropleth\",\"colorbar\":{\"outlinewidth\":0,\"ticks\":\"\"}}],\"histogram2d\":[{\"type\":\"histogram2d\",\"colorbar\":{\"outlinewidth\":0,\"ticks\":\"\"},\"colorscale\":[[0.0,\"#0d0887\"],[0.1111111111111111,\"#46039f\"],[0.2222222222222222,\"#7201a8\"],[0.3333333333333333,\"#9c179e\"],[0.4444444444444444,\"#bd3786\"],[0.5555555555555556,\"#d8576b\"],[0.6666666666666666,\"#ed7953\"],[0.7777777777777778,\"#fb9f3a\"],[0.8888888888888888,\"#fdca26\"],[1.0,\"#f0f921\"]]}],\"heatmap\":[{\"type\":\"heatmap\",\"colorbar\":{\"outlinewidth\":0,\"ticks\":\"\"},\"colorscale\":[[0.0,\"#0d0887\"],[0.1111111111111111,\"#46039f\"],[0.2222222222222222,\"#7201a8\"],[0.3333333333333333,\"#9c179e\"],[0.4444444444444444,\"#bd3786\"],[0.5555555555555556,\"#d8576b\"],[0.6666666666666666,\"#ed7953\"],[0.7777777777777778,\"#fb9f3a\"],[0.8888888888888888,\"#fdca26\"],[1.0,\"#f0f921\"]]}],\"heatmapgl\":[{\"type\":\"heatmapgl\",\"colorbar\":{\"outlinewidth\":0,\"ticks\":\"\"},\"colorscale\":[[0.0,\"#0d0887\"],[0.1111111111111111,\"#46039f\"],[0.2222222222222222,\"#7201a8\"],[0.3333333333333333,\"#9c179e\"],[0.4444444444444444,\"#bd3786\"],[0.5555555555555556,\"#d8576b\"],[0.6666666666666666,\"#ed7953\"],[0.7777777777777778,\"#fb9f3a\"],[0.8888888888888888,\"#fdca26\"],[1.0,\"#f0f921\"]]}],\"contourcarpet\":[{\"type\":\"contourcarpet\",\"colorbar\":{\"outlinewidth\":0,\"ticks\":\"\"}}],\"contour\":[{\"type\":\"contour\",\"colorbar\":{\"outlinewidth\":0,\"ticks\":\"\"},\"colorscale\":[[0.0,\"#0d0887\"],[0.1111111111111111,\"#46039f\"],[0.2222222222222222,\"#7201a8\"],[0.3333333333333333,\"#9c179e\"],[0.4444444444444444,\"#bd3786\"],[0.5555555555555556,\"#d8576b\"],[0.6666666666666666,\"#ed7953\"],[0.7777777777777778,\"#fb9f3a\"],[0.8888888888888888,\"#fdca26\"],[1.0,\"#f0f921\"]]}],\"surface\":[{\"type\":\"surface\",\"colorbar\":{\"outlinewidth\":0,\"ticks\":\"\"},\"colorscale\":[[0.0,\"#0d0887\"],[0.1111111111111111,\"#46039f\"],[0.2222222222222222,\"#7201a8\"],[0.3333333333333333,\"#9c179e\"],[0.4444444444444444,\"#bd3786\"],[0.5555555555555556,\"#d8576b\"],[0.6666666666666666,\"#ed7953\"],[0.7777777777777778,\"#fb9f3a\"],[0.8888888888888888,\"#fdca26\"],[1.0,\"#f0f921\"]]}],\"mesh3d\":[{\"type\":\"mesh3d\",\"colorbar\":{\"outlinewidth\":0,\"ticks\":\"\"}}],\"scatter\":[{\"fillpattern\":{\"fillmode\":\"overlay\",\"size\":10,\"solidity\":0.2},\"type\":\"scatter\"}],\"parcoords\":[{\"type\":\"parcoords\",\"line\":{\"colorbar\":{\"outlinewidth\":0,\"ticks\":\"\"}}}],\"scatterpolargl\":[{\"type\":\"scatterpolargl\",\"marker\":{\"colorbar\":{\"outlinewidth\":0,\"ticks\":\"\"}}}],\"bar\":[{\"error_x\":{\"color\":\"#2a3f5f\"},\"error_y\":{\"color\":\"#2a3f5f\"},\"marker\":{\"line\":{\"color\":\"#E5ECF6\",\"width\":0.5},\"pattern\":{\"fillmode\":\"overlay\",\"size\":10,\"solidity\":0.2}},\"type\":\"bar\"}],\"scattergeo\":[{\"type\":\"scattergeo\",\"marker\":{\"colorbar\":{\"outlinewidth\":0,\"ticks\":\"\"}}}],\"scatterpolar\":[{\"type\":\"scatterpolar\",\"marker\":{\"colorbar\":{\"outlinewidth\":0,\"ticks\":\"\"}}}],\"histogram\":[{\"marker\":{\"pattern\":{\"fillmode\":\"overlay\",\"size\":10,\"solidity\":0.2}},\"type\":\"histogram\"}],\"scattergl\":[{\"type\":\"scattergl\",\"marker\":{\"colorbar\":{\"outlinewidth\":0,\"ticks\":\"\"}}}],\"scatter3d\":[{\"type\":\"scatter3d\",\"line\":{\"colorbar\":{\"outlinewidth\":0,\"ticks\":\"\"}},\"marker\":{\"colorbar\":{\"outlinewidth\":0,\"ticks\":\"\"}}}],\"scattermapbox\":[{\"type\":\"scattermapbox\",\"marker\":{\"colorbar\":{\"outlinewidth\":0,\"ticks\":\"\"}}}],\"scatterternary\":[{\"type\":\"scatterternary\",\"marker\":{\"colorbar\":{\"outlinewidth\":0,\"ticks\":\"\"}}}],\"scattercarpet\":[{\"type\":\"scattercarpet\",\"marker\":{\"colorbar\":{\"outlinewidth\":0,\"ticks\":\"\"}}}],\"carpet\":[{\"aaxis\":{\"endlinecolor\":\"#2a3f5f\",\"gridcolor\":\"white\",\"linecolor\":\"white\",\"minorgridcolor\":\"white\",\"startlinecolor\":\"#2a3f5f\"},\"baxis\":{\"endlinecolor\":\"#2a3f5f\",\"gridcolor\":\"white\",\"linecolor\":\"white\",\"minorgridcolor\":\"white\",\"startlinecolor\":\"#2a3f5f\"},\"type\":\"carpet\"}],\"table\":[{\"cells\":{\"fill\":{\"color\":\"#EBF0F8\"},\"line\":{\"color\":\"white\"}},\"header\":{\"fill\":{\"color\":\"#C8D4E3\"},\"line\":{\"color\":\"white\"}},\"type\":\"table\"}],\"barpolar\":[{\"marker\":{\"line\":{\"color\":\"#E5ECF6\",\"width\":0.5},\"pattern\":{\"fillmode\":\"overlay\",\"size\":10,\"solidity\":0.2}},\"type\":\"barpolar\"}],\"pie\":[{\"automargin\":true,\"type\":\"pie\"}]},\"layout\":{\"autotypenumbers\":\"strict\",\"colorway\":[\"#636efa\",\"#EF553B\",\"#00cc96\",\"#ab63fa\",\"#FFA15A\",\"#19d3f3\",\"#FF6692\",\"#B6E880\",\"#FF97FF\",\"#FECB52\"],\"font\":{\"color\":\"#2a3f5f\"},\"hovermode\":\"closest\",\"hoverlabel\":{\"align\":\"left\"},\"paper_bgcolor\":\"white\",\"plot_bgcolor\":\"#E5ECF6\",\"polar\":{\"bgcolor\":\"#E5ECF6\",\"angularaxis\":{\"gridcolor\":\"white\",\"linecolor\":\"white\",\"ticks\":\"\"},\"radialaxis\":{\"gridcolor\":\"white\",\"linecolor\":\"white\",\"ticks\":\"\"}},\"ternary\":{\"bgcolor\":\"#E5ECF6\",\"aaxis\":{\"gridcolor\":\"white\",\"linecolor\":\"white\",\"ticks\":\"\"},\"baxis\":{\"gridcolor\":\"white\",\"linecolor\":\"white\",\"ticks\":\"\"},\"caxis\":{\"gridcolor\":\"white\",\"linecolor\":\"white\",\"ticks\":\"\"}},\"coloraxis\":{\"colorbar\":{\"outlinewidth\":0,\"ticks\":\"\"}},\"colorscale\":{\"sequential\":[[0.0,\"#0d0887\"],[0.1111111111111111,\"#46039f\"],[0.2222222222222222,\"#7201a8\"],[0.3333333333333333,\"#9c179e\"],[0.4444444444444444,\"#bd3786\"],[0.5555555555555556,\"#d8576b\"],[0.6666666666666666,\"#ed7953\"],[0.7777777777777778,\"#fb9f3a\"],[0.8888888888888888,\"#fdca26\"],[1.0,\"#f0f921\"]],\"sequentialminus\":[[0.0,\"#0d0887\"],[0.1111111111111111,\"#46039f\"],[0.2222222222222222,\"#7201a8\"],[0.3333333333333333,\"#9c179e\"],[0.4444444444444444,\"#bd3786\"],[0.5555555555555556,\"#d8576b\"],[0.6666666666666666,\"#ed7953\"],[0.7777777777777778,\"#fb9f3a\"],[0.8888888888888888,\"#fdca26\"],[1.0,\"#f0f921\"]],\"diverging\":[[0,\"#8e0152\"],[0.1,\"#c51b7d\"],[0.2,\"#de77ae\"],[0.3,\"#f1b6da\"],[0.4,\"#fde0ef\"],[0.5,\"#f7f7f7\"],[0.6,\"#e6f5d0\"],[0.7,\"#b8e186\"],[0.8,\"#7fbc41\"],[0.9,\"#4d9221\"],[1,\"#276419\"]]},\"xaxis\":{\"gridcolor\":\"white\",\"linecolor\":\"white\",\"ticks\":\"\",\"title\":{\"standoff\":15},\"zerolinecolor\":\"white\",\"automargin\":true,\"zerolinewidth\":2},\"yaxis\":{\"gridcolor\":\"white\",\"linecolor\":\"white\",\"ticks\":\"\",\"title\":{\"standoff\":15},\"zerolinecolor\":\"white\",\"automargin\":true,\"zerolinewidth\":2},\"scene\":{\"xaxis\":{\"backgroundcolor\":\"#E5ECF6\",\"gridcolor\":\"white\",\"linecolor\":\"white\",\"showbackground\":true,\"ticks\":\"\",\"zerolinecolor\":\"white\",\"gridwidth\":2},\"yaxis\":{\"backgroundcolor\":\"#E5ECF6\",\"gridcolor\":\"white\",\"linecolor\":\"white\",\"showbackground\":true,\"ticks\":\"\",\"zerolinecolor\":\"white\",\"gridwidth\":2},\"zaxis\":{\"backgroundcolor\":\"#E5ECF6\",\"gridcolor\":\"white\",\"linecolor\":\"white\",\"showbackground\":true,\"ticks\":\"\",\"zerolinecolor\":\"white\",\"gridwidth\":2}},\"shapedefaults\":{\"line\":{\"color\":\"#2a3f5f\"}},\"annotationdefaults\":{\"arrowcolor\":\"#2a3f5f\",\"arrowhead\":0,\"arrowwidth\":1},\"geo\":{\"bgcolor\":\"white\",\"landcolor\":\"#E5ECF6\",\"subunitcolor\":\"white\",\"showland\":true,\"showlakes\":true,\"lakecolor\":\"white\"},\"title\":{\"x\":0.05},\"mapbox\":{\"style\":\"light\"}}},\"title\":{\"text\":\"\"},\"xaxis\":{\"title\":{\"text\":\"Winner (Reason)\",\"font\":{\"family\":\"serif\",\"size\":18,\"color\":\"black\"}},\"tickmode\":\"array\",\"tickvals\":[0,1,2,3],\"ticktext\":[\"Impostors Win!\\u003cbr\\u003e(outnumbered C.)\",\"Crewmates Win!\\u003cbr\\u003e(voted out I.)\",\"Crewmates Win!\\u003cbr\\u003e(tasks done)\",\"Impostors Win!\\u003cbr\\u003e(time up)\"],\"tickangle\":0,\"tickfont\":{\"family\":\"serif\",\"size\":18,\"color\":\"black\"},\"showline\":true,\"linewidth\":1,\"linecolor\":\"black\",\"mirror\":false},\"yaxis\":{\"title\":{\"text\":\"Number of Games\",\"font\":{\"family\":\"serif\",\"size\":18,\"color\":\"black\"}},\"range\":[0,109.19999999999999],\"showgrid\":true,\"gridwidth\":1,\"gridcolor\":\"LightGray\",\"tickfont\":{\"family\":\"serif\",\"size\":18,\"color\":\"black\"}},\"barmode\":\"group\",\"showlegend\":true,\"plot_bgcolor\":\"white\",\"legend\":{\"orientation\":\"v\",\"x\":0.4,\"y\":0.85,\"traceorder\":\"normal\",\"bgcolor\":\"white\",\"bordercolor\":\"black\",\"borderwidth\":1},\"width\":800,\"height\":450,\"font\":{\"family\":\"serif\",\"size\":15,\"color\":\"black\"}},                        {\"responsive\": true}                    ).then(function(){\n",
       "                            \n",
       "var gd = document.getElementById('c09e9fa6-3dad-40de-b90f-e083adafce2c');\n",
       "var x = new MutationObserver(function (mutations, observer) {{\n",
       "        var display = window.getComputedStyle(gd).display;\n",
       "        if (!display || display === 'none') {{\n",
       "            console.log([gd, 'removed!']);\n",
       "            Plotly.purge(gd);\n",
       "            observer.disconnect();\n",
       "        }}\n",
       "}});\n",
       "\n",
       "// Listen for the removal of the full notebook cells\n",
       "var notebookContainer = gd.closest('#notebook-container');\n",
       "if (notebookContainer) {{\n",
       "    x.observe(notebookContainer, {childList: true});\n",
       "}}\n",
       "\n",
       "// Listen for the clearing of the current output cell\n",
       "var outputEl = gd.closest('.output');\n",
       "if (outputEl) {{\n",
       "    x.observe(outputEl, {childList: true});\n",
       "}}\n",
       "\n",
       "                        })                };                });            </script>        </div>"
      ]
     },
     "metadata": {},
     "output_type": "display_data"
    }
   ],
   "source": [
    "# Create and display the figure\n",
    "fig = plot_winner_reasons_with_ci(combined_df)\n",
    "fig.show()"
   ]
  },
  {
   "cell_type": "code",
   "execution_count": 37,
   "metadata": {},
   "outputs": [],
   "source": [
    "# save the figure in high-res pdf\n",
    "fig.write_image(\"plots/winner_reasons_with_ci.pdf\", format=\"pdf\")"
   ]
  },
  {
   "cell_type": "code",
   "execution_count": null,
   "metadata": {},
   "outputs": [],
   "source": []
  }
 ],
 "metadata": {
  "kernelspec": {
   "display_name": "amongus",
   "language": "python",
   "name": "python3"
  },
  "language_info": {
   "codemirror_mode": {
    "name": "ipython",
    "version": 3
   },
   "file_extension": ".py",
   "mimetype": "text/x-python",
   "name": "python",
   "nbconvert_exporter": "python",
   "pygments_lexer": "ipython3",
   "version": "3.10.16"
  }
 },
 "nbformat": 4,
 "nbformat_minor": 2
}
