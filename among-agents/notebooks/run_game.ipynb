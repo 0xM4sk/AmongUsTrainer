{
 "cells": [
  {
   "cell_type": "code",
   "execution_count": 1,
   "metadata": {},
   "outputs": [],
   "source": [
    "import sys\n",
    "\n",
    "sys.path.append(\"..\")"
   ]
  },
  {
   "cell_type": "code",
   "execution_count": 3,
   "metadata": {},
   "outputs": [],
   "source": [
    "from amongagents.envs.game import AmongUs"
   ]
  },
  {
   "cell_type": "code",
   "execution_count": null,
   "metadata": {},
   "outputs": [],
   "source": [
    "from amongagents.envs.task import TaskAssignment\n",
    "from amongagents.envs.configs.game_config import (\n",
    "    FIVE_MEMBER_GAME,\n",
    "    SAMPLE_FIVE_MEMBER_GAME,\n",
    ")\n",
    "from amongagents.evaluation.controlled import Interviewer\n",
    "from amongagents.envs.configs.agent_config import (\n",
    "    ALL_LLM,\n",
    "    ALL_RANDOM,\n",
    "    CREWMATE_LLM,\n",
    "    IMPOSTOR_LLM,\n",
    ")\n",
    "from amongagents.envs.configs.map_config import map_coords\n",
    "from amongagents.UI.MapUI import MapUI"
   ]
  },
  {
   "cell_type": "code",
   "execution_count": 3,
   "metadata": {},
   "outputs": [],
   "source": [
    "from dotenv import load_dotenv\n",
    "import os\n",
    "\n",
    "load_dotenv()\n",
    "\n",
    "if not os.getenv(\"OPENAI_API_KEY\"):\n",
    "    print(\"Please set OPENAI_API_KEY in .env file\")\n",
    "\n",
    "if not os.getenv(\"DISPLAY\"):\n",
    "    print(\"Please set DISPLAY in .env file\")"
   ]
  },
  {
   "cell_type": "code",
   "execution_count": 4,
   "metadata": {},
   "outputs": [],
   "source": [
    "UI = MapUI(\"../amongagents/assets/blankmap.png\", map_coords, debug=False)"
   ]
  },
  {
   "cell_type": "code",
   "execution_count": 5,
   "metadata": {},
   "outputs": [],
   "source": [
    "game = AmongUs(\n",
    "    game_config=SAMPLE_FIVE_MEMBER_GAME,\n",
    "    include_human=False,\n",
    "    test=False,\n",
    "    personality=True,\n",
    "    agent_config=ALL_LLM,\n",
    "    UI=UI,\n",
    ")"
   ]
  },
  {
   "cell_type": "code",
   "execution_count": 6,
   "metadata": {},
   "outputs": [
    {
     "name": "stdout",
     "output_type": "stream",
     "text": [
      "0 Initializing crewmate with personality The Skeptic\n",
      "1 Initializing crewmate with personality The Tech Expert\n",
      "2 Initializing crewmate with personality The Tech Expert\n",
      "3 Initializing impostor with personality The Cold Calculator\n",
      "4 Initializing crewmate with personality The Tech Expert\n",
      "{'timestep': 0, 'phase': 'task', 'action': COMPLETE TASK - Fix Wiring, 'player': Player 1: brown (Crewmate)}\n",
      "{'timestep': 0, 'phase': 'task', 'action': MOVE from Cafeteria to Weapons, 'player': Player 2: orange (Crewmate)}\n",
      "{'timestep': 0, 'phase': 'task', 'action': MOVE from Cafeteria to Admin, 'player': Player 3: lime (Crewmate)}\n",
      "{'timestep': 0, 'phase': 'task', 'action': MOVE from Cafeteria to Admin, 'player': Player 4: black (Impostor)}\n",
      "{'timestep': 0, 'phase': 'task', 'action': COMPLETE TASK - Fix Wiring, 'player': Player 5: cyan (Crewmate)}\n",
      "{'timestep': 1, 'phase': 'task', 'action': MOVE from Cafeteria to Admin, 'player': Player 1: brown (Crewmate)}\n",
      "{'timestep': 1, 'phase': 'task', 'action': MOVE from Weapons to Navigation, 'player': Player 2: orange (Crewmate)}\n",
      "{'timestep': 1, 'phase': 'task', 'action': MOVE from Admin to Cafeteria, 'player': Player 3: lime (Crewmate)}\n",
      "{'timestep': 1, 'phase': 'task', 'action': MOVE from Admin to Cafeteria, 'player': Player 4: black (Impostor)}\n",
      "{'timestep': 1, 'phase': 'task', 'action': MOVE from Cafeteria to Weapons, 'player': Player 5: cyan (Crewmate)}\n",
      "{'timestep': 2, 'phase': 'task', 'action': MOVE from Admin to Storage, 'player': Player 1: brown (Crewmate)}\n",
      "{'timestep': 2, 'phase': 'task', 'action': COMPLETE TASK - Stabilize Steering, 'player': Player 2: orange (Crewmate)}\n",
      "{'timestep': 2, 'phase': 'task', 'action': MOVE from Cafeteria to Admin, 'player': Player 3: lime (Crewmate)}\n",
      "{'timestep': 2, 'phase': 'task', 'action': COMPLETE FAKE TASK - Fix Wiring, 'player': Player 4: black (Impostor)}\n",
      "{'timestep': 2, 'phase': 'task', 'action': MOVE from Weapons to Navigation, 'player': Player 5: cyan (Crewmate)}\n",
      "{'timestep': 3, 'phase': 'task', 'action': MOVE from Storage to Communications, 'player': Player 1: brown (Crewmate)}\n",
      "{'timestep': 3, 'phase': 'task', 'action': MOVE from Navigation to Shields, 'player': Player 2: orange (Crewmate)}\n",
      "{'timestep': 3, 'phase': 'task', 'action': MOVE from Admin to Cafeteria, 'player': Player 3: lime (Crewmate)}\n",
      "{'timestep': 3, 'phase': 'task', 'action': MOVE from Cafeteria to Admin, 'player': Player 4: black (Impostor)}\n",
      "{'timestep': 3, 'phase': 'task', 'action': MOVE from Navigation to Weapons, 'player': Player 5: cyan (Crewmate)}\n",
      "{'timestep': 4, 'phase': 'task', 'action': COMPLETE TASK - Accept Diverted Power, 'player': Player 1: brown (Crewmate)}\n",
      "{'timestep': 4, 'phase': 'task', 'action': MOVE from Shields to Navigation, 'player': Player 2: orange (Crewmate)}\n",
      "{'timestep': 4, 'phase': 'task', 'action': MOVE from Cafeteria to Admin, 'player': Player 3: lime (Crewmate)}\n",
      "{'timestep': 4, 'phase': 'task', 'action': MOVE from Admin to Cafeteria, 'player': Player 4: black (Impostor)}\n",
      "{'timestep': 4, 'phase': 'task', 'action': COMPLETE TASK - Accept Diverted Power, 'player': Player 5: cyan (Crewmate)}\n",
      "{'timestep': 5, 'phase': 'task', 'action': MOVE from Communications to Storage, 'player': Player 1: brown (Crewmate)}\n",
      "{'timestep': 5, 'phase': 'task', 'action': MOVE from Navigation to Shields, 'player': Player 2: orange (Crewmate)}\n",
      "{'timestep': 5, 'phase': 'task', 'action': MOVE from Admin to Cafeteria, 'player': Player 3: lime (Crewmate)}\n",
      "{'timestep': 5, 'phase': 'task', 'action': MOVE from Cafeteria to Admin, 'player': Player 4: black (Impostor)}\n",
      "{'timestep': 5, 'phase': 'task', 'action': MOVE from Weapons to Navigation, 'player': Player 5: cyan (Crewmate)}\n",
      "{'timestep': 6, 'phase': 'task', 'action': SPEAK: \"I have completed my tasks in Cafeteria and Communications. I will now move from Storage to Shields to continue monitoring player movements and tasks.\", 'player': Player 1: brown (Crewmate)}\n",
      "{'timestep': 6, 'phase': 'task', 'action': MOVE from Shields to Navigation, 'player': Player 2: orange (Crewmate)}\n",
      "{'timestep': 6, 'phase': 'task', 'action': MOVE from Cafeteria to Admin, 'player': Player 3: lime (Crewmate)}\n",
      "{'timestep': 6, 'phase': 'task', 'action': MOVE from Admin to Cafeteria, 'player': Player 4: black (Impostor)}\n",
      "{'timestep': 6, 'phase': 'task', 'action': MOVE from Navigation to Weapons, 'player': Player 5: cyan (Crewmate)}\n",
      "{'timestep': 7, 'phase': 'task', 'action': MOVE from Storage to Shields, 'player': Player 1: brown (Crewmate)}\n",
      "{'timestep': 7, 'phase': 'task', 'action': MOVE from Navigation to Shields, 'player': Player 2: orange (Crewmate)}\n",
      "{'timestep': 7, 'phase': 'task', 'action': MOVE from Admin to Cafeteria, 'player': Player 3: lime (Crewmate)}\n",
      "{'timestep': 7, 'phase': 'task', 'action': KILL Player 3: lime, 'player': Player 4: black (Impostor)}\n",
      "{'timestep': 7, 'phase': 'task', 'action': MOVE from Weapons to Navigation, 'player': Player 5: cyan (Crewmate)}\n",
      "{'timestep': 8, 'phase': 'task', 'action': SPEAK: \"I will observe player movements in Shields and gather more information before taking any further actions.\", 'player': Player 1: brown (Crewmate)}\n",
      "{'timestep': 8, 'phase': 'task', 'action': MOVE from Shields to Navigation, 'player': Player 2: orange (Crewmate)}\n",
      "{'timestep': 8, 'phase': 'task', 'action': MOVE from Cafeteria to Admin, 'player': Player 4: black (Impostor)}\n",
      "{'timestep': 8, 'phase': 'task', 'action': MOVE from Navigation to Weapons, 'player': Player 5: cyan (Crewmate)}\n",
      "{'timestep': 9, 'phase': 'task', 'action': SPEAK: \"I will keep a close eye on lime, black, and orange in Shields to gather more information before taking any further actions.\", 'player': Player 1: brown (Crewmate)}\n",
      "{'timestep': 9, 'phase': 'task', 'action': MOVE from Navigation to Shields, 'player': Player 2: orange (Crewmate)}\n",
      "{'timestep': 9, 'phase': 'task', 'action': MOVE from Admin to Electrical, 'player': Player 4: black (Impostor)}\n",
      "{'timestep': 9, 'phase': 'task', 'action': MOVE from Weapons to Navigation, 'player': Player 5: cyan (Crewmate)}\n"
     ]
    },
    {
     "ename": "TypeError",
     "evalue": "Object of type CompleteTask is not JSON serializable",
     "output_type": "error",
     "traceback": [
      "\u001b[0;31m---------------------------------------------------------------------------\u001b[0m",
      "\u001b[0;31mTypeError\u001b[0m                                 Traceback (most recent call last)",
      "Cell \u001b[0;32mIn[6], line 1\u001b[0m\n\u001b[0;32m----> 1\u001b[0m \u001b[43mgame\u001b[49m\u001b[38;5;241;43m.\u001b[39;49m\u001b[43mrun_game\u001b[49m\u001b[43m(\u001b[49m\u001b[43m)\u001b[49m\n",
      "File \u001b[0;32m~/persistent-storage/7vik/AmongUs/among-agents/amongagents/envs/game.py:282\u001b[0m, in \u001b[0;36mAmongUs.run_game\u001b[0;34m(self)\u001b[0m\n\u001b[1;32m    280\u001b[0m     \u001b[38;5;28;01mfor\u001b[39;00m agent \u001b[38;5;129;01min\u001b[39;00m \u001b[38;5;28mself\u001b[39m\u001b[38;5;241m.\u001b[39magents:\n\u001b[1;32m    281\u001b[0m         \u001b[38;5;28mself\u001b[39m\u001b[38;5;241m.\u001b[39minterviewer\u001b[38;5;241m.\u001b[39mauto_question(\u001b[38;5;28mself\u001b[39m, agent)\n\u001b[0;32m--> 282\u001b[0m \u001b[38;5;28;01mreturn\u001b[39;00m \u001b[38;5;28;43mself\u001b[39;49m\u001b[38;5;241;43m.\u001b[39;49m\u001b[43mreport_winner\u001b[49m\u001b[43m(\u001b[49m\u001b[43mgame_over\u001b[49m\u001b[43m)\u001b[49m\n",
      "File \u001b[0;32m~/persistent-storage/7vik/AmongUs/among-agents/amongagents/envs/game.py:127\u001b[0m, in \u001b[0;36mAmongUs.report_winner\u001b[0;34m(self, winner)\u001b[0m\n\u001b[1;32m    125\u001b[0m \u001b[38;5;28;01mwith\u001b[39;00m \u001b[38;5;28mopen\u001b[39m(os\u001b[38;5;241m.\u001b[39mpath\u001b[38;5;241m.\u001b[39mjoin(script_dir, \u001b[38;5;124m\"\u001b[39m\u001b[38;5;124m../logs/sample_game_logs.json\u001b[39m\u001b[38;5;124m\"\u001b[39m), \u001b[38;5;124m\"\u001b[39m\u001b[38;5;124mw\u001b[39m\u001b[38;5;124m\"\u001b[39m) \u001b[38;5;28;01mas\u001b[39;00m f:\n\u001b[1;32m    126\u001b[0m     activity_log_dict \u001b[38;5;241m=\u001b[39m {\u001b[38;5;124m\"\u001b[39m\u001b[38;5;124mactivity_log\u001b[39m\u001b[38;5;124m\"\u001b[39m: \u001b[38;5;28mself\u001b[39m\u001b[38;5;241m.\u001b[39mactivity_log}\n\u001b[0;32m--> 127\u001b[0m     \u001b[43mjson\u001b[49m\u001b[38;5;241;43m.\u001b[39;49m\u001b[43mdump\u001b[49m\u001b[43m(\u001b[49m\u001b[43mactivity_log_dict\u001b[49m\u001b[43m,\u001b[49m\u001b[43m \u001b[49m\u001b[43mf\u001b[49m\u001b[43m)\u001b[49m\n\u001b[1;32m    128\u001b[0m \u001b[38;5;66;03m# end of saving logs\u001b[39;00m\n\u001b[1;32m    130\u001b[0m \u001b[38;5;28;01mif\u001b[39;00m \u001b[38;5;28mself\u001b[39m\u001b[38;5;241m.\u001b[39mUI:\n",
      "File \u001b[0;32m~/.conda/envs/amongus/lib/python3.10/json/__init__.py:179\u001b[0m, in \u001b[0;36mdump\u001b[0;34m(obj, fp, skipkeys, ensure_ascii, check_circular, allow_nan, cls, indent, separators, default, sort_keys, **kw)\u001b[0m\n\u001b[1;32m    173\u001b[0m     iterable \u001b[38;5;241m=\u001b[39m \u001b[38;5;28mcls\u001b[39m(skipkeys\u001b[38;5;241m=\u001b[39mskipkeys, ensure_ascii\u001b[38;5;241m=\u001b[39mensure_ascii,\n\u001b[1;32m    174\u001b[0m         check_circular\u001b[38;5;241m=\u001b[39mcheck_circular, allow_nan\u001b[38;5;241m=\u001b[39mallow_nan, indent\u001b[38;5;241m=\u001b[39mindent,\n\u001b[1;32m    175\u001b[0m         separators\u001b[38;5;241m=\u001b[39mseparators,\n\u001b[1;32m    176\u001b[0m         default\u001b[38;5;241m=\u001b[39mdefault, sort_keys\u001b[38;5;241m=\u001b[39msort_keys, \u001b[38;5;241m*\u001b[39m\u001b[38;5;241m*\u001b[39mkw)\u001b[38;5;241m.\u001b[39miterencode(obj)\n\u001b[1;32m    177\u001b[0m \u001b[38;5;66;03m# could accelerate with writelines in some versions of Python, at\u001b[39;00m\n\u001b[1;32m    178\u001b[0m \u001b[38;5;66;03m# a debuggability cost\u001b[39;00m\n\u001b[0;32m--> 179\u001b[0m \u001b[38;5;28;01mfor\u001b[39;00m chunk \u001b[38;5;129;01min\u001b[39;00m iterable:\n\u001b[1;32m    180\u001b[0m     fp\u001b[38;5;241m.\u001b[39mwrite(chunk)\n",
      "File \u001b[0;32m~/.conda/envs/amongus/lib/python3.10/json/encoder.py:431\u001b[0m, in \u001b[0;36m_make_iterencode.<locals>._iterencode\u001b[0;34m(o, _current_indent_level)\u001b[0m\n\u001b[1;32m    429\u001b[0m     \u001b[38;5;28;01myield from\u001b[39;00m _iterencode_list(o, _current_indent_level)\n\u001b[1;32m    430\u001b[0m \u001b[38;5;28;01melif\u001b[39;00m \u001b[38;5;28misinstance\u001b[39m(o, \u001b[38;5;28mdict\u001b[39m):\n\u001b[0;32m--> 431\u001b[0m     \u001b[38;5;28;01myield from\u001b[39;00m _iterencode_dict(o, _current_indent_level)\n\u001b[1;32m    432\u001b[0m \u001b[38;5;28;01melse\u001b[39;00m:\n\u001b[1;32m    433\u001b[0m     \u001b[38;5;28;01mif\u001b[39;00m markers \u001b[38;5;129;01mis\u001b[39;00m \u001b[38;5;129;01mnot\u001b[39;00m \u001b[38;5;28;01mNone\u001b[39;00m:\n",
      "File \u001b[0;32m~/.conda/envs/amongus/lib/python3.10/json/encoder.py:405\u001b[0m, in \u001b[0;36m_make_iterencode.<locals>._iterencode_dict\u001b[0;34m(dct, _current_indent_level)\u001b[0m\n\u001b[1;32m    403\u001b[0m         \u001b[38;5;28;01melse\u001b[39;00m:\n\u001b[1;32m    404\u001b[0m             chunks \u001b[38;5;241m=\u001b[39m _iterencode(value, _current_indent_level)\n\u001b[0;32m--> 405\u001b[0m         \u001b[38;5;28;01myield from\u001b[39;00m chunks\n\u001b[1;32m    406\u001b[0m \u001b[38;5;28;01mif\u001b[39;00m newline_indent \u001b[38;5;129;01mis\u001b[39;00m \u001b[38;5;129;01mnot\u001b[39;00m \u001b[38;5;28;01mNone\u001b[39;00m:\n\u001b[1;32m    407\u001b[0m     _current_indent_level \u001b[38;5;241m-\u001b[39m\u001b[38;5;241m=\u001b[39m \u001b[38;5;241m1\u001b[39m\n",
      "File \u001b[0;32m~/.conda/envs/amongus/lib/python3.10/json/encoder.py:325\u001b[0m, in \u001b[0;36m_make_iterencode.<locals>._iterencode_list\u001b[0;34m(lst, _current_indent_level)\u001b[0m\n\u001b[1;32m    323\u001b[0m         \u001b[38;5;28;01melse\u001b[39;00m:\n\u001b[1;32m    324\u001b[0m             chunks \u001b[38;5;241m=\u001b[39m _iterencode(value, _current_indent_level)\n\u001b[0;32m--> 325\u001b[0m         \u001b[38;5;28;01myield from\u001b[39;00m chunks\n\u001b[1;32m    326\u001b[0m \u001b[38;5;28;01mif\u001b[39;00m newline_indent \u001b[38;5;129;01mis\u001b[39;00m \u001b[38;5;129;01mnot\u001b[39;00m \u001b[38;5;28;01mNone\u001b[39;00m:\n\u001b[1;32m    327\u001b[0m     _current_indent_level \u001b[38;5;241m-\u001b[39m\u001b[38;5;241m=\u001b[39m \u001b[38;5;241m1\u001b[39m\n",
      "File \u001b[0;32m~/.conda/envs/amongus/lib/python3.10/json/encoder.py:405\u001b[0m, in \u001b[0;36m_make_iterencode.<locals>._iterencode_dict\u001b[0;34m(dct, _current_indent_level)\u001b[0m\n\u001b[1;32m    403\u001b[0m         \u001b[38;5;28;01melse\u001b[39;00m:\n\u001b[1;32m    404\u001b[0m             chunks \u001b[38;5;241m=\u001b[39m _iterencode(value, _current_indent_level)\n\u001b[0;32m--> 405\u001b[0m         \u001b[38;5;28;01myield from\u001b[39;00m chunks\n\u001b[1;32m    406\u001b[0m \u001b[38;5;28;01mif\u001b[39;00m newline_indent \u001b[38;5;129;01mis\u001b[39;00m \u001b[38;5;129;01mnot\u001b[39;00m \u001b[38;5;28;01mNone\u001b[39;00m:\n\u001b[1;32m    407\u001b[0m     _current_indent_level \u001b[38;5;241m-\u001b[39m\u001b[38;5;241m=\u001b[39m \u001b[38;5;241m1\u001b[39m\n",
      "File \u001b[0;32m~/.conda/envs/amongus/lib/python3.10/json/encoder.py:438\u001b[0m, in \u001b[0;36m_make_iterencode.<locals>._iterencode\u001b[0;34m(o, _current_indent_level)\u001b[0m\n\u001b[1;32m    436\u001b[0m         \u001b[38;5;28;01mraise\u001b[39;00m \u001b[38;5;167;01mValueError\u001b[39;00m(\u001b[38;5;124m\"\u001b[39m\u001b[38;5;124mCircular reference detected\u001b[39m\u001b[38;5;124m\"\u001b[39m)\n\u001b[1;32m    437\u001b[0m     markers[markerid] \u001b[38;5;241m=\u001b[39m o\n\u001b[0;32m--> 438\u001b[0m o \u001b[38;5;241m=\u001b[39m \u001b[43m_default\u001b[49m\u001b[43m(\u001b[49m\u001b[43mo\u001b[49m\u001b[43m)\u001b[49m\n\u001b[1;32m    439\u001b[0m \u001b[38;5;28;01myield from\u001b[39;00m _iterencode(o, _current_indent_level)\n\u001b[1;32m    440\u001b[0m \u001b[38;5;28;01mif\u001b[39;00m markers \u001b[38;5;129;01mis\u001b[39;00m \u001b[38;5;129;01mnot\u001b[39;00m \u001b[38;5;28;01mNone\u001b[39;00m:\n",
      "File \u001b[0;32m~/.conda/envs/amongus/lib/python3.10/json/encoder.py:179\u001b[0m, in \u001b[0;36mJSONEncoder.default\u001b[0;34m(self, o)\u001b[0m\n\u001b[1;32m    160\u001b[0m \u001b[38;5;28;01mdef\u001b[39;00m\u001b[38;5;250m \u001b[39m\u001b[38;5;21mdefault\u001b[39m(\u001b[38;5;28mself\u001b[39m, o):\n\u001b[1;32m    161\u001b[0m \u001b[38;5;250m    \u001b[39m\u001b[38;5;124;03m\"\"\"Implement this method in a subclass such that it returns\u001b[39;00m\n\u001b[1;32m    162\u001b[0m \u001b[38;5;124;03m    a serializable object for ``o``, or calls the base implementation\u001b[39;00m\n\u001b[1;32m    163\u001b[0m \u001b[38;5;124;03m    (to raise a ``TypeError``).\u001b[39;00m\n\u001b[0;32m   (...)\u001b[0m\n\u001b[1;32m    177\u001b[0m \n\u001b[1;32m    178\u001b[0m \u001b[38;5;124;03m    \"\"\"\u001b[39;00m\n\u001b[0;32m--> 179\u001b[0m     \u001b[38;5;28;01mraise\u001b[39;00m \u001b[38;5;167;01mTypeError\u001b[39;00m(\u001b[38;5;124mf\u001b[39m\u001b[38;5;124m'\u001b[39m\u001b[38;5;124mObject of type \u001b[39m\u001b[38;5;132;01m{\u001b[39;00mo\u001b[38;5;241m.\u001b[39m\u001b[38;5;18m__class__\u001b[39m\u001b[38;5;241m.\u001b[39m\u001b[38;5;18m__name__\u001b[39m\u001b[38;5;132;01m}\u001b[39;00m\u001b[38;5;124m \u001b[39m\u001b[38;5;124m'\u001b[39m\n\u001b[1;32m    180\u001b[0m                     \u001b[38;5;124mf\u001b[39m\u001b[38;5;124m'\u001b[39m\u001b[38;5;124mis not JSON serializable\u001b[39m\u001b[38;5;124m'\u001b[39m)\n",
      "\u001b[0;31mTypeError\u001b[0m: Object of type CompleteTask is not JSON serializable"
     ]
    }
   ],
   "source": [
    "game.run_game()"
   ]
  },
  {
   "cell_type": "code",
   "execution_count": null,
   "metadata": {},
   "outputs": [],
   "source": []
  }
 ],
 "metadata": {
  "kernelspec": {
   "display_name": "among-agents",
   "language": "python",
   "name": "python3"
  },
  "language_info": {
   "codemirror_mode": {
    "name": "ipython",
    "version": 3
   },
   "file_extension": ".py",
   "mimetype": "text/x-python",
   "name": "python",
   "nbconvert_exporter": "python",
   "pygments_lexer": "ipython3",
   "version": "3.10.16"
  }
 },
 "nbformat": 4,
 "nbformat_minor": 2
}
